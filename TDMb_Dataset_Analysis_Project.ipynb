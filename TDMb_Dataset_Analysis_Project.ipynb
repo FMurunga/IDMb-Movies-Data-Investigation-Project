{
  "nbformat": 4,
  "nbformat_minor": 0,
  "metadata": {
    "colab": {
      "name": "TDMb Dataset Analysis Project.ipynb",
      "provenance": [],
      "collapsed_sections": [],
      "authorship_tag": "ABX9TyOPueyGQikGt/kM6Abcg24T",
      "include_colab_link": true
    },
    "kernelspec": {
      "name": "python3",
      "display_name": "Python 3"
    },
    "language_info": {
      "name": "python"
    }
  },
  "cells": [
    {
      "cell_type": "markdown",
      "metadata": {
        "id": "view-in-github",
        "colab_type": "text"
      },
      "source": [
        "<a href=\"https://colab.research.google.com/github/FMurunga/TMDB-Movies-Data-Investigation-Project/blob/main/TDMb_Dataset_Analysis_Project.ipynb\" target=\"_parent\"><img src=\"https://colab.research.google.com/assets/colab-badge.svg\" alt=\"Open In Colab\"/></a>"
      ]
    },
    {
      "cell_type": "markdown",
      "source": [
        "# Project: Movies Dataset Analysis\n",
        "\n",
        "## Table of Contents\n",
        "<ul>\n",
        "<li><a href=\"#intro\">Introduction</a></li>\n",
        "<li><a href=\"#wrangling\">Data Wrangling</a></li>\n",
        "<li><a href=\"#eda\">Exploratory Data Analysis</a></li>\n",
        "<li><a href=\"#conclusions\">Conclusions</a></li>\n",
        "</ul>"
      ],
      "metadata": {
        "id": "JQht6mWgPjvg"
      }
    },
    {
      "cell_type": "markdown",
      "source": [
        "<a id='intro'></a>\n",
        "## Introduction\n",
        "\n",
        "### Dataset Description \n",
        ">\n",
        "This is movie data from the Movie database(TMDb) that contains over 10,000 records an 21 columns.<br/>\n",
        "The dataset contains columns the following columns:\n",
        "\n",
        "  id : movie id                  \n",
        "  imdb_id: contains the movie id as in IDMB database             \n",
        "  popularity: shows the movie rating            \n",
        "  budget: shows the expenses incurrred in production                \n",
        "  revenue: shows the revenue generated after movie releases              \n",
        "  original_title: describes the movie's original title       \n",
        "  cast: shows the movie's cast                \n",
        "  homepage: movies webpage              \n",
        "  director: the movie directors involved in production              \n",
        "  tagline : movie taglines              \n",
        "  keywords  : keywords used to identify the movies            \n",
        "  overview  : shows he general descript             \n",
        "  runtime : shows how long a movie is               \n",
        "  genres : the different genres the movies belong to               \n",
        "  production_companies  : the companies involved in the movie's production\n",
        "  release_date  : tthe date the movie was released        \n",
        "  vote_count  : the count of the votes that deyermined the movie's popularity           \n",
        "  vote_average   :       \n",
        "  release_year  : the year the movie was released          \n",
        "  budget_adj: budget adjustments as per the inflation rates in terms of the 2010 dollars           \n",
        "  revenue_adj : revenue adjustments as per the inflation rates in terms of the 2010 dollars \n",
        "  <br/>       \n",
        "\n",
        "### Question(s) for Analysis\n",
        "<ol>\n",
        "    <li> What is the average runtime for most movies? and What was the highest revenue generated?</li>\n",
        "    <li> Which genre of movies are the most produced?</li>\n",
        "    <li> Which production companies produced the most movies?</li>\n",
        "    <li> Which director directed most movies?</li>\n",
        "    <li> Which actor was casted the most movies?</li>\n",
        "    <li> which month had the highest number of movie releases?</li>\n",
        "    <li>Does a Movies' Popularity affects its revenue?</li>\n",
        "    <li> Which decade had the most movie releases?</li>\n",
        "    <li> Did most movies have higher ratings and votes?</li>\n",
        "    <li> What was the highest profits made?</li>\n",
        "  <ol/>"
      ],
      "metadata": {
        "id": "5yRI-kUWPs-y"
      }
    },
    {
      "cell_type": "code",
      "execution_count": 1,
      "metadata": {
        "id": "Gp4Uo8ni3ago"
      },
      "outputs": [],
      "source": [
        "#import required libraries\n",
        "\n",
        "import pandas as pd\n",
        "import matplotlib.pyplot as plt\n",
        "import seaborn as sns\n",
        "import datetime as dt"
      ]
    },
    {
      "cell_type": "markdown",
      "source": [
        "<a id='wrangling'></a>\n",
        "## Data Wrangling\n",
        "\n",
        "### General Properties"
      ],
      "metadata": {
        "id": "SoArYD-_QLhF"
      }
    },
    {
      "cell_type": "code",
      "source": [
        "#load the idmb CSV file into a pandas dataframe\n",
        "#The file is on my github repository\n",
        "df = pd.read_csv('https://raw.github.com/FMurunga/TMDB-Movies-Data-Investigation-Project/main/tmdb-movies.csv',delimiter=',')\n",
        "df.head()"
      ],
      "metadata": {
        "colab": {
          "base_uri": "https://localhost:8080/",
          "height": 699
        },
        "id": "DBbuikt0WB4e",
        "outputId": "50802a7c-12e5-4ece-fa2a-aad453ab0e8c"
      },
      "execution_count": 2,
      "outputs": [
        {
          "output_type": "execute_result",
          "data": {
            "text/plain": [
              "       id    imdb_id  popularity     budget     revenue  \\\n",
              "0  135397  tt0369610   32.985763  150000000  1513528810   \n",
              "1   76341  tt1392190   28.419936  150000000   378436354   \n",
              "2  262500  tt2908446   13.112507  110000000   295238201   \n",
              "3  140607  tt2488496   11.173104  200000000  2068178225   \n",
              "4  168259  tt2820852    9.335014  190000000  1506249360   \n",
              "\n",
              "                 original_title  \\\n",
              "0                Jurassic World   \n",
              "1            Mad Max: Fury Road   \n",
              "2                     Insurgent   \n",
              "3  Star Wars: The Force Awakens   \n",
              "4                     Furious 7   \n",
              "\n",
              "                                                cast  \\\n",
              "0  Chris Pratt|Bryce Dallas Howard|Irrfan Khan|Vi...   \n",
              "1  Tom Hardy|Charlize Theron|Hugh Keays-Byrne|Nic...   \n",
              "2  Shailene Woodley|Theo James|Kate Winslet|Ansel...   \n",
              "3  Harrison Ford|Mark Hamill|Carrie Fisher|Adam D...   \n",
              "4  Vin Diesel|Paul Walker|Jason Statham|Michelle ...   \n",
              "\n",
              "                                            homepage          director  \\\n",
              "0                      http://www.jurassicworld.com/   Colin Trevorrow   \n",
              "1                        http://www.madmaxmovie.com/     George Miller   \n",
              "2     http://www.thedivergentseries.movie/#insurgent  Robert Schwentke   \n",
              "3  http://www.starwars.com/films/star-wars-episod...       J.J. Abrams   \n",
              "4                           http://www.furious7.com/         James Wan   \n",
              "\n",
              "                         tagline  ...  \\\n",
              "0              The park is open.  ...   \n",
              "1             What a Lovely Day.  ...   \n",
              "2     One Choice Can Destroy You  ...   \n",
              "3  Every generation has a story.  ...   \n",
              "4            Vengeance Hits Home  ...   \n",
              "\n",
              "                                            overview runtime  \\\n",
              "0  Twenty-two years after the events of Jurassic ...     124   \n",
              "1  An apocalyptic story set in the furthest reach...     120   \n",
              "2  Beatrice Prior must confront her inner demons ...     119   \n",
              "3  Thirty years after defeating the Galactic Empi...     136   \n",
              "4  Deckard Shaw seeks revenge against Dominic Tor...     137   \n",
              "\n",
              "                                      genres  \\\n",
              "0  Action|Adventure|Science Fiction|Thriller   \n",
              "1  Action|Adventure|Science Fiction|Thriller   \n",
              "2         Adventure|Science Fiction|Thriller   \n",
              "3   Action|Adventure|Science Fiction|Fantasy   \n",
              "4                      Action|Crime|Thriller   \n",
              "\n",
              "                                production_companies release_date vote_count  \\\n",
              "0  Universal Studios|Amblin Entertainment|Legenda...   06/09/2015       5562   \n",
              "1  Village Roadshow Pictures|Kennedy Miller Produ...      5/13/15       6185   \n",
              "2  Summit Entertainment|Mandeville Films|Red Wago...      3/18/15       2480   \n",
              "3          Lucasfilm|Truenorth Productions|Bad Robot     12/15/15       5292   \n",
              "4  Universal Pictures|Original Film|Media Rights ...   04/01/2015       2947   \n",
              "\n",
              "   vote_average  release_year   budget_adj   revenue_adj  \n",
              "0           6.5          2015  137999939.3  1.392446e+09  \n",
              "1           7.1          2015  137999939.3  3.481613e+08  \n",
              "2           6.3          2015  101199955.5  2.716190e+08  \n",
              "3           7.5          2015  183999919.0  1.902723e+09  \n",
              "4           7.3          2015  174799923.1  1.385749e+09  \n",
              "\n",
              "[5 rows x 21 columns]"
            ],
            "text/html": [
              "\n",
              "  <div id=\"df-f66a8848-20fe-4e6e-9064-91097cee70dc\">\n",
              "    <div class=\"colab-df-container\">\n",
              "      <div>\n",
              "<style scoped>\n",
              "    .dataframe tbody tr th:only-of-type {\n",
              "        vertical-align: middle;\n",
              "    }\n",
              "\n",
              "    .dataframe tbody tr th {\n",
              "        vertical-align: top;\n",
              "    }\n",
              "\n",
              "    .dataframe thead th {\n",
              "        text-align: right;\n",
              "    }\n",
              "</style>\n",
              "<table border=\"1\" class=\"dataframe\">\n",
              "  <thead>\n",
              "    <tr style=\"text-align: right;\">\n",
              "      <th></th>\n",
              "      <th>id</th>\n",
              "      <th>imdb_id</th>\n",
              "      <th>popularity</th>\n",
              "      <th>budget</th>\n",
              "      <th>revenue</th>\n",
              "      <th>original_title</th>\n",
              "      <th>cast</th>\n",
              "      <th>homepage</th>\n",
              "      <th>director</th>\n",
              "      <th>tagline</th>\n",
              "      <th>...</th>\n",
              "      <th>overview</th>\n",
              "      <th>runtime</th>\n",
              "      <th>genres</th>\n",
              "      <th>production_companies</th>\n",
              "      <th>release_date</th>\n",
              "      <th>vote_count</th>\n",
              "      <th>vote_average</th>\n",
              "      <th>release_year</th>\n",
              "      <th>budget_adj</th>\n",
              "      <th>revenue_adj</th>\n",
              "    </tr>\n",
              "  </thead>\n",
              "  <tbody>\n",
              "    <tr>\n",
              "      <th>0</th>\n",
              "      <td>135397</td>\n",
              "      <td>tt0369610</td>\n",
              "      <td>32.985763</td>\n",
              "      <td>150000000</td>\n",
              "      <td>1513528810</td>\n",
              "      <td>Jurassic World</td>\n",
              "      <td>Chris Pratt|Bryce Dallas Howard|Irrfan Khan|Vi...</td>\n",
              "      <td>http://www.jurassicworld.com/</td>\n",
              "      <td>Colin Trevorrow</td>\n",
              "      <td>The park is open.</td>\n",
              "      <td>...</td>\n",
              "      <td>Twenty-two years after the events of Jurassic ...</td>\n",
              "      <td>124</td>\n",
              "      <td>Action|Adventure|Science Fiction|Thriller</td>\n",
              "      <td>Universal Studios|Amblin Entertainment|Legenda...</td>\n",
              "      <td>06/09/2015</td>\n",
              "      <td>5562</td>\n",
              "      <td>6.5</td>\n",
              "      <td>2015</td>\n",
              "      <td>137999939.3</td>\n",
              "      <td>1.392446e+09</td>\n",
              "    </tr>\n",
              "    <tr>\n",
              "      <th>1</th>\n",
              "      <td>76341</td>\n",
              "      <td>tt1392190</td>\n",
              "      <td>28.419936</td>\n",
              "      <td>150000000</td>\n",
              "      <td>378436354</td>\n",
              "      <td>Mad Max: Fury Road</td>\n",
              "      <td>Tom Hardy|Charlize Theron|Hugh Keays-Byrne|Nic...</td>\n",
              "      <td>http://www.madmaxmovie.com/</td>\n",
              "      <td>George Miller</td>\n",
              "      <td>What a Lovely Day.</td>\n",
              "      <td>...</td>\n",
              "      <td>An apocalyptic story set in the furthest reach...</td>\n",
              "      <td>120</td>\n",
              "      <td>Action|Adventure|Science Fiction|Thriller</td>\n",
              "      <td>Village Roadshow Pictures|Kennedy Miller Produ...</td>\n",
              "      <td>5/13/15</td>\n",
              "      <td>6185</td>\n",
              "      <td>7.1</td>\n",
              "      <td>2015</td>\n",
              "      <td>137999939.3</td>\n",
              "      <td>3.481613e+08</td>\n",
              "    </tr>\n",
              "    <tr>\n",
              "      <th>2</th>\n",
              "      <td>262500</td>\n",
              "      <td>tt2908446</td>\n",
              "      <td>13.112507</td>\n",
              "      <td>110000000</td>\n",
              "      <td>295238201</td>\n",
              "      <td>Insurgent</td>\n",
              "      <td>Shailene Woodley|Theo James|Kate Winslet|Ansel...</td>\n",
              "      <td>http://www.thedivergentseries.movie/#insurgent</td>\n",
              "      <td>Robert Schwentke</td>\n",
              "      <td>One Choice Can Destroy You</td>\n",
              "      <td>...</td>\n",
              "      <td>Beatrice Prior must confront her inner demons ...</td>\n",
              "      <td>119</td>\n",
              "      <td>Adventure|Science Fiction|Thriller</td>\n",
              "      <td>Summit Entertainment|Mandeville Films|Red Wago...</td>\n",
              "      <td>3/18/15</td>\n",
              "      <td>2480</td>\n",
              "      <td>6.3</td>\n",
              "      <td>2015</td>\n",
              "      <td>101199955.5</td>\n",
              "      <td>2.716190e+08</td>\n",
              "    </tr>\n",
              "    <tr>\n",
              "      <th>3</th>\n",
              "      <td>140607</td>\n",
              "      <td>tt2488496</td>\n",
              "      <td>11.173104</td>\n",
              "      <td>200000000</td>\n",
              "      <td>2068178225</td>\n",
              "      <td>Star Wars: The Force Awakens</td>\n",
              "      <td>Harrison Ford|Mark Hamill|Carrie Fisher|Adam D...</td>\n",
              "      <td>http://www.starwars.com/films/star-wars-episod...</td>\n",
              "      <td>J.J. Abrams</td>\n",
              "      <td>Every generation has a story.</td>\n",
              "      <td>...</td>\n",
              "      <td>Thirty years after defeating the Galactic Empi...</td>\n",
              "      <td>136</td>\n",
              "      <td>Action|Adventure|Science Fiction|Fantasy</td>\n",
              "      <td>Lucasfilm|Truenorth Productions|Bad Robot</td>\n",
              "      <td>12/15/15</td>\n",
              "      <td>5292</td>\n",
              "      <td>7.5</td>\n",
              "      <td>2015</td>\n",
              "      <td>183999919.0</td>\n",
              "      <td>1.902723e+09</td>\n",
              "    </tr>\n",
              "    <tr>\n",
              "      <th>4</th>\n",
              "      <td>168259</td>\n",
              "      <td>tt2820852</td>\n",
              "      <td>9.335014</td>\n",
              "      <td>190000000</td>\n",
              "      <td>1506249360</td>\n",
              "      <td>Furious 7</td>\n",
              "      <td>Vin Diesel|Paul Walker|Jason Statham|Michelle ...</td>\n",
              "      <td>http://www.furious7.com/</td>\n",
              "      <td>James Wan</td>\n",
              "      <td>Vengeance Hits Home</td>\n",
              "      <td>...</td>\n",
              "      <td>Deckard Shaw seeks revenge against Dominic Tor...</td>\n",
              "      <td>137</td>\n",
              "      <td>Action|Crime|Thriller</td>\n",
              "      <td>Universal Pictures|Original Film|Media Rights ...</td>\n",
              "      <td>04/01/2015</td>\n",
              "      <td>2947</td>\n",
              "      <td>7.3</td>\n",
              "      <td>2015</td>\n",
              "      <td>174799923.1</td>\n",
              "      <td>1.385749e+09</td>\n",
              "    </tr>\n",
              "  </tbody>\n",
              "</table>\n",
              "<p>5 rows × 21 columns</p>\n",
              "</div>\n",
              "      <button class=\"colab-df-convert\" onclick=\"convertToInteractive('df-f66a8848-20fe-4e6e-9064-91097cee70dc')\"\n",
              "              title=\"Convert this dataframe to an interactive table.\"\n",
              "              style=\"display:none;\">\n",
              "        \n",
              "  <svg xmlns=\"http://www.w3.org/2000/svg\" height=\"24px\"viewBox=\"0 0 24 24\"\n",
              "       width=\"24px\">\n",
              "    <path d=\"M0 0h24v24H0V0z\" fill=\"none\"/>\n",
              "    <path d=\"M18.56 5.44l.94 2.06.94-2.06 2.06-.94-2.06-.94-.94-2.06-.94 2.06-2.06.94zm-11 1L8.5 8.5l.94-2.06 2.06-.94-2.06-.94L8.5 2.5l-.94 2.06-2.06.94zm10 10l.94 2.06.94-2.06 2.06-.94-2.06-.94-.94-2.06-.94 2.06-2.06.94z\"/><path d=\"M17.41 7.96l-1.37-1.37c-.4-.4-.92-.59-1.43-.59-.52 0-1.04.2-1.43.59L10.3 9.45l-7.72 7.72c-.78.78-.78 2.05 0 2.83L4 21.41c.39.39.9.59 1.41.59.51 0 1.02-.2 1.41-.59l7.78-7.78 2.81-2.81c.8-.78.8-2.07 0-2.86zM5.41 20L4 18.59l7.72-7.72 1.47 1.35L5.41 20z\"/>\n",
              "  </svg>\n",
              "      </button>\n",
              "      \n",
              "  <style>\n",
              "    .colab-df-container {\n",
              "      display:flex;\n",
              "      flex-wrap:wrap;\n",
              "      gap: 12px;\n",
              "    }\n",
              "\n",
              "    .colab-df-convert {\n",
              "      background-color: #E8F0FE;\n",
              "      border: none;\n",
              "      border-radius: 50%;\n",
              "      cursor: pointer;\n",
              "      display: none;\n",
              "      fill: #1967D2;\n",
              "      height: 32px;\n",
              "      padding: 0 0 0 0;\n",
              "      width: 32px;\n",
              "    }\n",
              "\n",
              "    .colab-df-convert:hover {\n",
              "      background-color: #E2EBFA;\n",
              "      box-shadow: 0px 1px 2px rgba(60, 64, 67, 0.3), 0px 1px 3px 1px rgba(60, 64, 67, 0.15);\n",
              "      fill: #174EA6;\n",
              "    }\n",
              "\n",
              "    [theme=dark] .colab-df-convert {\n",
              "      background-color: #3B4455;\n",
              "      fill: #D2E3FC;\n",
              "    }\n",
              "\n",
              "    [theme=dark] .colab-df-convert:hover {\n",
              "      background-color: #434B5C;\n",
              "      box-shadow: 0px 1px 3px 1px rgba(0, 0, 0, 0.15);\n",
              "      filter: drop-shadow(0px 1px 2px rgba(0, 0, 0, 0.3));\n",
              "      fill: #FFFFFF;\n",
              "    }\n",
              "  </style>\n",
              "\n",
              "      <script>\n",
              "        const buttonEl =\n",
              "          document.querySelector('#df-f66a8848-20fe-4e6e-9064-91097cee70dc button.colab-df-convert');\n",
              "        buttonEl.style.display =\n",
              "          google.colab.kernel.accessAllowed ? 'block' : 'none';\n",
              "\n",
              "        async function convertToInteractive(key) {\n",
              "          const element = document.querySelector('#df-f66a8848-20fe-4e6e-9064-91097cee70dc');\n",
              "          const dataTable =\n",
              "            await google.colab.kernel.invokeFunction('convertToInteractive',\n",
              "                                                     [key], {});\n",
              "          if (!dataTable) return;\n",
              "\n",
              "          const docLinkHtml = 'Like what you see? Visit the ' +\n",
              "            '<a target=\"_blank\" href=https://colab.research.google.com/notebooks/data_table.ipynb>data table notebook</a>'\n",
              "            + ' to learn more about interactive tables.';\n",
              "          element.innerHTML = '';\n",
              "          dataTable['output_type'] = 'display_data';\n",
              "          await google.colab.output.renderOutput(dataTable, element);\n",
              "          const docLink = document.createElement('div');\n",
              "          docLink.innerHTML = docLinkHtml;\n",
              "          element.appendChild(docLink);\n",
              "        }\n",
              "      </script>\n",
              "    </div>\n",
              "  </div>\n",
              "  "
            ]
          },
          "metadata": {},
          "execution_count": 2
        }
      ]
    },
    {
      "cell_type": "code",
      "source": [
        "#Check the shape of the dataframe\n",
        "df.shape"
      ],
      "metadata": {
        "colab": {
          "base_uri": "https://localhost:8080/",
          "height": 0
        },
        "id": "cH1SbsE5dKro",
        "outputId": "54da98d4-5839-4741-83b4-defaab05e5be"
      },
      "execution_count": 3,
      "outputs": [
        {
          "output_type": "execute_result",
          "data": {
            "text/plain": [
              "(10866, 21)"
            ]
          },
          "metadata": {},
          "execution_count": 3
        }
      ]
    },
    {
      "cell_type": "markdown",
      "source": [
        "The dataset has 10,866 rows and 21 columns"
      ],
      "metadata": {
        "id": "uWOVFQ2UQ52x"
      }
    },
    {
      "cell_type": "code",
      "source": [
        "#check the information about the dataframe\n",
        "df.info()"
      ],
      "metadata": {
        "colab": {
          "base_uri": "https://localhost:8080/",
          "height": 0
        },
        "id": "y6iO-mJOc2ki",
        "outputId": "d8432ba7-f3a1-4758-d31e-cc0e488faa03"
      },
      "execution_count": 4,
      "outputs": [
        {
          "output_type": "stream",
          "name": "stdout",
          "text": [
            "<class 'pandas.core.frame.DataFrame'>\n",
            "RangeIndex: 10866 entries, 0 to 10865\n",
            "Data columns (total 21 columns):\n",
            " #   Column                Non-Null Count  Dtype  \n",
            "---  ------                --------------  -----  \n",
            " 0   id                    10866 non-null  int64  \n",
            " 1   imdb_id               10856 non-null  object \n",
            " 2   popularity            10866 non-null  float64\n",
            " 3   budget                10866 non-null  int64  \n",
            " 4   revenue               10866 non-null  int64  \n",
            " 5   original_title        10866 non-null  object \n",
            " 6   cast                  10790 non-null  object \n",
            " 7   homepage              2936 non-null   object \n",
            " 8   director              10822 non-null  object \n",
            " 9   tagline               8042 non-null   object \n",
            " 10  keywords              9373 non-null   object \n",
            " 11  overview              10862 non-null  object \n",
            " 12  runtime               10866 non-null  int64  \n",
            " 13  genres                10843 non-null  object \n",
            " 14  production_companies  9836 non-null   object \n",
            " 15  release_date          10866 non-null  object \n",
            " 16  vote_count            10866 non-null  int64  \n",
            " 17  vote_average          10866 non-null  float64\n",
            " 18  release_year          10866 non-null  int64  \n",
            " 19  budget_adj            10866 non-null  float64\n",
            " 20  revenue_adj           10866 non-null  float64\n",
            "dtypes: float64(4), int64(6), object(11)\n",
            "memory usage: 1.7+ MB\n"
          ]
        }
      ]
    },
    {
      "cell_type": "markdown",
      "source": [
        "From the information above the following can be observed:\n",
        "<ul>\n",
        " <li>Columns such as: idmbId,cast, homepage,director,tagline,keywords,,overview,runtime,genres,production_companies have missing values</li>\n",
        "<li>The datatypes of each column: most values in the dataset have object attributes and a few have float and integer data types</li>\n",
        "<li> The release_date column is an object data type<li/>\n",
        "<ul/>\n",
        "\n",
        "\n",
        "\n",
        "\n"
      ],
      "metadata": {
        "id": "qoa-Q-8-knpx"
      }
    },
    {
      "cell_type": "markdown",
      "source": [
        "idmbId,cast, homepage,director,tagline,keywords,,overview,runtime,genres,production_companies have missing values<br/>\n",
        "Note: **Most of these columns might not be useful in our analysis and thus can be dropped**"
      ],
      "metadata": {
        "id": "ITxQ5XCyUb7J"
      }
    },
    {
      "cell_type": "code",
      "source": [
        "#cchecking for Unique values to determine the analysis apprroach of the categocial values in this dataset\n",
        "df.nunique()"
      ],
      "metadata": {
        "colab": {
          "base_uri": "https://localhost:8080/",
          "height": 0
        },
        "id": "m-QsRwfrxkDl",
        "outputId": "aa538aad-0eca-4de0-9538-2c801d448c4e"
      },
      "execution_count": 5,
      "outputs": [
        {
          "output_type": "execute_result",
          "data": {
            "text/plain": [
              "id                      10865\n",
              "imdb_id                 10855\n",
              "popularity              10814\n",
              "budget                    557\n",
              "revenue                  4702\n",
              "original_title          10571\n",
              "cast                    10719\n",
              "homepage                 2896\n",
              "director                 5067\n",
              "tagline                  7997\n",
              "keywords                 8804\n",
              "overview                10847\n",
              "runtime                   247\n",
              "genres                   2039\n",
              "production_companies     7445\n",
              "release_date             5909\n",
              "vote_count               1289\n",
              "vote_average               72\n",
              "release_year               56\n",
              "budget_adj               2614\n",
              "revenue_adj              4840\n",
              "dtype: int64"
            ]
          },
          "metadata": {},
          "execution_count": 5
        }
      ]
    },
    {
      "cell_type": "markdown",
      "source": [
        "Most of the categorical values have too many distinct values thus can be analysed individually "
      ],
      "metadata": {
        "id": "iXrsPeZ1VYrU"
      }
    },
    {
      "cell_type": "code",
      "source": [
        "#checking for null values in the dataset\n",
        "df.isnull().sum()"
      ],
      "metadata": {
        "colab": {
          "base_uri": "https://localhost:8080/",
          "height": 0
        },
        "id": "MxLc8o1avckl",
        "outputId": "cbc231a7-3aa9-40ad-8321-4d960aec1f17"
      },
      "execution_count": 6,
      "outputs": [
        {
          "output_type": "execute_result",
          "data": {
            "text/plain": [
              "id                         0\n",
              "imdb_id                   10\n",
              "popularity                 0\n",
              "budget                     0\n",
              "revenue                    0\n",
              "original_title             0\n",
              "cast                      76\n",
              "homepage                7930\n",
              "director                  44\n",
              "tagline                 2824\n",
              "keywords                1493\n",
              "overview                   4\n",
              "runtime                    0\n",
              "genres                    23\n",
              "production_companies    1030\n",
              "release_date               0\n",
              "vote_count                 0\n",
              "vote_average               0\n",
              "release_year               0\n",
              "budget_adj                 0\n",
              "revenue_adj                0\n",
              "dtype: int64"
            ]
          },
          "metadata": {},
          "execution_count": 6
        }
      ]
    },
    {
      "cell_type": "code",
      "source": [
        "#Correlation between features check\n",
        "df.corr()"
      ],
      "metadata": {
        "colab": {
          "base_uri": "https://localhost:8080/",
          "height": 363
        },
        "id": "NW_CxnYPFp6X",
        "outputId": "42d64457-6aa2-42f4-d885-34b4d6d5b73c"
      },
      "execution_count": 7,
      "outputs": [
        {
          "output_type": "execute_result",
          "data": {
            "text/plain": [
              "                    id  popularity    budget   revenue   runtime  vote_count  \\\n",
              "id            1.000000   -0.014350 -0.141351 -0.099227 -0.088360   -0.035551   \n",
              "popularity   -0.014350    1.000000  0.545472  0.663358  0.139033    0.800828   \n",
              "budget       -0.141351    0.545472  1.000000  0.734901  0.191283    0.632702   \n",
              "revenue      -0.099227    0.663358  0.734901  1.000000  0.162838    0.791175   \n",
              "runtime      -0.088360    0.139033  0.191283  0.162838  1.000000    0.163278   \n",
              "vote_count   -0.035551    0.800828  0.632702  0.791175  0.163278    1.000000   \n",
              "vote_average -0.058363    0.209511  0.081014  0.172564  0.156835    0.253823   \n",
              "release_year  0.511364    0.089801  0.115931  0.057048 -0.117204    0.107948   \n",
              "budget_adj   -0.189015    0.513550  0.968963  0.706427  0.221114    0.587051   \n",
              "revenue_adj  -0.138477    0.609083  0.622505  0.919110  0.175676    0.707942   \n",
              "\n",
              "              vote_average  release_year  budget_adj  revenue_adj  \n",
              "id               -0.058363      0.511364   -0.189015    -0.138477  \n",
              "popularity        0.209511      0.089801    0.513550     0.609083  \n",
              "budget            0.081014      0.115931    0.968963     0.622505  \n",
              "revenue           0.172564      0.057048    0.706427     0.919110  \n",
              "runtime           0.156835     -0.117204    0.221114     0.175676  \n",
              "vote_count        0.253823      0.107948    0.587051     0.707942  \n",
              "vote_average      1.000000     -0.117632    0.093039     0.193085  \n",
              "release_year     -0.117632      1.000000    0.016793    -0.066256  \n",
              "budget_adj        0.093039      0.016793    1.000000     0.646607  \n",
              "revenue_adj       0.193085     -0.066256    0.646607     1.000000  "
            ],
            "text/html": [
              "\n",
              "  <div id=\"df-90635e08-6c19-4fa8-83f2-0df1db9b11a7\">\n",
              "    <div class=\"colab-df-container\">\n",
              "      <div>\n",
              "<style scoped>\n",
              "    .dataframe tbody tr th:only-of-type {\n",
              "        vertical-align: middle;\n",
              "    }\n",
              "\n",
              "    .dataframe tbody tr th {\n",
              "        vertical-align: top;\n",
              "    }\n",
              "\n",
              "    .dataframe thead th {\n",
              "        text-align: right;\n",
              "    }\n",
              "</style>\n",
              "<table border=\"1\" class=\"dataframe\">\n",
              "  <thead>\n",
              "    <tr style=\"text-align: right;\">\n",
              "      <th></th>\n",
              "      <th>id</th>\n",
              "      <th>popularity</th>\n",
              "      <th>budget</th>\n",
              "      <th>revenue</th>\n",
              "      <th>runtime</th>\n",
              "      <th>vote_count</th>\n",
              "      <th>vote_average</th>\n",
              "      <th>release_year</th>\n",
              "      <th>budget_adj</th>\n",
              "      <th>revenue_adj</th>\n",
              "    </tr>\n",
              "  </thead>\n",
              "  <tbody>\n",
              "    <tr>\n",
              "      <th>id</th>\n",
              "      <td>1.000000</td>\n",
              "      <td>-0.014350</td>\n",
              "      <td>-0.141351</td>\n",
              "      <td>-0.099227</td>\n",
              "      <td>-0.088360</td>\n",
              "      <td>-0.035551</td>\n",
              "      <td>-0.058363</td>\n",
              "      <td>0.511364</td>\n",
              "      <td>-0.189015</td>\n",
              "      <td>-0.138477</td>\n",
              "    </tr>\n",
              "    <tr>\n",
              "      <th>popularity</th>\n",
              "      <td>-0.014350</td>\n",
              "      <td>1.000000</td>\n",
              "      <td>0.545472</td>\n",
              "      <td>0.663358</td>\n",
              "      <td>0.139033</td>\n",
              "      <td>0.800828</td>\n",
              "      <td>0.209511</td>\n",
              "      <td>0.089801</td>\n",
              "      <td>0.513550</td>\n",
              "      <td>0.609083</td>\n",
              "    </tr>\n",
              "    <tr>\n",
              "      <th>budget</th>\n",
              "      <td>-0.141351</td>\n",
              "      <td>0.545472</td>\n",
              "      <td>1.000000</td>\n",
              "      <td>0.734901</td>\n",
              "      <td>0.191283</td>\n",
              "      <td>0.632702</td>\n",
              "      <td>0.081014</td>\n",
              "      <td>0.115931</td>\n",
              "      <td>0.968963</td>\n",
              "      <td>0.622505</td>\n",
              "    </tr>\n",
              "    <tr>\n",
              "      <th>revenue</th>\n",
              "      <td>-0.099227</td>\n",
              "      <td>0.663358</td>\n",
              "      <td>0.734901</td>\n",
              "      <td>1.000000</td>\n",
              "      <td>0.162838</td>\n",
              "      <td>0.791175</td>\n",
              "      <td>0.172564</td>\n",
              "      <td>0.057048</td>\n",
              "      <td>0.706427</td>\n",
              "      <td>0.919110</td>\n",
              "    </tr>\n",
              "    <tr>\n",
              "      <th>runtime</th>\n",
              "      <td>-0.088360</td>\n",
              "      <td>0.139033</td>\n",
              "      <td>0.191283</td>\n",
              "      <td>0.162838</td>\n",
              "      <td>1.000000</td>\n",
              "      <td>0.163278</td>\n",
              "      <td>0.156835</td>\n",
              "      <td>-0.117204</td>\n",
              "      <td>0.221114</td>\n",
              "      <td>0.175676</td>\n",
              "    </tr>\n",
              "    <tr>\n",
              "      <th>vote_count</th>\n",
              "      <td>-0.035551</td>\n",
              "      <td>0.800828</td>\n",
              "      <td>0.632702</td>\n",
              "      <td>0.791175</td>\n",
              "      <td>0.163278</td>\n",
              "      <td>1.000000</td>\n",
              "      <td>0.253823</td>\n",
              "      <td>0.107948</td>\n",
              "      <td>0.587051</td>\n",
              "      <td>0.707942</td>\n",
              "    </tr>\n",
              "    <tr>\n",
              "      <th>vote_average</th>\n",
              "      <td>-0.058363</td>\n",
              "      <td>0.209511</td>\n",
              "      <td>0.081014</td>\n",
              "      <td>0.172564</td>\n",
              "      <td>0.156835</td>\n",
              "      <td>0.253823</td>\n",
              "      <td>1.000000</td>\n",
              "      <td>-0.117632</td>\n",
              "      <td>0.093039</td>\n",
              "      <td>0.193085</td>\n",
              "    </tr>\n",
              "    <tr>\n",
              "      <th>release_year</th>\n",
              "      <td>0.511364</td>\n",
              "      <td>0.089801</td>\n",
              "      <td>0.115931</td>\n",
              "      <td>0.057048</td>\n",
              "      <td>-0.117204</td>\n",
              "      <td>0.107948</td>\n",
              "      <td>-0.117632</td>\n",
              "      <td>1.000000</td>\n",
              "      <td>0.016793</td>\n",
              "      <td>-0.066256</td>\n",
              "    </tr>\n",
              "    <tr>\n",
              "      <th>budget_adj</th>\n",
              "      <td>-0.189015</td>\n",
              "      <td>0.513550</td>\n",
              "      <td>0.968963</td>\n",
              "      <td>0.706427</td>\n",
              "      <td>0.221114</td>\n",
              "      <td>0.587051</td>\n",
              "      <td>0.093039</td>\n",
              "      <td>0.016793</td>\n",
              "      <td>1.000000</td>\n",
              "      <td>0.646607</td>\n",
              "    </tr>\n",
              "    <tr>\n",
              "      <th>revenue_adj</th>\n",
              "      <td>-0.138477</td>\n",
              "      <td>0.609083</td>\n",
              "      <td>0.622505</td>\n",
              "      <td>0.919110</td>\n",
              "      <td>0.175676</td>\n",
              "      <td>0.707942</td>\n",
              "      <td>0.193085</td>\n",
              "      <td>-0.066256</td>\n",
              "      <td>0.646607</td>\n",
              "      <td>1.000000</td>\n",
              "    </tr>\n",
              "  </tbody>\n",
              "</table>\n",
              "</div>\n",
              "      <button class=\"colab-df-convert\" onclick=\"convertToInteractive('df-90635e08-6c19-4fa8-83f2-0df1db9b11a7')\"\n",
              "              title=\"Convert this dataframe to an interactive table.\"\n",
              "              style=\"display:none;\">\n",
              "        \n",
              "  <svg xmlns=\"http://www.w3.org/2000/svg\" height=\"24px\"viewBox=\"0 0 24 24\"\n",
              "       width=\"24px\">\n",
              "    <path d=\"M0 0h24v24H0V0z\" fill=\"none\"/>\n",
              "    <path d=\"M18.56 5.44l.94 2.06.94-2.06 2.06-.94-2.06-.94-.94-2.06-.94 2.06-2.06.94zm-11 1L8.5 8.5l.94-2.06 2.06-.94-2.06-.94L8.5 2.5l-.94 2.06-2.06.94zm10 10l.94 2.06.94-2.06 2.06-.94-2.06-.94-.94-2.06-.94 2.06-2.06.94z\"/><path d=\"M17.41 7.96l-1.37-1.37c-.4-.4-.92-.59-1.43-.59-.52 0-1.04.2-1.43.59L10.3 9.45l-7.72 7.72c-.78.78-.78 2.05 0 2.83L4 21.41c.39.39.9.59 1.41.59.51 0 1.02-.2 1.41-.59l7.78-7.78 2.81-2.81c.8-.78.8-2.07 0-2.86zM5.41 20L4 18.59l7.72-7.72 1.47 1.35L5.41 20z\"/>\n",
              "  </svg>\n",
              "      </button>\n",
              "      \n",
              "  <style>\n",
              "    .colab-df-container {\n",
              "      display:flex;\n",
              "      flex-wrap:wrap;\n",
              "      gap: 12px;\n",
              "    }\n",
              "\n",
              "    .colab-df-convert {\n",
              "      background-color: #E8F0FE;\n",
              "      border: none;\n",
              "      border-radius: 50%;\n",
              "      cursor: pointer;\n",
              "      display: none;\n",
              "      fill: #1967D2;\n",
              "      height: 32px;\n",
              "      padding: 0 0 0 0;\n",
              "      width: 32px;\n",
              "    }\n",
              "\n",
              "    .colab-df-convert:hover {\n",
              "      background-color: #E2EBFA;\n",
              "      box-shadow: 0px 1px 2px rgba(60, 64, 67, 0.3), 0px 1px 3px 1px rgba(60, 64, 67, 0.15);\n",
              "      fill: #174EA6;\n",
              "    }\n",
              "\n",
              "    [theme=dark] .colab-df-convert {\n",
              "      background-color: #3B4455;\n",
              "      fill: #D2E3FC;\n",
              "    }\n",
              "\n",
              "    [theme=dark] .colab-df-convert:hover {\n",
              "      background-color: #434B5C;\n",
              "      box-shadow: 0px 1px 3px 1px rgba(0, 0, 0, 0.15);\n",
              "      filter: drop-shadow(0px 1px 2px rgba(0, 0, 0, 0.3));\n",
              "      fill: #FFFFFF;\n",
              "    }\n",
              "  </style>\n",
              "\n",
              "      <script>\n",
              "        const buttonEl =\n",
              "          document.querySelector('#df-90635e08-6c19-4fa8-83f2-0df1db9b11a7 button.colab-df-convert');\n",
              "        buttonEl.style.display =\n",
              "          google.colab.kernel.accessAllowed ? 'block' : 'none';\n",
              "\n",
              "        async function convertToInteractive(key) {\n",
              "          const element = document.querySelector('#df-90635e08-6c19-4fa8-83f2-0df1db9b11a7');\n",
              "          const dataTable =\n",
              "            await google.colab.kernel.invokeFunction('convertToInteractive',\n",
              "                                                     [key], {});\n",
              "          if (!dataTable) return;\n",
              "\n",
              "          const docLinkHtml = 'Like what you see? Visit the ' +\n",
              "            '<a target=\"_blank\" href=https://colab.research.google.com/notebooks/data_table.ipynb>data table notebook</a>'\n",
              "            + ' to learn more about interactive tables.';\n",
              "          element.innerHTML = '';\n",
              "          dataTable['output_type'] = 'display_data';\n",
              "          await google.colab.output.renderOutput(dataTable, element);\n",
              "          const docLink = document.createElement('div');\n",
              "          docLink.innerHTML = docLinkHtml;\n",
              "          element.appendChild(docLink);\n",
              "        }\n",
              "      </script>\n",
              "    </div>\n",
              "  </div>\n",
              "  "
            ]
          },
          "metadata": {},
          "execution_count": 7
        }
      ]
    },
    {
      "cell_type": "markdown",
      "source": [
        "The id column has a negative correlation with all features therefore it can be dropped\n",
        "<ul>\n",
        "<li> budget has a high correlation with revenue</li>\n",
        "<li> revenue has a high correlation with budget, popularity,vot_count, revenue_adj and budget_adj</li>\n",
        "<li> runtime does not have a high correlation with any of the other features</li>popularity "
      ],
      "metadata": {
        "id": "B7HHJbCXVyzM"
      }
    },
    {
      "cell_type": "markdown",
      "source": [
        "\n",
        "### Data Cleaning"
      ],
      "metadata": {
        "id": "Y-8cOtpLlvDP"
      }
    },
    {
      "cell_type": "code",
      "source": [
        "#converting the release_date column from object type to date column\n",
        "df['release_date'] = pd.to_datetime(df['release_date'])"
      ],
      "metadata": {
        "id": "s_RvrMSwnuoz"
      },
      "execution_count": 8,
      "outputs": []
    },
    {
      "cell_type": "code",
      "source": [
        "#dropping some columns\n",
        "df=df.drop(['imdb_id','id','original_title','homepage','tagline','keywords','overview'], axis=1)\n",
        "df.head()"
      ],
      "metadata": {
        "colab": {
          "base_uri": "https://localhost:8080/",
          "height": 548
        },
        "id": "0zgUpNM0qStm",
        "outputId": "64d665ba-911f-45c2-96d4-1fa90f2d386c"
      },
      "execution_count": 9,
      "outputs": [
        {
          "output_type": "execute_result",
          "data": {
            "text/plain": [
              "   popularity     budget     revenue  \\\n",
              "0   32.985763  150000000  1513528810   \n",
              "1   28.419936  150000000   378436354   \n",
              "2   13.112507  110000000   295238201   \n",
              "3   11.173104  200000000  2068178225   \n",
              "4    9.335014  190000000  1506249360   \n",
              "\n",
              "                                                cast          director  \\\n",
              "0  Chris Pratt|Bryce Dallas Howard|Irrfan Khan|Vi...   Colin Trevorrow   \n",
              "1  Tom Hardy|Charlize Theron|Hugh Keays-Byrne|Nic...     George Miller   \n",
              "2  Shailene Woodley|Theo James|Kate Winslet|Ansel...  Robert Schwentke   \n",
              "3  Harrison Ford|Mark Hamill|Carrie Fisher|Adam D...       J.J. Abrams   \n",
              "4  Vin Diesel|Paul Walker|Jason Statham|Michelle ...         James Wan   \n",
              "\n",
              "   runtime                                     genres  \\\n",
              "0      124  Action|Adventure|Science Fiction|Thriller   \n",
              "1      120  Action|Adventure|Science Fiction|Thriller   \n",
              "2      119         Adventure|Science Fiction|Thriller   \n",
              "3      136   Action|Adventure|Science Fiction|Fantasy   \n",
              "4      137                      Action|Crime|Thriller   \n",
              "\n",
              "                                production_companies release_date  vote_count  \\\n",
              "0  Universal Studios|Amblin Entertainment|Legenda...   2015-06-09        5562   \n",
              "1  Village Roadshow Pictures|Kennedy Miller Produ...   2015-05-13        6185   \n",
              "2  Summit Entertainment|Mandeville Films|Red Wago...   2015-03-18        2480   \n",
              "3          Lucasfilm|Truenorth Productions|Bad Robot   2015-12-15        5292   \n",
              "4  Universal Pictures|Original Film|Media Rights ...   2015-04-01        2947   \n",
              "\n",
              "   vote_average  release_year   budget_adj   revenue_adj  \n",
              "0           6.5          2015  137999939.3  1.392446e+09  \n",
              "1           7.1          2015  137999939.3  3.481613e+08  \n",
              "2           6.3          2015  101199955.5  2.716190e+08  \n",
              "3           7.5          2015  183999919.0  1.902723e+09  \n",
              "4           7.3          2015  174799923.1  1.385749e+09  "
            ],
            "text/html": [
              "\n",
              "  <div id=\"df-5417b7ca-6c8b-411a-857b-1f850dbeb68b\">\n",
              "    <div class=\"colab-df-container\">\n",
              "      <div>\n",
              "<style scoped>\n",
              "    .dataframe tbody tr th:only-of-type {\n",
              "        vertical-align: middle;\n",
              "    }\n",
              "\n",
              "    .dataframe tbody tr th {\n",
              "        vertical-align: top;\n",
              "    }\n",
              "\n",
              "    .dataframe thead th {\n",
              "        text-align: right;\n",
              "    }\n",
              "</style>\n",
              "<table border=\"1\" class=\"dataframe\">\n",
              "  <thead>\n",
              "    <tr style=\"text-align: right;\">\n",
              "      <th></th>\n",
              "      <th>popularity</th>\n",
              "      <th>budget</th>\n",
              "      <th>revenue</th>\n",
              "      <th>cast</th>\n",
              "      <th>director</th>\n",
              "      <th>runtime</th>\n",
              "      <th>genres</th>\n",
              "      <th>production_companies</th>\n",
              "      <th>release_date</th>\n",
              "      <th>vote_count</th>\n",
              "      <th>vote_average</th>\n",
              "      <th>release_year</th>\n",
              "      <th>budget_adj</th>\n",
              "      <th>revenue_adj</th>\n",
              "    </tr>\n",
              "  </thead>\n",
              "  <tbody>\n",
              "    <tr>\n",
              "      <th>0</th>\n",
              "      <td>32.985763</td>\n",
              "      <td>150000000</td>\n",
              "      <td>1513528810</td>\n",
              "      <td>Chris Pratt|Bryce Dallas Howard|Irrfan Khan|Vi...</td>\n",
              "      <td>Colin Trevorrow</td>\n",
              "      <td>124</td>\n",
              "      <td>Action|Adventure|Science Fiction|Thriller</td>\n",
              "      <td>Universal Studios|Amblin Entertainment|Legenda...</td>\n",
              "      <td>2015-06-09</td>\n",
              "      <td>5562</td>\n",
              "      <td>6.5</td>\n",
              "      <td>2015</td>\n",
              "      <td>137999939.3</td>\n",
              "      <td>1.392446e+09</td>\n",
              "    </tr>\n",
              "    <tr>\n",
              "      <th>1</th>\n",
              "      <td>28.419936</td>\n",
              "      <td>150000000</td>\n",
              "      <td>378436354</td>\n",
              "      <td>Tom Hardy|Charlize Theron|Hugh Keays-Byrne|Nic...</td>\n",
              "      <td>George Miller</td>\n",
              "      <td>120</td>\n",
              "      <td>Action|Adventure|Science Fiction|Thriller</td>\n",
              "      <td>Village Roadshow Pictures|Kennedy Miller Produ...</td>\n",
              "      <td>2015-05-13</td>\n",
              "      <td>6185</td>\n",
              "      <td>7.1</td>\n",
              "      <td>2015</td>\n",
              "      <td>137999939.3</td>\n",
              "      <td>3.481613e+08</td>\n",
              "    </tr>\n",
              "    <tr>\n",
              "      <th>2</th>\n",
              "      <td>13.112507</td>\n",
              "      <td>110000000</td>\n",
              "      <td>295238201</td>\n",
              "      <td>Shailene Woodley|Theo James|Kate Winslet|Ansel...</td>\n",
              "      <td>Robert Schwentke</td>\n",
              "      <td>119</td>\n",
              "      <td>Adventure|Science Fiction|Thriller</td>\n",
              "      <td>Summit Entertainment|Mandeville Films|Red Wago...</td>\n",
              "      <td>2015-03-18</td>\n",
              "      <td>2480</td>\n",
              "      <td>6.3</td>\n",
              "      <td>2015</td>\n",
              "      <td>101199955.5</td>\n",
              "      <td>2.716190e+08</td>\n",
              "    </tr>\n",
              "    <tr>\n",
              "      <th>3</th>\n",
              "      <td>11.173104</td>\n",
              "      <td>200000000</td>\n",
              "      <td>2068178225</td>\n",
              "      <td>Harrison Ford|Mark Hamill|Carrie Fisher|Adam D...</td>\n",
              "      <td>J.J. Abrams</td>\n",
              "      <td>136</td>\n",
              "      <td>Action|Adventure|Science Fiction|Fantasy</td>\n",
              "      <td>Lucasfilm|Truenorth Productions|Bad Robot</td>\n",
              "      <td>2015-12-15</td>\n",
              "      <td>5292</td>\n",
              "      <td>7.5</td>\n",
              "      <td>2015</td>\n",
              "      <td>183999919.0</td>\n",
              "      <td>1.902723e+09</td>\n",
              "    </tr>\n",
              "    <tr>\n",
              "      <th>4</th>\n",
              "      <td>9.335014</td>\n",
              "      <td>190000000</td>\n",
              "      <td>1506249360</td>\n",
              "      <td>Vin Diesel|Paul Walker|Jason Statham|Michelle ...</td>\n",
              "      <td>James Wan</td>\n",
              "      <td>137</td>\n",
              "      <td>Action|Crime|Thriller</td>\n",
              "      <td>Universal Pictures|Original Film|Media Rights ...</td>\n",
              "      <td>2015-04-01</td>\n",
              "      <td>2947</td>\n",
              "      <td>7.3</td>\n",
              "      <td>2015</td>\n",
              "      <td>174799923.1</td>\n",
              "      <td>1.385749e+09</td>\n",
              "    </tr>\n",
              "  </tbody>\n",
              "</table>\n",
              "</div>\n",
              "      <button class=\"colab-df-convert\" onclick=\"convertToInteractive('df-5417b7ca-6c8b-411a-857b-1f850dbeb68b')\"\n",
              "              title=\"Convert this dataframe to an interactive table.\"\n",
              "              style=\"display:none;\">\n",
              "        \n",
              "  <svg xmlns=\"http://www.w3.org/2000/svg\" height=\"24px\"viewBox=\"0 0 24 24\"\n",
              "       width=\"24px\">\n",
              "    <path d=\"M0 0h24v24H0V0z\" fill=\"none\"/>\n",
              "    <path d=\"M18.56 5.44l.94 2.06.94-2.06 2.06-.94-2.06-.94-.94-2.06-.94 2.06-2.06.94zm-11 1L8.5 8.5l.94-2.06 2.06-.94-2.06-.94L8.5 2.5l-.94 2.06-2.06.94zm10 10l.94 2.06.94-2.06 2.06-.94-2.06-.94-.94-2.06-.94 2.06-2.06.94z\"/><path d=\"M17.41 7.96l-1.37-1.37c-.4-.4-.92-.59-1.43-.59-.52 0-1.04.2-1.43.59L10.3 9.45l-7.72 7.72c-.78.78-.78 2.05 0 2.83L4 21.41c.39.39.9.59 1.41.59.51 0 1.02-.2 1.41-.59l7.78-7.78 2.81-2.81c.8-.78.8-2.07 0-2.86zM5.41 20L4 18.59l7.72-7.72 1.47 1.35L5.41 20z\"/>\n",
              "  </svg>\n",
              "      </button>\n",
              "      \n",
              "  <style>\n",
              "    .colab-df-container {\n",
              "      display:flex;\n",
              "      flex-wrap:wrap;\n",
              "      gap: 12px;\n",
              "    }\n",
              "\n",
              "    .colab-df-convert {\n",
              "      background-color: #E8F0FE;\n",
              "      border: none;\n",
              "      border-radius: 50%;\n",
              "      cursor: pointer;\n",
              "      display: none;\n",
              "      fill: #1967D2;\n",
              "      height: 32px;\n",
              "      padding: 0 0 0 0;\n",
              "      width: 32px;\n",
              "    }\n",
              "\n",
              "    .colab-df-convert:hover {\n",
              "      background-color: #E2EBFA;\n",
              "      box-shadow: 0px 1px 2px rgba(60, 64, 67, 0.3), 0px 1px 3px 1px rgba(60, 64, 67, 0.15);\n",
              "      fill: #174EA6;\n",
              "    }\n",
              "\n",
              "    [theme=dark] .colab-df-convert {\n",
              "      background-color: #3B4455;\n",
              "      fill: #D2E3FC;\n",
              "    }\n",
              "\n",
              "    [theme=dark] .colab-df-convert:hover {\n",
              "      background-color: #434B5C;\n",
              "      box-shadow: 0px 1px 3px 1px rgba(0, 0, 0, 0.15);\n",
              "      filter: drop-shadow(0px 1px 2px rgba(0, 0, 0, 0.3));\n",
              "      fill: #FFFFFF;\n",
              "    }\n",
              "  </style>\n",
              "\n",
              "      <script>\n",
              "        const buttonEl =\n",
              "          document.querySelector('#df-5417b7ca-6c8b-411a-857b-1f850dbeb68b button.colab-df-convert');\n",
              "        buttonEl.style.display =\n",
              "          google.colab.kernel.accessAllowed ? 'block' : 'none';\n",
              "\n",
              "        async function convertToInteractive(key) {\n",
              "          const element = document.querySelector('#df-5417b7ca-6c8b-411a-857b-1f850dbeb68b');\n",
              "          const dataTable =\n",
              "            await google.colab.kernel.invokeFunction('convertToInteractive',\n",
              "                                                     [key], {});\n",
              "          if (!dataTable) return;\n",
              "\n",
              "          const docLinkHtml = 'Like what you see? Visit the ' +\n",
              "            '<a target=\"_blank\" href=https://colab.research.google.com/notebooks/data_table.ipynb>data table notebook</a>'\n",
              "            + ' to learn more about interactive tables.';\n",
              "          element.innerHTML = '';\n",
              "          dataTable['output_type'] = 'display_data';\n",
              "          await google.colab.output.renderOutput(dataTable, element);\n",
              "          const docLink = document.createElement('div');\n",
              "          docLink.innerHTML = docLinkHtml;\n",
              "          element.appendChild(docLink);\n",
              "        }\n",
              "      </script>\n",
              "    </div>\n",
              "  </div>\n",
              "  "
            ]
          },
          "metadata": {},
          "execution_count": 9
        }
      ]
    },
    {
      "cell_type": "code",
      "source": [
        "#Removing the pipe symbol on the genres column\n",
        "genres_conc = df['genres'].str.cat(sep='|')\n",
        "genres_conc"
      ],
      "metadata": {
        "colab": {
          "base_uri": "https://localhost:8080/",
          "height": 140
        },
        "id": "jh7S524Ld8nx",
        "outputId": "c47379e1-5a9a-42ec-f444-c6494e1e05ed"
      },
      "execution_count": 10,
      "outputs": [
        {
          "output_type": "execute_result",
          "data": {
            "text/plain": [
              "'Action|Adventure|Science Fiction|Thriller|Action|Adventure|Science Fiction|Thriller|Adventure|Science Fiction|Thriller|Action|Adventure|Science Fiction|Fantasy|Action|Crime|Thriller|Western|Drama|Adventure|Thriller|Science Fiction|Action|Thriller|Adventure|Drama|Adventure|Science Fiction|Family|Animation|Adventure|Comedy|Comedy|Animation|Family|Action|Adventure|Crime|Science Fiction|Fantasy|Action|Adventure|Drama|Science Fiction|Action|Comedy|Science Fiction|Action|Adventure|Science Fiction|Crime|Drama|Mystery|Western|Crime|Action|Thriller|Science Fiction|Action|Adventure|Romance|Fantasy|Family|Drama|War|Adventure|Science Fiction|Action|Family|Science Fiction|Adventure|Mystery|Action|Drama|Action|Drama|Thriller|Drama|Romance|Comedy|Drama|Action|Comedy|Crime|Comedy|Action|Adventure|Drama|Thriller|History|Action|Science Fiction|Thriller|Mystery|Drama|Crime|Action|Science Fiction|Comedy|Music|Thriller|Drama|Adventure|Horror|Comedy|Drama|Thriller|Crime|Drama|Mystery|Adventure|Animation|Comedy|Family|Fantasy|Action|Crime|Drama|Mystery|Thriller|Drama|Romance|Drama|Music|Fantasy|Action|Adventure|History|Drama|Comedy|Action|Adventure|Fantasy|Drama|Romance|Action|Adventure|Science Fiction|Fantasy|Comedy|Animation|Science Fiction|Family|Drama|Mystery|Romance|Thriller|Crime|Drama|Thriller|Comedy|Drama|Romance|Science Fiction|Romance|Drama|Comedy|Adventure|Drama|Comedy|Drama|Action|Crime|Thriller|Drama|Science Fiction|Mystery|Thriller|Comedy|Adventure|Drama|Mystery|Crime|Action|Thriller|Drama|Action|Crime|Drama|Mystery|Thriller|Action|Adventure|Science Fiction|Mystery|Horror|Action|Comedy|Crime|Romance|Comedy|Crime|Drama|Action|Crime|Thriller|Thriller|Drama|Adventure|Action|History|Crime|Thriller|Action|Drama|Comedy|Drama|Thriller|War|Crime|Thriller|Thriller|Adventure|Family|Fantasy|Action|Adventure|Fantasy|Comedy|Drama|Adventure|Animation|Comedy|Family|Drama|Comedy|Drama|Horror|Thriller|Romance|Drama|Animation|Comedy|Family|Family|Comedy|Adventure|Drama|Thriller|Action|Crime|Drama|Adventure|Comedy|Horror|Thriller|Horror|Drama|Romance|Science Fiction|Crime|Thriller|Thriller|Mystery|Comedy|Fantasy|Action|Adventure|Thriller|Science Fiction|Action|Adventure|Adventure|Animation|Fantasy|Adventure|Animation|Comedy|Family|Drama|Romance|Comedy|Horror|Action|Adventure|Comedy|Family|Adventure|Animation|Family|Action|Drama|Science Fiction|Thriller|Thriller|Action|Comedy|Comedy|Comedy|Horror|Horror|Thriller|Crime|Drama|Crime|Action|Thriller|Horror|Comedy|Fantasy|Drama|Mystery|Thriller|Action|Thriller|Crime|Drama|Comedy|Comedy|Action|Drama|Action|Fantasy|Adventure|Comedy|Science Fiction|Thriller|Comedy|Science Fiction|Thriller|Action|Crime|Mystery|Thriller|Fantasy|Horror|Drama|Thriller|Action|Comedy|Drama|Music|Horror|Thriller|Romance|Thriller|Western|Drama|Crime|Drama|Mystery|Comedy|Family|Animation|Crime|Drama|Mystery|Adventure|Drama|Family|Family|Animation|Comedy|Adventure|Drama|Comedy|Drama|Action|Drama|Crime|Horror|Thriller|Action|Crime|Comedy|Drama|Horror|Thriller|Drama|Science Fiction|Thriller|Action|Adventure|Fantasy|Comedy|Drama|Drama|Science Fiction|Thriller|Adventure|Drama|Family|Animation|Comedy|Drama|Romance|Horror|Western|Adventure|Drama|Horror|Mystery|Thriller|Drama|Drama|Thriller|Action|Drama|Romance|Horror|Thriller|Horror|Thriller|Comedy|Crime|Action|Adventure|Romance|Fantasy|Horror|Mystery|Drama|Drama|History|Comedy|Drama|Music|Comedy|Drama|Romance|Action|Comedy|Science Fiction|Fantasy|Drama|Thriller|Crime|Drama|Mystery|Thriller|Drama|Comedy|Comedy|Drama|Action|Crime|Thriller|Comedy|Western|Comedy|Thriller|History|Drama|Drama|History|Drama|Drama|Music|Romance|Adventure|Action|Comedy|History|Drama|War|Action|Thriller|Comedy|Drama|Music|Action|Adventure|Comedy|Family|Music|Romance|Comedy|Romance|Drama|Drama|Drama|Comedy|Comedy|Drama|War|Action|Adventure|Animation|Family|Drama|Thriller|Adventure|Comedy|Romance|Romance|Comedy|Action|Animation|Science Fiction|Drama|Comedy|Drama|Science Fiction|Thriller|Drama|Animation|Comedy|Family|Adventure|Thriller|Thriller|Comedy|Western|Drama|Documentary|Music|Drama|Fantasy|Horror|Family|Animation|Horror|Romance|Drama|Romance|Comedy|Drama|Romance|Drama|Thriller|Comedy|Drama|Music|Comedy|Music|War|Drama|Comedy|Drama|Romance|Thriller|Horror|Drama|Comedy|Romance|Drama|Drama|Drama|Mystery|Science Fiction|Thriller|Animation|Comedy|Family|Fantasy|Music|Thriller|Science Fiction|Action|Drama|Thriller|Drama|Drama|Horror|Science Fiction|Mystery|Drama|Horror|Drama|Adventure|Comedy|Horror|Thriller|Horror|Action|Adventure|Animation|Thriller|Adventure|Documentary|Comedy|Fantasy|Thriller|Music|Documentary|War|Drama|Thriller|Crime|Drama|Drama|Drama|Horror|Mystery|Drama|Drama|Comedy|Animation|Adventure|Comedy|Thriller|Horror|Documentary|Horror|Thriller|Drama|Comedy|Horror|Thriller|History|Drama|Drama|Romance|Drama|Horror|TV Movie|Thriller|Horror|Action|Drama|Thriller|Crime|Drama|Drama|Thriller|Thriller|Horror|Fantasy|Comedy|Animation|Adventure|Science Fiction|Action|Action|Action|Adventure|Animation|Family|TV Movie|Action|Drama|Family|Drama|Horror|Thriller|Horror|Thriller|Drama|Documentary|Comedy|Comedy|Music|Drama|Crime|Comedy|Comedy|Action|Music|Animation|Family|Fantasy|Drama|Horror|Science Fiction|Comedy|Horror|Action|Animation|Fantasy|Drama|Music|Action|Drama|Thriller|Fantasy|Thriller|Horror|Science Fiction|Action|Science Fiction|Adventure|Fantasy|Thriller|Drama|Horror|Animation|Family|Drama|Thriller|Drama|Horror|Comedy|Thriller|Horror|Comedy|Drama|Comedy|Music|Thriller|Comedy|Crime|Family|Science Fiction|Action|Adventure|Drama|Music|Adventure|Fantasy|Thriller|Action|Drama|Action|Horror|Thriller|Documentary|Drama|War|Horror|Drama|Thriller|Mystery|Science Fiction|Family|TV Movie|Thriller|Horror|Thriller|Horror|Crime|Horror|Thriller|Thriller|Drama|Comedy|Drama|Thriller|Action|Drama|Fantasy|Action|Adventure|Drama|Comedy|Family|TV Movie|Animation|Thriller|Romance|Drama|Science Fiction|Action|Drama|Music|Thriller|Action|Horror|Adventure|Action|Thriller|Action|Drama|Horror|Horror|Romance|Science Fiction|Thriller|Horror|Animation|Family|Fantasy|Science Fiction|Action|Horror|Horror|Action|Thriller|Action|Horror|Comedy|Romance|Drama|Horror|Thriller|Thriller|Drama|Science Fiction|TV Movie|Adventure|Comedy|Horror|Thriller|Science Fiction|TV Movie|Action|Science Fiction|Drama|Science Fiction|Drama|Family|Thriller|Drama|Comedy|Horror|Drama|Thriller|Drama|Romance|Comedy|Crime|Drama|Thriller|Documentary|Documentary|Thriller|Drama|War|Action|Adventure|Action|Comedy|Science Fiction|Animation|Music|Family|Drama|Horror|Science Fiction|Thriller|Animation|Documentary|Comedy|Animation|Drama|Comedy|Drama|TV Movie|Crime|Mystery|Documentary|Drama|TV Movie|Thriller|Science Fiction|Action|Horror|Crime|Drama|Thriller|Science Fiction|Thriller|Fantasy|Action|Science Fiction|Comedy|Science Fiction|Comedy|Horror|Thriller|Horror|Action|Animation|Family|Action|Adventure|Science Fiction|Romance|Drama|Science Fiction|Horror|Action|Animation|Family|Drama|Comedy|Drama|Thriller|Drama|Drama|History|Romance|Drama|Music|TV Movie|Horror|Thriller|Horror|Drama|Family|Adventure|Adventure|Documentary|Animation|Romance|Comedy|Drama|Romance|Comedy|Mystery|Drama|Thriller|TV Movie|Horror|Science Fiction|Action|Thriller|Documentary|Drama|Drama|Crime|Drama|Horror|Science Fiction|TV Movie|Drama|Comedy|Science Fiction|Action|Animation|Adventure|Romance|Drama|Horror|Drama|Drama|Horror|Thriller|Drama|Comedy|Drama|Thriller|Horror|Drama|Thriller|Mystery|Drama|Science Fiction|Thriller|Horror|Comedy|Horror|Romance|Comedy|Horror|Science Fiction|Thriller|History|Documentary|Family|Horror|Comedy|Romance|Horror|Horror|Thriller|Horror|Drama|Comedy|Science Fiction|Horror|Drama|Music|Comedy|Drama|Horror|Drama|Thriller|Comedy|Drama|Comedy|Horror|Horror|Thriller|Horror|Romance|Comedy|Romance|Drama|History|Crime|Drama|Horror|Thriller|Action|Drama|Thriller|Action|Drama|Thriller|Documentary|Romance|Drama|Comedy|Mystery|Fantasy|Drama|TV Movie|Comedy|Comedy|Music|History|Drama|Family|Thriller|Mystery|Science Fiction|Comedy|Drama|Comedy|Crime|Action|Science Fiction|Drama|Thriller|Drama|Mystery|Thriller|Comedy|Comedy|TV Movie|Romance|Documentary|Music|Drama|Drama|Comedy|Documentary|Documentary|Mystery|Thriller|Horror|Science Fiction|Drama|Romance|Thriller|Horror|Science Fiction|Horror|Horror|Science Fiction|Thriller|Comedy|Drama|Romance|Drama|Thriller|Horror|Horror|Science Fiction|Thriller|Romance|Music|TV Movie|Comedy|Horror|Horror|Drama|Music|Horror|Documentary|Music|Science Fiction|Comedy|Animation|Family|Thriller|Horror|Drama|Comedy|Documentary|Documentary|Documentary|Comedy|Mystery|Horror|Comedy|Drama|Documentary|Science Fiction|Horror|Mystery|Comedy|Crime|Comedy|Action|Adventure|Documentary|Thriller|Crime|Drama|Science Fiction|Thriller|Action|Crime|Drama|Thriller|Comedy|Comedy|Drama|Thriller|Science Fiction|Drama|Family|Thriller|Action|Adventure|Crime|Action|Comedy|Science Fiction|Action|Thriller|Drama|Horror|Science Fiction|Action|Comedy|Romance|Crime|Action|Comedy|TV Movie|Animation|Science Fiction|TV Movie|Drama|Thriller|Horror|Mystery|Drama|Music|Drama|Comedy|Horror|Horror|Animation|Mystery|Drama|Drama|Thriller|Drama|Comedy|Drama|Documentary|Music|Romance|Comedy|Thriller|Thriller|Horror|Comedy|Drama|Romance|Drama|Music|Drama|Music|Documentary|Action|Crime|Drama|Thriller|Horror|Drama|Horror|Horror|Science Fiction|Horror|Action|Science Fiction|Romance|Drama|Documentary|Drama|Documentary|Drama|History|Thriller|Science Fiction|Horror|Documentary|Comedy|Drama|Thriller|Horror|Drama|Thriller|Action|Adventure|Science Fiction|Romance|Comedy|Drama|Drama|Comedy|Documentary|Drama|Fantasy|Adventure|Comedy|Romance|Comedy|Drama|Mystery|Documentary|Romance|TV Movie|Horror|Drama|Mystery|Horror|Thriller|Comedy|Thriller|Drama|Documentary|Documentary|Thriller|Mystery|Drama|Horror|Documentary|Music|Drama|Documentary|Crime|Mystery|Drama|Comedy|Horror|Horror|Thriller|Comedy|Drama|Romance|Comedy|Documentary|Horror|Drama|Documentary|Science Fiction|Thriller|Drama|Thriller|Documentary|Documentary|Horror|Drama|Science Fiction|Comedy|Documentary|Thriller|Drama|Action|Crime|Comedy|Romance|Family|Action|Drama|Horror|Thriller|TV Movie|Science Fiction|Drama|Thriller|Mystery|Horror|Fantasy|Comedy|Drama|Romance|Mystery|Drama|History|Family|Thriller|Horror|Music|Documentary|Horror|Thriller|Animation|Comedy|Family|Comedy|Crime|Thriller|Action|Horror|Drama|Horror|Drama|Thriller|Adventure|Drama|Comedy|Comedy|Documentary|Action|Drama|Comedy|Drama|Documentary|Drama|Drama|Horror|Romance|Comedy|Thriller|Crime|Documentary|Drama|Horror|Thriller|Science Fiction|Drama|Horror|Thriller|Comedy|Drama|Documentary|Thriller|Drama|Fantasy|Documentary|Drama|TV Movie|Thriller|Drama|Documentary|Documentary|Romance|War|Documentary|Drama|Horror|Documentary|History|Action|Music|Drama|Drama|Thriller|Horror|Mystery|Science Fiction|Action|Animation|Drama|Comedy|Comedy|Comedy|Thriller|Science Fiction|Science Fiction|Comedy|Comedy|Comedy|Family|Documentary|Documentary|Thriller|Mystery|Horror|Drama|Animation|Comedy|Science Fiction|Documentary|Drama|Drama|Thriller|Thriller|Drama|Comedy|Horror|Comedy|Drama|Drama|TV Movie|Science Fiction|Mystery|Horror|Thriller|Horror|Documentary|Documentary|Comedy|Drama|Family|Comedy|Documentary|Documentary|Documentary|Adventure|Drama|Science Fiction|Action|Science Fiction|Adventure|Action|Adventure|Science Fiction|Action|Thriller|Science Fiction|Adventure|Thriller|Adventure|Fantasy|Adventure|Family|Animation|Action|Comedy|History|Drama|Thriller|War|Action|Mystery|Science Fiction|Thriller|Drama|Comedy|Mystery|Thriller|Drama|War|Drama|Action|Adventure|Comedy|Fantasy|Family|Action|Science Fiction|Thriller|Action|Adventure|Fantasy|Science Fiction|Action|Science Fiction|Science Fiction|Action|Adventure|Fantasy|Comedy|Comedy|Crime|Drama|Thriller|Science Fiction|Action|Adventure|Comedy|Drama|Drama|Music|Science Fiction|Action|Drama|Thriller|Thriller|Action|Crime|Comedy|Action|Adventure|Fantasy|Action|Science Fiction|Action|Comedy|War|Action|Adventure|Drama|Action|Action|Science Fiction|Thriller|Fantasy|Adventure|Action|Family|Romance|Crime|Action|Thriller|Horror|Fantasy|Action|Adventure|Animation|Comedy|Thriller|Horror|Action|Adventure|Thriller|Adventure|Fantasy|Animation|Comedy|Action|Thriller|Adventure|Fantasy|Drama|Romance|Comedy|Horror|Action|Drama|Fantasy|War|Family|Animation|Adventure|Comedy|Fantasy|Comedy|Music|Action|War|Drama|Science Fiction|Crime|Comedy|Action|Crime|Drama|Mystery|Thriller|Comedy|Drama|Comedy|Horror|Thriller|Thriller|Action|Science Fiction|Drama|Action|Thriller|Crime|Drama|Action|Adventure|Drama|Adventure|Drama|Action|Comedy|Crime|Comedy|Comedy|Drama|Romance|Drama|Music|Comedy|Romance|Romance|Drama|Science Fiction|Drama|Action|Comedy|Thriller|Comedy|Romance|Crime|Drama|Mystery|Action|Drama|Thriller|Action|Thriller|Mystery|Science Fiction|Thriller|Thriller|Science Fiction|Action|Adventure|Fantasy|Drama|Crime|Science Fiction|Action|Thriller|Science Fiction|Drama|Mystery|Comedy|Romance|Animation|Adventure|Family|Comedy|Crime|Thriller|Adventure|Animation|Family|Animation|Adventure|Comedy|Family|Comedy|Mystery|Thriller|War|Drama|History|Action|Drama|War|History|Drama|Drama|Thriller|Romance|Animation|Family|Drama|Action|Adventure|History|Romance|Drama|Drama|Romance|Music|Comedy|Drama|Family|Horror|Thriller|Romance|Animation|Adventure|Comedy|Family|Comedy|Action|Crime|Drama|Thriller|Romance|Comedy|Thriller|Crime|Action|Drama|Animation|Comedy|Family|Fantasy|Drama|Thriller|Action|Adventure|Family|Animation|Fantasy|Comedy|Action|Drama|Thriller|Fantasy|Thriller|Science Fiction|Thriller|Drama|Action|Thriller|Action|Action|Drama|Thriller|Crime|Animation|Comedy|Adventure|Family|Thriller|Action|Drama|War|Action|Drama|Thriller|Crime|Comedy|Western|Thriller|Crime|Drama|Comedy|Drama|Mystery|Drama|Thriller|Drama|Horror|Thriller|Drama|Thriller|Comedy|Romance|Drama|Romance|Crime|Drama|Comedy|Romance|Drama|Romance|War|Thriller|Comedy|Thriller|Mystery|Horror|Drama|Horror|Thriller|Family|Animation|Horror|Thriller|Comedy|Romance|Drama|Drama|Action|Crime|Drama|Drama|Thriller|Horror|Comedy|Drama|Drama|History|Drama|War|Action|Action|Crime|Thriller|Drama|Mystery|Drama|Action|Crime|Thriller|Drama|Fantasy|Mystery|Romance|Drama|Comedy|Romance|Comedy|Mystery|Thriller|Action|Western|Drama|Fantasy|Comedy|Drama|Crime|Thriller|Comedy|War|Drama|Horror|Thriller|Comedy|Drama|Romance|Drama|Action|Family|Comedy|Drama|Comedy|Western|Drama|Action|Crime|Drama|Thriller|Drama|Thriller|Thriller|Drama|Animation|Comedy|Family|Adventure|Thriller|Action|Drama|Thriller|Action|Crime|Action|Adventure|Crime|Drama|Thriller|Music|Drama|Comedy|Romance|Drama|Drama|Comedy|Comedy|Drama|Drama|Drama|Comedy|Science Fiction|TV Movie|Drama|Romance|Comedy|Thriller|Science Fiction|Drama|Comedy|Drama|Crime|Adventure|Drama|Comedy|Drama|Documentary|Thriller|Animation|Action|Crime|Comedy|Drama|Romance|Animation|Drama|Fantasy|Science Fiction|Horror|Comedy|Thriller|Thriller|Drama|Thriller|Drama|Action|Mystery|Animation|Family|Romance|Comedy|Animation|Drama|Family|Drama|Drama|Thriller|Thriller|Romance|Drama|Drama|Drama|Comedy|Romance|Drama|Romance|Science Fiction|Action|Comedy|Thriller|Drama|Horror|Action|Crime|Thriller|Thriller|Drama|Comedy|Drama|Music|Horror|Thriller|Crime|Horror|Drama|Thriller|Crime|Drama|Mystery|Drama|Thriller|Science Fiction|Comedy|Comedy|Horror|Thriller|Horror|Drama|Drama|Comedy|Science Fiction|Drama|Thriller|Music|Documentary|Drama|Family|Drama|Comedy|Drama|Action|Drama|Drama|Comedy|Thriller|Drama|Thriller|Horror|Drama|Drama|Thriller|Horror|Comedy|Adventure|Crime|Family|Drama|Horror|Fantasy|Thriller|Comedy|Thriller|Action|Horror|Mystery|Thriller|Comedy|Drama|Horror|Drama|Comedy|Drama|Comedy|Horror|Comedy|Thriller|Action|Science Fiction|Action|Comedy|Thriller|Drama|Comedy|Horror|Drama|Music|Drama|Drama|Action|Crime|Thriller|Drama|Mystery|Thriller|Thriller|Drama|Science Fiction|Thriller|Drama|Family|Comedy|Adventure|Animation|Family|Fantasy|Drama|Documentary|Drama|Romance|Documentary|Family|Horror|Thriller|Horror|Action|Adventure|Drama|Horror|Action|Comedy|Horror|Thriller|Thriller|Horror|Mystery|Comedy|Drama|Romance|History|Drama|Fantasy|Comedy|Adventure|Horror|Action|Comedy|Comedy|Horror|Action|Fantasy|Comedy|Horror|Mystery|Drama|Romance|Comedy|Horror|Thriller|Horror|Romance|Action|Comedy|Action|Drama|Romance|TV Movie|Comedy|Drama|Drama|Action|Crime|Horror|Thriller|Crime|Comedy|Horror|Thriller|Horror|Science Fiction|Drama|Comedy|Romance|Music|Thriller|Drama|Romance|Action|Comedy|Crime|Thriller|Comedy|Horror|Drama|Comedy|Thriller|Action|Science Fiction|Comedy|Drama|Romance|Drama|Thriller|Drama|Romance|Family|Comedy|Action|Thriller|Action|Crime|Thriller|Thriller|Drama|Drama|Comedy|Drama|Action|Crime|Thriller|Horror|Romance|Drama|Horror|Thriller|Animation|Family|Drama|Thriller|Drama|Drama|TV Movie|Romance|Family|Comedy|Drama|Horror|Comedy|Romance|Mystery|Horror|Thriller|Comedy|Animation|Action|Adventure|Family|Adventure|Science Fiction|Drama|Adventure|Action|Thriller|Horror|Mystery|Fantasy|Adventure|Comedy|Drama|Music|Action|Drama|Thriller|Action|Horror|Science Fiction|Western|Action|Drama|Science Fiction|Thriller|Drama|TV Movie|Crime|Mystery|Thriller|Crime|Drama|Family|Romance|Comedy|Romance|Family|Animation|Music|Action|Thriller|Horror|Drama|Action|Adventure|Comedy|Thriller|Comedy|Thriller|Crime|Drama|Action|Drama|Adventure|Science Fiction|Action|Thriller|Crime|Drama|Thriller|Drama|Comedy|Drama|Action|Comedy|Crime|Thriller|Drama|Comedy|Documentary|Drama|Comedy|Horror|Science Fiction|Horror|Drama|Horror|Drama|Documentary|Drama|Thriller|Horror|Mystery|Drama|Thriller|Action|Comedy|Romance|Science Fiction|Adventure|Comedy|Science Fiction|Drama|Thriller|Comedy|Drama|Horror|Science Fiction|Drama|Mystery|Thriller|TV Movie|Drama|Crime|TV Movie|Music|Romance|Drama|Science Fiction|Comedy|Drama|Music|Romance|Drama|Comedy|Horror|Thriller|Crime|Drama|Romance|Drama|Action|Comedy|Horror|Thriller|Horror|Science Fiction|Horror|Comedy|Thriller|Horror|Drama|Action|Drama|Thriller|Comedy|Family|Romance|Romance|Comedy|Thriller|Crime|Comedy|Drama|Drama|Horror|Drama|War|Adventure|Documentary|Comedy|Horror|Thriller|Crime|Drama|Documentary|Thriller|Action|Fantasy|Horror|TV Movie|Documentary|Horror|Thriller|Science Fiction|Comedy|Drama|Romance|Romance|Comedy|Drama|Thriller|Horror|Horror|Mystery|Thriller|Drama|Horror|Thriller|Drama|Thriller|Drama|Horror|Drama|Thriller|Action|Crime|Thriller|Drama|Crime|Mystery|Drama|Western|Adventure|Science Fiction|Fantasy|Family|Drama|Horror|Romance|Comedy|Family|Fantasy|Comedy|Romance|Drama|Action|Crime|Romance|Drama|Thriller|War|Adventure|Drama|TV Movie|Documentary|Comedy|Comedy|Drama|Comedy|Comedy|Adventure|Mystery|Thriller|Crime|Animation|Science Fiction|Action|Action|Drama|Horror|Thriller|Drama|Thriller|Action|Science Fiction|Animation|Comedy|Family|Mystery|Horror|History|Documentary|Animation|Horror|Romance|Comedy|Drama|Documentary|Drama|Thriller|Science Fiction|Action|Music|Drama|Comedy|Adventure|Romance|Drama|Action|Adventure|Thriller|Romance|Action|TV Movie|Drama|History|Drama|Crime|Thriller|Drama|Documentary|Romance|Comedy|Thriller|Horror|Thriller|Horror|Comedy|Drama|Romance|Horror|Action|War|Drama|Documentary|Drama|Horror|Thriller|Action|Documentary|Music|Drama|Drama|Drama|Documentary|Documentary|Adventure|Animation|Science Fiction|Documentary|Adventure|Family|TV Movie|Romance|Drama|Thriller|Adventure|Animation|Action|Thriller|Horror|Comedy|Documentary|War|Documentary|Action|Horror|Thriller|Comedy|Horror|Science Fiction|Thriller|Action|Crime|Drama|Drama|Science Fiction|Action|Animation|Drama|War|Thriller|Action|Drama|Thriller|Thriller|Action|Crime|Drama|Documentary|Comedy|Adventure|Animation|Family|Horror|Thriller|Music|Drama|Drama|Crime|Drama|Documentary|Action|Crime|Drama|Mystery|Thriller|Documentary|Drama|Fantasy|Horror|Drama|Fantasy|Romance|Animation|Comedy|Family|Adventure|Family|Science Fiction|Drama|War|Action|Science Fiction|Action|Fantasy|Action|War|Drama|Drama|Mystery|Thriller|Horror|Comedy|Drama|History|Comedy|Documentary|Adventure|Action|Animation|Fantasy|Family|Animation|Action|Science Fiction|Documentary|Thriller|Horror|Action|Thriller|War|Drama|Horror|Drama|Comedy|Music|Drama|Science Fiction|Adventure|Drama|Fantasy|Drama|Horror|Comedy|Music|Adventure|Documentary|Romance|Romance|Drama|Fantasy|Thriller|Horror|Thriller|Drama|Crime|Action|Adventure|Comedy|Horror|Thriller|Romance|Drama|Drama|Adventure|Action|Drama|Thriller|Thriller|Horror|Science Fiction|Horror|Comedy|Horror|Music|Drama|Comedy|Action|Thriller|Horror|Adventure|Action|Documentary|Comedy|Drama|Romance|Drama|Music|Animation|Animation|Comedy|Science Fiction|TV Movie|Science Fiction|Action|Adventure|Horror|Comedy|Comedy|Drama|Documentary|Comedy|Drama|Drama|Science Fiction|TV Movie|Drama|Comedy|Thriller|Science Fiction|Horror|Documentary|History|Crime|Documentary|Thriller|Drama|War|Documentary|Comedy|Romance|Crime|Drama|Drama|Crime|Mystery|Thriller|Horror|Comedy|Drama|Comedy|Comedy|TV Movie|Drama|Drama|Horror|Mystery|Science Fiction|Thriller|Thriller|Horror|Comedy|Romance|Documentary|Comedy|Horror|Comedy|Documentary|Thriller|Horror|Documentary|History|Crime|Horror|Documentary|Drama|Romance|Comedy|Family|Adventure|Comedy|Family|War|Documentary|History|Drama|Horror|Comedy|Romance|Adventure|Animation|Family|Fantasy|Documentary|Action|Crime|Drama|History|Drama|Thriller|Drama|Horror|Mystery|Comedy|Drama|Romance|Drama|Romance|Adventure|Drama|Drama|Music|Comedy|Adventure|Fantasy|Romance|Science Fiction|Romance|Comedy|Thriller|Horror|Drama|Drama|TV Movie|Adventure|Action|Documentary|Comedy|Animation|Family|Fantasy|Horror|Drama|History|Documentary|Thriller|Comedy|Romance|Horror|Thriller|Drama|Comedy|Romance|Music|Comedy|Comedy|Comedy|Crime|Thriller|Comedy|Documentary|Drama|Action|Crime|Documentary|Documentary|Crime|Drama|Thriller|Documentary|History|Comedy|Romance|Comedy|Romance|Drama|Thriller|Drama|Comedy|Romance|Comedy|Drama|Documentary|Comedy|Documentary|Thriller|Comedy|Documentary|Music|Thriller|Crime|Action|Drama|Documentary|Horror|Thriller|Action|Drama|Romance|Comedy|Science Fiction|Drama|Music|Mystery|Thriller|Romance|Drama|Comedy|Comedy|Romance|Documentary|War|Action|Drama|Thriller|Comedy|Western|Documentary|Documentary|Documentary|Drama|Documentary|Drama|Horror|Drama|Comedy|Comedy|Documentary|Documentary|Music|Documentary|Thriller|Horror|Mystery|Horror|Romance|Comedy|War|Action|Documentary|Drama|Music|Adventure|Drama|Documentary|Adventure|Documentary|Documentary|Music|Comedy|Mystery|Drama|Fantasy|Comedy|Drama|Action|Drama|Documentary|Science Fiction|Family|Comedy|Drama|Documentary|Mystery|Horror|Comedy|Documentary|Documentary|Documentary|Horror|Thriller|Comedy|Romance|Comedy|Documentary|Documentary|Thriller|Documentary|Drama|Action|Crime|Documentary|Crime|Romance|Comedy|Drama|Documentary|Music|Documentary|Drama|Comedy|Romance|Romance|Drama|Documentary|Documentary|Documentary|Adventure|Action|Science Fiction|Adventure|Action|Thriller|Fantasy|Family|Animation|Adventure|Comedy|Drama|Romance|Fantasy|Animation|Comedy|Family|Science Fiction|Drama|Drama|History|War|Animation|Family|Romance|Comedy|Family|Action|Adventure|Action|Adventure|Family|Fantasy|Science Fiction|Action|Adventure|Drama|War|Drama|Music|Comedy|Music|Action|Adventure|Comedy|Documentary|Drama|Action|Crime|Thriller|Drama|Action|History|War|Drama|Music|Romance|Drama|Comedy|Drama|War|Drama|Fantasy|Drama|Horror|Thriller|Horror|Thriller|Fantasy|Action|Adventure|Drama|Thriller|Fantasy|Comedy|Science Fiction|Fantasy|Horror|Drama|Action|Crime|Drama|Thriller|Adventure|Drama|Action|History|Adventure|Animation|Family|History|Adventure|Action|Adventure|Drama|Thriller|Family|Drama|Mystery|Western|Drama|Adventure|Horror|Action|Thriller|Adventure|Drama|Thriller|Mystery|Fantasy|Comedy|Drama|Horror|Science Fiction|Horror|Mystery|Animation|Fantasy|Science Fiction|Action|Thriller|Horror|Horror|Science Fiction|Comedy|Science Fiction|Horror|Mystery|Thriller|Adventure|Horror|Science Fiction|Science Fiction|Horror|Thriller|Horror|Drama|Mystery|Comedy|Romance|Drama|Horror|Science Fiction|Horror|Drama|Comedy|Family|Action|Adventure|Fantasy|Science Fiction|Drama|Action|Thriller|War|Fantasy|Action|Adventure|Science Fiction|Thriller|Adventure|Fantasy|Family|Animation|Comedy|Family|Adventure|Science Fiction|Action|Adventure|Drama|Action|Thriller|Science Fiction|Action|Thriller|Science Fiction|Adventure|Drama|Action|Comedy|Thriller|Comedy|Drama|Romance|Animation|Comedy|Family|Adventure|Comedy|Action|Mystery|Science Fiction|Action|Adventure|Science Fiction|Action|Adventure|Animation|Science Fiction|Thriller|Thriller|Mystery|Romance|Family|Animation|Music|Drama|Comedy|Horror|Adventure|Fantasy|Drama|Romance|Comedy|Romance|Drama|Adventure|Action|Thriller|Science Fiction|Comedy|Romance|Drama|Comedy|Mystery|Comedy|Romance|Animation|Comedy|Family|Adventure|Animation|Comedy|Family|Animation|Family|Adventure|Fantasy|Action|Comedy|Family|Comedy|Animation|Drama|Comedy|Romance|Fantasy|Drama|Action|Adventure|Comedy|Family|Drama|Family|Drama|Crime|Thriller|Thriller|Science Fiction|Action|Thriller|Crime|Action|Horror|Mystery|Science Fiction|Thriller|Animation|Family|Adventure|Fantasy|Horror|Thriller|Thriller|Science Fiction|Action|Adventure|Drama|Mystery|Science Fiction|Science Fiction|Drama|Fantasy|Action|Adventure|Family|Comedy|Comedy|Thriller|Drama|Crime|Comedy|Romance|Fantasy|Comedy|Romance|Fantasy|Comedy|Romance|Action|Thriller|Science Fiction|Action|Horror|Science Fiction|Science Fiction|Drama|Romance|Fantasy|Comedy|Romance|Drama|Thriller|War|Adventure|Drama|Animation|Family|Adventure|Science Fiction|Drama|Romance|Drama|Drama|Thriller|Mystery|History|Crime|Drama|Family|Animation|Comedy|Horror|Horror|Thriller|Mystery|Comedy|Horror|Mystery|Comedy|Family|Animation|Fantasy|Music|Drama|Horror|Mystery|Thriller|Comedy|Drama|Action|Horror|Thriller|Mystery|Drama|Comedy|Romance|Comedy|Comedy|Crime|Drama|Thriller|Adventure|Family|Fantasy|Science Fiction|Thriller|Horror|Mystery|Thriller|Drama|Comedy|Horror|Thriller|Fantasy|Horror|Action|Thriller|Science Fiction|Drama|Romance|Fantasy|Adventure|Comedy|Drama|Horror|Thriller|Adventure|Fantasy|Drama|Drama|Romance|Action|Crime|Drama|Thriller|Horror|Mystery|Drama|History|Romance|Comedy|Drama|Thriller|Mystery|Adventure|Comedy|Action|Crime|Mystery|Thriller|Drama|Horror|Thriller|Drama|Comedy|Drama|Romance|Fantasy|Drama|Drama|Romance|Action|Adventure|Drama|Thriller|Action|Drama|Thriller|Drama|Comedy|Romance|Science Fiction|Action|Adventure|Comedy|War|Comedy|Romance|Action|Crime|Thriller|Comedy|Drama|Family|Music|Family|Fantasy|Comedy|Romance|Crime|Drama|Thriller|Science Fiction|Thriller|Drama|Crime|Comedy|Romance|Drama|Comedy|Romance|Adventure|Comedy|Science Fiction|Drama|History|Science Fiction|Animation|Family|Comedy|Adventure|Fantasy|Drama|Thriller|Thriller|Horror|Comedy|Animation|Science Fiction|Action|Horror|Action|Thriller|Comedy|Adventure|Comedy|Drama|Drama|Romance|Documentary|Family|Mystery|Horror|Adventure|Fantasy|Animation|Family|Science Fiction|Action|Adventure|Drama|Documentary|Comedy|Family|Drama|Action|Comedy|Thriller|Crime|Adventure|Drama|History|Animation|Comedy|Drama|Action|Thriller|Crime|Drama|Crime|Adventure|Fantasy|Mystery|Crime|Drama|Horror|Mystery|Thriller|Action|Crime|Drama|Thriller|Action|Drama|Horror|Science Fiction|Thriller|Drama|Foreign|History|Comedy|Comedy|Drama|Romance|Adventure|Fantasy|Action|Thriller|Animation|Action|Science Fiction|Comedy|Crime|Drama|Thriller|Drama|Romance|Comedy|Drama|Comedy|Drama|Drama|Romance|Animation|Action|Family|Science Fiction|Drama|Thriller|Crime|Horror|Thriller|Adventure|Fantasy|Adventure|Action|Science Fiction|Thriller|Action|Crime|Drama|Thriller|Horror|Comedy|Music|Drama|Documentary|Drama|History|TV Movie|Action|Thriller|Crime|Drama|History|War|Horror|Comedy|Comedy|Crime|Drama|Drama|Comedy|Crime|Comedy|Drama|Family|Music|Romance|Action|Adventure|Crime|Drama|Thriller|Action|Thriller|Crime|Comedy|Romance|Adventure|Comedy|Family|Fantasy|Science Fiction|Drama|Horror|Mystery|Thriller|Drama|Romance|Adventure|Horror|Thriller|Horror|Thriller|Drama|Drama|Foreign|Mystery|Comedy|Drama|Science Fiction|Thriller|War|Drama|History|Thriller|Comedy|Drama|Romance|Drama|Mystery|Thriller|Fantasy|Drama|Action|Thriller|Animation|Comedy|Drama|Crime|Drama|Thriller|Thriller|Comedy|Animation|Action|Adventure|Horror|Comedy|Drama|Thriller|Drama|Crime|Mystery|Adventure|Drama|Family|Action|Adventure|Animation|Science Fiction|Drama|Romance|Adventure|Thriller|Science Fiction|Action|Drama|History|Action|Crime|Drama|Thriller|Adventure|Comedy|Comedy|Mystery|Animation|Comedy|Fantasy|Drama|Action|Comedy|Crime|Fantasy|Comedy|Drama|Music|Romance|Thriller|Crime|Drama|Mystery|Drama|History|Horror|Thriller|Mystery|Action|Adventure|Comedy|Drama|Comedy|Romance|Comedy|Romance|Drama|Drama|Foreign|Romance|Action|Drama|Crime|Thriller|Documentary|Drama|Science Fiction|Animation|Comedy|Horror|Drama|Romance|Drama|Crime|Thriller|Horror|Drama|Drama|Romance|Science Fiction|Adventure|Animation|Action|Family|Thriller|Crime|Drama|Action|Action|Science Fiction|Thriller|Action|Drama|Foreign|Thriller|Drama|Action|Thriller|Comedy|Romance|Action|Adventure|Science Fiction|Thriller|Comedy|Family|Drama|History|Drama|Romance|Animation|Family|Thriller|Mystery|Drama|Thriller|Drama|Mystery|Drama|Horror|Thriller|Action|Adventure|Thriller|Horror|Comedy|Drama|Crime|TV Movie|Comedy|Family|Fantasy|Romance|Drama|Comedy|Animation|Drama|Science Fiction|Thriller|Comedy|Music|Documentary|Comedy|Drama|Drama|Romance|Drama|Romance|Foreign|Drama|Thriller|TV Movie|Action|Adventure|Comedy|Family|Crime|Drama|Thriller|Mystery|Drama|Romance|Adventure|Fantasy|Action|Science Fiction|Action|Crime|Drama|Thriller|Horror|Science Fiction|Action|Comedy|Music|Action|Horror|Thriller|Science Fiction|Thriller|Mystery|Crime|Drama|Animation|Family|Adventure|Action|Thriller|Science Fiction|Comedy|TV Movie|Animation|Family|Comedy|Drama|Romance|Thriller|Crime|Science Fiction|Mystery|Action|Drama|Thriller|Family|Animation|Drama|Romance|Science Fiction|Thriller|Drama|Action|Comedy|Horror|Science Fiction|Thriller|Drama|Comedy|Animation|Family|Animation|Family|Fantasy|Drama|Adventure|Romance|Action|Horror|Science Fiction|Drama|Adventure|Animation|Comedy|Family|Fantasy|Crime|Thriller|Comedy|Animation|Comedy|Drama|Action|Crime|Mystery|Drama|Drama|Drama|Thriller|Romance|Comedy|Family|Drama|Comedy|Animation|Adventure|Comedy|Family|Fantasy|Science Fiction|Thriller|Comedy|Drama|Comedy|Romance|Comedy|Drama|Romance|Comedy|Family|Crime|Drama|Thriller|Fantasy|Drama|Science Fiction|Comedy|Romance|Drama|Thriller|Crime|Drama|Thriller|Animation|Comedy|Horror|Comedy|Drama|Romance|Comedy|Drama|Family|Fantasy|Drama|Music|Comedy|Drama|Romance|Horror|Mystery|Thriller|Horror|Mystery|Thriller|Comedy|Animation|Fantasy|Family|Action|Comedy|Thriller|Horror|Thriller|Horror|Horror|Drama|Thriller|Action|Adventure|Fantasy|Science Fiction|Thriller|Drama|History|Horror|Drama|History|War|Horror|Mystery|Thriller|Action|Adventure|Science Fiction|Thriller|Comedy|Crime|Adventure|Fantasy|Drama|Thriller|Comedy|Drama|Drama|Thriller|Mystery|Horror|Comedy|Family|Comedy|Horror|Horror|Thriller|Crime|Mystery|Comedy|Horror|Thriller|Drama|Comedy|Adventure|Comedy|War|Action|Thriller|Drama|Horror|Romance|Drama|Fantasy|Comedy|Horror|Thriller|Drama|Animation|Adventure|Action|Comedy|Comedy|Drama|Family|Drama|Comedy|Romance|Animation|Horror|Action|Comedy|Drama|Comedy|Romance|Drama|Romance|Thriller|Comedy|Fantasy|Romance|TV Movie|Comedy|Romance|Drama|Romance|Thriller|Comedy|Drama|Drama|Action|Comedy|Romance|Action|Comedy|Crime|Thriller|Comedy|Romance|Comedy|Comedy|Drama|Horror|Drama|Comedy|Horror|Action|Thriller|Horror|Thriller|Fantasy|Drama|Comedy|Science Fiction|Action|Action|Adventure|Thriller|Documentary|Music|Horror|Mystery|Thriller|Horror|Thriller|War|Drama|Science Fiction|Action|Action|Animation|Fantasy|Science Fiction|Comedy|Romance|Documentary|Drama|History|Foreign|Drama|Comedy|Science Fiction|Romance|Drama|Comedy|Comedy|Horror|Thriller|Comedy|Drama|Romance|Thriller|Mystery|Romance|Action|Adventure|Drama|Thriller|Adventure|Comedy|Horror|Horror|Comedy|Drama|Music|Comedy|Drama|Animation|Adventure|Comedy|Family|Fantasy|Action|Horror|Science Fiction|Drama|History|War|Drama|Music|Horror|Drama|Action|Adventure|Animation|Family|Science Fiction|Horror|Drama|Music|Romance|Mystery|Adventure|Family|Comedy|Horror|Comedy|Drama|Thriller|Mystery|Fantasy|Drama|Science Fiction|Foreign|Crime|Drama|Mystery|Thriller|Comedy|Romance|Action|Adventure|Thriller|Action|Crime|Mystery|Thriller|Drama|War|Comedy|Comedy|Romance|Family|Action|Comedy|Crime|Drama|Action|Adventure|Drama|Family|Comedy|Animation|Horror|Action|Comedy|Crime|Horror|Mystery|Thriller|Comedy|Foreign|Action|Science Fiction|Thriller|Horror|Fantasy|Drama|Comedy|Science Fiction|Romance|Documentary|Horror|Action|Comedy|Drama|Family|Comedy|Horror|Thriller|Comedy|Drama|Drama|Romance|Comedy|Drama|Drama|War|Horror|Science Fiction|Animation|Comedy|Documentary|Music|Horror|Science Fiction|Thriller|Comedy|Adventure|Comedy|Drama|Family|Fantasy|Comedy|Drama|Foreign|Drama|Action|Drama|Thriller|Animation|Comedy|Comedy|Action|Thriller|Science Fiction|Comedy|Thriller|Mystery|Action|Adventure|Fantasy|Drama|Mystery|Thriller|Horror|Thriller|Comedy|Family|Comedy|Drama|Family|TV Movie|Drama|Thriller|Romance|Thriller|Action|Crime|Action|Comedy|Horror|Science Fiction|Action|Comedy|Crime|Comedy|Romance|Thriller|Drama|Comedy|Animation|Comedy|Family|Horror|Thriller|Horror|Thriller|Family|Science Fiction|TV Movie|Adventure|Drama|Comedy|Comedy|Comedy|Drama|Comedy|Romance|Drama|Comedy|Comedy|Documentary|Action|Fantasy|Drama|Thriller|Comedy|Crime|Comedy|Action|Comedy|Mystery|Romance|Thriller|Action|Foreign|Horror|Thriller|Horror|Comedy|Drama|Romance|Drama|Music|Horror|Action|Thriller|Science Fiction|Comedy|Horror|Drama|Comedy|Drama|Comedy|Documentary|Comedy|Action|Thriller|Comedy|Drama|Comedy|Drama|Horror|Thriller|Action|Science Fiction|Thriller|Drama|Romance|Comedy|Family|War|Documentary|History|Documentary|Music|Documentary|Drama|Romance|Thriller|Horror|Action|Thriller|Horror|Comedy|Documentary|Drama|Action|Comedy|Drama|Family|Foreign|Music|Comedy|Horror|Mystery|Thriller|Horror|Thriller|Mystery|Documentary|Drama|Documentary|Science Fiction|TV Movie|Action|Adventure|Thriller|Drama|Comedy|Fantasy|Comedy|Crime|Drama|Drama|Foreign|Crime|Mystery|Thriller|Documentary|Horror|Drama|Mystery|Thriller|Comedy|Documentary|Drama|Documentary|Horror|Comedy|Drama|Action|Adventure|Comedy|Science Fiction|Comedy|Science Fiction|Adventure|Family|Animation|Comedy|Animation|Fantasy|Mystery|Documentary|Family|Foreign|Romance|Thriller|Documentary|Drama|Horror|Thriller|Comedy|Romance|Comedy|Comedy|Romance|Action|Drama|Drama|Horror|Thriller|Foreign|Drama|Foreign|Romance|Thriller|Documentary|Documentary|Horror|Animation|Science Fiction|Action|Comedy|Foreign|Documentary|Drama|Foreign|Comedy|Horror|Thriller|Comedy|Drama|Family|Mystery|Horror|Action|Thriller|Science Fiction|Mystery|Adventure|Adventure|Action|Science Fiction|Family|Fantasy|Adventure|Drama|Mystery|Thriller|Adventure|Fantasy|Family|Action|Animation|Family|Action|Thriller|Fantasy|Adventure|Animation|Family|Drama|Thriller|Mystery|Adventure|Action|Science Fiction|Animation|Family|Animation|Family|Comedy|Action|Thriller|Crime|Mystery|Adventure|Drama|Thriller|Comedy|Adventure|Family|Fantasy|Action|Crime|Action|Thriller|Romance|Adventure|Fantasy|Action|Romance|Action|Drama|Adventure|Western|Adventure|Fantasy|Action|Fantasy|Adventure|Action|Comedy|Drama|Comedy|Drama|Romance|Drama|Action|Adventure|Comedy|Comedy|Romance|Action|Science Fiction|Adventure|Thriller|Adventure|Fantasy|Family|Action|Thriller|Comedy|Adventure|Fantasy|Animation|Family|Drama|Romance|War|Thriller|Action|Adventure|Comedy|Crime|Action|Adventure|Comedy|Crime|Thriller|Action|Comedy|Thriller|Comedy|Action|Thriller|Science Fiction|Comedy|Crime|Drama|Thriller|Drama|Romance|Adventure|Fantasy|Drama|Romance|Animation|Action|Comedy|Family|Science Fiction|Action|Adventure|Family|Fantasy|Action|Comedy|Crime|Horror|Thriller|Horror|Thriller|Drama|Romance|Drama|History|Drama|Comedy|Romance|Drama|Adventure|History|Action|Science Fiction|Thriller|Crime|Drama|Romance|Action|Comedy|Action|Thriller|Drama|Drama|Romance|Action|Romance|Comedy|Action|Adventure|Drama|Thriller|Comedy|Comedy|Romance|Drama|Comedy|Romance|Drama|Drama|Music|Comedy|Romance|Fantasy|Horror|Thriller|Animation|Adventure|Family|Fantasy|Horror|Crime|Action|Adventure|Drama|Family|Comedy|Drama|Action|Comedy|Action|Crime|Thriller|Thriller|Mystery|Comedy|Drama|Romance|Drama|Thriller|Crime|Horror|Mystery|Thriller|Action|Adventure|Crime|Mystery|Thriller|Drama|Comedy|Comedy|Horror|Action|Western|Drama|Fantasy|Thriller|Animation|Adventure|Fantasy|Family|Drama|Music|Drama|Romance|Horror|Comedy|Documentary|Action|Comedy|Thriller|Romance|Horror|Drama|Thriller|Comedy|Drama|Romance|Comedy|Romance|Fantasy|Comedy|Science Fiction|Comedy|Adventure|Thriller|Drama|Drama|Horror|Mystery|Comedy|Drama|Romance|Animation|Adventure|Family|Fantasy|Action|Crime|Drama|Thriller|Drama|Romance|Drama|Comedy|Drama|Romance|Crime|Drama|Action|Thriller|Drama|History|War|Horror|Thriller|Drama|Romance|Science Fiction|Action|Animation|Crime|Drama|Thriller|Animation|Family|Action|Comedy|Crime|Crime|Drama|Horror|Thriller|Drama|Thriller|Science Fiction|Adventure|Comedy|Drama|Comedy|Romance|Drama|Drama|Action|Thriller|Drama|Romance|Comedy|Animation|Comedy|Family|Drama|Comedy|Romance|Horror|Mystery|Thriller|Drama|Comedy|Family|Thriller|Crime|Horror|Comedy|Horror|Comedy|Drama|Romance|Drama|Fantasy|Action|Family|Horror|Drama|Thriller|Comedy|Family|Fantasy|Romance|Comedy|Drama|Thriller|Horror|Thriller|Animation|Action|Science Fiction|Drama|Thriller|Mystery|Comedy|Fantasy|Comedy|Romance|Adventure|Action|Thriller|Drama|Romance|Comedy|Drama|Adventure|Science Fiction|Drama|Thriller|Animation|Family|Comedy|Drama|Mystery|Action|Adventure|Drama|Thriller|Drama|Drama|Crime|Thriller|Comedy|Comedy|Family|TV Movie|Drama|Comedy|Music|Romance|Action|Adventure|Comedy|Comedy|Family|Horror|Thriller|Drama|Comedy|Drama|Romance|Comedy|Drama|Romance|Comedy|Documentary|Action|Animation|Comedy|Family|Drama|Family|Fantasy|Documentary|Thriller|Action|Comedy|Comedy|Drama|Fantasy|Horror|Mystery|Action|Thriller|Crime|Action|Comedy|Family|Comedy|Romance|Drama|Horror|Action|Thriller|Mystery|Drama|Mystery|Thriller|Crime|Romance|Action|Comedy|Thriller|Crime|Drama|Thriller|Drama|Crime|Drama|Fantasy|Action|Thriller|Drama|Horror|Mystery|Thriller|Crime|Drama|Action|Thriller|Science Fiction|Crime|Drama|Action|Thriller|Science Fiction|Crime|Drama|History|Action|Adventure|Foreign|Thriller|Comedy|Horror|Mystery|Thriller|Comedy|Romance|Drama|Drama|Thriller|Crime|Family|Comedy|Documentary|Family|Comedy|Drama|Romance|Action|Thriller|Western|Thriller|Drama|Crime|Drama|Thriller|Crime|TV Movie|Animation|Fantasy|Comedy|Drama|Crime|Drama|Thriller|History|Adventure|Comedy|Family|Fantasy|Drama|Mystery|Romance|Drama|Romance|Thriller|Mystery|Horror|Drama|Family|Romance|Drama|Horror|Crime|Comedy|Drama|Family|Animation|Comedy|Drama|Romance|Fantasy|Drama|Horror|Action|Thriller|Mystery|Horror|Action|Drama|Thriller|Drama|War|Drama|Drama|Family|Animation|Comedy|Drama|Romance|Drama|Mystery|Fantasy|Comedy|Adventure|Animation|Family|Comedy|Drama|Fantasy|Drama|Family|Comedy|Romance|TV Movie|Adventure|Action|Comedy|Thriller|Comedy|Family|Animation|Adventure|Adventure|Comedy|Drama|Animation|Comedy|Comedy|Comedy|Drama|Romance|Animation|Action|Adventure|Comedy|Action|Drama|Fantasy|Drama|Comedy|Comedy|Drama|Family|Comedy|Drama|Romance|Romance|Science Fiction|Fantasy|Animation|Drama|Comedy|Science Fiction|Comedy|Romance|Drama|Comedy|Romance|Animation|Fantasy|Action|Adventure|Fantasy|Horror|Adventure|Fantasy|Animation|Action|Thriller|Fantasy|Comedy|Science Fiction|Animation|Action|Action|Adventure|Thriller|Drama|Romance|Horror|Thriller|Action|Adventure|Animation|Documentary|Crime|Drama|Comedy|Drama|Action|Action|Adventure|Drama|Horror|Comedy|Documentary|Action|Comedy|Drama|Mystery|Thriller|Horror|Thriller|Crime|Mystery|Comedy|Drama|History|Romance|Drama|Animation|Fantasy|Comedy|Science Fiction|Horror|Mystery|Thriller|Science Fiction|Comedy|Mystery|Drama|Action|Crime|Drama|Thriller|Drama|Drama|Romance|Animation|Adventure|Comedy|Family|Fantasy|Comedy|Drama|Romance|Action|Comedy|Crime|Thriller|Drama|Romance|Horror|Thriller|Horror|Animation|Action|Thriller|Science Fiction|Documentary|Comedy|Drama|Thriller|Foreign|Animation|Science Fiction|Comedy|Drama|Romance|Action|Animation|Science Fiction|Action|Adventure|Drama|Family|Comedy|Drama|Drama|Thriller|Documentary|Crime|Drama|Mystery|Thriller|Horror|Action|Thriller|Science Fiction|Drama|Horror|Thriller|Mystery|Horror|Thriller|Crime|Comedy|Crime|Drama|Action|Thriller|Crime|Romance|Drama|Comedy|Drama|Crime|Horror|Mystery|Animation|Comedy|Family|Comedy|Documentary|Comedy|Crime|Comedy|Drama|Drama|Action|Romance|TV Movie|Science Fiction|Horror|Comedy|Thriller|Romance|Drama|War|Drama|Action|Adventure|History|Action|Thriller|Science Fiction|Foreign|Horror|Action|Science Fiction|Thriller|Romance|Comedy|Drama|Comedy|Drama|Family|TV Movie|Drama|Action|Thriller|Action|Comedy|Horror|Mystery|Science Fiction|TV Movie|Animation|Adventure|Family|History|Action|Drama|Horror|Thriller|Science Fiction|Comedy|Drama|Comedy|Drama|Documentary|Comedy|Drama|Family|Comedy|Romance|Animation|Comedy|Romance|Drama|Thriller|Crime|Mystery|Animation|Horror|Science Fiction|Horror|Thriller|Drama|Horror|Action|Thriller|Science Fiction|Animation|Action|Western|Horror|Comedy|Drama|Thriller|Drama|Documentary|War|Adventure|Fantasy|Action|Western|Thriller|Documentary|Comedy|Thriller|Drama|Mystery|Thriller|Drama|Animation|Comedy|Family|Mystery|Animation|Family|Action|Adventure|Comedy|Action|Comedy|Drama|Horror|Thriller|Drama|Action|Thriller|Comedy|Crime|Drama|Drama|Horror|Thriller|Drama|History|War|Action|Adventure|Drama|Horror|Science Fiction|Drama|Thriller|Crime|Action|Thriller|Romance|Foreign|Horror|Thriller|Drama|Comedy|Comedy|Action|Comedy|Animation|Comedy|Documentary|Comedy|Drama|Drama|History|Music|Documentary|Adventure|Drama|History|Romance|Comedy|Drama|Romance|Music|Comedy|Drama|Family|Drama|Romance|Comedy|Comedy|Drama|Documentary|Foreign|Documentary|Comedy|Comedy|Drama|Drama|Horror|Thriller|Action|Horror|Science Fiction|Drama|Foreign|Drama|Science Fiction|Thriller|Comedy|Drama|Romance|Crime|Drama|Horror|Thriller|Documentary|Comedy|Comedy|Science Fiction|Science Fiction|Thriller|Drama|Horror|Thriller|Drama|Action|Thriller|Crime|Science Fiction|Animation|Comedy|Family|Action|Adventure|Thriller|Drama|Drama|Drama|Romance|Thriller|Horror|Horror|Drama|Documentary|Comedy|Drama|Drama|Horror|Thriller|Drama|Action|Thriller|Foreign|Crime|Horror|Horror|Horror|Thriller|Horror|Thriller|Foreign|Drama|Romance|Drama|Comedy|Horror|Comedy|Science Fiction|Thriller|Animation|Drama|Drama|Music|Romance|Thriller|Drama|Western|Animation|Family|Fantasy|Comedy|Romance|Comedy|Romance|Action|Drama|Thriller|Drama|Comedy|Drama|History|Horror|Action|Thriller|Science Fiction|Action|Adventure|Horror|Science Fiction|Animation|Family|Thriller|Drama|Action|Crime|Action|Action|Adventure|Animation|Fantasy|Horror|Documentary|Horror|Thriller|Thriller|War|Drama|Comedy|Romance|Documentary|Music|Comedy|Thriller|Crime|Drama|Thriller|Drama|Comedy|Romance|Family|Fantasy|Horror|TV Movie|Comedy|Documentary|Drama|Horror|Science Fiction|Drama|Comedy|History|Family|Action|Adventure|Horror|Science Fiction|Horror|Science Fiction|Thriller|Comedy|Comedy|Romance|Comedy|Fantasy|Science Fiction|Horror|Documentary|History|Mystery|Thriller|Documentary|Comedy|Drama|Romance|Action|Drama|Family|Thriller|Horror|Action|Thriller|Science Fiction|Drama|Romance|Foreign|Comedy|Horror|Action|Animation|Music|Romance|Drama|Drama|Horror|Thriller|Romance|Comedy|Drama|Drama|Comedy|Romance|Action|Horror|Science Fiction|Thriller|Horror|Crime|Drama|Thriller|Drama|Comedy|Romance|Foreign|Documentary|Documentary|Crime|Documentary|Adventure|Drama|Family|Horror|Science Fiction|Comedy|Comedy|Romance|Horror|Drama|Comedy|Romance|Foreign|Action|Foreign|TV Movie|Fantasy|Comedy|Romance|Family|Drama|Thriller|Crime|Comedy|Animation|Comedy|Comedy|Family|Drama|Music|Documentary|Drama|Drama|Comedy|Romance|Family|Documentary|Animation|Adventure|Drama|Comedy|Romance|Foreign|Documentary|Documentary|Comedy|Action|Animation|Drama|Fantasy|Thriller|Documentary|Documentary|Drama|Comedy|Documentary|Horror|Comedy|Music|Drama|Animation|Fantasy|Horror|Thriller|Documentary|Comedy|Documentary|Action|Thriller|Drama|Action|Science Fiction|Drama|Adventure|Action|Science Fiction|Adventure|Fantasy|Horror|Action|Thriller|Fantasy|Drama|Crime|Mystery|Thriller|Drama|Adventure|Action|Thriller|Drama|Romance|Thriller|Drama|Fantasy|Thriller|Mystery|Adventure|Animation|Drama|Family|Comedy|Romance|Romance|Drama|Mystery|Animation|Comedy|Family|Comedy|Romance|Drama|Comedy|Crime|Adventure|Action|Comedy|Science Fiction|Crime|Drama|Drama|Thriller|Comedy|Family|Science Fiction|Drama|Fantasy|Drama|Comedy|Comedy|Crime|Fantasy|Drama|Mystery|Thriller|Crime|Action|Adventure|Comedy|Drama|Science Fiction|Adventure|Fantasy|Action|Action|Fantasy|Horror|Mystery|Drama|Adventure|Animation|Family|Fantasy|Science Fiction|Horror|Action|Thriller|Science Fiction|Animation|Comedy|Music|Drama|Action|Thriller|Crime|Comedy|Romance|Comedy|Romance|Drama|Mystery|Thriller|Crime|Action|Thriller|Crime|Comedy|Crime|Drama|Romance|Comedy|Science Fiction|Horror|Mystery|Horror|Mystery|Thriller|Drama|Thriller|Science Fiction|Mystery|Comedy|Drama|Drama|Thriller|Thriller|Crime|Mystery|Fantasy|Comedy|Adventure|Drama|Animation|Family|Comedy|Horror|Thriller|Fantasy|Mystery|Comedy|Comedy|Romance|Comedy|Drama|Crime|Drama|Mystery|Thriller|Horror|Thriller|Horror|Mystery|Thriller|Comedy|Action|Adventure|Comedy|Family|Drama|Comedy|Horror|Action|Science Fiction|Thriller|Crime|Drama|Horror|Comedy|Action|Science Fiction|Thriller|Comedy|Adventure|Fantasy|Action|Comedy|Science Fiction|Action|Crime|Drama|Music|Animation|Family|Fantasy|Crime|Comedy|Thriller|Romance|Comedy|Drama|Drama|Mystery|Thriller|Drama|Family|Action|Adventure|Comedy|Comedy|Drama|Romance|Drama|Thriller|Music|Family|Comedy|Horror|Mystery|Thriller|Crime|Action|Horror|Thriller|Drama|Thriller|Crime|Drama|Fantasy|Drama|Comedy|Crime|Romance|Drama|Romance|Action|Thriller|Science Fiction|Horror|Drama|Thriller|Action|Comedy|Crime|Horror|Thriller|Science Fiction|Drama|Thriller|Mystery|Drama|Drama|Comedy|Romance|Action|Crime|Mystery|Thriller|Drama|History|Romance|Drama|History|Thriller|Comedy|Action|Crime|Adventure|Action|Science Fiction|Comedy|Crime|Romance|Fantasy|Horror|Comedy|Romance|Science Fiction|Drama|History|Comedy|Drama|Western|Horror|Thriller|Action|Comedy|Thriller|Drama|History|Comedy|Crime|Drama|Drama|Comedy|Romance|Drama|Science Fiction|Thriller|Comedy|Drama|Family|Science Fiction|Fantasy|Drama|Comedy|Romance|Drama|Action|Thriller|Crime|Mystery|Drama|Comedy|Drama|Romance|Drama|Comedy|Romance|Family|Science Fiction|Action|Adventure|Fantasy|Animation|Science Fiction|Mystery|Fantasy|Comedy|Science Fiction|Family|Drama|Drama|Comedy|Romance|Action|Comedy|Thriller|Comedy|Drama|History|Comedy|TV Movie|Action|Drama|Western|Thriller|Comedy|Horror|Drama|Drama|Mystery|Action|Drama|Romance|Comedy|Drama|Drama|Action|Thriller|Crime|Comedy|Comedy|Thriller|Drama|Comedy|Thriller|Drama|Crime|Romance|Comedy|Drama|Romance|Drama|Foreign|Action|Science Fiction|Drama|Comedy|Drama|Romance|Comedy|Family|Crime|Drama|Drama|TV Movie|Comedy|Comedy|Drama|Drama|Romance|Drama|Comedy|Comedy|Drama|Animation|Comedy|Family|Comedy|Crime|Thriller|Documentary|Music|Drama|Romance|Comedy|Drama|Action|Mystery|Thriller|Fantasy|Family|Comedy|Drama|Romance|Drama|Romance|Comedy|Drama|Romance|Horror|Thriller|Comedy|Comedy|Drama|Thriller|Documentary|Drama|Mystery|Thriller|Adventure|Drama|Action|History|War|Comedy|Drama|Romance|Drama|Family|Drama|Family|Science Fiction|Fantasy|Drama|Science Fiction|Thriller|Action|Science Fiction|Thriller|Adventure|Horror|Comedy|Drama|Family|Drama|Comedy|Fantasy|Comedy|Crime|Adventure|Fantasy|Action|Science Fiction|Family|Comedy|Foreign|Comedy|Drama|Romance|Drama|War|Romance|Western|Drama|Romance|Comedy|Horror|Thriller|Comedy|Drama|Music|Comedy|Comedy|Drama|Animation|Drama|Family|Action|Drama|Science Fiction|Adventure|Drama|Romance|Crime|Drama|Horror|Comedy|Horror|Romance|Comedy|Drama|Comedy|Drama|Family|Drama|Romance|Horror|Mystery|Comedy|Drama|Thriller|Drama|Romance|Family|Drama|Comedy|History|Fantasy|Horror|Science Fiction|Comedy|Family|Romance|Animation|Family|Comedy|Drama|Foreign|Comedy|Comedy|Romance|Comedy|Family|Science Fiction|Adventure|Horror|Thriller|Drama|Action|Comedy|Drama|Animation|Action|Family|TV Movie|Adventure|Comedy|Family|Comedy|Comedy|Romance|Documentary|Animation|TV Movie|Family|Drama|Comedy|Family|Drama|Foreign|Comedy|Comedy|Drama|War|Comedy|Fantasy|TV Movie|Comedy|Documentary|Comedy|Drama|Foreign|Documentary|Animation|Comedy|Thriller|Horror|TV Movie|Drama|Mystery|Romance|Foreign|Adventure|Fantasy|Action|Adventure|Fantasy|Family|Thriller|Drama|Mystery|Fantasy|Drama|Mystery|Fantasy|Animation|Family|Comedy|Drama|Science Fiction|Adventure|Adventure|Animation|Comedy|Family|Fantasy|Comedy|Romance|Drama|Thriller|Crime|History|Romance|War|Action|Adventure|Drama|Fantasy|Horror|Animation|Family|Adventure|Science Fiction|Adventure|Fantasy|Action|Thriller|Drama|Romance|Comedy|Romance|Comedy|Family|Romance|Romance|Drama|Music|Thriller|Science Fiction|Action|Adventure|Comedy|Drama|Crime|Drama|War|Action|History|War|Comedy|Adventure|Drama|Romance|Action|Comedy|Comedy|Comedy|Action|Comedy|Crime|Thriller|Action|Crime|Drama|Thriller|Horror|Drama|Mystery|Thriller|Adventure|Fantasy|Animation|Action|Comedy|Comedy|Comedy|Romance|Comedy|Family|Drama|Mystery|Romance|Science Fiction|Thriller|Animation|Family|Action|Crime|Thriller|Action|Crime|Thriller|Action|Crime|Thriller|Comedy|Romance|Animation|Family|Animation|Action|Crime|Drama|Adventure|Action|Animation|Fantasy|Science Fiction|Animation|Drama|Drama|Thriller|Mystery|Romance|Comedy|Family|Romance|Fantasy|Action|Drama|Thriller|War|Horror|Thriller|Comedy|Fantasy|Romance|Science Fiction|Comedy|Romance|Horror|Mystery|Thriller|Action|Drama|Thriller|Crime|Mystery|Thriller|Action|Comedy|Crime|Mystery|Comedy|Adventure|Comedy|Drama|Mystery|Thriller|Horror|Science Fiction|Action|Comedy|Crime|Romance|Mystery|Thriller|Drama|Drama|Crime|Drama|Horror|Thriller|Action|Adventure|Science Fiction|Thriller|Action|Comedy|Horror|Science Fiction|Thriller|Action|Comedy|Crime|Music|Drama|Comedy|Animation|Family|Drama|Science Fiction|Comedy|Romance|Comedy|Drama|Thriller|Horror|Thriller|Adventure|Comedy|Drama|Thriller|Crime|Animation|Family|Comedy|Drama|Romance|Thriller|Drama|Drama|Romance|Drama|Mystery|Comedy|Drama|Drama|Thriller|Action|Crime|Thriller|Drama|Romance|Thriller|Comedy|Romance|Action|Comedy|Science Fiction|Comedy|Romance|Crime|Comedy|Romance|Drama|Action|Drama|War|Horror|Mystery|Action|Crime|Thriller|Drama|Romance|Mystery|Adventure|Comedy|Romance|Drama|Adventure|Animation|Family|Action|Crime|Thriller|Drama|Thriller|Drama|Romance|Comedy|Fantasy|Comedy|Science Fiction|Romance|Comedy|Romance|Comedy|Drama|Drama|Romance|Action|Adventure|Comedy|Thriller|Crime|Drama|Fantasy|Drama|Horror|Action|Comedy|Drama|Romance|Action|Horror|Science Fiction|Comedy|Romance|Crime|Comedy|Crime|Mystery|Romance|Thriller|Comedy|Drama|Romance|Horror|Science Fiction|Thriller|Adventure|Animation|Action|Comedy|Family|Crime|Drama|Action|Science Fiction|Thriller|Drama|Comedy|War|Crime|Thriller|Comedy|Romance|Mystery|Drama|Thriller|Romance|War|Action|Crime|Thriller|Drama|Comedy|Drama|Family|Romance|Music|Drama|History|Crime|Drama|Thriller|Drama|Thriller|Action|Comedy|Family|Adventure|Crime|Drama|Mystery|Thriller|Comedy|Music|Comedy|Drama|Action|Comedy|Crime|Romance|Action|Comedy|Crime|Thriller|Documentary|Comedy|Fantasy|Science Fiction|Drama|Romance|Drama|Drama|Foreign|Action|Comedy|Romance|Drama|Comedy|Horror|Action|Family|Adventure|Romance|TV Movie|Action|Western|Crime|Drama|Thriller|Horror|Mystery|Thriller|Crime|Thriller|Comedy|Crime|Thriller|Animation|Comedy|Family|Drama|Action|Science Fiction|Thriller|Action|Comedy|Foreign|Comedy|Drama|Family|Crime|Drama|Mystery|Thriller|Comedy|Horror|Action|Adventure|Drama|Western|Adventure|Fantasy|Comedy|Science Fiction|Romance|Drama|History|Romance|War|Comedy|Family|Drama|Comedy|Romance|Comedy|Horror|Thriller|Action|Adventure|Crime|Thriller|Action|Crime|Drama|Thriller|Action|Crime|Drama|Adventure|Drama|Fantasy|Drama|Comedy|Family|Fantasy|Science Fiction|Adventure|Fantasy|Animation|Action|Comedy|Action|Comedy|Family|Comedy|Drama|Comedy|Drama|Romance|Drama|History|War|Action|Adventure|Drama|History|Action|Comedy|Action|Thriller|Adventure|Action|Comedy|Crime|Comedy|Action|Comedy|Drama|History|TV Movie|Fantasy|Family|Adventure|Drama|Romance|TV Movie|Drama|History|War|Adventure|Comedy|Fantasy|Comedy|Drama|TV Movie|Animation|Family|Adventure|Action|Thriller|Science Fiction|Drama|War|Comedy|Music|Drama|History|Romance|Drama|Mystery|Romance|Thriller|Adventure|Drama|Action|Comedy|Thriller|Comedy|Romance|Drama|Comedy|Science Fiction|Animation|Comedy|Music|Adventure|Comedy|Family|Science Fiction|TV Movie|Comedy|Documentary|TV Movie|Family|Comedy|Drama|Comedy|Action|Adventure|Drama|Drama|Mystery|Thriller|Action|Adventure|Horror|Thriller|History|Drama|War|Drama|Comedy|Romance|Adventure|Comedy|Drama|Romance|Documentary|Drama|History|TV Movie|Comedy|Crime|Thriller|Crime|Comedy|Comedy|Family|Animation|Family|Action|Horror|Thriller|Documentary|Comedy|Drama|Science Fiction|Comedy|Drama|Action|Comedy|Action|Horror|Mystery|Thriller|Action|Comedy|Thriller|Drama|Horror|Mystery|Thriller|Fantasy|Horror|Thriller|TV Movie|Thriller|Drama|History|Romance|Adventure|Family|Fantasy|TV Movie|Horror|Thriller|Action|Adventure|Comedy|Family|Fantasy|Science Fiction|Drama|Romance|Drama|Comedy|Crime|Adventure|Fantasy|Science Fiction|Drama|Romance|Drama|Foreign|TV Movie|Comedy|Family|Adventure|Comedy|Adventure|Drama|Action|Comedy|Romance|Documentary|Foreign|Drama|Family|Comedy|Horror|Fantasy|Drama|Action|Crime|Thriller|Animation|Family|Action|Science Fiction|Adventure|Action|Thriller|Crime|Adventure|Action|Adventure|Fantasy|Drama|Romance|Adventure|Action|Thriller|Crime|Animation|Family|Comedy|Adventure|Romance|Comedy|Romance|Fantasy|Drama|Thriller|Mystery|Romance|Adventure|Fantasy|Action|Thriller|Science Fiction|Action|Adventure|Drama|Family|Animation|Adventure|Fantasy|Science Fiction|Adventure|Fantasy|Science Fiction|Action|Science Fiction|Adventure|Comedy|Family|Action|Thriller|Crime|Animation|Family|Adventure|Fantasy|Drama|Romance|Action|Adventure|Thriller|Crime|Drama|Thriller|History|War|Adventure|Action|Drama|Fantasy|Fantasy|Action|Drama|Thriller|War|Comedy|Romance|Adventure|Family|Fantasy|Action|Comedy|Mystery|Thriller|Action|War|Drama|Action|Thriller|Action|Thriller|Science Fiction|Music|Drama|Romance|Drama|Science Fiction|Thriller|Adventure|Science Fiction|Action|Drama|Action|Thriller|Science Fiction|Animation|Family|Adventure|Comedy|Comedy|Romance|Drama|Drama|Comedy|Romance|Comedy|Family|Action|Drama|Thriller|Comedy|Drama|Comedy|Romance|Adventure|Family|Fantasy|Drama|Crime|Thriller|Crime|Drama|Comedy|Comedy|Romance|Comedy|Drama|Action|Action|Comedy|Drama|Romance|Fantasy|Comedy|Family|Romance|Action|Crime|Action|Horror|Thriller|Mystery|Drama|Action|Thriller|Crime|Comedy|Action|Comedy|Thriller|Comedy|Fantasy|Action|Adventure|Drama|Comedy|Drama|Family|Music|Romance|Drama|Romance|Action|Adventure|Science Fiction|Thriller|Drama|Romance|Comedy|Drama|Crime|Crime|Drama|Mystery|Adventure|Family|Fantasy|Comedy|Adventure|Comedy|Romance|Comedy|Drama|Family|Crime|Action|Drama|Family|Animation|Comedy|Family|Action|Crime|Drama|Thriller|Comedy|Drama|Music|Romance|Comedy|Romance|Drama|Music|Adventure|Science Fiction|Romance|Comedy|Animation|Family|Thriller|Animation|Action|Science Fiction|Adventure|Horror|Thriller|Crime|Comedy|Romance|Family|Action|Science Fiction|Drama|Romance|Animation|Comedy|Family|Adventure|Fantasy|Drama|History|Romance|Drama|Comedy|Action|Adventure|Fantasy|Drama|History|War|Animation|Family|Action|Adventure|Crime|Drama|Thriller|Thriller|Crime|Mystery|Drama|Action|Thriller|Crime|Comedy|Action|Action|Drama|History|War|Comedy|Drama|Romance|Drama|Family|Fantasy|Drama|Comedy|Thriller|Horror|Mystery|Adventure|Science Fiction|History|Drama|Fantasy|Action|Science Fiction|Drama|Mystery|Science Fiction|Thriller|Drama|Mystery|Drama|Animation|Comedy|Family|Adventure|Family|Fantasy|Comedy|Romance|Drama|Drama|Mystery|Thriller|Drama|Thriller|Crime|Mystery|Action|Crime|Thriller|Drama|Horror|Thriller|Drama|Romance|Action|Crime|Thriller|Comedy|Drama|War|Comedy|Drama|Comedy|Drama|Romance|Drama|Mystery|Science Fiction|Thriller|Action|Comedy|Thriller|Crime|Science Fiction|Drama|Drama|Thriller|Horror|Thriller|Drama|Western|Crime|Action|Adventure|Crime|Drama|Thriller|Thriller|Science Fiction|Action|Thriller|Science Fiction|Adventure|Fantasy|Drama|Science Fiction|Romance|Crime|Thriller|Drama|Action|Crime|Drama|Animation|War|Drama|History|War|Comedy|Family|Fantasy|Comedy|Drama|Romance|Comedy|Music|Animation|Fantasy|Family|Animation|Comedy|Family|Comedy|Horror|Animation|Family|Adventure|Drama|Fantasy|Action|Comedy|Science Fiction|Adventure|Drama|Horror|Thriller|Drama|Thriller|Mystery|Romance|Adventure|Comedy|Family|Drama|Romance|Drama|Romance|Drama|Comedy|Comedy|Drama|Animation|Comedy|Science Fiction|Fantasy|Romance|Science Fiction|Thriller|Drama|Horror|Comedy|Drama|Family|Music|TV Movie|Comedy|Fantasy|Romance|Drama|History|Action|Thriller|Animation|Horror|Science Fiction|Thriller|Action|Thriller|Animation|Comedy|Science Fiction|Adventure|Action|Thriller|Drama|Comedy|Romance|Thriller|Crime|Drama|Horror|Thriller|Comedy|Science Fiction|Comedy|Comedy|TV Movie|Comedy|Fantasy|Comedy|Crime|Drama|Drama|Drama|Romance|Horror|Mystery|Thriller|Comedy|Family|Adventure|Comedy|Drama|Romance|Comedy|Science Fiction|Adventure|Family|Science Fiction|Drama|Thriller|Horror|Science Fiction|Thriller|Comedy|Drama|Romance|Action|Adventure|Animation|Science Fiction|Crime|Horror|Thriller|Horror|Mystery|Thriller|Romance|Horror|Thriller|Comedy|Drama|Family|Romance|Drama|Action|Thriller|Comedy|Drama|Romance|Action|Comedy|Crime|Animation|Family|Documentary|Adventure|Animation|Comedy|Family|Horror|Comedy|Crime|Thriller|Animation|Action|Adventure|Drama|Romance|Drama|Mystery|Thriller|Romance|Adventure|Comedy|Drama|Family|Drama|Comedy|Thriller|Comedy|Drama|Romance|Action|Adventure|Comedy|Drama|Comedy|Romance|Family|Crime|Drama|Thriller|Action|Drama|History|War|Horror|Science Fiction|Thriller|Drama|Romance|Comedy|Fantasy|Romance|Animation|Family|Comedy|Drama|Crime|Thriller|Documentary|Drama|Thriller|Crime|Comedy|Music|Horror|Thriller|Drama|Mystery|Comedy|Drama|Animation|Comedy|Horror|Action|Thriller|Horror|Drama|Fantasy|Horror|Science Fiction|Thriller|Crime|Drama|Horror|Thriller|Animation|Family|Drama|Fantasy|Science Fiction|Crime|Mystery|Thriller|Animation|Family|Comedy|Romance|Drama|Thriller|Action|Family|Science Fiction|Action|Adventure|Drama|Foreign|History|Crime|Horror|Action|Science Fiction|Thriller|Drama|Action|Thriller|Crime|Comedy|Drama|Drama|Horror|Thriller|Action|Adventure|Comedy|Thriller|Drama|Comedy|Drama|Action|Thriller|Action|Crime|Drama|Fantasy|Action|Adventure|Comedy|Drama|Thriller|Drama|Fantasy|Science Fiction|Drama|Action|Thriller|Crime|Drama|Drama|History|Action|Comedy|Drama|Thriller|Mystery|Drama|History|Music|Adventure|Drama|Fantasy|Comedy|Drama|Romance|Adventure|Action|Fantasy|Horror|Science Fiction|Comedy|Crime|Mystery|Thriller|Action|Comedy|Thriller|Documentary|Crime|History|Comedy|Thriller|Drama|Action|Crime|War|Comedy|Romance|Documentary|Action|Crime|Thriller|Drama|War|History|Horror|Thriller|Comedy|Drama|Horror|Mystery|Thriller|Horror|Mystery|Thriller|Mystery|Drama|Crime|Thriller|Horror|Horror|Comedy|Music|Science Fiction|Action|Adventure|Horror|Science Fiction|Action|Horror|Science Fiction|Thriller|Action|History|Drama|History|Drama|Action|Horror|Thriller|Drama|Romance|Comedy|War|Adventure|Drama|Horror|Thriller|Comedy|Documentary|Drama|Comedy|Drama|Horror|Mystery|Thriller|Documentary|Horror|Thriller|Comedy|Horror|Comedy|Drama|History|Drama|Comedy|Crime|Drama|Drama|Horror|Mystery|Science Fiction|Comedy|Thriller|Mystery|Horror|Thriller|Documentary|Comedy|Drama|Drama|Crime|Action|Thriller|War|History|Comedy|Romance|Drama|History|Action|Comedy|Romance|Drama|History|Romance|Drama|Thriller|Mystery|Horror|Drama|Comedy|Romance|Comedy|Comedy|Drama|Romance|Adventure|Horror|Action|Science Fiction|Drama|Comedy|Drama|Comedy|Drama|Action|Adventure|Foreign|Adventure|Fantasy|Animation|Action|Science Fiction|Drama|War|Drama|Foreign|History|Drama|Comedy|Foreign|Adventure|Comedy|Family|Fantasy|Horror|Thriller|Comedy|Drama|Drama|Romance|Comedy|Animation|Comedy|Family|Fantasy|Comedy|Drama|Thriller|Comedy|Drama|Family|Fantasy|Foreign|Drama|Foreign|Comedy|Drama|Horror|Drama|Comedy|Romance|Comedy|Romance|Drama|Romance|Comedy|Drama|Drama|Romance|Drama|Horror|Thriller|Horror|Thriller|Comedy|Drama|Horror|Action|Fantasy|Horror|Drama|Horror|Thriller|Horror|Thriller|Drama|History|War|Drama|Action|Science Fiction|Thriller|Action|Adventure|Drama|Horror|Thriller|Drama|Thriller|Drama|Horror|Action|Adventure|Crime|Horror|Thriller|Drama|Comedy|Crime|Comedy|Drama|Foreign|Romance|Music|Comedy|Drama|Comedy|Drama|Comedy|Fantasy|Horror|Comedy|Drama|Romance|Drama|Romance|Drama|Family|Comedy|Drama|Family|TV Movie|Comedy|Science Fiction|Family|Adventure|Thriller|Action|Drama|Foreign|Mystery|Thriller|Action|Crime|Mystery|Drama|Documentary|Adventure|Action|Comedy|Science Fiction|Music|Drama|Romance|Animation|Drama|Horror|Thriller|Drama|Comedy|Romance|Adventure|Animation|Comedy|Science Fiction|Family|Comedy|Romance|Documentary|Action|Fantasy|Action|Drama|War|Comedy|Drama|Foreign|Crime|Drama|Thriller|Drama|Mystery|Drama|Action|Crime|Foreign|Drama|Thriller|Drama|Action|Adventure|Crime|Drama|Thriller|Horror|Thriller|Comedy|Drama|Comedy|Action|Thriller|Drama|Family|Romance|Comedy|Music|Action|Comedy|Horror|Drama|Horror|Comedy|Thriller|Foreign|Drama|Drama|Action|Thriller|Crime|Horror|Drama|Thriller|Crime|Action|Adventure|Foreign|Crime|Drama|Documentary|Music|Fantasy|Horror|Drama|Documentary|Foreign|Horror|Thriller|Documentary|Drama|Comedy|Romance|Foreign|Drama|Comedy|Drama|Drama|Drama|Comedy|Drama|Romance|Comedy|Romance|Comedy|Action|Comedy|Drama|Romance|Drama|Action|Thriller|Crime|Documentary|Music|Thriller|Adventure|Drama|Family|Science Fiction|Drama|Science Fiction|Thriller|Romance|Comedy|Horror|Documentary|Action|Fantasy|Horror|Drama|Romance|Action|Adventure|Comedy|Crime|Horror|Drama|Crime|Drama|Horror|Thriller|Animation|Drama|Music|Romance|Action|Crime|Documentary|Documentary|Documentary|Action|Comedy|Horror|Drama|Foreign|Comedy|Drama|Family|Crime|Documentary|Horror|Drama|Fantasy|Adventure|Foreign|Horror|Thriller|Comedy|Horror|Comedy|Drama|Horror|Science Fiction|Comedy|Romance|Drama|Comedy|Horror|Thriller|Drama|Thriller|Romance|Comedy|Comedy|Comedy|Drama|Horror|Action|Horror|Western|Comedy|Drama|Romance|Music|Romance|Family|Comedy|Documentary|Drama|Romance|Documentary|Music|Drama|Romance|Fantasy|Family|Drama|Horror|Thriller|Drama|TV Movie|Comedy|Family|Drama|Comedy|Romance|Documentary|History|War|Documentary|Drama|Comedy|Drama|Comedy|Romance|Drama|Horror|Thriller|Comedy|Drama|Horror|Thriller|Drama|Romance|War|History|Documentary|Comedy|Horror|Comedy|Crime|Adventure|Drama|Crime|Drama|Comedy|Drama|Documentary|Animation|Comedy|History|Drama|Comedy|Drama|Comedy|Drama|Family|Music|TV Movie|Drama|Drama|Foreign|Family|Animation|Science Fiction|Comedy|Music|Documentary|Family|Documentary|Music|Comedy|Drama|Foreign|Family|Comedy|Action|Animation|Horror|Action|Adventure|Science Fiction|Drama|Action|Thriller|Crime|Adventure|Family|Fantasy|Adventure|Action|Fantasy|Thriller|Action|Drama|Science Fiction|Adventure|Fantasy|Action|Action|Thriller|Science Fiction|Fantasy|Thriller|Action|Crime|Action|Thriller|Crime|Thriller|Science Fiction|Mystery|Action|Thriller|Adventure|Comedy|Drama|Romance|Thriller|Crime|Mystery|Drama|Thriller|Mystery|Science Fiction|Animation|Family|Romance|Comedy|Comedy|Crime|Action|Science Fiction|Drama|Comedy|Comedy|Adventure|Action|Crime|Mystery|Animation|Family|Adventure|Comedy|Adventure|Action|Thriller|Science Fiction|Comedy|Comedy|Romance|Adventure|Animation|Action|Family|Mystery|Romance|Comedy|Comedy|Thriller|Science Fiction|Mystery|Action|Fantasy|Thriller|Thriller|Adventure|Fantasy|Romance|Drama|Animation|Family|TV Movie|Comedy|Family|Drama|Fantasy|Action|Thriller|Science Fiction|Adventure|Animation|Adventure|Comedy|Family|Drama|Comedy|Romance|Comedy|Romance|Family|Action|Science Fiction|Thriller|Western|Animation|Family|Drama|War|Comedy|Drama|Animation|Comedy|Family|Western|Adventure|Comedy|Adventure|Drama|Family|Crime|Drama|Thriller|Action|Fantasy|Thriller|Drama|Romance|Action|Adventure|Thriller|Drama|Thriller|Horror|Animation|Family|Adventure|Action|Thriller|Comedy|Mystery|Thriller|Drama|Comedy|Romance|Horror|Thriller|Fantasy|Comedy|Romance|Action|Fantasy|Horror|Science Fiction|Thriller|Drama|Animation|Family|Comedy|Comedy|Drama|Romance|Action|Drama|Thriller|Action|Mystery|Action|Mystery|Thriller|Thriller|Romance|Fantasy|Fantasy|Action|Drama|Drama|Romance|Comedy|Romance|Drama|Adventure|Comedy|Science Fiction|Drama|Action|Thriller|Comedy|Action|Thriller|Crime|Drama|Action|Science Fiction|Horror|Mystery|Action|Thriller|Crime|Comedy|Comedy|Romance|Adventure|Fantasy|Action|Drama|Horror|Drama|Comedy|Family|Comedy|Drama|Horror|Action|Thriller|Science Fiction|Drama|Action|Drama|Thriller|Drama|Drama|Thriller|Thriller|Drama|Horror|Action|Adventure|Animation|Family|Fantasy|Drama|Thriller|Mystery|Action|Crime|Comedy|Comedy|Drama|Romance|Adventure|Fantasy|Action|Comedy|Family|Romance|Crime|Adventure|Action|Comedy|Thriller|Drama|Thriller|Science Fiction|Animation|Comedy|Adventure|Comedy|Drama|Fantasy|Romance|Comedy|Horror|Science Fiction|Mystery|Thriller|Action|Comedy|Comedy|Romance|Adventure|Fantasy|Action|Comedy|Animation|Action|Adventure|Drama|Documentary|Animation|Family|Drama|Music|Comedy|Horror|Thriller|Science Fiction|Horror|Comedy|Music|Family|Animation|Comedy|Horror|Mystery|Adventure|Animation|Family|Action|Comedy|Science Fiction|Family|Comedy|Animation|Family|Drama|Science Fiction|Thriller|Comedy|Fantasy|Family|Music|Animation|Drama|Thriller|Drama|Comedy|Animation|Family|Adventure|Comedy|Fantasy|Drama|Science Fiction|Romance|Action|Thriller|Adventure|Thriller|Crime|Drama|Mystery|Comedy|Drama|Romance|Drama|Comedy|Romance|Mystery|Comedy|Crime|Thriller|Drama|Animation|Family|Crime|Action|Thriller|Comedy|Comedy|Drama|Animation|Drama|Comedy|Horror|Comedy|Science Fiction|Action|Comedy|Thriller|Crime|War|Action|Thriller|Drama|Comedy|Drama|Drama|Thriller|Drama|Music|Romance|Comedy|Drama|Romance|Crime|Drama|Thriller|Comedy|Drama|Drama|Science Fiction|Drama|Family|Action|Science Fiction|Adventure|Horror|Horror|Thriller|Drama|Comedy|Drama|Comedy|Drama|Romance|Comedy|Romance|Drama|Romance|Thriller|Horror|Thriller|Mystery|Adventure|Action|Thriller|Crime|Comedy|Family|Music|Family|Comedy|Action|Crime|Drama|Thriller|Drama|Thriller|Crime|Comedy|Drama|Romance|Action|Drama|Thriller|Animation|Family|Fantasy|Comedy|Romance|Comedy|Family|Animation|Fantasy|Family|Comedy|Adventure|Comedy|Documentary|Action|Adventure|Drama|Comedy|Crime|Drama|Thriller|Crime|Drama|Action|Comedy|Drama|Romance|Animation|Comedy|Family|Fantasy|Comedy|Horror|Thriller|Comedy|Drama|Family|TV Movie|Action|Thriller|Horror|Thriller|Drama|Romance|Action|Comedy|Drama|Family|Drama|Thriller|Drama|Crime|History|Action|Thriller|Drama|Comedy|Drama|Thriller|Action|Drama|Action|Comedy|Adventure|Drama|Horror|Thriller|Comedy|Animation|Family|Drama|Action|Thriller|Comedy|Drama|Family|Action|Adventure|Animation|Science Fiction|Crime|Drama|Romance|Comedy|Drama|War|Drama|Action|Adventure|Science Fiction|Action|Drama|Romance|Drama|Thriller|Mystery|Drama|Comedy|Horror|Comedy|Romance|Comedy|Drama|Family|Crime|Drama|Action|Thriller|Drama|Thriller|Thriller|Drama|Comedy|Drama|Romance|Crime|Drama|Horror|Thriller|Documentary|Adventure|Fantasy|Family|Animation|Family|Crime|Thriller|Mystery|Animation|Action|Comedy|Family|Thriller|Drama|Drama|Family|Fantasy|Science Fiction|Drama|Mystery|Adventure|Drama|Action|Comedy|Family|Drama|Thriller|Animation|Adventure|Comedy|Family|Fantasy|Science Fiction|Thriller|Crime|Comedy|Action|Thriller|Horror|Horror|Action|Adventure|Animation|Science Fiction|Comedy|Drama|Romance|Horror|Comedy|Drama|Family|Music|Comedy|Drama|Documentary|Action|Drama|Drama|Action|Thriller|War|Horror|Adventure|Fantasy|Drama|Action|Action|Thriller|Crime|Drama|Science Fiction|Action|Comedy|Thriller|Romance|Action|Crime|Comedy|Romance|Drama|Romance|War|Animation|Comedy|Family|TV Movie|Comedy|Drama|Horror|Thriller|Mystery|Comedy|Comedy|Drama|Romance|Family|Horror|Mystery|Action|Crime|Thriller|Drama|Drama|Drama|Thriller|Drama|Romance|Action|Thriller|Documentary|Family|Adventure|Drama|Comedy|Thriller|Action|Adventure|Comedy|Romance|Drama|Comedy|Horror|Thriller|Drama|Action|Thriller|Crime|Drama|Comedy|Family|Thriller|Mystery|Drama|Adventure|Action|Western|Comedy|Family|Adventure|Comedy|Drama|Family|Animation|Fantasy|Drama|Action|Thriller|Crime|Mystery|Drama|Romance|Adventure|Fantasy|Science Fiction|Action|Horror|Thriller|Mystery|Comedy|Romance|Comedy|Comedy|Drama|History|Drama|Animation|Family|Action|Drama|Horror|Science Fiction|Horror|Action|Thriller|Science Fiction|Fantasy|Drama|Action|Thriller|Crime|War|Horror|Thriller|Drama|Comedy|Drama|Documentary|Music|Action|Thriller|Fantasy|Drama|Thriller|Science Fiction|Romance|Adventure|Action|History|Drama|Horror|Horror|Thriller|Foreign|Drama|Comedy|Romance|Drama|Action|Documentary|Horror|Thriller|Drama|Fantasy|Comedy|Drama|History|Comedy|Romance|Action|Adventure|Thriller|Action|Comedy|Thriller|Comedy|Drama|Drama|Comedy|Romance|Action|Crime|Thriller|Drama|Family|Fantasy|Adventure|Documentary|Drama|Thriller|Science Fiction|Mystery|Horror|Drama|Drama|Action|Thriller|Mystery|Crime|Drama|Action|Horror|Science Fiction|Crime|Thriller|Drama|Crime|Drama|Thriller|Adventure|Animation|Comedy|Family|Fantasy|Drama|Comedy|Romance|Foreign|Drama|Comedy|Family|Science Fiction|Horror|Thriller|Mystery|Drama|Horror|Thriller|Comedy|Drama|Music|Romance|Fantasy|Animation|Action|Comedy|Adventure|Fantasy|Action|Drama|Action|Thriller|Science Fiction|Horror|Drama|Horror|Thriller|Action|Thriller|Science Fiction|Drama|Documentary|Action|Mystery|Thriller|Drama|Thriller|Crime|Mystery|Drama|War|Comedy|Drama|Comedy|Drama|Action|Comedy|Thriller|Comedy|Action|Adventure|Animation|Science Fiction|Family|Documentary|Comedy|Horror|Animation|Drama|Drama|Romance|History|Drama|Drama|Thriller|Family|TV Movie|Romance|Mystery|Horror|Thriller|Music|Drama|Science Fiction|Drama|Drama|Thriller|Drama|Romance|Drama|Comedy|Drama|Family|Animation|Comedy|Family|Horror|Thriller|Romance|Thriller|Mystery|Drama|Comedy|Horror|Thriller|Horror|Thriller|Science Fiction|Mystery|Drama|Thriller|Comedy|Thriller|Action|Drama|Horror|Thriller|Drama|Romance|Fantasy|Drama|Action|Comedy|Crime|Drama|Mystery|Thriller|Horror|Thriller|Crime|Documentary|Drama|Action|History|Fantasy|Comedy|Family|Action|Science Fiction|Adventure|Comedy|Drama|Family|TV Movie|Animation|Drama|Documentary|Music|Family|Thriller|Science Fiction|Foreign|Science Fiction|Drama|Horror|Mystery|Thriller|Thriller|Action|Drama|Drama|Horror|Documentary|Documentary|Documentary|Horror|Thriller|Drama|Animation|Comedy|Documentary|Comedy|Drama|Documentary|Science Fiction|Horror|Thriller|Action|Drama|Family|History|War|Horror|Thriller|Action|Drama|Romance|Drama|Comedy|Animation|Science Fiction|Documentary|Drama|TV Movie|Drama|Romance|Adventure|Family|Drama|Horror|Thriller|Foreign|Music|Romance|Comedy|Drama|Romance|Documentary|Foreign|TV Movie|Romance|Drama|Documentary|Drama|Action|Adventure|Thriller|Animation|Adventure|Comedy|Family|Fantasy|Action|Science Fiction|Adventure|Action|Thriller|Science Fiction|Comedy|Comedy|Foreign|Drama|Romance|Crime|Drama|Horror|Comedy|Comedy|Drama|Romance|History|Drama|Comedy|Family|Crime|Drama|Horror|Thriller|Action|Fantasy|Science Fiction|Thriller|Action|Crime|Drama|Thriller|Documentary|Horror|Mystery|Science Fiction|Crime|Drama|Action|Comedy|Foreign|Comedy|Documentary|Comedy|Romance|Drama|Thriller|Science Fiction|Horror|Mystery|Comedy|Horror|Science Fiction|Horror|Comedy|Horror|Horror|Crime|Action|Comedy|Romance|Horror|Thriller|Mystery|Comedy|Crime|Mystery|Documentary|Comedy|Drama|Thriller|Documentary|Music|Family|Family|Fantasy|Horror|Music|Documentary|Horror|Thriller|Horror|Thriller|Fantasy|Adventure|Horror|Thriller|Comedy|Documentary|Music|Action|Thriller|Fantasy|Crime|Documentary|Comedy|Horror|Adventure|Animation|Action|Documentary|Action|Documentary|Adventure|Comedy|Horror|Drama|Comedy|Romance|Comedy|Action|Drama|Romance|Documentary|Comedy|Drama|Family|Adventure|Horror|Thriller|Horror|Action|Drama|Family|TV Movie|Comedy|Romance|Documentary|Comedy|Romance|TV Movie|Horror|Science Fiction|Documentary|Family|Fantasy|Horror|Thriller|War|Music|Documentary|Comedy|Documentary|Documentary|Drama|Thriller|Drama|Comedy|Documentary|Romance|Family|Foreign|Documentary|Comedy|Horror|Thriller|TV Movie|Drama|Fantasy|Comedy|Science Fiction|Romance|Thriller|Adventure|Animation|Horror|Comedy|Documentary|Action|Comedy|Drama|Foreign|Romance|Documentary|Documentary|Crime|Drama|Drama|Comedy|Family|Foreign|Romance|Horror|Thriller|Drama|Comedy|Horror|Adventure|Comedy|Fantasy|Fantasy|Drama|Science Fiction|Family|Animation|Comedy|Adventure|Documentary|Drama|Documentary|Documentary|Science Fiction|Horror|Drama|Comedy|Foreign|Comedy|Comedy|Documentary|Comedy|Drama|Romance|Drama|Foreign|Documentary|Drama|Comedy|Drama|Animation|Drama|Comedy|Music|Romance|Foreign|Drama|Documentary|Foreign|Documentary|Music|Documentary|Drama|Comedy|Drama|Romance|Documentary|Adventure|Fantasy|Action|Adventure|Fantasy|Family|Animation|Comedy|Family|Adventure|Action|Drama|Mystery|Thriller|Horror|Action|Science Fiction|Fantasy|Action|Adventure|Action|Science Fiction|Drama|Crime|Action|Adventure|Comedy|Science Fiction|Drama|War|Action|Thriller|Science Fiction|Mystery|Animation|Action|Crime|Thriller|Action|Adventure|Animation|Family|Fantasy|Science Fiction|Adventure|Action|Thriller|Horror|Thriller|Science Fiction|Comedy|Drama|Romance|Science Fiction|Horror|Action|Thriller|Drama|History|Crime|Crime|Drama|Thriller|Family|Adventure|Animation|Comedy|Comedy|Romance|Drama|Comedy|Romance|Comedy|Drama|Romance|Animation|Fantasy|Romance|Romance|Comedy|Drama|Thriller|Science Fiction|Mystery|Horror|Mystery|Thriller|Crime|Comedy|Family|Drama|Family|Romance|Comedy|Drama|Romance|Drama|Comedy|Romance|Adventure|Animation|Family|Romance|Action|Thriller|Drama|Thriller|Drama|Science Fiction|Action|Adventure|Thriller|Action|Science Fiction|Thriller|Drama|Comedy|Romance|Drama|Thriller|Crime|Drama|Science Fiction|Comedy|Crime|Action|Fantasy|Comedy|Family|Crime|Mystery|Thriller|Horror|Mystery|Thriller|Mystery|Adventure|Comedy|Thriller|Action|Comedy|Science Fiction|Western|Animation|Adventure|Comedy|Family|Action|Thriller|Comedy|Drama|Romance|Action|Fantasy|Adventure|Action|Adventure|Comedy|Thriller|Documentary|Crime|Drama|Drama|Animation|Comedy|Family|Thriller|Action|Drama|Thriller|Action|Comedy|Crime|Action|History|War|Comedy|Comedy|Fantasy|Drama|Romance|Crime|Drama|Thriller|Comedy|Crime|Drama|Comedy|Romance|Comedy|Drama|Action|Crime|Drama|Thriller|Science Fiction|Adventure|Action|Action|Adventure|Drama|Thriller|Romance|Comedy|Comedy|Romance|Drama|Action|History|War|Drama|Thriller|Crime|Animation|Family|Comedy|Romance|Animation|Family|Drama|Action|Adventure|Crime|Thriller|Comedy|Drama|Romance|Thriller|Drama|History|Adventure|Fantasy|Science Fiction|Family|Action|Comedy|Horror|Thriller|Thriller|Science Fiction|Mystery|Drama|Fantasy|Horror|Action|Adventure|Comedy|Family|Animation|Family|Action|Drama|Thriller|Comedy|Drama|Adventure|Fantasy|Animation|Family|Adventure|Drama|Action|Family|Comedy|Drama|Romance|Comedy|Romance|Comedy|Adventure|Comedy|Drama|Fantasy|Mystery|Action|Comedy|Crime|Drama|Music|Horror|Thriller|Thriller|Crime|Romance|Comedy|Animation|Drama|Thriller|Mystery|Comedy|Horror|Action|Fantasy|Science Fiction|Thriller|Action|Comedy|Comedy|Drama|Science Fiction|Drama|Mystery|Thriller|Crime|Romance|Drama|Drama|War|Drama|Comedy|Adventure|Crime|Drama|Mystery|Thriller|Drama|Science Fiction|Mystery|Romance|Comedy|Drama|War|Adventure|Drama|Romance|Drama|Action|Thriller|Romance|Family|Animation|Adventure|Drama|Foreign|Comedy|Family|Drama|Mystery|Thriller|Horror|Action|Adventure|Family|Fantasy|Science Fiction|Adventure|Comedy|Family|Drama|Romance|Drama|Family|Action|Adventure|Comedy|Thriller|Action|Comedy|Crime|Drama|Romance|Thriller|Romance|Comedy|Drama|Horror|Thriller|Horror|Thriller|Mystery|Drama|Thriller|Mystery|Romance|Science Fiction|Action|Adventure|Thriller|Comedy|Crime|Action|Crime|Drama|Thriller|Action|Thriller|Comedy|Drama|Comedy|Crime|Drama|Adventure|Family|Science Fiction|Thriller|Horror|Thriller|Drama|Mystery|Thriller|Horror|Action|Thriller|Action|Crime|Drama|Mystery|Thriller|Comedy|Family|Action|Adventure|Drama|Thriller|Action|Crime|Drama|Thriller|Documentary|Action|Science Fiction|Thriller|Horror|Thriller|Action|Comedy|Thriller|Romance|Comedy|Drama|Animation|Comedy|Comedy|Romance|Comedy|Comedy|Drama|Romance|Drama|Romance|Comedy|Romance|Drama|Comedy|Drama|Science Fiction|Adventure|Action|Drama|Comedy|Family|TV Movie|Comedy|Drama|Drama|Thriller|Comedy|Romance|Adventure|Drama|Action|History|Comedy|Drama|Drama|Horror|Thriller|Romance|Action|Adventure|Comedy|Drama|Family|Action|Comedy|Science Fiction|Mystery|Drama|Thriller|Crime|Drama|Mystery|Thriller|Drama|Thriller|Romance|Crime|TV Movie|Horror|Science Fiction|Thriller|Horror|Thriller|Drama|Drama|Mystery|Thriller|Drama|Horror|Thriller|War|Crime|Thriller|Horror|Drama|Comedy|Romance|Action|Adventure|Drama|History|Animation|Comedy|Family|Drama|Action|Adventure|Crime|Drama|Drama|Romance|Comedy|Music|Comedy|Drama|History|Romance|Comedy|Drama|Family|Fantasy|Mystery|Drama|Adventure|Drama|Horror|Thriller|Comedy|Drama|Animation|Family|Drama|Horror|Drama|Romance|Comedy|Drama|Crime|Action|Thriller|Comedy|Crime|Crime|Drama|Thriller|Comedy|Action|Crime|Adventure|Drama|History|Comedy|Family|Mystery|TV Movie|Mystery|Thriller|Comedy|Drama|Comedy|Action|Adventure|Comedy|Action|Comedy|Crime|Horror|Thriller|Comedy|Drama|Family|Drama|Horror|Animation|Adventure|Family|Drama|Crime|Action|Family|Comedy|Romance|Comedy|Horror|Thriller|Mystery|Fantasy|Drama|Mystery|Action|Adventure|Comedy|Drama|Family|Drama|Foreign|Comedy|Drama|Documentary|Drama|Music|Thriller|Comedy|Drama|Romance|Comedy|Science Fiction|Action|Adventure|Family|Foreign|Comedy|Crime|Drama|Thriller|Action|Comedy|Thriller|Horror|Thriller|Action|Comedy|Drama|Romance|Foreign|Action|Adventure|Drama|Comedy|Drama|Thriller|Drama|Music|Action|Drama|Foreign|Science Fiction|Thriller|Documentary|Action|Comedy|Fantasy|Drama|Thriller|Thriller|Horror|Mystery|Crime|Drama|Horror|Action|Thriller|Crime|Foreign|Crime|Drama|Documentary|Foreign|Drama|Foreign|Family|Drama|Thriller|War|Drama|Documentary|Foreign|Mystery|Drama|Comedy|Drama|Fantasy|Fantasy|Drama|Science Fiction|Romance|Family|Comedy|Drama|Drama|Foreign|Drama|Thriller|Horror|Thriller|Action|Comedy|Romance|Action|Comedy|Drama|Comedy|Comedy|Romance|Documentary|Comedy|Family|Crime|Drama|Action|Crime|Drama|Romance|Action|Adventure|Animation|Fantasy|Comedy|Drama|Animation|Comedy|Action|Adventure|Animation|Comedy|Family|Horror|Action|Drama|Foreign|Comedy|Documentary|Documentary|Documentary|Thriller|Crime|Drama|Crime|Comedy|Drama|Romance|Family|Animation|Drama|Action|Adventure|Crime|Thriller|Comedy|Comedy|Action|Crime|Horror|Romance|Adventure|Animation|Romance|Action|Thriller|Romance|Comedy|Crime|Fantasy|Action|Adventure|Comedy|Drama|Western|Action|Adventure|Science Fiction|Action|Drama|Thriller|Crime|Thriller|Drama|Comedy|Action|Comedy|Crime|Fantasy|Drama|Comedy|Family|Drama|Western|War|Romance|Drama|Action|Thriller|Comedy|Drama|Romance|Adventure|Drama|Fantasy|Horror|Action|Comedy|Drama|Family|Drama|Thriller|Crime|Mystery|Fantasy|Action|Thriller|Comedy|Family|Fantasy|Comedy|Family|Fantasy|Drama|Family|Science Fiction|Action|Adventure|Thriller|Comedy|Mystery|Comedy|Drama|Romance|Action|Comedy|Crime|Drama|Thriller|Crime|Mystery|Romance|Comedy|Romance|Science Fiction|Horror|Thriller|Mystery|Fantasy|Adventure|Fantasy|Action|Thriller|Science Fiction|Drama|Fantasy|Fantasy|Animation|Comedy|Family|Fantasy|Science Fiction|Family|Animation|Adventure|Comedy|Crime|Music|Animation|Family|Adventure|Thriller|Drama|Romance|Mystery|Comedy|Drama|History|Thriller|Science Fiction|Action|Crime|Drama|Action|Western|Comedy|Drama|Romance|Drama|Thriller|Mystery|Drama|Comedy|History|Drama|Action|Thriller|Crime|Thriller|Drama|Comedy|Romance|Action|Adventure|Thriller|Action|Thriller|Drama|Action|Thriller|Animation|Drama|Family|Fantasy|Action|Fantasy|Science Fiction|Action|Thriller|Comedy|Romance|Action|Science Fiction|Adventure|Action|Adventure|Drama|Family|Family|Comedy|Crime|Drama|Horror|Science Fiction|Romance|Comedy|War|Action|Comedy|Crime|Family|Fantasy|Drama|Comedy|Comedy|Thriller|Action|Crime|Comedy|Drama|Drama|Drama|Adventure|Drama|Family|Action|Comedy|Thriller|Fantasy|Animation|Science Fiction|Family|Comedy|Drama|Thriller|Drama|Romance|Fantasy|Drama|Comedy|Family|Drama|Action|Thriller|Drama|Fantasy|Crime|Comedy|Drama|Thriller|Comedy|Drama|History|Crime|Drama|Action|Adventure|Thriller|Drama|Mystery|Comedy|Family|Comedy|Drama|Romance|Mystery|Crime|Drama|Thriller|Comedy|Drama|Romance|Thriller|Foreign|Action|Drama|Science Fiction|Thriller|Comedy|Romance|Drama|Thriller|Horror|Action|Science Fiction|Comedy|Comedy|Family|Documentary|Comedy|Drama|Family|Romance|Comedy|Action|Adventure|Comedy|Science Fiction|Comedy|Drama|Crime|Drama|Thriller|Comedy|Comedy|Romance|Western|Action|Comedy|Action|Adventure|Drama|Family|Drama|War|Comedy|Comedy|Action|Horror|Science Fiction|Thriller|Comedy|Family|Romance|Comedy|Drama|Family|Fantasy|Science Fiction|Crime|Comedy|Comedy|Family|Comedy|Comedy|Drama|Comedy|Action|Comedy|Action|Drama|Drama|Action|Comedy|Drama|Western|Action|Crime|Drama|Thriller|Action|Comedy|Western|Drama|Music|Romance|Romance|Drama|Comedy|Action|Adventure|Comedy|Drama|Western|Action|Comedy|Romance|Horror|Mystery|Romance|Comedy|Family|Drama|Action|Thriller|Romance|Comedy|Horror|Comedy|Drama|Comedy|Drama|Action|Adventure|Comedy|Family|Comedy|Horror|Thriller|Comedy|Drama|Family|Romance|Action|Adventure|Thriller|Crime|Comedy|Drama|Family|Adventure|Action|Thriller|Crime|Drama|Romance|Drama|Action|Action|Comedy|Family|Drama|Thriller|Action|Crime|Comedy|Thriller|Comedy|Drama|Adventure|Action|Comedy|Family|Comedy|Drama|Family|Romance|Thriller|Mystery|Romance|Adventure|Drama|Family|Drama|Family|Adventure|Comedy|Family|Drama|Family|Drama|Drama|Romance|Action|Adventure|Comedy|Comedy|Drama|Horror|Science Fiction|Thriller|Action|Adventure|Horror|Science Fiction|Foreign|Comedy|Crime|Comedy|Drama|Drama|Music|Documentary|Adventure|Action|Adventure|Fantasy|TV Movie|Science Fiction|Science Fiction|Action|Adventure|Animation|Horror|Comedy|Family|Thriller|Action|Thriller|Thriller|Comedy|Action|Comedy|Comedy|Drama|Romance|Fantasy|Horror|Science Fiction|Comedy|Action|Adventure|Fantasy|TV Movie|Comedy|Drama|Romance|Action|Comedy|Romance|Foreign|Action|Adventure|Fantasy|TV Movie|Drama|Romance|Action|Adventure|Fantasy|TV Movie|Action|Adventure|Comedy|Western|Action|Adventure|Fantasy|TV Movie|Science Fiction|Action|Adventure|Fantasy|Action|Horror|Action|Crime|Drama|Thriller|Drama|Western|Action|Adventure|Thriller|Action|Thriller|Adventure|Fantasy|Action|Science Fiction|Adventure|Mystery|Drama|Comedy|Romance|Action|Adventure|Fantasy|Animation|Adventure|Comedy|Family|Action|Adventure|Fantasy|Drama|Action|Comedy|Crime|Adventure|Drama|Action|Animation|Comedy|Adventure|Family|Comedy|Fantasy|Crime|Drama|Thriller|Drama|Family|Animation|Comedy|Adventure|Comedy|Music|Romance|Action|Comedy|Science Fiction|Science Fiction|Adventure|Fantasy|Action|Science Fiction|Adventure|Thriller|Drama|Science Fiction|Action|Adventure|Thriller|Action|Thriller|Crime|Drama|Comedy|Fantasy|Drama|Romance|Drama|Thriller|Comedy|Drama|Comedy|Horror|Thriller|Fantasy|Animation|Family|Drama|Romance|Adventure|Action|Science Fiction|Thriller|Action|Crime|Thriller|Action|Horror|Fantasy|Romance|Science Fiction|Drama|Fantasy|Action|Animation|Animation|Family|Comedy|Drama|Romance|Animation|Action|Science Fiction|Action|Science Fiction|Thriller|Action|Adventure|Science Fiction|Drama|Comedy|Romance|Animation|Family|Fantasy|Adventure|Action|Comedy|Romance|Drama|Music|Romance|Adventure|Fantasy|Drama|Comedy|Science Fiction|Action|Adventure|Fantasy|Science Fiction|Action|Thriller|Science Fiction|Adventure|Fantasy|Drama|Romance|Thriller|Drama|History|Thriller|Adventure|Music|Drama|Romance|Science Fiction|Drama|Thriller|Action|Thriller|War|Animation|Comedy|Family|Fantasy|Horror|Thriller|Mystery|Action|Comedy|Crime|Drama|Thriller|Drama|Romance|Drama|War|Romance|Comedy|Drama|Comedy|Action|Comedy|Science Fiction|Drama|Romance|Comedy|Crime|Thriller|Action|Drama|Crime|Drama|Comedy|Animation|Family|Animation|Family|Romance|Crime|Drama|Drama|Thriller|Thriller|Comedy|Drama|Music|Romance|Action|Crime|Drama|Thriller|Comedy|Crime|Drama|Comedy|Animation|Adventure|Family|Comedy|Drama|Crime|Thriller|Mystery|Comedy|Comedy|Action|Thriller|Science Fiction|Comedy|Drama|Horror|Thriller|Animation|Comedy|Family|Comedy|Action|Thriller|Crime|Mystery|Crime|Drama|Thriller|Action|Thriller|Crime|Drama|Action|Drama|Crime|Drama|Comedy|Romance|Drama|Action|Thriller|Crime|Comedy|Crime|Thriller|Adventure|Drama|Romance|Drama|Horror|Thriller|Horror|Crime|Mystery|Thriller|Drama|Thriller|Drama|Horror|Thriller|Comedy|Drama|Horror|Thriller|Thriller|Horror|Mystery|Crime|Thriller|Action|Thriller|Animation|Drama|Thriller|Thriller|Crime|Drama|Comedy|Drama|Romance|War|Action|Thriller|Science Fiction|Thriller|Comedy|Drama|Comedy|Romance|Drama|Thriller|Crime|Drama|Romance|Action|Comedy|Comedy|Crime|Family|Drama|Fantasy|Thriller|Drama|Comedy|Drama|Adventure|Romance|Thriller|Drama|Crime|Mystery|Action|Comedy|Crime|Drama|Romance|Romance|Comedy|Horror|Thriller|Drama|Comedy|Drama|Horror|Thriller|Action|Thriller|Crime|Mystery|Action|Comedy|Thriller|Crime|Romance|Drama|Comedy|Romance|Drama|Comedy|Fantasy|Drama|Comedy|Family|Comedy|Romance|Fantasy|Drama|Thriller|Horror|Family|Animation|Adventure|Comedy|Drama|Comedy|Family|Drama|Romance|Drama|Romance|Action|Fantasy|Adventure|Drama|Drama|Action|Adventure|History|War|Thriller|Action|Crime|Thriller|Horror|Comedy|Comedy|Romance|Horror|Thriller|TV Movie|Adventure|Crime|Action|Thriller|Comedy|Romance|Family|Animation|Comedy|Action|Science Fiction|Thriller|War|Drama|Romance|Comedy|Drama|Drama|Comedy|Romance|Science Fiction|Animation|Comedy|Action|Family|Drama|Family|Adventure|Comedy|Drama|Thriller|Action|Thriller|Drama|Romance|Adventure|History|Horror|Drama|Romance|War|Adventure|Drama|Drama|Romance|Thriller|Action|Science Fiction|Horror|Mystery|Action|War|Horror|Romance|Thriller|Science Fiction|Horror|Horror|Science Fiction|Thriller|Comedy|Crime|Drama|Action|Adventure|Thriller|Action|Comedy|Drama|Family|TV Movie|Comedy|Drama|Comedy|Drama|Romance|Horror|Thriller|Mystery|Animation|Adventure|Comedy|Family|Comedy|Drama|Comedy|Horror|Horror|Thriller|Comedy|Drama|History|Thriller|Horror|Action|History|Horror|Thriller|Horror|Thriller|Thriller|Adventure|Drama|Horror|Mystery|Thriller|Drama|Comedy|Romance|Drama|Drama|History|War|Adventure|Science Fiction|Thriller|Mystery|Comedy|Romance|Drama|Action|Comedy|Romance|Science Fiction|Thriller|Action|Crime|Drama|Thriller|Comedy|Action|Comedy|Fantasy|Thriller|Drama|Horror|Thriller|Science Fiction|Action|Fantasy|Horror|Crime|Drama|Thriller|Drama|Horror|Comedy|Comedy|Drama|Fantasy|Family|Adventure|Comedy|Crime|Drama|Thriller|Crime|Horror|Drama|History|Drama|Thriller|Horror|Thriller|Action|Adventure|Horror|Action|Thriller|Drama|Fantasy|Horror|Thriller|Animation|Horror|Comedy|Romance|Comedy|Fantasy|Drama|Drama|Fantasy|Animation|Action|Crime|Drama|Thriller|Comedy|Romance|Science Fiction|Drama|Animation|Comedy|Family|Fantasy|Documentary|Horror|Thriller|Documentary|Drama|Drama|Thriller|Comedy|Crime|Comedy|Horror|Thriller|Comedy|Romance|Drama|Horror|Science Fiction|Horror|Thriller|Comedy|Romance|Horror|Thriller|Action|Horror|Comedy|Action|Drama|Comedy|Drama|Drama|Adventure|Drama|Action|Thriller|Science Fiction|Comedy|Drama|Crime|Drama|Mystery|Thriller|Drama|Family|TV Movie|Horror|Action|Thriller|Drama|Horror|Drama|Science Fiction|Drama|Action|Thriller|Crime|Drama|Science Fiction|Thriller|Documentary|Horror|Thriller|Comedy|Adventure|Fantasy|Comedy|Horror|Action|Thriller|Drama|Thriller|Crime|Comedy|Drama|Romance|Documentary|Comedy|Adventure|Horror|Action|Thriller|Science Fiction|Comedy|Horror|Drama|Thriller|Horror|Thriller|Comedy|Drama|Thriller|Crime|Drama|War|Mystery|Drama|Action|Crime|Drama|History|Animation|Adventure|Family|Drama|Action|Drama|Comedy|Romance|Comedy|Romance|TV Movie|Horror|Fantasy|Drama|Science Fiction|Mystery|Comedy|Horror|Drama|Documentary|Action|Drama|Drama|Comedy|Horror|Thriller|Comedy|Drama|Drama|Romance|Comedy|Comedy|Romance|Comedy|Family|Comedy|Drama|Romance|Action|Drama|Thriller|Comedy|Music|Comedy|Drama|Mystery|Thriller|Documentary|Animation|Family|Thriller|Comedy|Drama|Romance|Crime|Drama|Mystery|Thriller|Horror|Science Fiction|Action|Thriller|Drama|Science Fiction|Comedy|Horror|Action|Thriller|Family|Animation|Action|Crime|Action|Thriller|Comedy|Music|Comedy|Romance|Drama|Documentary|Drama|Horror|Science Fiction|Drama|Drama|Comedy|Crime|Animation|Family|Drama|Comedy|Drama|Horror|Comedy|Horror|Thriller|Documentary|Horror|Thriller|Comedy|Drama|Drama|History|Romance|Action|Thriller|Drama|Horror|Action|Thriller|Science Fiction|Fantasy|Animation|Thriller|Documentary|Comedy|Family|Science Fiction|Thriller|Drama|Action|Horror|Science Fiction|Animation|Action|Science Fiction|Horror|Thriller|Science Fiction|Action|Horror|Western|Horror|Thriller|Drama|Documentary|Horror|Comedy|Action|Animation|Thriller|Comedy|Drama|Drama|Science Fiction|Drama|Crime|Drama|Drama|Comedy|Drama|Drama|Documentary|Adventure|Animation|Comedy|Family|Fantasy|Science Fiction|Romance|Horror|Science Fiction|Science Fiction|Romance|Horror|Thriller|Drama|Family|Animation|Adventure|Comedy|Family|Drama|Foreign|Comedy|Family|Documentary|Comedy|Action|Thriller|Thriller|Comedy|Comedy|Drama|Comedy|Thriller|Horror|Mystery|Fantasy|Thriller|Documentary|Thriller|Drama|Crime|Drama|Drama|Romance|Comedy|Comedy|Crime|Drama|Mystery|Thriller|Drama|Action|Thriller|Crime|Drama|Drama|Comedy|Comedy|Family|Science Fiction|Comedy|Thriller|Horror|Thriller|Horror|Romance|Action|Western|Animation|Action|Drama|Documentary|Documentary|Documentary|Horror|Thriller|Mystery|Horror|Horror|Thriller|Action|Adventure|Science Fiction|Thriller|Comedy|Crime|Action|Horror|Drama|Music|Drama|Comedy|Drama|Action|Drama|Comedy|Western|Drama|Drama|Romance|Thriller|Comedy|Horror|Drama|Adventure|TV Movie|Drama|Drama|History|Romance|Comedy|Horror|Thriller|Mystery|Drama|Drama|Documentary|Music|Action|Thriller|Science Fiction|Family|Comedy|Action|Horror|Thriller|Comedy|Thriller|Horror|Comedy|Drama|Romance|Comedy|Drama|Action|Romance|Thriller|Music|Documentary|Action|Science Fiction|Adventure|Thriller|Drama|Music|Romance|Thriller|Horror|Drama|Crime|Drama|Mystery|Horror|Comedy|Drama|Romance|Drama|Action|Animation|Adventure|Drama|Horror|Drama|Comedy|Drama|Romance|Action|Comedy|Horror|Animation|Comedy|Horror|Action|Thriller|Science Fiction|Thriller|Drama|Drama|Family|Adventure|Documentary|Drama|Horror|Romance|Documentary|Documentary|Thriller|Mystery|Foreign|Documentary|TV Movie|Comedy|Drama|Drama|Thriller|Horror|Comedy|Music|Documentary|Drama|Adventure|Animation|Action|Foreign|Horror|Thriller|Family|Animation|Comedy|Romance|Horror|Mystery|Thriller|Drama|Romance|Drama|Mystery|Thriller|Horror|Documentary|Science Fiction|Horror|Drama|Comedy|Action|Crime|Drama|Adventure|Comedy|Horror|Drama|Comedy|Thriller|Mystery|Romance|Drama|Horror|Romance|Thriller|Music|Mystery|Thriller|Drama|Horror|Thriller|Family|Music|TV Movie|Comedy|Drama|Comedy|Comedy|Drama|Music|Documentary|Documentary|Documentary|Animation|Action|Comedy|Family|Music|Drama|Thriller|Drama|Horror|Comedy|Romance|Horror|Horror|Drama|Thriller|Drama|Drama|Mystery|Drama|Thriller|Action|Comedy|Comedy|Horror|Horror|Comedy|Mystery|Thriller|TV Movie|Crime|Mystery|Thriller|Comedy|Documentary|Music|Comedy|Drama|History|Romance|TV Movie|Drama|War|Comedy|Family|Animation|Comedy|Comedy|Horror|Science Fiction|Mystery|Thriller|Drama|Thriller|Crime|Romance|Action|Horror|Science Fiction|Animation|Documentary|Drama|Thriller|Comedy|Drama|Horror|Mystery|Thriller|Documentary|Music|Documentary|Family|Comedy|Comedy|Drama|Music|Drama|Documentary|Documentary|Documentary|Adventure|Drama|Fantasy|Documentary|Documentary|Comedy|Drama|Romance|Foreign|Comedy|Romance|Documentary|Music|Drama|Comedy|TV Movie|Comedy|Comedy|Horror|Drama|Horror|Comedy|Horror|Comedy|Thriller|Drama|Romance|Comedy|Romance|Documentary|Drama|Comedy|Drama|Documentary|Drama|Foreign|Thriller|Music|Documentary|Documentary|Animation|Romance|Documentary|Comedy|Drama|Horror|Horror|Thriller|Comedy|Science Fiction|Music|Thriller|Horror|Mystery|Drama|Documentary|Documentary|Comedy|Fantasy|Animation|Comedy|Drama|Comedy|Drama|TV Movie|Family|Fantasy|Drama|Drama|Documentary|History|TV Movie|Drama|Foreign|Drama|Music|Documentary|Comedy|Romance|TV Movie|TV Movie|Drama|Documentary|Documentary|Crime|Drama|History|Documentary|Adventure|Fantasy|Action|Fantasy|Action|Thriller|Adventure|Fantasy|Action|Action|Crime|Adventure|Action|Thriller|Science Fiction|Adventure|Action|Thriller|Science Fiction|Animation|Family|Fantasy|Comedy|Comedy|Romance|Drama|Romance|Comedy|Family|Fantasy|Action|Thriller|Science Fiction|Drama|Romance|Adventure|Fantasy|Drama|Fantasy|Action|Crime|Science Fiction|Thriller|Comedy|Romance|Fantasy|Action|Thriller|Science Fiction|Thriller|Action|Crime|Family|Animation|Adventure|Drama|Drama|Comedy|Crime|Adventure|Action|Comedy|Animation|Adventure|Family|Fantasy|Adventure|Fantasy|Family|Comedy|Music|Action|Drama|Comedy|Music|Drama|Action|War|History|Adventure|Action|Comedy|Thriller|Crime|Action|Adventure|Fantasy|Thriller|Horror|Thriller|Mystery|Thriller|Adventure|Drama|Romance|Thriller|Crime|Drama|Mystery|Animation|Science Fiction|Comedy|Action|Thriller|Adventure|Science Fiction|Action|Science Fiction|Action|Animation|Family|Comedy|Comedy|Romance|Action|Adventure|Comedy|Western|Action|Thriller|Crime|Action|Drama|War|Comedy|Fantasy|Animation|Science Fiction|Family|Action|Comedy|Fantasy|Family|Comedy|Family|Fantasy|Family|Animation|Adventure|Action|Adventure|Science Fiction|Action|Adventure|Mystery|Science Fiction|Thriller|Action|Adventure|Comedy|Crime|Drama|Comedy|Romance|Thriller|Fantasy|Comedy|Family|Mystery|Action|Comedy|Thriller|Horror|Thriller|Drama|Crime|Thriller|Horror|Mystery|Adventure|Comedy|Family|Horror|Action|Thriller|Crime|Drama|Comedy|Drama|Family|Drama|Crime|Drama|Thriller|Adventure|Family|Drama|Comedy|Thriller|Fantasy|Action|Comedy|Drama|Horror|Action|Crime|Drama|Animation|Family|Animation|Comedy|Family|Action|Drama|Mystery|Thriller|Crime|Adventure|Action|Comedy|Thriller|Animation|Family|Action|Crime|Thriller|Comedy|Romance|Adventure|Fantasy|Animation|Action|Science Fiction|Action|Comedy|Thriller|Crime|Comedy|Drama|Family|Romance|Action|Drama|Thriller|Western|Comedy|Comedy|Romance|Drama|Comedy|Crime|Comedy|Family|Comedy|Drama|Crime|Thriller|Drama|History|Thriller|Crime|Drama|Horror|Thriller|Comedy|Adventure|Family|Drama|Horror|Science Fiction|Thriller|Action|Adventure|Animation|Family|Science Fiction|Action|Adventure|Drama|History|Action|Comedy|Fantasy|Action|Adventure|Comedy|Family|Science Fiction|Action|Comedy|Romance|Thriller|Drama|Fantasy|Horror|Mystery|Romance|Crime|Comedy|Romance|Drama|Action|Thriller|Crime|Drama|Animation|Comedy|Family|Comedy|Drama|Romance|Comedy|Horror|Drama|Thriller|Drama|Romance|Science Fiction|Thriller|Comedy|Music|Mystery|Crime|Comedy|Adventure|Crime|Crime|Drama|Thriller|Mystery|Horror|Thriller|Comedy|Drama|Thriller|Romance|Drama|Drama|History|War|Drama|Romance|Drama|History|Comedy|Drama|Romance|Action|Comedy|Crime|Thriller|Drama|Comedy|Crime|Crime|Drama|Comedy|Crime|Comedy|Comedy|Drama|Crime|Drama|Romance|Adventure|War|Drama|Thriller|Crime|Comedy|Romance|Drama|Crime|Comedy|Drama|Horror|Action|Thriller|Drama|Family|Documentary|Drama|Romance|Crime|Drama|Mystery|Horror|Comedy|Romance|Action|Thriller|Drama|Drama|Thriller|Crime|Romance|Drama|Thriller|TV Movie|Comedy|Family|Adventure|Drama|Science Fiction|Action|Comedy|Drama|Adventure|Animation|Family|Action|Adventure|Comedy|Thriller|Thriller|Crime|Comedy|Thriller|Science Fiction|Mystery|Comedy|Music|Comedy|Drama|Family|Music|TV Movie|Comedy|Drama|Family|Animation|Animation|Family|Drama|Comedy|Romance|Drama|Comedy|Comedy|Drama|Family|Romance|Comedy|Music|Romance|Fantasy|Drama|Comedy|Science Fiction|Romance|Action|Comedy|Crime|Mystery|Thriller|Horror|Horror|Action|Crime|Action|Comedy|Drama|Comedy|Romance|Horror|Science Fiction|Thriller|Animation|Adventure|Animation|Comedy|Family|Mystery|Action|Thriller|Science Fiction|Drama|Fantasy|Action|Adventure|Drama|History|War|Action|Adventure|Comedy|Family|Horror|Action|Adventure|Comedy|Family|Science Fiction|Animation|Comedy|Family|Drama|Thriller|Comedy|Mystery|Horror|Thriller|Action|Drama|Romance|Comedy|Crime|Thriller|Comedy|Romance|Documentary|Action|Comedy|Drama|Mystery|Science Fiction|Drama|Thriller|Foreign|Action|Crime|Action|Drama|Crime|Drama|Thriller|Fantasy|Animation|Comedy|Science Fiction|Family|Animation|Comedy|Family|Documentary|Comedy|Drama|Drama|War|History|Action|Thriller|Crime|Comedy|Romance|Thriller|Western|Adventure|Comedy|Comedy|Thriller|Mystery|Foreign|Documentary|Drama|Drama|Comedy|Science Fiction|Animation|Action|Thriller|Action|Comedy|Family|Drama|Comedy|Thriller|Romance|Foreign|Comedy|Romance|Comedy|Drama|Romance|Documentary|Crime|Drama|Thriller|Science Fiction|Animation|Drama|Science Fiction|Fantasy|Adventure|Drama|Thriller|Science Fiction|Drama|Family|Action|Comedy|Action|Crime|Thriller|Mystery|Drama|Documentary|Thriller|Science Fiction|Action|Horror|Comedy|Fantasy|Drama|Romance|Comedy|Family|Science Fiction|Documentary|Action|Adventure|Drama|Crime|Thriller|Drama|History|Animation|Family|Drama|Romance|Crime|Drama|Romance|Drama|Thriller|Comedy|Romance|Comedy|Foreign|Adventure|Action|Science Fiction|Thriller|Comedy|Crime|Drama|Mystery|Thriller|Fantasy|Drama|Science Fiction|Drama|Horror|Comedy|Thriller|Romance|Comedy|Fantasy|Science Fiction|War|Action|Drama|Romance|Drama|Romance|Western|Comedy|Music|War|Documentary|History|Comedy|Drama|Romance|Comedy|Romance|Comedy|Romance|Comedy|Drama|Romance|Science Fiction|Thriller|Comedy|Comedy|Family|Horror|Horror|Action|Comedy|Science Fiction|Crime|Thriller|Horror|Drama|Horror|Mystery|Thriller|Science Fiction|Action|Animation|Animation|Science Fiction|Music|Drama|Romance|Drama|Romance|Action|Thriller|Music|Documentary|Drama|Documentary|Foreign|Drama|TV Movie|Comedy|Drama|Romance|Action|Adventure|Drama|Drama|Comedy|Drama|Comedy|Music|Horror|Comedy|Documentary|Science Fiction|Animation|Crime|Comedy|Action|Action|Adventure|Drama|Family|Comedy|Drama|Fantasy|Music|Drama|Romance|Family|Comedy|Drama|Action|Animation|Drama|Science Fiction|Science Fiction|Animation|Drama|Science Fiction|Family|Comedy|Drama|Romance|Thriller|Animation|Family|Fantasy|Adventure|Comedy|Action|Adventure|Comedy|Science Fiction|Thriller|Science Fiction|Mystery|Romance|Adventure|Fantasy|Action|Thriller|Science Fiction|Action|Crime|Fantasy|Science Fiction|Action|Adventure|Science Fiction|Comedy|Adventure|Action|Thriller|Drama|Action|Crime|Drama|Thriller|Science Fiction|Horror|Action|Drama|Thriller|Mystery|Horror|Science Fiction|Mystery|Animation|Family|Comedy|Family|Science Fiction|Comedy|Crime|Adventure|Action|Thriller|Science Fiction|Comedy|Action|Thriller|Crime|Action|Crime|Science Fiction|Thriller|Crime|Drama|Thriller|Horror|Thriller|Mystery|Drama|Horror|Mystery|Thriller|Adventure|Horror|Thriller|Comedy|Drama|Romance|Action|Adventure|Thriller|Action|Adventure|Thriller|Crime|Drama|Mystery|Thriller|Horror|Mystery|Comedy|Animation|Family|Drama|Science Fiction|Mystery|Drama|Romance|Drama|Crime|Thriller|Science Fiction|Action|Drama|Thriller|Action|Thriller|Adventure|Crime|Action|Comedy|Thriller|Romance|Thriller|Romance|Comedy|Family|Science Fiction|Thriller|Action|Romance|Science Fiction|Adventure|Action|Drama|Mystery|Thriller|Action|Thriller|Adventure|Comedy|Family|Romance|Comedy|Drama|Comedy|Romance|Drama|Action|Thriller|History|Drama|Adventure|War|Comedy|Romance|Drama|Drama|Thriller|Mystery|Action|Drama|Thriller|Adventure|Comedy|Family|Science Fiction|Action|Action|Crime|Family|Animation|Music|Comedy|Crime|Thriller|Drama|Comedy|Romance|Action|Drama|Mystery|Thriller|Crime|Adventure|Action|Drama|Thriller|Drama|Mystery|Thriller|Crime|Crime|Drama|Thriller|Comedy|Thriller|Family|Animation|Adventure|Fantasy|Horror|Thriller|Drama|Thriller|Drama|Comedy|Romance|Action|Adventure|Fantasy|Horror|Science Fiction|Action|Thriller|Thriller|Science Fiction|Mystery|Drama|Drama|Adventure|Action|Drama|Horror|Thriller|Mystery|Comedy|Family|Drama|History|Action|Drama|Horror|Mystery|Thriller|Fantasy|Drama|Comedy|Thriller|Science Fiction|Comedy|Comedy|Drama|Animation|Family|Crime|Drama|Fantasy|Adventure|Comedy|Family|Comedy|Family|Action|Adventure|Crime|Thriller|Action|Thriller|Comedy|Family|Drama|Animation|Family|Comedy|Family|Drama|Action|Crime|Drama|Action|Crime|Drama|Mystery|Thriller|Documentary|Drama|Adventure|Fantasy|Drama|Comedy|Music|Drama|Drama|Horror|Science Fiction|Thriller|Comedy|Family|Drama|Comedy|Drama|Horror|Thriller|TV Movie|Action|Adventure|Comedy|Animation|Comedy|Family|Music|Action|Adventure|Drama|Action|Fantasy|Science Fiction|Comedy|Family|Action|Adventure|Comedy|Crime|Thriller|Action|Adventure|Drama|Thriller|Drama|Comedy|Fantasy|Horror|Horror|Comedy|Crime|Drama|Thriller|Action|Adventure|Family|Fantasy|Science Fiction|Action|Comedy|Adventure|Fantasy|Action|Comedy|Family|Fantasy|Animation|Romance|Family|Action|Adventure|Comedy|Comedy|Thriller|Crime|Action|Action|Thriller|Crime|Drama|History|Romance|Drama|Horror|Comedy|Drama|Comedy|Romance|Science Fiction|Action|Adventure|Action|Comedy|Drama|Science Fiction|Thriller|Comedy|Drama|Drama|Action|Comedy|Thriller|Crime|Drama|History|Romance|Drama|Comedy|Foreign|Drama|Action|Thriller|Crime|Action|Family|Fantasy|Comedy|Romance|Drama|Romance|Drama|Family|Comedy|Romance|Comedy|Romance|Drama|Drama|Romance|Action|Comedy|Romance|Action|Thriller|Science Fiction|Drama|Comedy|Crime|Drama|Mystery|Thriller|Comedy|Romance|Drama|Action|Adventure|Crime|Thriller|Drama|Romance|Drama|Crime|Drama|Mystery|Thriller|Crime|Drama|Comedy|Romance|Action|Adventure|Comedy|Family|Fantasy|Comedy|Family|Fantasy|Drama|Comedy|Science Fiction|Horror|Comedy|Drama|History|Mystery|Comedy|Drama|Drama|History|Adventure|Action|Science Fiction|Action|Adventure|Mystery|Thriller|Action|Comedy|Action|Drama|Foreign|History|Thriller|Comedy|Action|Drama|Drama|Romance|Thriller|Thriller|Comedy|Family|Horror|Fantasy|Mystery|Comedy|Family|Science Fiction|Drama|Comedy|Family|Fantasy|Music|Romance|Science Fiction|Family|Comedy|Romance|Documentary|Action|Comedy|Romance|Adventure|Fantasy|Action|Science Fiction|Fantasy|Comedy|Romance|Adventure|Comedy|Drama|Family|Drama|Romance|Comedy|Family|Animation|Comedy|Family|Comedy|Drama|Drama|Comedy|Comedy|Drama|Comedy|Fantasy|Horror|Comedy|Comedy|Comedy|Drama|Drama|Romance|Foreign|Animation|Adventure|Family|Science Fiction|Thriller|Drama|Action|Adventure|Fantasy|Action|Adventure|Science Fiction|Thriller|Crime|Science Fiction|Thriller|Action|Adventure|Crime|Drama|Comedy|Action|Science Fiction|Adventure|Action|Science Fiction|Adventure|Mystery|Adventure|Fantasy|Action|Adventure|Fantasy|Science Fiction|Romance|Science Fiction|Drama|Animation|Comedy|Family|Action|Adventure|Science Fiction|Drama|History|Science Fiction|Action|Thriller|Horror|Thriller|Drama|Romance|Drama|Mystery|Science Fiction|Action|Drama|Thriller|Action|Thriller|Science Fiction|Horror|Thriller|Animation|Family|Action|Drama|Horror|Science Fiction|Thriller|Adventure|Comedy|Drama|Fantasy|Science Fiction|Action|Adventure|Comedy|Crime|Action|Crime|Drama|Comedy|Thriller|Comedy|Drama|Science Fiction|Drama|Action|Adventure|Action|Science Fiction|Thriller|Drama|Music|Action|Thriller|Adventure|Family|Fantasy|Drama|Thriller|Crime|Comedy|Action|Science Fiction|Drama|Crime|Horror|Comedy|Romance|Comedy|Drama|Fantasy|Horror|Action|Action|Adventure|Fantasy|Animation|Action|Action|Adventure|Drama|Mystery|Romance|Animation|Adventure|Family|Fantasy|Action|Drama|Thriller|War|Drama|Drama|History|Fantasy|Action|Comedy|Crime|Action|Comedy|Crime|Thriller|Animation|Family|Adventure|Comedy|Drama|Crime|Comedy|Drama|Thriller|Horror|Comedy|Crime|Comedy|Action|Horror|Thriller|Drama|Drama|Crime|Comedy|Comedy|Adventure|Animation|Comedy|Family|Fantasy|Action|Thriller|Action|Thriller|Drama|Horror|Action|Drama|Thriller|Thriller|Crime|Drama|Action|Drama|Thriller|Comedy|Music|Romance|Drama|Comedy|Comedy|Crime|Drama|Action|Family|Fantasy|Crime|Thriller|Drama|Action|Crime|Thriller|Drama|Comedy|Romance|Comedy|Action|Comedy|Comedy|Action|Crime|Science Fiction|Action|Adventure|Drama|Romance|Action|Comedy|Crime|Comedy|Drama|History|Action|Adventure|Crime|Horror|Action|Adventure|Western|Crime|Drama|Action|Thriller|Comedy|Crime|Action|Crime|Thriller|Drama|Horror|Thriller|Drama|Romance|Thriller|Action|Adventure|Drama|Horror|Thriller|Comedy|Drama|Romance|Thriller|Crime|Drama|Mystery|Comedy|Animation|Comedy|Family|Fantasy|Adventure|Family|Animation|Family|Action|Thriller|Thriller|Crime|Action|Horror|Thriller|Mystery|Drama|Crime|Thriller|Action|Adventure|Romance|Science Fiction|Thriller|Drama|Thriller|Mystery|Action|Drama|Horror|Action|Science Fiction|Horror|Adventure|Drama|History|Comedy|Drama|Romance|Drama|Thriller|Drama|Comedy|Comedy|Animation|Comedy|Adventure|Family|Science Fiction|Comedy|Drama|Animation|Action|Adventure|Family|Action|Crime|Thriller|Romance|Science Fiction|Thriller|War|Comedy|Drama|Crime|Action|Drama|Drama|Romance|Animation|Family|Comedy|Crime|Drama|Thriller|Comedy|Drama|Drama|Romance|Science Fiction|Thriller|Horror|Thriller|Comedy|Romance|Comedy|Horror|Drama|Thriller|Crime|Thriller|Crime|Drama|Crime|Drama|Thriller|Comedy|Drama|Romance|Crime|Mystery|Comedy|Drama|Thriller|Drama|Drama|Drama|Drama|History|Thriller|Crime|Drama|Romance|Drama|Science Fiction|Thriller|Thriller|Animation|Family|Adventure|Animation|Family|Mystery|Thriller|Horror|Thriller|Action|Adventure|Crime|Fantasy|Drama|Romance|Thriller|Crime|Fantasy|Family|Comedy|Animation|Drama|Romance|Drama|Drama|Comedy|Drama|Comedy|Drama|Drama|Thriller|Fantasy|Adventure|Family|Thriller|Crime|Drama|Action|Science Fiction|Adventure|Fantasy|Thriller|Drama|Animation|Comedy|Family|Drama|Adventure|Thriller|Horror|Drama|Fantasy|Comedy|Comedy|Comedy|Crime|Adventure|Thriller|Science Fiction|Action|Drama|Comedy|Comedy|Crime|Drama|Comedy|Action|Thriller|Comedy|Drama|Comedy|Drama|Action|Crime|Drama|Horror|Thriller|Comedy|Comedy|Horror|Thriller|Comedy|Drama|Romance|Drama|Romance|Science Fiction|Adventure|Crime|Drama|Comedy|Drama|Action|Comedy|Drama|Romance|Thriller|Romance|Drama|Comedy|Drama|Comedy|Horror|Thriller|Horror|Thriller|Drama|Horror|Mystery|Thriller|Science Fiction|Action|Thriller|Thriller|Drama|Drama|History|Science Fiction|Thriller|Horror|Comedy|Action|Adventure|Animation|Drama|Thriller|Action|Science Fiction|Action|Drama|Action|Thriller|Documentary|Mystery|Romance|Thriller|Drama|Thriller|Crime|Drama|Thriller|Action|Horror|Thriller|Thriller|Horror|Crime|Drama|Thriller|Horror|Thriller|Mystery|Drama|Comedy|Animation|Family|Crime|Drama|Thriller|Drama|Comedy|Music|Thriller|Drama|Crime|Comedy|Romance|Family|Fantasy|Animation|Adventure|Family|Drama|Comedy|Horror|Thriller|Action|Thriller|Crime|Comedy|Drama|Comedy|Horror|Thriller|Drama|Comedy|Drama|Music|Drama|Thriller|Drama|Horror|Thriller|Drama|Horror|Thriller|Mystery|Drama|Drama|Science Fiction|Thriller|Action|Crime|Drama|Comedy|Horror|Thriller|Comedy|Action|Animation|Comedy|Family|Fantasy|Music|Action|Thriller|History|Action|Adventure|Drama|Fantasy|Science Fiction|Animation|Action|Adventure|TV Movie|Romance|Drama|Animation|Adventure|Family|Drama|Documentary|Drama|Crime|Thriller|Drama|Comedy|Fantasy|Horror|Drama|Music|Drama|Drama|Action|Adventure|Drama|Fantasy|Thriller|Comedy|Romance|Action|Adventure|Science Fiction|Fantasy|Drama|Thriller|Mystery|Action|Science Fiction|TV Movie|Horror|Drama|Horror|Thriller|Drama|Comedy|Drama|Romance|Documentary|Music|Thriller|Horror|Science Fiction|Action|Fantasy|Horror|Mystery|Horror|Thriller|Action|Thriller|Comedy|Drama|Animation|Adventure|Comedy|Crime|Drama|Action|Comedy|Western|Drama|Crime|Romance|Western|Thriller|Animation|Family|Drama|Romance|Comedy|Drama|Comedy|Romance|Drama|Comedy|Animation|Family|Action|Adventure|Drama|Science Fiction|Animation|Thriller|Thriller|Drama|Thriller|Thriller|Action|Crime|Drama|Mystery|Drama|Crime|Drama|Horror|Mystery|Thriller|Drama|Crime|Drama|Thriller|Horror|Thriller|Action|Animation|Comedy|Documentary|Animation|Family|Action|Science Fiction|Thriller|Music|Comedy|Drama|Thriller|Mystery|Mystery|Thriller|Animation|Action|Adventure|Animation|Music|Family|Action|Thriller|Fantasy|Comedy|Drama|Romance|Comedy|Drama|Comedy|Horror|Action|Thriller|Mystery|Action|Science Fiction|Adventure|Comedy|Fantasy|Romance|Comedy|Romance|Documentary|Comedy|Adventure|Fantasy|Horror|Comedy|Drama|Drama|Drama|Thriller|Drama|Music|Thriller|Science Fiction|Drama|Comedy|Comedy|Action|Science Fiction|Drama|Horror|Drama|Thriller|Horror|Thriller|Drama|Fantasy|Science Fiction|Thriller|Drama|Fantasy|Animation|Family|Documentary|Drama|Comedy|Horror|TV Movie|Family|Drama|Family|Animation|Comedy|Family|Comedy|Thriller|Mystery|Drama|Comedy|Drama|Thriller|Comedy|Drama|Romance|Horror|Documentary|Adventure|Drama|Family|Science Fiction|Adventure|Drama|Family|Fantasy|Adventure|Drama|Music|Thriller|Drama|Horror|Thriller|Documentary|Music|Thriller|Drama|Thriller|Thriller|Crime|Drama|Horror|Science Fiction|Thriller|Crime|Thriller|Drama|Romance|War|Music|Comedy|Action|Science Fiction|Thriller|Drama|Romance|Drama|Romance|Comedy|Horror|Drama|Thriller|Thriller|Crime|Mystery|Science Fiction|Romance|Action|Animation|Science Fiction|Horror|Science Fiction|Action|Comedy|Drama|Romance|Documentary|Romance|Comedy|Drama|Animation|Adventure|Comedy|Crime|Thriller|Drama|Thriller|Horror|Thriller|Horror|Science Fiction|Comedy|Animation|Family|Fantasy|Documentary|Horror|Thriller|Documentary|Music|Drama|Thriller|Action|Action|Crime|History|Drama|Thriller|Mystery|Horror|Science Fiction|Horror|Documentary|Action|Comedy|Drama|Thriller|Action|Science Fiction|Horror|Thriller|Comedy|Action|Drama|Comedy|Drama|History|Thriller|Horror|Drama|Horror|Thriller|Horror|Thriller|Drama|Adventure|Comedy|Drama|Documentary|Drama|Drama|Drama|Action|Thriller|War|Comedy|Documentary|Horror|Thriller|Comedy|Documentary|Drama|War|Crime|Mystery|Thriller|Drama|Action|Comedy|Crime|Romance|Family|Music|TV Movie|Drama|History|Crime|Drama|Mystery|Comedy|Action|Comedy|Horror|Horror|Adventure|Drama|Animation|Comedy|Family|Documentary|Comedy|Drama|Family|Adventure|Comedy|Drama|Romance|Drama|Romance|Comedy|Comedy|Drama|Mystery|Thriller|Comedy|Drama|Drama|Comedy|Documentary|Documentary|Drama|Romance|Romance|Drama|Music|Drama|Action|War|Action|Drama|Family|Family|Fantasy|Comedy|Thriller|Drama|Action|Drama|Horror|Thriller|Documentary|Mystery|Thriller|Crime|Comedy|Horror|Horror|Thriller|Drama|Drama|Thriller|Action|Fantasy|Romance|Comedy|Documentary|Drama|Romance|Animation|Romance|Drama|History|Thriller|Action|Drama|Thriller|Fantasy|Family|TV Movie|Drama|Thriller|Action|Horror|Drama|Thriller|Mystery|Crime|Drama|Horror|Thriller|Horror|TV Movie|Science Fiction|Action|Drama|Crime|Horror|Drama|Documentary|Drama|Drama|Mystery|Thriller|Action|Crime|Thriller|Crime|Horror|Action|Thriller|Comedy|Action|Crime|Horror|Horror|Thriller|Drama|Comedy|Drama|Action|Crime|Horror|Comedy|Documentary|History|Documentary|Adventure|Family|Comedy|Crime|Documentary|Music|Action|Adventure|Science Fiction|Crime|Drama|Romance|Drama|Mystery|Romance|Comedy|Drama|Romance|Comedy|Documentary|Documentary|Music|Drama|Fantasy|Romance|Documentary|Horror|Horror|Comedy|Adventure|Action|Drama|Thriller|Action|Science Fiction|Action|Science Fiction|Horror|Thriller|Horror|Thriller|Horror|Documentary|Adventure|Comedy|Action|Comedy|Horror|Science Fiction|Thriller|Action|Horror|Comedy|Music|Thriller|Mystery|Comedy|Fantasy|Horror|Thriller|Comedy|Comedy|Thriller|Mystery|Action|Adventure|Horror|Horror|Comedy|Thriller|Action|Adventure|Fantasy|Horror|Thriller|Drama|Action|Fantasy|Adventure|Animation|Family|Comedy|Documentary|Animation|Adventure|Family|Documentary|History|Music|Crime|Drama|Thriller|Horror|Science Fiction|Drama|Comedy|Drama|Music|Romance|Comedy|Drama|Drama|Horror|Drama|Thriller|Horror|Comedy|Comedy|Comedy|Music|Documentary|Documentary|TV Movie|Action|Adventure|Documentary|Drama|Horror|Thriller|Romance|Comedy|TV Movie|Comedy|Romance|Horror|Drama|Documentary|Drama|Horror|Thriller|Comedy|Drama|Drama|Documentary|Music|Drama|Family|TV Movie|Science Fiction|Drama|Mystery|Family|Adventure|Animation|Comedy|Horror|Documentary|Romance|Crime|Comedy|Horror|Documentary|Documentary|Thriller|Crime|Mystery|Action|Drama|Thriller|Comedy|Romance|Drama|Adventure|Documentary|Horror|Mystery|Thriller|Documentary|Comedy|Drama|Comedy|Comedy|Documentary|Horror|Drama|Mystery|Documentary|Drama|Drama|Drama|Music|Romance|Comedy|Drama|Horror|Documentary|Comedy|Documentary|Music|Adventure|Horror|Thriller|Mystery|Documentary|Science Fiction|Romance|Drama|Mystery|Romance|Romance|Drama|Comedy|Documentary|Horror|Documentary|Drama|Music|Drama|Thriller|Comedy|Comedy|Drama|Animation|Comedy|Family|Documentary|Animation|Drama|Adventure|Comedy|Comedy|Drama|Romance|Documentary|Comedy|Music|Documentary|Comedy|Comedy|Horror|Thriller|Drama|Horror|Documentary|Mystery|Comedy|Drama|Action|Drama|Drama|Comedy|Drama|Thriller|Science Fiction|Comedy|Action|Comedy|Drama|Documentary|History|Music|Comedy|Drama|Music|Romance|Drama|Documentary|Documentary|Action|Drama|Comedy|Horror|Fantasy|Documentary|Documentary|Comedy|Documentary|Comedy|Science Fiction|Thriller|War|Action|Adventure|Action|Thriller|Documentary|TV Movie|Romance|Comedy|Drama|Horror|Documentary|Action|Science Fiction|Comedy|Documentary|Comedy|Horror|Documentary|Music|Action|Science Fiction|Documentary|Drama|Family|Comedy|Adventure|Comedy|Science Fiction|Family|Comedy|Drama|Adventure|Fantasy|Action|Adventure|Drama|Science Fiction|Adventure|Action|Thriller|Action|Adventure|Fantasy|Romance|Adventure|Comedy|Family|Horror|Action|Adventure|Drama|Thriller|War|Drama|Drama|Comedy|Science Fiction|Animation|Drama|Action|Adventure|Thriller|Action|Adventure|Comedy|Comedy|Horror|Crime|Drama|Romance|Thriller|Adventure|Drama|Action|Comedy|Drama|Science Fiction|Family|Science Fiction|Horror|Thriller|Comedy|Adventure|Comedy|Romance|Action|Comedy|Crime|Adventure|Fantasy|Action|Horror|Science Fiction|Comedy|Thriller|Crime|Mystery|Horror|Thriller|Adventure|Comedy|Fantasy|Science Fiction|Family|Action|Thriller|Crime|Drama|Drama|Science Fiction|Thriller|Action|Adventure|Comedy|Crime|Mystery|Comedy|Romance|Fantasy|Romance|Western|Fantasy|Comedy|Romance|Drama|Horror|Thriller|Action|Adventure|Comedy|Romance|Action|Science Fiction|Thriller|Horror|Fantasy|Science Fiction|Comedy|Horror|Comedy|Action|Comedy|Comedy|Romance|Comedy|Drama|Romance|Comedy|Adventure|Adventure|Drama|Action|Thriller|Crime|Comedy|Comedy|Thriller|Drama|Adventure|Comedy|Family|Romance|Comedy|Crime|Drama|Comedy|Drama|Fantasy|Science Fiction|Drama|Music|Horror|Thriller|Comedy|Action|Thriller|Drama|Science Fiction|Action|Crime|Drama|Western|Fantasy|Family|Action|Adventure|Comedy|Crime|Drama|Comedy|Fantasy|Romance|Drama|Horror|Drama|Romance|Comedy|Drama|Comedy|Crime|Action|Comedy|Thriller|Comedy|Action|Adventure|Crime|Drama|Family|Drama|Action|Comedy|Romance|Comedy|Adventure|Drama|Comedy|Romance|Action|Thriller|Adventure|Comedy|Thriller|Drama|Crime|Drama|Thriller|Adventure|Fantasy|Science Fiction|Family|Comedy|Horror|Comedy|Family|Fantasy|Science Fiction|Mystery|Thriller|Drama|Thriller|Horror|Comedy|Action|Adventure|Horror|Comedy|Romance|Drama|Drama|Family|Action|Crime|Thriller|Action|Adventure|Comedy|Drama|Horror|Comedy|Science Fiction|Comedy|Family|Music|Romance|Adventure|Family|Fantasy|Romance|Science Fiction|Documentary|Action|Crime|Drama|Thriller|Drama|Romance|Comedy|Drama|Thriller|Comedy|Romance|Drama|History|Western|Comedy|Romance|Drama|Comedy|Action|Adventure|War|Action|Adventure|Fantasy|Animation|Comedy|Science Fiction|Comedy|Drama|Drama|Romance|Adventure|Fantasy|Family|Action|Crime|Drama|Adventure|Family|Fantasy|Action|Thriller|Fantasy|Action|Thriller|Crime|Adventure|Comedy|Family|Fantasy|Science Fiction|Adventure|Action|Adventure|Comedy|Family|Science Fiction|Action|Thriller|Science Fiction|Adventure|Family|Animation|Action|Adventure|Fantasy|Science Fiction|Drama|Fantasy|Horror|Comedy|Romance|Action|Science Fiction|Action|Comedy|Drama|Family|Thriller|Adventure|Thriller|Science Fiction|Drama|History|Romance|Comedy|Romance|Animation|Family|Comedy|Comedy|Drama|Romance|Action|Thriller|Crime|Comedy|Drama|Romance|Fantasy|Comedy|Family|Drama|Action|Adventure|History|War|Comedy|Adventure|Drama|Action|Comedy|Crime|Action|Thriller|Adventure|Crime|Drama|Romance|Drama|Romance|Animation|Comedy|Family|Science Fiction|Animation|Comedy|Family|Action|Crime|Adventure|Drama|Comedy|Action|Comedy|Drama|Thriller|Drama|Crime|Action|Adventure|Drama|Western|Crime|Drama|Thriller|Family|Fantasy|Science Fiction|Adventure|Action|Drama|Horror|Thriller|Romance|Fantasy|Animation|Music|Adventure|Animation|Comedy|Family|Comedy|Drama|Drama|Mystery|Thriller|Fantasy|Drama|War|Adventure|Horror|Science Fiction|Action|Adventure|Thriller|Horror|Comedy|Fantasy|Romance|Comedy|Family|Adventure|Fantasy|Romance|Comedy|Drama|Romance|Animation|Comedy|Family|Action|Crime|Horror|Action|Comedy|Crime|Mystery|Romance|Drama|History|Drama|Thriller|Crime|Romance|Animation|Comedy|Family|Horror|Mystery|Thriller|Comedy|Fantasy|Romance|Comedy|Drama|Romance|Comedy|Action|Adventure|Science Fiction|Thriller|Horror|Comedy|Romance|Adventure|Comedy|Family|Comedy|Drama|Romance|Comedy|Romance|Drama|Mystery|Action|Adventure|Fantasy|Action|Comedy|Thriller|Drama|Mystery|Drama|Thriller|Crime|Action|Adventure|Comedy|Drama|Action|History|Thriller|Crime|Drama|Horror|Thriller|Comedy|Drama|Comedy|Drama|Thriller|Fantasy|Comedy|Family|Adventure|Drama|Thriller|Crime|Drama|Family|Drama|Horror|Mystery|Thriller|Drama|Action|Crime|Comedy|Drama|History|Drama|Drama|Thriller|Crime|Horror|Thriller|Drama|Comedy|Action|Crime|Comedy|Family|Comedy|Romance|Comedy|Comedy|Crime|Drama|Thriller|Crime|Drama|Thriller|Action|Thriller|Drama|Mystery|Thriller|Comedy|Drama|Family|Romance|Comedy|Drama|Mystery|Romance|Comedy|Drama|Drama|Thriller|Crime|Mystery|Horror|Thriller|Horror|Action|Comedy|Action|Comedy|Horror|Drama|Music|Romance|Comedy|Drama|Romance|Comedy|Drama|Romance|Comedy|Family|Adventure|Fantasy|Drama|Science Fiction|Family|Horror|Comedy|Mystery|Thriller|Drama|Comedy|Comedy|Drama|Comedy|Comedy|Family|Adventure|Romance|Thriller|Science Fiction|Adventure|Action|Drama|Action|Romance|Horror|Adventure|Drama|Thriller|Horror|Thriller|Action|Comedy|Romance|Action|Adventure|Fantasy|Horror|Drama|Drama|Comedy|Comedy|Fantasy|Animation|Science Fiction|Family|Action|Adventure|Comedy|Drama|Mystery|Action|Comedy|Crime|Drama|Thriller|Crime|Drama|Animation|Family|Adventure|Drama|Mystery|Thriller|Drama|Comedy|Romance|Drama|Thriller|Horror|Action|Adventure|Drama|History|War|Action|Crime|Fantasy|Animation|Horror|Action|Thriller|Comedy|Family|Comedy|Romance|Action|Comedy|Crime|Comedy|Drama|Adventure|Fantasy|Action|Family|Adventure|Animation|Family|Drama|Family|Comedy|Drama|Thriller|Horror|Thriller|Adventure|Crime|Drama|Mystery|Western|Action|Crime|Thriller|Comedy|Fantasy|Horror|Horror|Thriller|Drama|Drama|Horror|Thriller|Documentary|Drama|Mystery|Horror|Thriller|Drama|Family|Animation|Comedy|Drama|History|Romance|Drama|Family|Romance|Adventure|Comedy|Family|Drama|Thriller|Horror|Thriller|Horror|Thriller|Comedy|Family|Adventure|Comedy|Music|Fantasy|Horror|Thriller|Family|Animation|Drama|Fantasy|Thriller|Comedy|Music|Romance|Adventure|Fantasy|Drama|Action|Comedy|Drama|Animation|Comedy|Family|Animation|Family|Romance|Family|Animation|Drama|Comedy|Family|Romance|Animation|Family|Comedy|Drama|Romance|Crime|Drama|Mystery|Animation|Family|Comedy|Music|Drama|Romance|Drama|Comedy|Drama|Drama|Comedy|Crime|Drama|Romance|Drama|Horror|Crime|Drama|Family|Action|Fantasy|Horror|Thriller|Thriller|Horror|Drama|Mystery|Comedy|Drama|Romance|Comedy|Documentary|Fantasy|Drama|Thriller|Science Fiction|Drama|Thriller|Comedy|Romance|Horror|Thriller|Mystery|Comedy|Drama|Family|Fantasy|TV Movie|Horror|Action|Crime|Drama|Thriller|Action|Horror|Thriller|Thriller|Mystery|Drama|Drama|Horror|Thriller|Action|Adventure|Horror|Thriller|Comedy|Drama|Music|Romance|Documentary|Adventure|Animation|Family|Fantasy|Drama|Mystery|Thriller|Comedy|Drama|Romance|Documentary|Comedy|Drama|Animation|Thriller|Family|Drama|Foreign|War|Drama|Mystery|Thriller|Thriller|Crime|Drama|Comedy|Crime|Drama|Thriller|Crime|Drama|Comedy|Drama|Romance|TV Movie|Comedy|Horror|Action|Thriller|Comedy|Drama|Family|Comedy|Drama|Drama|Comedy|Romance|Foreign|Horror|Documentary|Comedy|Drama|Comedy|Drama|Family|Action|Horror|Science Fiction|Action|Crime|Thriller|Drama|Drama|Drama|Romance|Action|Adventure|Drama|Romance|Action|Comedy|Horror|Mystery|Animation|Family|Documentary|Fantasy|Horror|Thriller|Action|Comedy|Foreign|Action|Adventure|Thriller|Comedy|Drama|Romance|Action|History|War|Drama|Horror|Thriller|Action|Adventure|Thriller|Action|Comedy|Drama|Drama|Thriller|Mystery|Comedy|Drama|Romance|Comedy|Animation|Drama|Romance|Drama|Romance|Comedy|Drama|Family|Comedy|Drama|Romance|Comedy|Family|Drama|Drama|Comedy|Romance|Comedy|Romance|Fantasy|Adventure|Action|Drama|Comedy|Drama|Action|Adventure|Drama|Thriller|Drama|Family|Comedy|Romance|Drama|Family|Science Fiction|Action|Comedy|Drama|Thriller|Drama|Music|Science Fiction|Drama|Action|Thriller|Crime|Comedy|Drama|Family|Drama|Thriller|Crime|Romance|Comedy|Drama|Comedy|Drama|Action|Adventure|Crime|Drama|Thriller|Comedy|Drama|Horror|Thriller|Comedy|Drama|Romance|Fantasy|Animation|Comedy|Science Fiction|Family|Thriller|Drama|Mystery|Crime|Drama|Romance|Action|Adventure|Drama|Thriller|Documentary|Music|Drama|Foreign|Horror|Mystery|Thriller|Horror|Drama|Horror|Thriller|Drama|History|Comedy|Drama|Romance|Horror|Action|Adventure|Comedy|Crime|Drama|Drama|Horror|Thriller|Fantasy|Drama|Romance|Foreign|Adventure|Drama|Family|Comedy|Drama|Comedy|Horror|Drama|Comedy|Comedy|Crime|Drama|Comedy|Comedy|Drama|Crime|Drama|Thriller|Thriller|Comedy|Horror|Comedy|Drama|Romance|Comedy|Horror|Science Fiction|Comedy|Foreign|Romance|Comedy|Documentary|Music|Comedy|Drama|Family|Drama|Horror|Mystery|Thriller|Comedy|Crime|Drama|Documentary|Drama|Drama|Action|Adventure|Fantasy|Action|Adventure|Animation|Drama|Family|Comedy|Drama|Comedy|Music|Drama|Comedy|Animation|Fantasy|Comedy|Action|Drama|Foreign|Romance|Documentary|Drama|History|Comedy|Horror|Science Fiction|Thriller|Science Fiction|Comedy|Horror|Action|Action|Documentary|Science Fiction|Horror|Drama|Music|Documentary|Foreign|Drama|Music|Crime|Drama|Thriller|Comedy|Comedy|Comedy|Documentary|Drama|Adventure|Drama|Thriller|Action|Comedy|Drama|Mystery|Thriller|Comedy|Horror|Crime|Drama|Documentary|Drama|Horror|Comedy|Thriller|Science Fiction|Drama|Drama|Thriller|Mystery|Foreign|Action|Adventure|Drama|Fantasy|Science Fiction|Adventure|Drama|Family|Documentary|Comedy|TV Movie|Documentary|Music|Drama|Crime|Mystery|Documentary|Drama|Comedy|Mystery|Comedy|Drama|Thriller|Science Fiction|Romance|Foreign|Fantasy|Action|Science Fiction|Thriller|Adventure|Fantasy|Action|Animation|Adventure|Comedy|Family|Adventure|Action|Thriller|Thriller|Mystery|Music|Drama|Romance|Crime|Animation|Family|Comedy|Adventure|Adventure|Action|Thriller|Comedy|Drama|Romance|Drama|Thriller|Crime|Comedy|Romance|Drama|Mystery|Thriller|Action|Adventure|Comedy|Family|Fantasy|Drama|Drama|Action|Thriller|Science Fiction|Comedy|Adventure|Fantasy|Action|Science Fiction|Comedy|Comedy|Drama|Fantasy|Romance|Animation|Comedy|Family|Adventure|Fantasy|Romance|Comedy|Crime|Drama|Thriller|Comedy|Animation|Family|Crime|Fantasy|Drama|Drama|Thriller|Action|Crime|Drama|Action|Thriller|Crime|Drama|Thriller|Crime|Mystery|Adventure|Drama|Family|Horror|Mystery|Horror|Mystery|Comedy|Drama|Family|Romance|Drama|Adventure|Science Fiction|Romance|Music|Animation|Comedy|Family|Drama|Comedy|Adventure|Animation|Comedy|Family|Family|Animation|Action|Thriller|Science Fiction|Fantasy|Action|Adventure|Family|Romance|Drama|Mystery|Comedy|Animation|Comedy|Family|Fantasy|Comedy|Drama|Family|Music|TV Movie|Comedy|Thriller|Action|Adventure|Drama|Fantasy|Adventure|Animation|Comedy|Family|Horror|Thriller|Animation|Comedy|Family|Comedy|Drama|Family|Fantasy|Romance|Drama|Thriller|History|Science Fiction|Action|Thriller|Fantasy|Comedy|Romance|Action|Adventure|Crime|Thriller|Comedy|Drama|War|Drama|History|Romance|Drama|Comedy|Crime|Drama|Mystery|Adventure|Animation|Comedy|Family|Mystery|Thriller|Horror|Action|Comedy|Crime|Thriller|Drama|Comedy|Family|Adventure|Drama|Drama|Fantasy|Drama|Thriller|Romance|Action|Comedy|Crime|Mystery|Family|Comedy|Drama|Action|Thriller|Crime|Drama|Thriller|Comedy|Horror|Science Fiction|Comedy|Crime|Crime|Mystery|Thriller|Comedy|Comedy|Action|Crime|Thriller|Drama|Drama|History|Drama|Thriller|Crime|Mystery|Action|Thriller|Comedy|Family|Adventure|Fantasy|Drama|Drama|Horror|Thriller|Crime|Adventure|Comedy|Science Fiction|Comedy|Family|Drama|Comedy|Family|Science Fiction|Adventure|Action|Drama|Thriller|Comedy|Drama|Family|Drama|Science Fiction|Thriller|Animation|Action|Science Fiction|Drama|Mystery|Romance|Comedy|Romance|Comedy|Drama|Comedy|Crime|Adventure|Animation|Comedy|Family|Animation|Comedy|Family|Drama|History|Comedy|Romance|Drama|Horror|Thriller|Action|Adventure|Drama|War|Animation|Family|Animation|Science Fiction|Thriller|Drama|Family|Romance|Comedy|Drama|Fantasy|Romance|Drama|History|Thriller|Comedy|Family|Adventure|Comedy|Drama|Romance|Drama|Horror|Thriller|Drama|Romance|Romance|Drama|Comedy|Comedy|Comedy|Comedy|Adventure|Animation|Family|Drama|Action|Comedy|Animation|Comedy|Family|Crime|Drama|Mystery|Thriller|History|Drama|Drama|Horror|Action|Crime|Thriller|Drama|Romance|Drama|Comedy|Romance|Action|Comedy|Documentary|Action|Horror|Action|Adventure|Comedy|Drama|Science Fiction|Action|Crime|Drama|Thriller|Drama|Drama|Family|Romance|Horror|Thriller|Animation|Drama|Family|Drama|Drama|Documentary|Comedy|Drama|Action|Thriller|Comedy|Drama|Action|Adventure|Drama|Thriller|Horror|Action|Thriller|Science Fiction|Comedy|Horror|Drama|Comedy|Comedy|Family|Adventure|Action|Family|Drama|Comedy|Romance|Action|Drama|Thriller|Romance|Drama|Comedy|Action|Drama|Thriller|Comedy|Family|Fantasy|Music|Fantasy|Comedy|Family|Comedy|Family|Fantasy|Animation|Family|Adventure|Fantasy|Animation|Family|Horror|Fantasy|Romance|Family|Comedy|Fantasy|Action|Adventure|Action|Adventure|Thriller|Adventure|Drama|War|Drama|History|War|Drama|Action|Comedy|Thriller|Crime|Action|Adventure|Crime|Thriller|Comedy|Mystery|Drama|Crime|Thriller|Adventure|Comedy|Drama|Comedy|Drama|Romance|Drama|Romance|Drama|History|Crime|Thriller|Action|Drama|Adventure|Action|Thriller|Comedy|Drama|Romance|Drama|Adventure|Family|Foreign|Action|Thriller|Crime|Comedy|Drama|Romance|War|Crime|Drama|Mystery|Romance|Action|Adventure|Drama|History|Romance|Animation|Family|Fantasy|Drama|Action|Comedy|Crime|Action|Crime|Drama|Thriller|Adventure|Animation|Family|Drama|Romance|Action|Adventure|Family|TV Movie|Drama|Thriller|Crime|Romance|Romance|Comedy|Drama|Foreign|Drama|History|Comedy|Drama|Romance|Horror|Thriller|Horror|Mystery|Thriller|Crime|Horror|Horror|Science Fiction|Thriller|Horror|Comedy|Thriller|Action|Adventure|Thriller|Drama|Comedy|Romance|Action|Crime|Drama|Mystery|Thriller|Drama|Thriller|Western|Drama|Comedy|Drama|Romance|Drama|Family|Comedy|Romance|Drama|Animation|Action|Adventure|Animation|Comedy|Drama|Drama|Action|Comedy|Music|Drama|Thriller|Crime|Action|Animation|Science Fiction|Drama|Thriller|Comedy|Drama|Romance|Thriller|Comedy|Family|Action|Adventure|Fantasy|Horror|Science Fiction|TV Movie|Fantasy|Animation|Action|Thriller|Action|Adventure|Thriller|Comedy|Drama|Action|Comedy|Crime|Horror|Thriller|Comedy|War|History|Drama|Music|Fantasy|Animation|Comedy|Science Fiction|Family|Comedy|Drama|Romance|Animation|Science Fiction|Horror|Thriller|Drama|Comedy|Romance|Fantasy|Action|Horror|Comedy|Romance|Drama|Action|Thriller|Crime|Horror|Thriller|Adventure|Comedy|Drama|Science Fiction|Drama|Mystery|Comedy|Drama|Thriller|Animation|Comedy|Foreign|Drama|Horror|Thriller|Music|Romance|Comedy|Drama|Horror|Horror|Thriller|Drama|Drama|Horror|Thriller|Crime|Drama|Thriller|Drama|Thriller|Fantasy|Mystery|Comedy|Family|Drama|Romance|Comedy|Horror|Thriller|Drama|Romance|Action|Thriller|Comedy|Drama|Romance|Action|Crime|Drama|Foreign|Thriller|Action|Adventure|Crime|Drama|Comedy|Drama|Horror|Comedy|Horror|Drama|Comedy|Drama|Fantasy|Romance|Drama|Mystery|Thriller|Comedy|Drama|Foreign|Drama|Crime|Crime|Drama|Horror|Mystery|Thriller|Drama|Romance|Action|Science Fiction|Comedy|Horror|Horror|Adventure|Fantasy|Drama|Comedy|Comedy|Romance|TV Movie|Comedy|Family|Romance|Comedy|Drama|Horror|Thriller|Drama|Fantasy|Horror|Action|Fantasy|Mystery|Drama|Romance|Drama|Thriller|Comedy|Drama|Animation|Family|Foreign|Drama|Comedy|Romance|Documentary|Drama|Animation|Family|Science Fiction|Documentary|Comedy|Crime|Drama|Horror|Drama|Mystery|Thriller|Horror|Action|Thriller|Comedy|Science Fiction|Comedy|Drama|Family|Comedy|Action|Adventure|Animation|Action|Documentary|Adventure|Comedy|Family|Fantasy|TV Movie|Animation|Family|Action|Drama|Thriller|Drama|Crime|Horror|Thriller|Romance|Comedy|Drama|Comedy|Drama|Romance|Comedy|Drama|Romance|Drama|Horror|Thriller|Comedy|Drama|Romance|Crime|Drama|Drama|Action|Thriller|Drama|History|War|Comedy|Science Fiction|Drama|Thriller|Crime|Comedy|Crime|Documentary|Mystery|Horror|Thriller|Drama|Family|Horror|Thriller|Mystery|Animation|Family|Music|Horror|Thriller|Action|Adventure|Crime|Drama|Thriller|Drama|Horror|Adventure|Comedy|Drama|Drama|Comedy|Music|Comedy|Romance|Comedy|Comedy|Romance|Adventure|Documentary|Horror|Documentary|Drama|Drama|Thriller|Adventure|Action|Science Fiction|Thriller|Action|Adventure|Romance|Thriller|Comedy|Crime|Drama|Mystery|Thriller|Drama|Thriller|Family|Comedy|Romance|Comedy|Drama|Romance|Documentary|Action|Mystery|Thriller|Comedy|Drama|Foreign|Animation|Science Fiction|Documentary|Horror|Drama|Horror|Thriller|Horror|Comedy|Drama|Romance|Thriller|Science Fiction|Comedy|Horror|Science Fiction|Drama|Documentary|Foreign|Comedy|Romance|Animation|Action|Family|Comedy|Crime|Drama|Action|Adventure|Animation|Family|Science Fiction|Comedy|Romance|Horror|Thriller|Documentary|Music|TV Movie|Family|Comedy|Adventure|Crime|Action|Adventure|Drama|Thriller|Action|Comedy|Comedy|Drama|Thriller|Documentary|Drama|Family|Comedy|Drama|Family|Music|TV Movie|Drama|Thriller|Crime|Mystery|Drama|Drama|Thriller|Drama|Romance|Documentary|Comedy|Drama|Comedy|Romance|Comedy|Drama|Drama|Comedy|Romance|Animation|Action|Action|Comedy|Drama|Horror|Thriller|Drama|Comedy|Foreign|Comedy|Horror|Comedy|Family|Comedy|Drama|Family|TV Movie|Drama|Action|Thriller|Documentary|Drama|Comedy|Drama|Romance|Crime|Drama|Thriller|Comedy|Comedy|Drama|Horror|Mystery|Thriller|Horror|Thriller|Drama|Fantasy|Science Fiction|Horror|Thriller|Comedy|Action|Crime|Drama|Music|Thriller|Comedy|Drama|Action|Foreign|Drama|Romance|Drama|Fantasy|Horror|Thriller|Mystery|Crime|Drama|Thriller|Documentary|Drama|Comedy|Drama|Family|Action|Thriller|Comedy|Adventure|Fantasy|Family|Action|Crime|Thriller|Comedy|Romance|Science Fiction|Drama|Romance|Romance|Drama|Action|Adventure|Animation|Family|Science Fiction|Action|Drama|Thriller|War|Adventure|Drama|Adventure|Action|Thriller|Mystery|Action|Science Fiction|Comedy|Romance|Comedy|Horror|Adventure|Action|Fantasy|Action|Science Fiction|Animation|Adventure|Family|Fantasy|Adventure|Animation|Comedy|Family|Fantasy|Science Fiction|Thriller|Horror|Action|Science Fiction|Thriller|Crime|Comedy|Romance|Action|Adventure|Science Fiction|Thriller|Drama|Drama|Crime|Thriller|Horror|Comedy|Science Fiction|Action|Horror|Thriller|Adventure|Adventure|Horror|Action|Science Fiction|Comedy|Drama|Adventure|Fantasy|Comedy|Family|Drama|Animation|Comedy|Family|Animation|Comedy|Family|Animation|Action|Comedy|Family|Mystery|Action|Thriller|Science Fiction|Adventure|Animation|Comedy|Family|Action|Animation|Comedy|Family|Science Fiction|Action|Horror|Drama|Comedy|Comedy|Fantasy|Romance|Fantasy|Comedy|Family|Romance|Comedy|Mystery|Fantasy|Adventure|Comedy|Drama|Comedy|Adventure|Science Fiction|Action|Comedy|Action|Thriller|Science Fiction|War|History|Action|Adventure|Drama|Comedy|Adventure|Horror|Mystery|Crime|Action|Adventure|Fantasy|Comedy|Action|Drama|Thriller|Crime|Comedy|Romance|Drama|Romance|Action|Crime|Drama|Action|Crime|Comedy|Family|Drama|Music|Romance|Fantasy|Horror|Action|Animation|Family|Comedy|Adventure|War|History|Adventure|Action|Thriller|Science Fiction|Comedy|Thriller|Mystery|Drama|Thriller|Crime|Action|Comedy|Crime|Drama|Action|Adventure|Comedy|Family|Fantasy|Comedy|Drama|Family|Romance|Western|History|War|Drama|Romance|Horror|Thriller|Mystery|Action|Adventure|Crime|Thriller|Drama|Thriller|Mystery|Thriller|Drama|Comedy|Drama|Horror|Thriller|Action|Comedy|Crime|Comedy|Drama|Action|Thriller|Drama|Romance|Comedy|Comedy|Romance|Action|Comedy|Science Fiction|Science Fiction|Drama|Thriller|Animation|Action|Science Fiction|Western|Animation|Family|Comedy|Music|Western|Adventure|Comedy|Romance|Documentary|Comedy|Romance|Comedy|Drama|History|War|Crime|Drama|Mystery|Adventure|Drama|Action|Thriller|Action|Adventure|Crime|Drama|Thriller|Adventure|Animation|Comedy|Family|Drama|Thriller|War|Drama|Mystery|Romance|Music|Adventure|Animation|Action|Comedy|Action|Comedy|Horror|Western|Animation|Family|Comedy|Drama|Action|Science Fiction|Comedy|Science Fiction|Comedy|Drama|Romance|Action|Adventure|Comedy|Thriller|Comedy|Drama|Family|Comedy|Crime|Adventure|Fantasy|Drama|Science Fiction|Family|Music|Comedy|Family|Romance|Drama|Mystery|Thriller|Comedy|Thriller|Crime|Drama|Adventure|Action|Horror|Science Fiction|Thriller|Drama|Drama|Romance|Drama|Drama|Comedy|Music|Romance|Drama|Mystery|Thriller|Comedy|Romance|Action|Drama|Mystery|Thriller|Comedy|Crime|Horror|Drama|Mystery|Thriller|Thriller|Drama|Romance|Mystery|Science Fiction|Thriller|Comedy|Drama|Romance|Comedy|Comedy|Drama|Family|Romance|Horror|Mystery|Thriller|Comedy|Family|Drama|Mystery|Romance|Thriller|Romance|Action|Adventure|Crime|Mystery|Adventure|Comedy|Drama|Action|Adventure|Comedy|Comedy|Drama|Western|Comedy|Romance|Comedy|Western|Action|Adventure|Action|Crime|Thriller|Action|Animation|Fantasy|Horror|Crime|Drama|Horror|Mystery|Science Fiction|Comedy|Romance|Drama|Romance|Fantasy|Drama|Romance|Drama|Romance|War|Comedy|Drama|Romance|Drama|Romance|Crime|Drama|Action|Drama|War|Thriller|Thriller|Adventure|Action|Comedy|Drama|Action|Adventure|Thriller|Action|Action|Adventure|Drama|Thriller|Drama|Music|Drama|Horror|Science Fiction|Thriller|Drama|Romance|Drama|Comedy|Music|Drama|Comedy|Crime|Thriller|Comedy|Drama|Romance|Drama|Comedy|Romance|Drama|Romance|Comedy|Drama|Romance|Comedy|Drama|Action|Drama|Thriller|TV Movie|Drama|Action|Comedy|Romance|Thriller|Music|Drama|Romance|Action|Comedy|Drama|Romance|Family|Adventure|Animation|Drama|Adventure|Drama|Family|Drama|History|Thriller|Animation|Family|Comedy|Drama|Thriller|Romance|Drama|Thriller|Drama|Mystery|Thriller|Documentary|Music|Action|Drama|History|Comedy|Mystery|Thriller|Crime|Action|Thriller|Drama|Drama|Comedy|Family|Foreign|Drama|Comedy|Romance|Adventure|Animation|Family|Drama|Comedy|Drama|Horror|Thriller|Comedy|Horror|Drama|Crime|Animation|Family|Comedy|Romance|Crime|Thriller|Drama|Romance|Comedy|Crime|Drama|Family|Action|Drama|Drama|Fantasy|Science Fiction|Comedy|Drama|Comedy|Drama|Comedy|Comedy|Comedy|Romance|Drama|Mystery|Science Fiction|Thriller|Mystery|Action|Drama|Thriller|Crime|Comedy|Comedy|Family|Action|Horror|Comedy|Science Fiction|Thriller|Drama|Horror|Thriller|Comedy|Drama|Romance|Documentary|Comedy|Drama|Romance|Drama|Comedy|Romance|Drama|Romance|Drama|Comedy|Comedy|Drama|Family|Romance|Drama|Drama|Romance|Foreign|Comedy|Drama|Comedy|Action|Comedy|Comedy|Romance|Adventure|Drama|Fantasy|Comedy|Comedy|Action|Drama|Action|Thriller|Drama|Romance|Drama|Drama|Action|Thriller|Drama|Thriller|Adventure|Comedy|Family|Fantasy|TV Movie|Comedy|Family|Music|TV Movie|Documentary|Animation|Fantasy|Adventure|Fantasy|Animation|Action|Comedy|Drama|Family|Action|Adventure|Horror|Romance|Comedy|Drama|Family|Action|Animation|Science Fiction|Thriller|Drama|Action|Drama|Crime|Horror|Thriller|Western|Drama|Thriller|Romance|Drama|Thriller|Action|Drama|Thriller|Action|Comedy|Romance|Science Fiction|Thriller|Drama|Action|Comedy|Thriller|Mystery|Horror|Thriller|Drama|Foreign|Family|Comedy|Documentary|Drama|Thriller|Mystery|Drama|Drama|Comedy|Romance|Foreign|Crime|Drama|Adventure|Action|Comedy|Science Fiction|Drama|Romance|Drama|Romance|Drama|Thriller|Crime|Drama|Horror|Science Fiction|Mystery|Drama|Music|Comedy|Action|Comedy|Foreign|Comedy|Horror|Science Fiction|Comedy|Drama|Horror|Thriller|Mystery|Action|Adventure|Animation|Family|Drama|TV Movie|Drama|Documentary|Comedy|Drama|Action|Adventure|Crime|Drama|Thriller|TV Movie|Drama|Horror|Science Fiction|Thriller|Documentary|Horror|Romance|Comedy|Comedy|Thriller|Crime|Foreign|Comedy|TV Movie|Comedy|Adventure|Family|Action|Comedy|Drama|Documentary|History|Comedy|Drama|Drama|Documentary|Comedy|Romance|Thriller|Mystery|Science Fiction|Comedy|Drama|Comedy|Action|Adventure|Comedy|Crime|Foreign|Drama|Family|Action|Documentary|Music|Drama|Music|Comedy|Documentary|Adventure|Documentary|Drama|Crime|Drama|Adventure|Thriller|Action|Science Fiction|Drama|Music|Romance|Crime|Drama|Mystery|Thriller|Western|Adventure|Drama|Science Fiction|Comedy|Drama|Fantasy|Science Fiction|Comedy|Comedy|Horror|Horror|Thriller|Comedy|Romance|Action|Drama|Western|Action|Adventure|Western|Action|Adventure|Action|Crime|Thriller|Thriller|Mystery|Action|Adventure|Drama|Western|Action|Crime|Thriller|Comedy|Family|Horror|Comedy|Drama|Romance|Crime|Drama|Romance|Thriller|Music|Documentary|Comedy|Comedy|Drama|Romance|Animation|Comedy|Drama|Comedy|Drama|Action|Crime|Drama|Thriller|Family|Action|Comedy|Western|Drama|Horror|Mystery|Horror|Thriller|Mystery|Horror|Thriller|Crime|Action|Comedy|Horror|Science Fiction|Comedy|Horror|Drama|Adventure|Action|Science Fiction|Horror|Thriller|Comedy|Romance|Music|Comedy|Action|Crime|Romance|Adventure|Drama|Drama|Action|Adventure|Fantasy|Science Fiction|Horror|Drama|Science Fiction|Drama|History|Action|Adventure|Comedy|Action|Comedy|Comedy|Action|Comedy|Horror|TV Movie|Family|Drama|Comedy|Horror|Mystery|Thriller|Action|Comedy|Horror|Thriller|Comedy|Action|Comedy|Drama|Romance|Western|Action|Drama|History|Western|Horror|Thriller|Action|Comedy|Action|Science Fiction|Drama|Science Fiction|Drama|Fantasy|Romance|Action|Adventure|Comedy|Family|Music|Fantasy|Comedy|Family|Adventure|Action|Adventure|Comedy|Drama|Action|Thriller|Crime|Foreign|Adventure|Action|Thriller|Foreign|Mystery|Drama|Fantasy|Science Fiction|Thriller|Western|Drama|Action|Thriller|Crime|Drama|Crime|Thriller|Mystery|Drama|War|Thriller|Drama|Crime|Romance|Action|Drama|Mystery|Thriller|Horror|Science Fiction|Thriller|Comedy|Crime|Drama|Romance|Action|Comedy|Drama|Comedy|Drama|Romance|Action|Drama|Western|Drama|Family|Drama|Mystery|Thriller|Science Fiction|Thriller|Adventure|Action|Horror|Mystery|Thriller|History|Adventure|Drama|Drama|History|War|Action|Comedy|Crime|Mystery|Crime|Drama|Comedy|Drama|Horror|Thriller|Science Fiction|Comedy|Romance|Drama|Music|Fantasy|Music|Romance|Western|History|Horror|Horror|Science Fiction|Fantasy|Horror|Thriller|Science Fiction|Mystery|Action|Drama|Thriller|Action|Adventure|Comedy|Drama|Adventure|Horror|Mystery|Thriller|Adventure|Action|Thriller|Drama|Thriller|Comedy|Fantasy|Horror|Thriller|Horror|Drama|Action|Thriller|Crime|Action|Adventure|Comedy|Thriller|Action|Comedy|Drama|Thriller|Comedy|Horror|Adventure|Fantasy|Action|Adventure|Fantasy|Family|Mystery|Animation|Comedy|Family|Fantasy|Action|Drama|Mystery|Thriller|Crime|Drama|Thriller|Drama|Horror|Action|Thriller|Science Fiction|Action|Adventure|Mystery|Thriller|Fantasy|Action|Adventure|Science Fiction|Horror|Thriller|Adventure|Fantasy|Romance|Family|Action|Thriller|Action|Thriller|Action|Comedy|Crime|Thriller|Adventure|Drama|Action|Adventure|War|Thriller|Action|Fantasy|Horror|Comedy|Drama|Romance|Adventure|Drama|Family|Action|Drama|Mystery|Thriller|Crime|Drama|Romance|Drama|Horror|Science Fiction|Thriller|Drama|Crime|Crime|Action|Comedy|Fantasy|Adventure|Animation|Comedy|Family|Drama|Horror|Music|Comedy|Comedy|Music|Family|Fantasy|Animation|Family|Animation|Adventure|Comedy|Animation|Comedy|Family|Drama|Romance|Comedy|Romance|Drama|Thriller|Drama|Mystery|Horror|Action|Thriller|Adventure|Fantasy|Action|Thriller|Comedy|Family|Fantasy|Romance|Crime|Drama|Mystery|Thriller|Comedy|Horror|Crime|Thriller|Comedy|Adventure|Fantasy|Action|Science Fiction|Animation|Comedy|Family|Comedy|Drama|History|Horror|Thriller|Science Fiction|Thriller|Action|Drama|Fantasy|Action|Science Fiction|Thriller|Horror|Science Fiction|Thriller|Family|Comedy|Drama|Crime|Mystery|Thriller|Horror|Thriller|Adventure|Fantasy|Drama|Music|Romance|Thriller|Crime|Mystery|Thriller|Crime|Drama|Thriller|Thriller|Drama|Mystery|Action|Adventure|Drama|History|Western|Drama|Thriller|Crime|Mystery|Action|Thriller|Crime|Horror|Mystery|Fantasy|Comedy|Family|Comedy|Romance|Action|Science Fiction|Thriller|Animation|Romance|Family|Fantasy|Fantasy|Drama|Mystery|Drama|Thriller|Crime|History|Horror|Thriller|Crime|Action|Comedy|Drama|Comedy|Family|Drama|Comedy|Music|Romance|Horror|Thriller|Comedy|Drama|Family|Music|Action|Thriller|Comedy|Crime|Thriller|Crime|Mystery|Animation|Fantasy|Comedy|Comedy|Comedy|Animation|Comedy|Family|Horror|Thriller|Action|Crime|Drama|Thriller|Comedy|Family|Action|Adventure|Comedy|Thriller|Action|Horror|Comedy|Romance|Thriller|Drama|Horror|Adventure|Science Fiction|Action|Comedy|Drama|Adventure|Horror|Comedy|Romance|Action|Comedy|Drama|Action|Horror|Crime|Thriller|Crime|Drama|Horror|Horror|Thriller|Crime|Horror|Mystery|Thriller|Horror|Drama|Romance|Animation|Horror|Thriller|Crime|Adventure|Fantasy|Action|Drama|Drama|History|Romance|Drama|Romance|Comedy|Drama|Romance|Science Fiction|Thriller|Comedy|Comedy|Drama|Romance|Crime|Drama|Thriller|Animation|Adventure|Action|Drama|Fantasy|Comedy|Family|Action|Crime|Thriller|Comedy|Science Fiction|Drama|Action|Adventure|Comedy|Family|Horror|Thriller|Horror|Action|Science Fiction|Horror|Action|Science Fiction|Action|Drama|Western|Drama|Thriller|Comedy|Drama|Horror|Drama|Foreign|Crime|Drama|Mystery|Thriller|Drama|History|War|Comedy|Drama|Romance|Comedy|Comedy|Music|Romance|Drama|Thriller|Crime|Drama|Thriller|Thriller|Drama|Mystery|Comedy|Adventure|Animation|Comedy|Fantasy|Family|Drama|Romance|Drama|History|Drama|Thriller|Crime|Mystery|Drama|Comedy|Drama|Romance|Science Fiction|Action|Drama|Thriller|Drama|Fantasy|Mystery|Science Fiction|Thriller|Action|Adventure|Comedy|Action|Adventure|Drama|Fantasy|Family|Romance|Comedy|Drama|Action|Adventure|Thriller|Adventure|Drama|Fantasy|Family|Thriller|Science Fiction|Action|Adventure|Animation|Family|Comedy|Drama|Romance|Comedy|Drama|Horror|Thriller|Comedy|Documentary|Action|Animation|Family|Fantasy|Science Fiction|Crime|Drama|Drama|Music|Action|Adventure|Crime|Drama|Fantasy|Adventure|Drama|Music|Romance|Comedy|Romance|Action|Comedy|Action|Adventure|Thriller|Drama|Horror|Drama|Crime|Thriller|Drama|Horror|Thriller|Comedy|Romance|Drama|Comedy|Crime|Drama|Thriller|Comedy|Action|Thriller|Crime|Drama|Thriller|Comedy|Drama|Romance|Crime|Horror|Thriller|Drama|Comedy|Comedy|Drama|Romance|Crime|Drama|Thriller|Drama|Crime|Thriller|Drama|Mystery|Crime|Comedy|Romance|Drama|Drama|Family|Animation|Comedy|Fantasy|Adventure|Family|Action|Crime|Drama|Thriller|Drama|Action|Thriller|Crime|Drama|Fantasy|Horror|Romance|Documentary|Drama|Comedy|Horror|Thriller|Action|Horror|Thriller|Adventure|Drama|Horror|Crime|Drama|Drama|Crime|Drama|Thriller|Thriller|Comedy|Drama|Romance|Horror|Thriller|Science Fiction|Mystery|Foreign|Horror|Thriller|Action|Drama|Thriller|Animation|Comedy|Science Fiction|Drama|Action|Thriller|Crime|Horror|Thriller|Documentary|Action|Crime|Drama|Mystery|Drama|TV Movie|Fantasy|Animation|Horror|Action|Drama|Horror|Thriller|Drama|Romance|Comedy|Drama|Romance|Action|Drama|Romance|Comedy|Drama|Romance|Comedy|Music|Animation|Comedy|Crime|Drama|Comedy|Drama|Romance|Drama|Horror|Thriller|Comedy|Drama|Drama|Drama|Romance|Crime|Drama|Horror|Thriller|Drama|Crime|Drama|Romance|Adventure|Comedy|Family|Thriller|Adventure|Fantasy|Science Fiction|Comedy|Adventure|Family|Action|Fantasy|Science Fiction|Drama|Drama|Romance|Crime|Thriller|Action|Drama|Thriller|Action|Adventure|Drama|History|War|Drama|Music|Animation|Animation|Comedy|Drama|Family|Drama|Drama|Foreign|Animation|Adventure|Comedy|Family|Fantasy|Drama|History|Western|Horror|Crime|Drama|Music|Drama|Crime|Thriller|Mystery|Comedy|Drama|Documentary|Action|Adventure|Comedy|Comedy|Drama|Romance|Drama|Action|Thriller|Foreign|Action|Comedy|Crime|Comedy|Drama|Romance|Fantasy|Music|Action|Adventure|Fantasy|War|Adventure|Horror|Thriller|Drama|Horror|Action|Thriller|Thriller|Drama|Horror|Fantasy|Documentary|Crime|Drama|Horror|Thriller|Animation|Action|Science Fiction|Action|Adventure|Science Fiction|Family|Animation|Mystery|Thriller|Comedy|Drama|Romance|Documentary|Comedy|Romance|Documentary|Drama|Romance|Comedy|Crime|Thriller|Romance|Animation|Family|Fantasy|Romance|Action|Fantasy|Drama|Mystery|Action|Horror|Western|Music|Documentary|Drama|Romance|Drama|Romance|Fantasy|Horror|Action|Science Fiction|Horror|Action|Adventure|Crime|Drama|Thriller|Adventure|Drama|Comedy|Comedy|Drama|Romance|Drama|Music|Adventure|Action|Comedy|Romance|Drama|Crime|War|Drama|Comedy|Thriller|Drama|Thriller|Comedy|Romance|Drama|Drama|Thriller|Foreign|Comedy|Horror|Action|Comedy|Drama|Action|Comedy|Romance|Comedy|Crime|Horror|Thriller|Drama|Romance|Action|Animation|Science Fiction|Drama|Thriller|Horror|Drama|Drama|Fantasy|Action|Horror|Science Fiction|Drama|Horror|Action|Thriller|Science Fiction|Animation|Family|Action|Adventure|Horror|Action|Adventure|Drama|Thriller|Comedy|Action|Adventure|Crime|Family|Mystery|Horror|Science Fiction|Comedy|Family|Science Fiction|Comedy|Romance|Action|Adventure|Comedy|Comedy|Action|Adventure|Horror|Thriller|Action|Drama|Comedy|Horror|Comedy|Thriller|Crime|Drama|Comedy|Crime|Horror|Mystery|Thriller|Horror|Thriller|Drama|Thriller|Documentary|Drama|Romance|Comedy|Comedy|Romance|Animation|Drama|Action|Adventure|Drama|Romance|Documentary|Comedy|Drama|Comedy|Romance|Foreign|Drama|Romance|Comedy|Horror|Science Fiction|Crime|Drama|Thriller|Documentary|Comedy|Crime|Horror|Thriller|Adventure|Action|Thriller|Action|Adventure|Animation|Family|Mystery|Documentary|History|Thriller|Comedy|Drama|Thriller|Crime|Drama|History|Foreign|Comedy|Crime|Mystery|Adventure|Family|Action|Comedy|Horror|Crime|Drama|Mystery|Thriller|Comedy|Horror|Comedy|Drama|Horror|Foreign|Horror|Thriller|Drama|Fantasy|Comedy|Mystery|Comedy|Action|History|TV Movie|Drama|Fantasy|Drama|Foreign|History|Thriller|Fantasy|Horror|Family|Adventure|Family|Horror|Thriller|Comedy|Romance|Adventure|Action|Adventure|Drama|Horror|Science Fiction|Action|Animation|Fantasy|Science Fiction|Drama|Romance|Foreign|Comedy|Drama|Drama|Mystery|Crime|Drama|Horror|Thriller|Mystery|Thriller|Drama|Foreign|Science Fiction|Comedy|Drama|Music|Drama|Romance|War|Foreign|Comedy|Drama|Romance|Drama|Comedy|Romance|Comedy|Drama|Drama|Drama|Family|Comedy|Science Fiction|TV Movie|Comedy|Animation|Comedy|Science Fiction|Horror|Thriller|Comedy|Fantasy|Action|Adventure|Science Fiction|Documentary|Comedy|Documentary|Comedy|Horror|Thriller|Comedy|Horror|Drama|Action|History|Western|Romance|Comedy|Family|Drama|Horror|Action|Adventure|Drama|Comedy|Drama|Romance|Comedy|Comedy|Drama|Comedy|Fantasy|Science Fiction|Action|Adventure|Comedy|Crime|Drama|Family|Comedy|Drama|Family|TV Movie|Drama|Thriller|Documentary|Comedy|Science Fiction|Comedy|Romance|Comedy|Romance|Action|Science Fiction|Drama|TV Movie|Comedy|Romance|Family|Animation|Comedy|Action|Comedy|Crime|Comedy|Horror|Mystery|Thriller|Drama|Thriller|Drama|Comedy|Romance|Foreign|Romance|Comedy|Drama|Crime|Drama|Thriller|Drama|Fantasy|Drama|Comedy|Foreign|Comedy|Horror|Thriller|Foreign|Comedy|Foreign|Romance|Adventure|Fantasy|Drama|Action|Science Fiction|Comedy|Drama|Drama|Foreign|Romance|Action|Adventure|Horror|Thriller|Documentary|Animation|Action|Thriller|Science Fiction|Romance|Comedy|Comedy|Drama|Comedy|Drama|Family|Fantasy|TV Movie|Documentary|Horror|Mystery|Thriller|Comedy|Comedy|Documentary|Comedy|Documentary|Horror|Action|Thriller|Science Fiction|Drama|War|Adventure|Action|Thriller|Science Fiction|Science Fiction|Adventure|Mystery|Action|Adventure|Thriller|Science Fiction|Comedy|Comedy|Action|Adventure|Crime|Drama|Thriller|Drama|Drama|History|Romance|Comedy|Drama|Romance|Horror|Science Fiction|Drama|Comedy|History|Music|Drama|Horror|Thriller|Crime|Drama|Drama|Music|Drama|Horror|Adventure|Family|Science Fiction|Action|Comedy|Drama|Comedy|Comedy|Western|Mystery|Horror|Thriller|Action|Drama|Thriller|Drama|Thriller|Drama|Comedy|Action|Comedy|Crime|Drama|Mystery|Thriller|Adventure|Drama|Comedy|Science Fiction|Thriller|Drama|Comedy|Drama|Music|Drama|Romance|Western|Comedy|Thriller|Adventure|Drama|Crime|Comedy|Romance|Adventure|Family|Drama|Comedy|Western|Romance|Comedy|Animation|Family|Drama|History|War|Comedy|Family|Western|Action|Science Fiction|Thriller|Crime|Drama|Crime|Drama|Thriller|Drama|Romance|War|Romance|Comedy|Horror|Horror|Thriller|Science Fiction|Science Fiction|Horror|Comedy|Horror|Thriller|Crime|Drama|Drama|Crime|Drama|Horror|Mystery|Thriller|Comedy|Music|Drama|Horror|Romance|Drama|Family|Action|Thriller|Science Fiction|Adventure|Action|Fantasy|Action|Comedy|Science Fiction|Family|Fantasy|Horror|Comedy|Drama|Family|Fantasy|Adventure|Action|Comedy|Crime|Drama|Crime|Drama|History|Music|Drama|Horror|Adventure|Fantasy|Action|Thriller|Science Fiction|Action|Science Fiction|Adventure|Action|Adventure|Comedy|Romance|Comedy|Crime|Action|Thriller|Science Fiction|Action|Adventure|Thriller|Comedy|Drama|Romance|Drama|Family|Music|Romance|Horror|Thriller|Comedy|Drama|Science Fiction|Drama|Romance|Science Fiction|Adventure|Fantasy|Action|Science Fiction|Animation|Action|Adventure|Drama|Romance|Science Fiction|Comedy|Comedy|Music|Mystery|Thriller|Crime|Drama|Comedy|Comedy|Romance|War|Drama|History|Action|Comedy|Horror|Science Fiction|Thriller|Comedy|Romance|Adventure|Science Fiction|Adventure|Science Fiction|Action|TV Movie|Fantasy|Drama|Comedy|Family|Adventure|Fantasy|Action|Comedy|Science Fiction|Crime|Drama|Thriller|Comedy|Fantasy|Romance|Drama|Mystery|Thriller|Comedy|Science Fiction|Action|Comedy|Crime|Adventure|Horror|Science Fiction|Thriller|Action|Drama|History|Music|Drama|Crime|Romance|Horror|Science Fiction|Crime|Romance|Comedy|Family|Comedy|Action|Adventure|Crime|Drama|Mystery|Comedy|Romance|Comedy|Drama|Adventure|Drama|Action|Romance|Drama|History|Drama|Music|Romance|Drama|Romance|Action|Adventure|Thriller|War|Fantasy|Comedy|Science Fiction|Romance|Drama|Comedy|Drama|Fantasy|Horror|Thriller|Comedy|Family|Science Fiction|Action|Comedy|Horror|Horror|Drama|Adventure|History|Action|Thriller|Music|Documentary|Music|Horror|Action|Crime|Thriller|Adventure|Action|Family|Action|Comedy|Thriller|Crime|Action|Adventure|Comedy|Music|Comedy|Drama|Thriller|Romance|Drama|Music|Thriller|Horror|Drama|Music|Comedy|Adventure|Drama|Fantasy|Romance|Science Fiction|Action|Adventure|Comedy|Drama|Thriller|Drama|Mystery|War|Fantasy|Drama|Horror|Action|Thriller|Drama|Science Fiction|Drama|Romance|Horror|Science Fiction|Thriller|Crime|Science Fiction|Horror|Science Fiction|Comedy|Horror|Fantasy|Drama|Family|Action|Comedy|Drama|Action|Comedy|Crime|Adventure|Action|Thriller|Science Fiction|Action|Science Fiction|Comedy|Horror|Comedy|Romance|Crime|Drama|Science Fiction|Thriller|Comedy|Adventure|Fantasy|Thriller|Horror|Action|Documentary|Music|Family|Drama|Comedy|Drama|Action|Thriller|Crime|Drama|Fantasy|Horror|Science Fiction|Adventure|Action|Science Fiction|Action|Crime|Drama|Thriller|Adventure|Action|Thriller|Adventure|Action|Thriller|Comedy|Family|Comedy|Action|Adventure|Fantasy|Science Fiction|Comedy|Drama|Thriller|Science Fiction|Comedy|Adventure|Romance|Horror|Comedy|Drama|Comedy|Comedy|Romance|Action|Crime|Thriller|Comedy|Romance|Drama|History|Action|Drama|Romance|Thriller|Comedy|Adventure|Family|Animation|Comedy|Horror|Thriller|Romance|Mystery|Drama|Horror|Thriller|Crime|Drama|Comedy|War|Drama|Comedy|Romance|Science Fiction|Science Fiction|Drama|Horror|Thriller|Music|Drama|Romance|Science Fiction|Action|Thriller|Crime|Drama|Thriller|Horror|Science Fiction|Comedy|Romance|Romance|Drama|Comedy|Thriller|Crime|Drama|Comedy|Drama|Music|Romance|Drama|Thriller|Comedy|Action|Comedy|Crime|Horror|Thriller|Drama|Fantasy|Horror|Science Fiction|Thriller|Comedy|Drama|Comedy|Romance|Fantasy|Action|Adventure|Action|Adventure|Crime|Drama|Romance|Drama|Action|Music|Romance|Action|Thriller|Drama|Western|Crime|Comedy|Drama|Horror|Mystery|Thriller|Comedy|Drama|Science Fiction|Action|Adventure|Horror|Mystery|Science Fiction|Fantasy|Comedy|Science Fiction|Romance|Action|Drama|Thriller|Action|Fantasy|Horror|Music|Comedy|Drama|Action|Adventure|Drama|Animation|Fantasy|Science Fiction|Action|Adventure|Animation|Fantasy|Science Fiction|Action|Crime|Drama|Thriller|Crime|Drama|Thriller|Science Fiction|Thriller|Comedy|Drama|Comedy|Drama|Family|Drama|Foreign|Horror|Drama|Music|Comedy|Drama|Family|Adventure|Crime|Drama|Fantasy|Mystery|Thriller|Horror|TV Movie|Comedy|Drama|Horror|Mystery|Thriller|Fantasy|Science Fiction|Action|Fantasy|Action|Adventure|Drama|Thriller|Comedy|Adventure|Science Fiction|Crime|Mystery|Thriller|Animation|Comedy|Family|Drama|Crime|Thriller|Action|Drama|History|War|Adventure|Action|Thriller|Adventure|Fantasy|Family|Action|Thriller|Science Fiction|Horror|Action|Science Fiction|Thriller|Mystery|Drama|Adventure|Drama|Action|Comedy|Thriller|Adventure|Animation|Drama|Family|Action|Crime|Drama|Thriller|Drama|Romance|Science Fiction|Science Fiction|Fantasy|Action|Crime|Drama|Crime|Drama|Comedy|Romance|Fantasy|Drama|Comedy|Family|Fantasy|Comedy|Family|Comedy|Family|Romance|Comedy|Adventure|Action|Romance|Animation|Family|Comedy|Adventure|Comedy|Drama|Romance|Drama|Romance|Crime|Drama|Mystery|Thriller|Action|Family|Animation|Comedy|Adventure|Action|Drama|Science Fiction|Thriller|Thriller|Action|Crime|Comedy|Drama|Romance|Action|Drama|Science Fiction|Thriller|Fantasy|Drama|Comedy|Thriller|Action|Thriller|Action|Adventure|Action|Fantasy|Drama|Romance|Comedy|Action|Adventure|Science Fiction|Family|Fantasy|Comedy|Thriller|Crime|Action|Adventure|Crime|Thriller|Action|Adventure|Drama|Thriller|Western|Comedy|Romance|Animation|Adventure|Family|Comedy|Horror|Drama|Thriller|Action|Fantasy|Comedy|Science Fiction|Comedy|Drama|Drama|Action|Thriller|Drama|Drama|Comedy|Romance|Drama|Fantasy|Western|Drama|Romance|Comedy|Family|Animation|Adventure|Action|Crime|Science Fiction|Thriller|Fantasy|Horror|Thriller|Drama|Crime|Mystery|Drama|Thriller|Crime|Action|Comedy|Crime|Drama|Fantasy|Science Fiction|Thriller|Adventure|Comedy|Action|Crime|Thriller|Drama|Romance|Comedy|History|Drama|Comedy|Family|Action|Adventure|Drama|Romance|Comedy|Drama|Horror|Thriller|Action|Thriller|Romance|Drama|Horror|Science Fiction|Mystery|Thriller|Action|Crime|Drama|History|Romance|Comedy|Crime|Drama|Comedy|Drama|Romance|Drama|Family|Fantasy|Action|Comedy|Comedy|Romance|Crime|Drama|Science Fiction|Thriller|Drama|Comedy|Action|Drama|Mystery|Thriller|Fantasy|Drama|Family|Crime|Drama|Thriller|Comedy|Comedy|Drama|Comedy|Drama|Drama|Romance|Adventure|Action|Comedy|Crime|Family|Comedy|Family|Drama|Horror|Science Fiction|Comedy|Comedy|Comedy|Drama|Crime|Drama|Adventure|Drama|Family|Adventure|Fantasy|Comedy|Science Fiction|Family|Comedy|Drama|Drama|Comedy|Romance|Action|Thriller|Mystery|Romance|Crime|Drama|Action|Crime|Romance|Drama|Drama|Family|Horror|Comedy|Thriller|Drama|War|Thriller|Horror|Science Fiction|Comedy|Horror|Romance|Action|Adventure|Thriller|Thriller|Drama|Horror|Mystery|Drama|Crime|Mystery|Horror|Thriller|Horror|Action|Crime|Drama|Thriller|Drama|Family|Romance|Drama|Family|Romance|Thriller|Horror|Action|Adventure|Drama|Mystery|Science Fiction|Drama|Horror|Science Fiction|Drama|Comedy|Comedy|Drama|Comedy|Drama|Romance|TV Movie|Drama|History|War|Drama|Thriller|Comedy|Drama|Romance|Action|Adventure|Comedy|Family|Drama|History|Romance|Drama|Mystery|Thriller|Horror|Thriller|Action|Adventure|Comedy|Family|Drama|Thriller|Action|Adventure|Drama|Family|Comedy|Thriller|Crime|Drama|Adventure|Action|Comedy|Family|Drama|Horror|Comedy|Drama|Family|History|Crime|Drama|Action|Comedy|Drama|Thriller|Comedy|Fantasy|Drama|Family|Drama|Romance|Action|Adventure|Drama|Family|Action|Adventure|Drama|Family|Adventure|Family|Fantasy|Drama|Crime|Drama|Romance|Drama|History|War|Romance|Foreign|Horror|Mystery|Comedy|Drama|Romance|Documentary|War|Adventure|Drama|Romance|Comedy|Romance|Drama|Romance|Animation|Adventure|Family|Thriller|Romance|Romance|Drama|Crime|Comedy|Fantasy|Horror|Mystery|Crime|Drama|Action|Adventure|Science Fiction|Thriller|Action|Thriller|Crime|Adventure|Action|Western|Thriller|Mystery|Drama|Horror|Thriller|Comedy|Drama|Romance|Action|Comedy|Crime|Drama|Action|Comedy|Family|Comedy|Comedy|Documentary|Foreign|Action|Adventure|Comedy|Family|Thriller|Crime|Thriller|Animation|Family|Comedy|Adventure|Fantasy|Comedy|Family|Adventure|Crime|Action|Crime|Fantasy|Science Fiction|Thriller|Science Fiction|Action|Horror|Adventure|Action|Comedy|Thriller|Crime|Romance|Horror|Fantasy|Horror|Comedy|Action|Thriller|Fantasy|Comedy|Drama|Thriller|Comedy|Comedy|Family|Thriller|Mystery|Thriller|Action|Science Fiction|Crime|Crime|Drama|Mystery|Adventure|Comedy|Family|Science Fiction|Adventure|Drama|Action|Comedy|Thriller|Crime|Drama|Western|Music|Comedy|Comedy|Drama|Action|Adventure|Drama|History|Horror|Drama|Action|Adventure|Thriller|Horror|Comedy|Action|Thriller|Science Fiction|Drama|Thriller|Action|Drama|Music|Romance|Action|Drama|Thriller|Thriller|Comedy|Drama|Comedy|Family|Fantasy|Drama|Action|Comedy|Drama|Action|Thriller|Crime|Comedy|Family|Drama|Mystery|Comedy|Drama|Horror|Thriller|War|Drama|History|Romance|Drama|Fantasy|Drama|Fantasy|Comedy|Science Fiction|Drama|Romance|Action|Adventure|Drama|History|Romance|Action|Crime|Thriller|Drama|Thriller|Thriller|Drama|Romance|Science Fiction|Documentary|Drama|Comedy|Thriller|Mystery|Drama|Drama|Romance|Drama|Thriller|Romance|Adventure|Fantasy|Drama|Science Fiction|Romance|Drama|Romance|Thriller|Comedy|Drama|Family|Drama|Comedy|Romance|Comedy|Drama|Animation|Comedy|Fantasy|Romance|Crime|Drama|Thriller|Fantasy|Animation|Science Fiction|Family|Drama|Comedy|Romance|Horror|Thriller|Science Fiction|Drama|Horror|Thriller|Drama|Adventure|Drama|Thriller|Comedy|Romance|Crime|Thriller|Action|Adventure|Comedy|Family|Action|Comedy|Drama|Fantasy|Science Fiction|Drama|Comedy|Drama|Action|Thriller|Comedy|Family|Action|Comedy|Horror|Action|Adventure|Crime|Mystery|Thriller|Comedy|Drama|Romance|Adventure|Drama|Romance|Western|Drama|Action|Crime|Drama|Thriller|Comedy|Drama|Music|Romance|Action|Comedy|Foreign|Action|Drama|Comedy|Thriller|Horror|Mystery|Thriller|Drama|Romance|Crime|Drama|Romance|Comedy|Romance|Thriller|Comedy|Horror|Science Fiction|Drama|Romance|Crime|Comedy|Horror|Mystery|Thriller|Fantasy|Thriller|Horror|Drama|Comedy|Romance|Adventure|Action|Family|Comedy|Thriller|Action|Horror|Science Fiction|Crime|Crime|Drama|Mystery|Comedy|Drama|Romance|Action|Comedy|Romance|Thriller|Mystery|Thriller|Action|Crime|Drama|Mystery|Thriller|Animation|Family|Action|Thriller|Crime|Drama|Music|Family|Action|Comedy|Drama|Drama|Music|Drama|Horror|Thriller|Crime|Action|Adventure|Crime|Thriller|Romance|Comedy|Drama|Science Fiction|Thriller|Action|Comedy|Crime|Comedy|Horror|Thriller|Crime|Drama|Action|Adventure|Drama|Family|Drama|Romance|Action|Comedy|Thriller|Crime|Romance|Crime|History|Comedy|Drama|Foreign|Romance|Drama|Action|Fantasy|Comedy|Foreign|Comedy|Drama|Romance|Comedy|Family|Comedy|Fantasy|Comedy|Drama|Romance|Thriller|Drama|Music|Romance|Adventure|Comedy|Family|Science Fiction|Comedy|Science Fiction|Adventure|Action|Romance|Comedy|Adventure|Action|Thriller|Adventure|Animation|Drama|Family|Adventure|Action|Thriller|Science Fiction|Comedy|Horror|Comedy|Animation|Science Fiction|Horror|Science Fiction|Action|Adventure|Drama|Drama|History|Horror|Thriller|Action|Drama|History|Thriller|Adventure|War|Drama|History|Horror|Thriller|Romance|Crime|Drama|Comedy|Drama|Romance|Thriller|Horror|Mystery|Romance|Drama|Comedy|Drama|History|Comedy|Drama|Romance|Thriller|Family|Fantasy|Science Fiction|Adventure|Comedy|Horror|Science Fiction|Thriller|Action|Drama|Action|Crime|Drama|Thriller|Horror|Drama|Romance|Action|Comedy|Science Fiction|Action|Adventure|Thriller|Drama|Horror|Thriller|Horror|Mystery|Drama|Mystery|Thriller|Music|Action|Drama|Crime|Drama|Mystery|Thriller|Drama|Fantasy|Comedy|Drama|Romance|Drama|Horror|Action|Crime|Thriller|Comedy|Drama|Drama|Horror|Crime|Drama|Thriller|Action|Drama|Romance|Thriller|Adventure|Horror|Adventure|Fantasy|Family|Action|History|War|Crime|Family|Comedy|Drama|Mystery|Thriller|Crime|Crime|Drama|Action|Thriller|Comedy|Horror|Mystery|Action|Adventure|Horror|Science Fiction|Comedy|Action|Adventure|Drama|Horror|Thriller|Horror|Thriller|Drama|Horror|Thriller|Mystery|Horror|Comedy|Science Fiction|Thriller|Comedy|Adventure|Horror|Thriller|Horror|Mystery|Drama|Drama|Horror|Thriller|Comedy|TV Movie|Horror|Mystery|Animation|Music|Documentary|Music|Comedy|Romance|Horror|Thriller|Comedy|Family|Science Fiction|Comedy|Romance|Documentary|Thriller|Horror|Mystery|Crime|Action|Drama|Drama|Thriller|Crime|Adventure|Comedy|Science Fiction|Action|Adventure|Science Fiction|Adventure|Action|Thriller|Drama|Crime|Crime|Drama|Thriller|Action|Adventure|Thriller|Comedy|Fantasy|Science Fiction|Drama|Romance|Family|Fantasy|Animation|Adventure|Animation|Family|Animation|Comedy|Drama|Family|Fantasy|Action|Drama|Mystery|Thriller|Comedy|Family|Drama|Fantasy|Romance|Science Fiction|Horror|Action|Thriller|Crime|Crime|Drama|Thriller|Science Fiction|Action|Adventure|Thriller|Comedy|Comedy|Family|Crime|Horror|Mystery|Action|Crime|Drama|Mystery|Thriller|Comedy|Drama|Romance|Comedy|Family|Fantasy|Fantasy|Fantasy|Comedy|Romance|Science Fiction|Action|Adventure|Thriller|Action|Adventure|Adventure|Drama|Romance|War|Action|Adventure|Drama|Thriller|Action|Adventure|Drama|Action|Thriller|Action|Comedy|Drama|Family|Comedy|Drama|Thriller|Crime|Drama|Thriller|Horror|Comedy|Action|Adventure|Drama|Thriller|Drama|Thriller|Romance|Action|Adventure|Science Fiction|Thriller|Drama|Action|Mystery|Science Fiction|Thriller|Romance|Drama|Thriller|Crime|Comedy|Romance|Drama|Thriller|Crime|Drama|Mystery|Thriller|Comedy|Drama|Science Fiction|Crime|Drama|Mystery|Thriller|Action|Science Fiction|Drama|Thriller|Mystery|War|Drama|Comedy|Romance|Comedy|Drama|Horror|Thriller|Comedy|Comedy|Crime|Drama|Action|Crime|Drama|Romance|Fantasy|Drama|Horror|Thriller|Comedy|Family|Comedy|Romance|Horror|Thriller|Science Fiction|Comedy|Comedy|Fantasy|Drama|Comedy|Science Fiction|Romance|Action|Drama|Thriller|Action|Adventure|Crime|Drama|Thriller|Action|Adventure|Comedy|Thriller|Comedy|Romance|Horror|Comedy|History|Drama|Music|Comedy|Thriller|Drama|Thriller|Drama|Thriller|Romance|Comedy|Romance|Comedy|Drama|Romance|Crime|Drama|Thriller|Comedy|Fantasy|Science Fiction|Drama|History|Action|Action|Thriller|Action|Crime|Drama|Thriller|Action|Adventure|Thriller|Action|Comedy|Thriller|Comedy|Comedy|Romance|Comedy|Romance|Drama|Romance|Drama|Thriller|Animation|Comedy|Action|Fantasy|Thriller|Drama|History|Drama|Thriller|Romance|Comedy|Crime|Drama|Adventure|Animation|Family|Action|Comedy|Music|Family|Adventure|Comedy|Drama|Romance|Comedy|Comedy|Drama|Romance|Comedy|Comedy|Family|Animation|Adventure|Drama|History|Romance|Drama|Drama|Drama|Drama|Romance|Action|Adventure|Drama|Family|Crime|Drama|Thriller|Drama|Horror|Thriller|Romance|Adventure|Comedy|Drama|Family|Adventure|Drama|Comedy|Romance|Drama|Drama|Mystery|Science Fiction|Thriller|Drama|Action|Drama|Thriller|Family|Comedy|Drama|Romance|Drama|Drama|Thriller|Drama|Mystery|Romance|Adventure|Family|Drama|Comedy|Action|Science Fiction|Comedy|Drama|Romance|Drama|Romance|Drama|Mystery|Thriller|Drama|Mystery|Thriller|Horror|Action|Comedy|Science Fiction|Fantasy|Comedy|Science Fiction|Family|Drama|Thriller|Action|Drama|Comedy|Family|Comedy|Drama|Thriller|Action|Comedy|Action|Comedy|Drama|Thriller|Drama|Thriller|Adventure|Action|Animation|Family|Fantasy|Comedy|Comedy|Drama|Comedy|Drama|Fantasy|Drama|Thriller|Comedy|Romance|Animation|Family|Adventure|Fantasy|Comedy|Drama|Drama|Thriller|Comedy|Family|Comedy|Family|Comedy|Drama|Romance|Drama|Romance|Family|Comedy|Fantasy|Documentary|Action|Thriller|Science Fiction|Comedy|Romance|Drama|Adventure|Family|Fantasy|Drama|Thriller|Comedy|TV Movie|Adventure|Drama|Science Fiction|Comedy|Drama|Comedy|Science Fiction|Thriller|Adventure|Drama|Romance|Action|Comedy|Comedy|Comedy|Drama|Romance|Fantasy|Horror|Science Fiction|Thriller|Crime|Mystery|Comedy|Family|Horror|Drama|Horror|Mystery|Thriller|Adventure|Drama|Family|Drama|Action|Thriller|Adventure|Comedy|Family|Action|Drama|Romance|Comedy|Romance|Horror|Thriller|Comedy|Drama|Horror|Drama|Comedy|Comedy|Fantasy|Horror|Science Fiction|Comedy|Drama|Romance|Thriller|Comedy|Drama|Foreign|Romance|Music|Comedy|Action|Adventure|Comedy|Drama|War|Action|Science Fiction|Comedy|Horror|Comedy|Drama|Family|Comedy|Drama|TV Movie|Comedy|Drama|Romance|Drama|Family|Comedy|Family|History|Drama|Fantasy|Comedy|Science Fiction|Family|Comedy|Science Fiction|Fantasy|Comedy|Music|Horror|Comedy|Romance|Drama|Fantasy|Comedy|Family|Documentary|Drama|Documentary|Drama|Comedy|Romance|Foreign|Comedy|Comedy|Thriller|Crime|Romance|Action|Drama|Adventure|Mystery|Thriller|Family|Comedy|Fantasy|Adventure|Drama|Thriller|Crime|Adventure|Action|Thriller|Fantasy|Comedy|Romance|Comedy|Adventure|Animation|Comedy|Family|Fantasy|Comedy|Romance|Animation|Family|Action|Adventure|Comedy|Crime|Thriller|Animation|Comedy|Family|Drama|History|War|Action|Horror|Comedy|Action|Crime|Thriller|Action|Drama|Thriller|War|Drama|Comedy|Music|Action|Crime|Thriller|Drama|Comedy|Romance|Action|Adventure|Comedy|Thriller|Science Fiction|Action|Crime|Drama|Thriller|Adventure|Animation|Comedy|Family|Comedy|Crime|Action|Crime|Drama|Science Fiction|Thriller|Drama|Drama|Romance|Family|Animation|Action|Science Fiction|Thriller|Crime|Comedy|Thriller|Drama|Crime|Drama|Crime|Music|Comedy|Adventure|Drama|Horror|Drama|Thriller|Mystery|Fantasy|Drama|Drama|Comedy|Comedy|Drama|Romance|Fantasy|Adventure|Fantasy|Animation|Science Fiction|Family|Action|Mystery|Science Fiction|Thriller|Crime|Drama|Thriller|Animation|Comedy|Family|Comedy|Adventure|Action|Comedy|Western|Action|Fantasy|Thriller|Action|Adventure|Thriller|Comedy|Crime|Drama|Music|Comedy|Comedy|Drama|Romance|Comedy|Drama|Romance|Music|Thriller|Action|Science Fiction|Science Fiction|Horror|Science Fiction|Thriller|Action|Adventure|Crime|Thriller|Animation|Family|Comedy|Action|Drama|Thriller|Crime|Comedy|Mystery|Thriller|Science Fiction|Comedy|Family|Romance|Comedy|Science Fiction|Drama|Thriller|Drama|Adventure|Romance|Thriller|Action|Adventure|Comedy|Thriller|Animation|Family|Drama|Comedy|Comedy|Fantasy|Romance|Drama|Action|Thriller|Crime|Animation|Action|Science Fiction|Family|Adventure|Comedy|Drama|Horror|Mystery|Action|Thriller|Action|Adventure|Thriller|Thriller|Action|Adventure|Comedy|Fantasy|Action|Comedy|Crime|Animation|Family|Animation|Family|Comedy|Horror|Thriller|Crime|Drama|Mystery|Comedy|History|Drama|Romance|Horror|Drama|Drama|Horror|Mystery|Thriller|Action|Adventure|Drama|History|War|Drama|Drama|War|Action|Comedy|Crime|Fantasy|Animation|Science Fiction|Family|Comedy|Drama|Romance|Drama|Horror|Comedy|Family|Fantasy|Comedy|Romance|Science Fiction|Comedy|Drama|Family|Comedy|Animation|Family|Horror|Thriller|Science Fiction|Adventure|Comedy|Family|Fantasy|Mystery|Drama|Romance|Thriller|Action|Adventure|Fantasy|Science Fiction|Drama|Romance|Drama|Thriller|Drama|Comedy|Romance|Family|Comedy|Drama|Romance|Comedy|Crime|Thriller|Action|Adventure|Drama|Romance|Thriller|Action|Adventure|Thriller|Drama|Comedy|Romance|Comedy|Drama|Fantasy|Comedy|Family|Crime|Drama|Thriller|Animation|Comedy|Action|Fantasy|Science Fiction|Action|Comedy|Drama|Romance|Comedy|Comedy|Drama|Romance|Comedy|Drama|Romance|Drama|Action|Thriller|Crime|Drama|Horror|Thriller|Crime|Drama|Mystery|Thriller|Drama|Drama|Thriller|Comedy|Drama|Drama|Thriller|Action|Adventure|Fantasy|Science Fiction|Action|Science Fiction|Thriller|Comedy|Crime|Drama|Drama|Mystery|Thriller|Action|Comedy|Drama|Comedy|Thriller|Drama|Music|Drama|Thriller|Comedy|Horror|Science Fiction|Romance|Comedy|Drama|Drama|Horror|Mystery|Thriller|Comedy|Drama|Family|Romance|Crime|Comedy|Comedy|Drama|Romance|Animation|Family|Fantasy|Animation|Horror|Comedy|Thriller|Comedy|Drama|Music|Comedy|Drama|Romance|Science Fiction|Animation|Family|Fantasy|Comedy|Crime|Mystery|Action|Adventure|Animation|Fantasy|Science Fiction|Action|Comedy|Romance|Thriller|Crime|Horror|Thriller|Mystery|Horror|Action|Thriller|Comedy|Comedy|Romance|Drama|Adventure|Comedy|Romance|Science Fiction|Animation|Drama|Action|Thriller|Crime|Adventure|Action|Science Fiction|Drama|Romance|Drama|Comedy|Drama|Romance|Horror|Thriller|Drama|Romance|Thriller|Comedy|Crime|Comedy|Drama|Comedy|Romance|Comedy|Drama|Romance|Drama|Romance|Drama|Foreign|Romance|Drama|Music|Romance|War|Comedy|History|Comedy|Drama|Comedy|Romance|Documentary|Music|Mystery|Horror|Thriller|Action|Comedy|Thriller|Crime|Drama|Comedy|Romance|Comedy|Drama|Action|Crime|Foreign|Thriller|Drama|Romance|Family|Drama|Action|Adventure|Comedy|Crime|Romance|Comedy|Family|Comedy|Drama|Family|Horror|Thriller|Drama|Family|Comedy|TV Movie|Documentary|Music|Comedy|Family|Fantasy|Horror|Drama|Romance|Animation|Horror|Family|Foreign|Family|Animation|Music|Drama|Drama|Horror|Drama|Fantasy|Science Fiction|Thriller|Documentary|Animation|Family|Adventure|Animation|Action|Comedy|Family|Drama|Comedy|Romance|Comedy|Drama|Drama|Romance|Drama|Romance|Western|Action|Drama|Thriller|Drama|Comedy|Action|Drama|Foreign|Drama|Thriller|Comedy|Drama|Family|Comedy|Animation|Comedy|Drama|Animation|Thriller|Romance|Comedy|Drama|Comedy|Romance|Drama|Animation|Comedy|Science Fiction|Drama|Thriller|Science Fiction|Adventure|Family|Fantasy|Horror|Science Fiction|Mystery|Thriller|Action|Adventure|Thriller|War|Drama|Fantasy|Horror|Thriller|Science Fiction|Action|Adventure|Drama|Horror|Adventure|Fantasy|Action|Thriller|Action|Comedy|Crime|Drama|Science Fiction|Action|Adventure|Drama|Thriller|Comedy|Thriller|Crime|Mystery|Drama|Fantasy|Music|Drama|History|Comedy|Romance|Comedy|Comedy|Drama|Comedy|Comedy|Crime|Comedy|Mystery|Horror|Science Fiction|Fantasy|Animation|Drama|Family|Action|Adventure|Animation|Family|Fantasy|Fantasy|Animation|Family|Drama|Romance|Horror|Thriller|Mystery|Drama|Romance|Comedy|Romance|Comedy|Drama|Family|Music|Romance|Horror|Comedy|Fantasy|Comedy|Drama|Family|Music|Documentary|Music|Drama|History|Mystery|Thriller|Animation|Drama|Fantasy|Drama|Comedy|Action|Fantasy|Horror|Mystery|Thriller|Western|Comedy|Drama|Music|War|Drama|Romance|Comedy|Family|Horror|Thriller|Horror|Action|Crime|Drama|Thriller|Horror|Mystery|Science Fiction|Drama|Comedy|Comedy|Music|Romance|Science Fiction|Action|Adventure|Thriller|Drama|Crime|Action|Horror|Science Fiction|Thriller|Horror|Comedy|Comedy|Comedy|Crime|Drama|Mystery|Romance|Action|Adventure|Drama|Action|Crime|Thriller|Action|Fantasy|Comedy|Action|Animation|Fantasy|Family|Horror|Mystery|Drama|Action|Western|Romance|Horror|Drama|Thriller|Drama|Horror|Fantasy|Adventure|Animation|Drama|Comedy|Mystery|Romance|Action|Foreign|Horror|Science Fiction|Science Fiction|Comedy|Comedy|Horror|Comedy|Drama|Adventure|Action|Science Fiction|Comedy|Drama|Horror|Comedy|TV Movie|Crime|Drama|Horror|Science Fiction|Drama|Romance|Drama|Foreign|Crime|Thriller|Horror|Drama|Romance|Comedy|Comedy|Drama|Action|Thriller|Science Fiction|Adventure|Animation|Family|Adventure|Horror|Action|Comedy|Crime|Drama|History|War|Animation|Family|Adventure|Action|Comedy|Crime|Thriller|Family|Animation|Adventure|Animation|Drama|Family|Music|Adventure|Animation|Comedy|Family|Science Fiction|Action|Horror|Action|Thriller|Crime|Adventure|Mystery|Science Fiction|Adventure|Animation|Romance|Family|Crime|Drama|Mystery|Romance|Comedy|Mystery|Science Fiction|Thriller|Drama|Drama|Fantasy|Romance|Action|Drama|Thriller|Action|Adventure|Drama|Action|Adventure|Drama|Romance|Science Fiction|Adventure|Family|Science Fiction|Action|Adventure|Crime|Drama|Mystery|Fantasy|Drama|Mystery|Action|Adventure|Comedy|Crime|Drama|Horror|Mystery|Thriller|Science Fiction|Action|Thriller|Drama|Fantasy|Comedy|Science Fiction|Action|Adventure|Comedy|Romance|Adventure|Drama|Comedy|History|Adventure|Comedy|Western|Romance|Thriller|Comedy|Crime|Thriller|Drama|Mystery|Drama|Thriller|Drama|Fantasy|Romance|Comedy|Family|Drama|Drama|History|War|Comedy|Family|Drama|Fantasy|Comedy|Adventure|Fantasy|Science Fiction|Action|Comedy|Family|Fantasy|Science Fiction|Action|Adventure|Thriller|Comedy|Romance|Thriller|Crime|Action|Drama|History|Romance|Comedy|Crime|Romance|Comedy|Comedy|Drama|Drama|Romance|Comedy|Comedy|Drama|Thriller|Fantasy|Crime|Drama|Horror|Thriller|Fantasy|Animation|Drama|Romance|Family|Drama|Crime|Crime|Drama|History|Romance|Horror|Thriller|Science Fiction|Adventure|Comedy|Drama|Family|Fantasy|Action|Drama|Science Fiction|Adventure|Comedy|Crime|Comedy|Family|Fantasy|Thriller|TV Movie|Comedy|Family|Drama|Romance|Comedy|Drama|Romance|Action|Adventure|Family|Fantasy|Drama|Romance|Comedy|Horror|Action|Drama|Fantasy|Horror|Thriller|Music|Drama|Comedy|Drama|Romance|Animation|Family|Drama|Action|Thriller|Crime|Crime|Mystery|Horror|Science Fiction|Thriller|Comedy|Drama|Comedy|Drama|Fantasy|Romance|Family|Animation|Drama|Crime|Mystery|Thriller|Romance|Comedy|Drama|Music|Thriller|Adventure|Fantasy|Comedy|Science Fiction|Family|Action|Crime|Drama|Thriller|Comedy|Drama|Family|Action|Adventure|Comedy|Thriller|Fantasy|Drama|Comedy|Music|Action|Comedy|Crime|Drama|Thriller|Drama|Family|Animation|Drama|Romance|Comedy|Drama|Drama|Action|Crime|Thriller|Action|Drama|Thriller|Drama|Music|Comedy|Drama|Music|Music|Drama|Adventure|Drama|Action|History|Thriller|Action|Adventure|Thriller|Fantasy|Animation|Family|Horror|Mystery|Science Fiction|Comedy|Drama|Romance|Comedy|Drama|Drama|Comedy|Horror|Thriller|Comedy|Drama|Action|Crime|Thriller|Drama|Comedy|Adventure|Drama|Fantasy|Horror|Science Fiction|Action|Animation|Crime|Comedy|Drama|Romance|Horror|Thriller|Horror|Mystery|Thriller|Drama|Thriller|Drama|Adventure|Action|Horror|Science Fiction|Drama|Thriller|Mystery|Music|Romance|Thriller|Comedy|Crime|Thriller|Action|War|Science Fiction|Action|Thriller|Comedy|Drama|Drama|Romance|Drama|Romance|Family|Comedy|Adventure|Thriller|Crime|Drama|Mystery|Thriller|Drama|Romance|Crime|Adventure|Animation|Comedy|Horror|Science Fiction|Thriller|Comedy|Comedy|Drama|Animation|Family|Thriller|Comedy|Drama|Family|Animation|Comedy|Family|Mystery|Drama|Romance|Music|Drama|Romance|Action|Comedy|Comedy|Romance|Drama|Thriller|Romance|Comedy|Crime|Drama|Comedy|Crime|Drama|Fantasy|Horror|Drama|Romance|Drama|Drama|TV Movie|Drama|Comedy|Crime|Comedy|Family|Comedy|Crime|Mystery|Thriller|Adventure|Comedy|Family|Fantasy|Horror|Action|Drama|Science Fiction|Adventure|Action|Adventure|Science Fiction|Thriller|Action|Adventure|Science Fiction|Crime|Drama|Crime|Drama|Thriller|Drama|Thriller|Romance|Action|Science Fiction|Family|Fantasy|Drama|Horror|Romance|Foreign|Comedy|Drama|Romance|Action|Adventure|Thriller|Comedy|Romance|Adventure|Documentary|Comedy|Comedy|Drama|Comedy|Drama|Comedy|Romance|Comedy|Comedy|Family|Drama|Mystery|Thriller|Horror|Comedy|Drama|Comedy|Drama|Romance|Drama|Thriller|TV Movie|Adventure|Fantasy|Horror|Science Fiction|Comedy|Drama|Family|Comedy|Crime|Action|Drama|Comedy|Drama|Romance|Comedy|Music|Adventure|Comedy|Comedy|Drama|Comedy|Drama|Family|Drama|Documentary|Horror|Drama|Foreign|History|Comedy|Documentary|Music|Drama|Horror|Mystery|Thriller|Action|Adventure|Comedy|Drama|Romance|Comedy|Crime|Drama|Thriller|Comedy|Drama|Horror|Thriller|Music|Drama|Action|Comedy|Family|Action|Animation|Comedy|Family|Action|Crime|Thriller|Comedy|Family|Romance|Action|Adventure|Drama|Foreign|Mystery|Drama|Science Fiction|Drama|Science Fiction|Crime|Drama|Romance|Foreign|Animation|Family|Adventure|Action|Comedy|Romance|Drama|Fantasy|Action|Adventure|Comedy|Family|Science Fiction|Action|Drama|Fantasy|Action|Comedy|Science Fiction|Family|Adventure|Action|Thriller|Comedy|War|Adventure|Action|Thriller|Science Fiction|Action|Adventure|Comedy|Crime|Thriller|Action|Adventure|Comedy|Adventure|Comedy|Science Fiction|Comedy|Romance|Adventure|Comedy|Family|Science Fiction|Science Fiction|Action|Adventure|Thriller|Action|Thriller|Horror|Thriller|Action|Science Fiction|Comedy|Horror|Thriller|Drama|Horror|Family|Adventure|Crime|Comedy|Drama|War|Comedy|Drama|Family|Adventure|Horror|Action|Thriller|Science Fiction|Drama|Comedy|Comedy|Crime|Drama|Comedy|Comedy|Drama|Family|Action|Adventure|Comedy|Crime|Drama|History|War|Comedy|Drama|Thriller|Action|Drama|Fantasy|Action|Adventure|Crime|Drama|Thriller|Action|Thriller|Comedy|Crime|Mystery|Horror|Thriller|Fantasy|Drama|Romance|Comedy|Crime|Horror|Science Fiction|Thriller|Science Fiction|Thriller|Action|Comedy|Thriller|Crime|Family|Foreign|Crime|Drama|Comedy|Drama|Animation|Family|Comedy|Fantasy|Action|Thriller|Action|Comedy|Crime|Drama|Thriller|Drama|Crime|Mystery|Animation|Family|Fantasy|Crime|Thriller|Horror|Drama|Action|Adventure|Fantasy|Horror|Crime|Drama|Thriller|Comedy|Horror|Comedy|Fantasy|Foreign|Comedy|Drama|Drama|Horror|Romance|Comedy|Drama|Action|Thriller|Crime|Comedy|Horror|Action|Adventure|Animation|Family|Fantasy|Comedy|Drama|Romance|Drama|Romance|Fantasy|Horror|Mystery|Music|Drama|Romance|Comedy|Drama|Romance|Drama|Action|Horror|Thriller|Science Fiction|Fantasy|Drama|Comedy|Science Fiction|Family|Action|Comedy|Romance|Animation|Family|Fantasy|Comedy|Science Fiction|Romance|Comedy|Horror|Action|Science Fiction|Crime|Drama|Horror|War|Drama|History|Action|Romance|Documentary|History|Action|Adventure|Science Fiction|Action|Adventure|Crime|Drama|Thriller|Comedy|Romance|Crime|Drama|Comedy|Horror|Science Fiction|Action|Comedy|Horror|Thriller|Comedy|Drama|Romance|Fantasy|Comedy|Science Fiction|Romance|Adventure|Drama|Action|Thriller|Comedy|Music|Comedy|Science Fiction|Action|Drama|Adventure|Comedy|Family|Mystery|Drama|Science Fiction|Thriller|Drama|Family|Fantasy|Adventure|Fantasy|Comedy|Action|Thriller|Comedy|Crime|Mystery|Action|Crime|Drama|Thriller|Crime|Drama|Romance|Thriller|Action|Comedy|Mystery|Thriller|Horror|Mystery|Drama|Comedy|Romance|Comedy|Horror|Comedy|Horror|Science Fiction|Drama|Romance|Crime|Drama|Adventure|Comedy|Drama|Family|Romance|Music|Comedy|Comedy|Romance|Drama|History|Romance|Drama|Crime|Drama|Comedy|Drama|Comedy|Drama|Romance|Action|Adventure|Comedy|Drama|Romance|Drama|Western|Adventure|Drama|Action|Thriller|Crime|Drama|Horror|Comedy|Adventure|Fantasy|Comedy|Family|Action|Comedy|Crime|Mystery|Thriller|Comedy|Horror|Comedy|Comedy|Action|Comedy|Crime|Drama|Thriller|Horror|Thriller|Comedy|Drama|Horror|Science Fiction|Thriller|Horror|Thriller|Documentary|Romance|Family|Animation|Fantasy|Music|Action|Thriller|Science Fiction|Adventure|Fantasy|Comedy|Family|Adventure|Drama|Action|Romance|Action|Fantasy|Science Fiction|Crime|Thriller|Science Fiction|Action|Adventure|Thriller|Action|Comedy|Crime|Action|Thriller|Crime|Adventure|Fantasy|Comedy|Science Fiction|Family|Action|Crime|Drama|Mystery|Thriller|Comedy|Family|Fantasy|Action|Adventure|Comedy|Action|Adventure|Science Fiction|Family|Drama|Thriller|Crime|Adventure|Drama|Music|Science Fiction|Adventure|Action|Comedy|Family|Comedy|Adventure|Adventure|Animation|Family|Crime|Drama|Thriller|Comedy|Drama|Comedy|Drama|Family|Drama|Romance|Horror|Thriller|Comedy|Drama|Romance|Adventure|Action|Comedy|Thriller|Drama|Thriller|History|Crime|Drama|Action|Thriller|Thriller|Action|Crime|Drama|Drama|Comedy|Comedy|Drama|Horror|Comedy|Drama|Horror|Mystery|Thriller|Action|Adventure|Comedy|Drama|Western|Action|Comedy|War|Drama|Family|Drama|Adventure|Romance|Comedy|Drama|Fantasy|Romance|Drama|Comedy|Action|Comedy|Crime|Action|Thriller|Crime|Thriller|Drama|Comedy|Family|Animation|Fantasy|Music|Action|Science Fiction|Drama|Fantasy|Thriller|Drama|Romance|Thriller|Crime|Drama|Comedy|Comedy|Romance|Drama|Comedy|Thriller|Action|Adventure|Drama|Drama|Comedy|Family|Thriller|Comedy|Drama|Crime|Drama|Action|Comedy|Music|Romance|Action|Thriller|Crime|Comedy|Horror|Comedy|Family|Action|Adventure|Thriller|Mystery|Thriller|Drama|Romance|Drama|Foreign|Romance|Drama|Romance|Action|Comedy|Family|Science Fiction|Horror|Fantasy|Drama|Comedy|Comedy|Family|Mystery|Fantasy|Drama|Horror|Action|Comedy|Comedy|Drama|Comedy|Fantasy|Family|Drama|Fantasy|Horror|Thriller|Comedy|Drama|Romance|Action|Fantasy|Science Fiction|Drama|Comedy|Romance|Comedy|Drama|Family|Romance|Thriller|Crime|Drama|Crime|Comedy|Thriller|Horror|Comedy|Science Fiction|Drama|Foreign|Romance|Action|Comedy|Thriller|Family|Documentary|Music|Action|Adventure|Comedy|Fantasy|Horror|Mystery|Documentary|Comedy|Crime|Mystery|Action|Adventure|Drama|Thriller|Drama|Comedy|Romance|Adventure|Action|Comedy|Comedy|Drama|Drama|Comedy|Drama|Music|Horror|Fantasy|Comedy|Science Fiction|Romance|Drama|Action|Thriller|Crime|Action|Adventure|Drama|Mystery|Thriller|Drama|Family|Drama|Action|Thriller|Crime|Fantasy|Horror|Drama|Thriller|Documentary|Comedy|Drama|Romance|Comedy|Western|Drama|Comedy|Music|Romance|Drama|Mystery|Thriller|Action|Adventure|Drama|Family|Comedy|Romance|Fantasy|Comedy|Action|Crime|Thriller|Action|Science Fiction|Thriller|Comedy|Action|Comedy|Foreign|Comedy|Fantasy|Comedy|Science Fiction|Romance|Drama|Drama|Horror|Horror|Drama|Fantasy|Drama|Mystery|Thriller|Drama|Comedy|Family|Action|Comedy|Drama|Family|Romance|Adventure|Action|Comedy|Thriller|Comedy|Romance|Drama|Romance|War|Drama|Romance|Action|Crime|Thriller|Action|Thriller|Fantasy|Drama|Comedy|Romance|Family|Action|Comedy|Crime|Comedy|Family|Fantasy|Comedy|Drama|Action|Comedy|Romance|Action|Adventure|Thriller|War|Action|Crime|Thriller|Animation|Comedy|Family|Comedy|Drama|Fantasy|Animation|Comedy|Crime|Family|Animation|Adventure|Family|Drama|Romance|Fantasy|Comedy|Drama|Horror|Thriller|Adventure|Drama|Action|Adventure|Comedy|Horror|Thriller|Crime|Comedy|Comedy|Romance|Comedy|Action|Crime|Comedy|Crime|Action|Comedy|Crime|Comedy|Family|Science Fiction|Drama|Horror|Science Fiction|Comedy|Drama|Science Fiction|Fantasy|Horror|Comedy|Science Fiction|Comedy|Romance|Comedy|Drama|Horror|Thriller|Thriller|Crime|Drama|Comedy|Horror|Comedy|Drama|Romance|Action|Horror|Science Fiction|Thriller|Action|Horror|Science Fiction|Thriller|Crime|Science Fiction|Thriller|Comedy|Horror|Thriller|Action|Adventure|Comedy|Crime|Drama|Action|Comedy|Thriller|Crime|Romance|Drama|Horror|Thriller|Thriller|Mystery|Drama|Romance|Comedy|Science Fiction|Thriller|Action|Crime|Drama|Mystery|Family|Fantasy|Science Fiction|Comedy|Horror|Science Fiction|Drama|War|Comedy|Drama|Action|Comedy|Romance|Thriller|Mystery|Comedy|Horror|Comedy|Thriller|Crime|Mystery|Comedy|Action|Adventure|Drama|Thriller|Action|Drama|Mystery|Thriller|Horror|Thriller|Action|Adventure|Comedy|Fantasy|Action|War|Action|Adventure|Crime|Drama|Mystery|Adventure|Comedy|Crime|Drama|Action|Action|Adventure|Drama|Thriller|Drama|Horror|Fantasy|Comedy|Horror|Drama|Crime|Drama|Horror|Thriller|Drama|Comedy|Music|Romance|Family|Documentary|Music|Horror|Thriller|Action|Crime|Music|Fantasy|Thriller|Comedy|Drama|Comedy|Drama|Romance|Comedy|Drama|Horror|Comedy|Animation|Family|Drama|Horror|Thriller|Drama|Comedy|Family|Drama|Music|Comedy|Drama|Romance|Horror|Thriller|Action|Comedy|Drama|Horror|Science Fiction|TV Movie|Animation|Family|Drama|Romance|Horror|Comedy|Horror|Drama|History|Drama|Drama|Music|Comedy|Drama|Romance|Science Fiction|Comedy|Drama|Comedy|War|History|Comedy|Science Fiction|Mystery|Documentary|Crime|Action|Drama|War|Action|Adventure|Crime|Thriller|Comedy|Family|Action|Adventure|Crime|Romance|Thriller|Comedy|Drama|Thriller|Comedy|Horror|Science Fiction|Comedy|Thriller|Drama|Horror|Science Fiction|Drama|Comedy|Horror|Comedy|History|Comedy|Romance|Comedy|Horror|Science Fiction|Thriller|Action|Horror|Documentary|Drama|Music|Horror|Thriller|Drama|Comedy|Fantasy|Action|Crime|Drama|Comedy|Drama|Romance|Comedy|Comedy|Fantasy|Horror|Horror|Science Fiction|Comedy|Drama|Romance|Horror|Action|Comedy|Drama|Comedy|Horror|Action|Comedy|Horror|Science Fiction|Drama|Fantasy|Horror|Documentary|Music|Fantasy|Comedy|TV Movie|Animation|Family|Mystery|Comedy|Documentary|Music|Drama|Foreign|Drama|Family|Romance|Action|History|War|Drama|Comedy|Thriller|Mystery|Comedy|Fantasy|Adventure|Family|Adventure|Family|Fantasy|Comedy|Horror|Action|Adventure|Animation|Family|Fantasy|Science Fiction|Action|Adventure|Thriller|Drama|War|Drama|Music|Romance|Comedy|Science Fiction|Action|Adventure|Thriller|Action|Thriller|Science Fiction|Horror|Comedy|Fantasy|Adventure|Action|Comedy|Thriller|Crime|Action|Science Fiction|Adventure|Thriller|Adventure|Family|Fantasy|Comedy|Romance|Horror|Thriller|Crime|Drama|Action|Comedy|Crime|Action|Adventure|Fantasy|Science Fiction|Thriller|Comedy|Crime|Crime|Drama|History|Thriller|Comedy|Drama|War|Drama|History|Horror|Drama|Romance|Thriller|Action|Comedy|Crime|Action|Comedy|Science Fiction|Comedy|Drama|Horror|Mystery|Thriller|Action|Drama|Comedy|Family|Fantasy|Science Fiction|Comedy|Horror|Fantasy|Horror|Comedy|Horror|Action|Comedy|Horror|Science Fiction|Comedy|Romance|Comedy|Drama|Romance|Comedy|Drama|Romance|Drama|Romance|Comedy|Romance|Thriller|Comedy|Crime|Adventure|Action|Comedy|Crime|Family|TV Movie|Fantasy|Horror|Comedy|Comedy|Romance|Romance|Comedy|Crime|Drama|Drama|Comedy|Drama|History|War|Horror|Fantasy|Science Fiction|Action|Fantasy|Science Fiction|Adventure|Thriller|Comedy|Drama|Crime|Drama|Action|Thriller|Mystery|Comedy|Family|Fantasy|Comedy|Action|Adventure|Crime|Horror|Drama|Thriller|Family|Comedy|Drama|Action|Horror|Science Fiction|Thriller|Fantasy|Adventure|Animation|Comedy|Family|Comedy|Horror|Horror|Science Fiction|Horror|Action|Comedy|Romance|Horror|Adventure|Drama|Fantasy|Family|Mystery|Horror|Thriller|Drama|Crime|Drama|Mystery|Thriller|Drama|Drama|Music|Crime|Drama|Romance|Thriller|Action|Adventure|Comedy|Western|Crime|Drama|Thriller|Comedy|Drama|Drama|Action|Comedy|Drama|Science Fiction|Drama|Romance|Family|Drama|Action|Adventure|Science Fiction|Crime|Comedy|Comedy|Drama|Romance|Horror|Comedy|Action|Fantasy|Science Fiction|Comedy|Horror|Comedy|Comedy|Action|Drama|Thriller|Drama|Romance|Animation|Drama|Drama|Comedy|Romance|Family|Horror|Comedy|Fantasy|Romance|Science Fiction|Comedy|Comedy|Science Fiction|Drama|Horror|Mystery|Thriller|Comedy|Drama|Horror|Mystery|Thriller|Action|Adventure|Family|Fantasy|Comedy|Romance|Comedy|Romance|Drama|Mystery|Thriller|Crime|Drama|Animation|Science Fiction|Fantasy|Adventure|Drama|Drama|Crime|Romance|Drama|War|Thriller|Action|Thriller|Crime|Drama|Fantasy|Horror|Comedy|Romance|Family|Action|Crime|Drama|Thriller|Music|Romance|Family|Action|Drama|Thriller|Drama|Comedy|Fantasy|Family|Comedy|Family|War|Action|Drama|Comedy|Thriller|Music|Romance|Comedy|Action|Crime|Comedy|Fantasy|Comedy|Horror|TV Movie|Drama|Family|Drama|War|Action|Adventure|Crime|Drama|Drama|Romance|Comedy|Horror|Comedy|Animation|Adventure|Comedy|Family|Science Fiction|Mystery|Adventure|Adventure|Science Fiction|Mystery|Horror|Crime|Drama|Mystery|Thriller|Science Fiction|Action|Crime|Drama|Thriller|Comedy|Family|Fantasy|Drama|History|Horror|Drama|Mystery|Animation|Fantasy|Music|Drama|Family|Music|Western|Adventure|Drama|Action|History|War|Comedy|Romance|Crime|Thriller|Drama|Comedy|Drama|Romance|Horror|War|Drama|Adventure|Fantasy|Comedy|Family|Drama|Fantasy|Comedy|Family|Crime|Drama|Romance|Thriller|Drama|Comedy|Music|Romance|Drama|Animation|Drama|War|Comedy|Drama|Family|War|Action|Action|Adventure|Romance|Drama|Horror|History|Action|Crime|Drama|Thriller|Comedy|Action|Drama|Comedy|Fantasy|Drama|Drama|Romance|Science Fiction|Animation|Drama|Crime|Crime|Drama|Mystery|Thriller|Adventure|Action|Thriller|Comedy|Science Fiction|Horror|Thriller|Comedy|Science Fiction|Crime|Drama|Mystery|Romance|Comedy|Family|Fantasy|Drama|Thriller|Mystery|Comedy|Western|Action|Adventure|Comedy|Drama|Action|Adventure|Drama|Thriller|Action|Crime|Drama|Drama|Drama|Romance|Thriller|Action|Crime|Crime|Horror|Thriller|Horror|Mystery|Thriller|Action|Adventure|Comedy|Crime|Comedy|Crime|Comedy|Fantasy|Horror|Music|Thriller|Action|Adventure|Crime|Thriller|Drama|Romance|Action|Crime|Drama|Thriller|Crime|Drama|Thriller|Comedy|Horror|Action|Thriller|Action|Crime|Drama|Thriller|Fantasy|Action|Thriller|Science Fiction|Animation|Family|Action|Crime|Drama|Thriller|Western|Action|Drama|Thriller|Crime|Comedy|Drama|Thriller|Horror|Science Fiction|Comedy|Documentary|Drama|Thriller|Action|Adventure|Drama|History|TV Movie|Drama|Crime|Horror|Mystery|Thriller|Drama|Comedy|Science Fiction|Adventure|Horror|Drama|Family|Adventure|Family|Romance|Documentary|War|Drama|Horror|Thriller|Adventure|Adventure|Comedy|Fantasy|Comedy|Horror|Music|Science Fiction|Drama|Romance|War|Comedy|Adventure|Drama|Drama|Action|Thriller|Mystery|Thriller|Horror|War|Drama|Science Fiction|Comedy|Action|Comedy|Science Fiction|Comedy|History|Adventure|Fantasy|Science Fiction|Family|Fantasy|Science Fiction|Thriller|Drama|Mystery|Action|Crime|Drama|Thriller|Drama|Comedy|Drama|Music|Thriller|Western|Mystery|Music|Drama|Horror|Mystery|Science Fiction|Adventure|Fantasy|Science Fiction|Comedy|Crime|Mystery|Crime|Drama|Thriller|Action|Adventure|Crime|Drama|Mystery|Horror|Science Fiction|Science Fiction|Horror|Mystery|Comedy|Adventure|Action|Science Fiction|History|Drama|Thriller|Thriller|Drama|Comedy|Drama|Romance|Action|Adventure|Drama|History|Western|Horror|Action|Thriller|Comedy|Family|Documentary|Mystery|Thriller|Horror|Thriller|Action|Science Fiction|Thriller|Action|Crime|Western|Action|Animation|Comedy|Crime|Drama|Adventure|Action|Thriller|Adventure|Drama|History|War|Drama|Romance|Crime|Drama|Mystery|Thriller|Action|Adventure|Comedy|Drama|Thriller|Western|Action|Adventure|Drama|Adventure|Drama|History|Romance|Western|Drama|Action|History|Crime|Thriller|Drama|Comedy|Music|Family|Adventure|Drama|Horror|Drama|Thriller|Crime|Drama|Drama|Fantasy|Drama|Comedy|Romance|Foreign|Action|Drama|History|War|Horror|Science Fiction|Drama|Romance|Drama|Thriller|Comedy|Horror|Mystery|Drama|Science Fiction|Thriller|Drama|Mystery|Horror|Action|Adventure|Drama|Family|Action|Drama|War|Horror|Mystery|Action|Western|Drama|Comedy|Romance|Adventure|Action|Thriller|Drama|Comedy|War|Comedy|Music|Family|Fantasy|Comedy|Music|Animation|Family|Crime|Drama|Mystery|Thriller|Drama|Family|Music|Romance|Comedy|Crime|Horror|Science Fiction|Drama|Horror|Drama|Thriller|Crime|Mystery|Comedy|Drama|History|Thriller|Action|Drama|History|War|Comedy|Romance|Comedy|Animation|Comedy|Family|Fantasy|Science Fiction|Thriller|Action|War|Comedy|Drama|Music|Romance|Crime|Drama|Horror|Fantasy|Action|Drama|Thriller|Comedy|Romance|Drama|Adventure|Drama|Drama|Romance|Crime|Drama|Mystery|Drama|Science Fiction|Crime|Drama|Thriller|Thriller|Drama|Crime|Drama|Foreign|Horror|Adventure|Comedy|Crime|Comedy|Romance|Adventure|Comedy|Romance|Comedy|Romance|Western|Action|Adventure|Science Fiction|Music|Comedy|Crime|Comedy|Romance|Drama|History|Fantasy|Crime|Drama|Horror|Mystery|Thriller|Horror|Science Fiction|Drama|Family|Fantasy|Adventure|Action|Thriller|Science Fiction|Comedy|Drama|Romance|Action|Crime|Thriller|Action|Science Fiction|Crime|Drama|Thriller|Mystery|Action|Science Fiction|Thriller|Adventure|Fantasy|Animation|Comedy|Family|Drama|Mystery|Science Fiction|Thriller|Comedy|Drama|Romance|Action|Crime|Thriller|Crime|Drama|Romance|Thriller|Comedy|Drama|Western|Crime|Drama|Romance|Horror|Action|Mystery|Thriller|Crime|Thriller|Comedy|Drama|Thriller|War|Drama|History|Science Fiction|Thriller|Action|Western|Drama|Adventure|Drama|Adventure|Action|Thriller|Crime|Western|Drama|Music|Romance|Drama|Action|Thriller|Drama|Western|Horror|Mystery|Action|Crime|Drama|Thriller|Drama|Mystery|War|Drama|Action|Drama|Drama|Romance|War|Horror|Drama|TV Movie|Drama|Adventure|Western|Drama|Thriller|Comedy|Romance|Horror|Crime|Drama|History|Drama|Comedy|Horror|Thriller|Romance|Drama|War|Crime|Drama|Comedy|Horror|Drama|History|Drama|Romance|Horror|Thriller|Mystery|Comedy|Drama|Action|Adventure|Science Fiction|Drama|Crime|Action|Thriller|Adventure|Action|Comedy|Science Fiction|Family|Fantasy|Drama|Romance|Romance|Comedy|Drama|Action|Thriller|Crime|Adventure|Drama|Western|Fantasy|Drama|Thriller|Mystery|Romance|Science Fiction|Action|Adventure|Comedy|Family|Horror|Thriller|Drama|Drama|Horror|Adventure|Fantasy|Horror|Action|Adventure|Thriller|Science Fiction|Action|Thriller|Adventure|Drama|Horror|Mystery|Thriller|Drama|Thriller|Crime|Comedy|Horror|Fantasy|Action|Horror|Action|Adventure|Crime|Science Fiction|Thriller|Drama|Family|Fantasy|Adventure|Romance|Comedy|Drama|Thriller|Action|Comedy|Crime|Drama|Adventure|Animation|Family|Comedy|Fantasy|Action|Thriller|Action|Crime|Drama|Mystery|Thriller|Comedy|Drama|Romance|Drama|Horror|Thriller|Drama|Thriller|Crime|Mystery|Fantasy|Comedy|Science Fiction|Romance|Comedy|Crime|Thriller|Adventure|Animation|Comedy|Science Fiction|Family|Thriller|Horror|Mystery|Drama|Horror|Science Fiction|Thriller|War|Action|Science Fiction|Comedy|Crime|Romance|Action|Adventure|Comedy|Drama|Drama|Mystery|Horror|Drama|Action|Thriller|Crime|Music|Comedy|Drama|Romance|Action|Thriller|Science Fiction|Crime|Horror|Music|Drama|Western|Adventure|Action|Adventure|Comedy|Romance|Adventure|Action|Comedy|Thriller|Crime|Action|Science Fiction|Crime|Drama|Thriller|Crime|Romance|Comedy|Drama|Romance|Horror|Crime|Drama|Thriller|Comedy|Drama|Comedy|Drama|Action|Thriller|Mystery|Drama|Thriller|Comedy|Drama|Comedy|Action|Adventure|Action|Comedy|Comedy|Crime|Thriller|Crime|Drama|Horror|Animation|Comedy|Family|Science Fiction|Adventure|Drama|Romance|Horror|Science Fiction|Thriller|Comedy|Crime|Adventure|Drama|Thriller|Fantasy|Horror|Comedy|Comedy|Horror|Action|Thriller|Science Fiction|Thriller|Action|Adventure|Adventure|Animation|Crime|Family|Fantasy|Drama|Horror|Mystery|Thriller|Comedy|Comedy|Family|Mystery|Thriller|Comedy|Family|Adventure|Family|Drama|Foreign|History|Comedy|Horror|Science Fiction|Drama|Comedy|Science Fiction|Action|Thriller|Thriller|Drama|Romance|Crime|Comedy|Action|Drama|Fantasy|Horror|Crime|Drama|Mystery|Drama|Action|Comedy|Crime|Thriller|Action|Thriller|Romance|Action|Adventure|Western|Drama|Adventure|Drama|Action|Drama|Romance|Action|Crime|Drama|Thriller|Thriller|Horror|Action|Comedy|Thriller|Crime|Mystery|Drama|War|Action|Horror|Thriller|Action|Crime|Drama|Thriller|Fantasy|Comedy|Science Fiction|Romance|Comedy|Drama|Comedy|Drama|Crime|Drama|Horror|Thriller|Drama|Fantasy|Comedy|Science Fiction|Drama|Horror|Mystery|Thriller|Comedy|Drama|Romance|Action|Comedy|Crime|TV Movie|Horror|Thriller|Drama|Action|Thriller|Romance|Documentary|Comedy|Family|Comedy|Drama|Romance|Comedy|Drama|Comedy|Horror|Horror|Drama|Mystery|Drama|Action|Drama|History|Drama|Crime|History|Comedy|Family|Fantasy|Comedy|Drama|Drama|History|Crime|Thriller|Action|Comedy|Action|Thriller|Crime|Mystery|Adventure|Animation|Comedy|Family|Comedy|Drama|Romance|Music|Crime|Drama|Action|Adventure|Drama|War|Drama|Crime|Mystery|Comedy|Drama|History|Comedy|Family|Western|Action|Adventure|Action|Drama|History|Romance|War|Horror|Drama|Drama|Drama|Action|Romance|Comedy|Family|Science Fiction|Horror|Action|Adventure|Science Fiction|Drama|Romance|Horror|Drama|Fantasy|Science Fiction|Family|Western|Action|Comedy|Family|Comedy|Romance|Adventure|Drama|History|Comedy|Drama|Comedy|Music|Romance|Fantasy|Drama|Action|Foreign|Adventure|Science Fiction|Drama|Comedy|Western|Romance|Drama|Drama|Horror|Thriller|Action|Adventure|Western|Action|Drama|History|Comedy|Drama|Romance|Comedy|Romance|Thriller|Adventure|Fantasy|Science Fiction|Romance|Horror|Thriller|Adventure|Family|Thriller|Music|Comedy|Crime|Action|Drama|Western|Comedy|Drama|Romance|Horror|Horror|Thriller|Drama|Crime|Western|Action|Western|Action|Drama|Romance|Western|Drama|Family|Thriller|Comedy|Action|Adventure|Drama|History|Western|Action|Drama|Foreign|History|War|Drama|History|Adventure|Fantasy|Science Fiction|Drama|Comedy|Horror|Science Fiction|Comedy|Family|Horror|Comedy|Romance|Horror|Action|Drama|History|War|Crime|Drama|Drama|Horror|Thriller|Horror|Thriller|Adventure|Action|Romance|Science Fiction|Action|Adventure|Drama|Horror|Science Fiction|Drama|History|Mystery|Thriller|Action|Crime|Thriller|Comedy|Crime|Thriller|Drama|Western|Thriller|Comedy|Drama|Drama|Adventure|Drama|Action|Thriller|War|Comedy|Comedy|Crime|Mystery|Thriller|Comedy|Crime|Romance|Thriller|Action|Crime|Comedy|Mystery|Action|Adventure|Science Fiction|Thriller|Action|Adventure|Drama|Western|Drama|Thriller|Drama|Crime|Drama|Western|Fantasy|Comedy|Family|TV Movie|Drama|Drama|Science Fiction|Mystery|Drama|Thriller|Thriller|Mystery|Horror|Action|Thriller|Drama|Thriller|Mystery|Action|Adventure|Drama|Romance|Drama|Action|Comedy|Music|Family|Comedy|Horror|Drama|Music|Romance|Horror|Action|Drama|History|War|Comedy|Drama|Action|Documentary|Music|Comedy|Drama|Romance|Horror|Thriller|Action|Foreign|Fantasy|Horror|Science Fiction|Comedy|Family|Horror|Mystery|Thriller|Crime|Romance|Fantasy|Drama|Comedy|Fantasy|Animation|Family|Drama|History|War|Adventure|Science Fiction|Action|Adventure|Comedy|Science Fiction|Comedy|Drama|Family|Adventure|Action|Thriller|Crime|Mystery|Action|Drama|Thriller|Crime|Mystery|Drama|Mystery|Comedy|Drama|Adventure|Fantasy|Action|Comedy|Family|Crime|Drama|Thriller|Comedy|Comedy|Family|Fantasy|Action|Adventure|Thriller|Drama|Thriller|Action|Adventure|Comedy|Family|Fantasy|Drama|History|War|Animation|Comedy|Family|Comedy|Comedy|Drama|Romance|Action|Adventure|Drama|History|Western|Action|Comedy|Drama|Romance|Comedy|Romance|Action|Crime|Drama|Thriller|Action|Comedy|War|Action|Thriller|Crime|Romance|Adventure|Comedy|Family|Fantasy|Music|Comedy|Action|Thriller|Crime|Action|Mystery|Thriller|Action|Adventure|Comedy|Action|Adventure|Crime|Science Fiction|Thriller|Romance|Drama|Family|Comedy|Thriller|Crime|Drama|Crime|Comedy|Crime|Mystery|Thriller|Crime|Drama|Thriller|Comedy|Family|Drama|Mystery|Thriller|Mystery|Horror|Action|Adventure|Drama|Thriller|Comedy|Family|Fantasy|Crime|Drama|Thriller|Drama|Horror|Science Fiction|Thriller|Family|Adventure|Comedy|Crime|Romance|Drama|Comedy|Drama|Romance|Thriller|Drama|Mystery|Action|Thriller|Drama|Crime|Action|Mystery|Thriller|Romance|Drama|Action|Drama|Western|Action|Crime|Drama|Thriller|Adventure|Comedy|Drama|Family|Drama|Comedy|Romance|Drama|Horror|Thriller|Comedy|Action|Adventure|Crime|Thriller|Drama|Romance|Animation|Action|Adventure|Family|Drama|Romance|Drama|Music|Mystery|Action|Drama|Thriller|Drama|Action|Comedy|Comedy|Action|Drama|Horror|Thriller|Action|Adventure|Drama|Thriller|Drama|Crime|Action|Drama|Thriller|Horror|Thriller|Drama|Thriller|Mystery|Romance|Comedy|Family|Romance|Comedy|Romance|Comedy|Family|Drama|Drama|Romance|Comedy|Foreign|Comedy|Science Fiction|Family|Family|Comedy|War|Drama|History|Comedy|Drama|Comedy|Crime|Romance|Romance|Drama|Comedy|Drama|Comedy|Comedy|Drama|Science Fiction|Action|Adventure|Drama|Fantasy|Comedy|Drama|Romance|Action|Crime|Drama|Thriller|Drama|Action|Crime|Horror|Science Fiction|Drama|Thriller|Romance|Drama|Romance|History|War|Action|Drama|Action|Adventure|History|War|Drama|Fantasy|Drama|Comedy|Science Fiction|Romance|Crime|Drama|Thriller|Drama|Music|Mystery|Drama|Comedy|Action|Comedy|Comedy|Horror|Thriller|Horror|Comedy|Family|Comedy|Comedy|Foreign|Crime|Drama|Drama|Fantasy|Drama|Family|Drama|History|Action|Crime|Drama|Thriller|Drama|Romance|Drama|Romance|Drama|Romance|Comedy|Drama|Drama|Western|Drama|Comedy|Romance|Drama|Romance|Horror|Mystery|Music|Drama|Comedy|Drama|Drama|Comedy|Comedy|Action|Comedy|Family|Comedy|Drama|Romance|Fantasy|Horror|Science Fiction|Drama|Thriller|Drama|Horror|Thriller|Mystery|Animation|Science Fiction|Family|Drama|Action|Thriller|Family|Drama|Horror|Thriller|Adventure|Action|Comedy|Foreign|Action|Adventure|Science Fiction|Action|Adventure|Comedy|Romance|Action|Action|Comedy|Family|Action|Crime|Drama|Foreign|Thriller|Comedy|Crime|Horror|Science Fiction|Thriller|Drama|Romance|Adventure|Action|Comedy|Music|Drama|Romance|Comedy|History|Horror|Animation|Family|Adventure|Horror|Science Fiction|Horror|Comedy|Fantasy|Action|Comedy|Science Fiction|Family|Drama|Action|Comedy|Drama|Family|Comedy|Action|Horror|Romance|Science Fiction|Drama|Action|Adventure|Crime|Thriller|Horror|Mystery|Thriller|Action|Adventure|Drama|Family|Action|Comedy|Drama|Thriller|Documentary|Comedy|Romance|Action|Crime|Drama|Thriller|Action|Adventure|Comedy|Family|Action|Comedy|Foreign|Comedy|Drama|Romance|Drama|Crime|Action|Comedy|Science Fiction|Music|Comedy|Science Fiction|Thriller|Fantasy|Animation|Science Fiction|Family|Comedy|Family|Animation|Adventure|Comedy|Drama|Romance|Adventure|Action|Comedy|Action|Thriller|Adventure|Crime|Drama|Drama|Romance|Crime|Drama|Crime|Drama|Thriller|Comedy|Horror|Comedy|Thriller|Action|Adventure|War|Crime|Drama|Mystery|Thriller|Drama|Action|Thriller|Crime|Mystery|Drama|Comedy|Drama|Romance|Horror|Science Fiction|Crime|Drama|Comedy|Drama|Romance|Comedy|Adventure|Fantasy|Comedy|Family|Music|Action|Drama|Western|Music|Drama|Romance|Comedy|Romance|Comedy|Drama|Romance|Action|Adventure|Crime|Drama|Mystery|Western|Comedy|Romance|Music|Horror|Comedy|Science Fiction|Science Fiction|Fantasy|Comedy|Romance|Documentary|Music|Fantasy|Comedy|Family|Comedy|Music|Romance|Horror|Science Fiction|Animation|Drama|Romance|Comedy|Action|Adventure|Comedy|Action|Thriller|Adventure|Animation|Family|Horror|Comedy|Mystery|Romance|Thriller|Comedy|Drama|History|Romance|Comedy|Adventure|Action|Crime|Comedy|Crime|Adventure|Drama|History|Thriller|War|Mystery|Horror|Thriller|Adventure|Drama|Foreign|Thriller|Comedy|Romance|Drama|Thriller|Crime|Mystery|Comedy|Horror|Science Fiction|Thriller|Action|Drama|Western|Adventure|Comedy|History|Romance|Comedy|Fantasy|Horror|Adventure|Comedy|Romance|Drama|Mystery|Thriller|Action|Drama|History|Horror|Thriller|Drama|Foreign|Comedy|Romance|Family|Drama|Comedy|Romance|Western|Adventure|Family|Fantasy|Horror|Science Fiction|Thriller|Romance|Comedy|Drama|Horror|Drama|Comedy|Drama|Drama|Mystery|Crime|Horror|Mystery|Horror|Horror|Action|Thriller|Science Fiction|Adventure|Action|Fantasy|Drama|War|Action|Drama|Action|Romance|Drama|Comedy|Crime|Drama|Family|Animation|Adventure|Comedy|Drama|Family|Animation|Adventure|Horror|Science Fiction|Drama|Romance|Animation|Adventure|Comedy|Action|Adventure|Comedy|Comedy|Family|Science Fiction|Crime|Drama|Mystery|Thriller|Science Fiction|Adventure|Fantasy|Comedy|Science Fiction|Adventure|Fantasy|Action|Comedy|Drama|Drama|Thriller|Mystery|Adventure|Family|Fantasy|Action|Crime|Thriller|Horror|Action|Thriller|Adventure|Drama|Action|Romance|Family|Family|Science Fiction|Adventure|Comedy|Western|Action|Crime|Thriller|Adventure|Comedy|Action|Comedy|Drama|War|Action|Adventure|Comedy|Comedy|Thriller|Horror|Comedy|Romance|Horror|Comedy|Music|Drama|Comedy|Romance|Adventure|Drama|Action|History|Drama|Family|Horror|Mystery|Thriller|Adventure|Drama|Horror|Science Fiction|Fantasy|Action|Action|Comedy|Crime|Comedy|Horror|Science Fiction|Comedy|Drama|Music|Romance|Drama|Music|Mystery|Romance|Horror|Fantasy|Comedy|Drama|Comedy|Action|Horror|Drama|Animation|Romance|Comedy|Thriller|Comedy|Drama|Action|Crime|Mystery|Action|Drama|Horror|Science Fiction|Drama|Romance|Action|Adventure|Comedy|Comedy|Drama|Fantasy|Romance|Action|Comedy|Drama|Romance|Horror|Mystery|Thriller|Horror|Thriller|Drama|Crime|Romance|Crime|Drama|Comedy|Science Fiction|Action|Thriller|Horror|Thriller|Crime|Drama|Drama|Romance|Science Fiction|Horror|Action|Crime|Horror|Music|Horror|Comedy|Comedy|Drama|Romance|Comedy|Drama|Comedy|Crime|Mystery|Drama|Horror|Science Fiction|Action|Comedy|Comedy|Drama|Romance|Crime|Thriller|Action|Animation|Family|Comedy|Horror|Science Fiction|Comedy|Horror|Comedy|Science Fiction|Thriller|Action|Comedy|Crime|Science Fiction|Thriller|Drama|Family|Crime|Drama|Drama|Comedy|Romance|Family|Horror|Drama|Action|Thriller|War|Comedy|Crime|Drama|Romance|Thriller|Action|Thriller|Action|Crime|Thriller|Fantasy|Horror|Drama|History|Drama|Family|Fantasy|Science Fiction|Adventure|Drama|Comedy|Horror|Science Fiction|Horror|Science Fiction|Action|Comedy|Crime|Comedy|Horror|Music|Drama|Romance|Animation|Family|Comedy|Drama|Romance|Comedy|Drama|Comedy|Drama|Romance|Drama|Romance|Comedy|Romance|Science Fiction|Animation|Comedy|Drama|War|Drama|Romance|Comedy|Family|Adventure|Action|Drama|Horror|Science Fiction|Thriller|Fantasy|Drama|Music|Romance|Drama|Fantasy|Horror|Comedy|Horror|Crime|Horror|Thriller|Horror|Science Fiction|Thriller|Drama|Romance|History|Comedy|Animation|Family|Drama|Horror|Thriller|Adventure|Action|Thriller|Drama|Crime|Crime|Thriller|Action|Action|Adventure|Drama|Horror|Science Fiction|Action|Science Fiction|Thriller|Drama|Horror|Comedy|Crime|Drama|Action|Crime|Thriller|Western|Action|Thriller|Drama|Romance|Comedy|Drama|Mystery|Science Fiction|Thriller|Crime|Drama|Science Fiction|Comedy|Romance|Drama|History|Music|Crime|Drama|History|Action|Crime|Drama|Thriller|Comedy|Crime|Drama|Action|Adventure|Comedy|Drama|Thriller|Crime|Drama|Mystery|Western|Action|Adventure|Drama|Family|Fantasy|Horror|Mystery|Comedy|Drama|Animation|Drama|Family|Drama|Western|Crime|Drama|Action|Adventure|Drama|Horror|Horror|Thriller|Action|Western|Animation|Comedy|Family|Action|Crime|Drama|Horror|Science Fiction|Drama|Thriller|Crime|Drama|Mystery|Crime|Drama|Drama|Romance|Documentary|Drama|Crime|Horror|Horror|Science Fiction|Mystery|Horror|TV Movie|Horror|Action|Thriller|Drama|Crime|Drama|Thriller|Horror|Thriller|Mystery|Horror|Action|Drama|Horror|Thriller|Drama|Thriller|Crime|Mystery|Comedy|Horror|Action|Crime|Drama|Animation|Comedy|Family|Adventure|Adventure|Science Fiction|Mystery|Comedy|Drama|War|Action|Adventure|Comedy|Drama|War|Horror|Drama|History|War|Drama|Romance|Drama|Romance|History|Action|Drama|Adventure|War|Comedy|Drama|Thriller|Western|Action|Drama|Thriller|Drama|Romance|Horror|Crime|TV Movie|Animation|Family|Fantasy|War|Comedy|Drama|Action|Comedy|Drama|Western|Science Fiction|Thriller|Action|Drama|Romance|Western|Comedy|Fantasy|Drama|Family|Horror|Music|Drama|Crime|Drama|Horror|Documentary|Music|Action|Comedy|Western|Comedy|Action|Adventure|Drama|Western|Documentary|Music|Action|Western|Documentary|Music|Action|Western|Romance|Drama|Comedy|Adventure|Comedy|Crime|Mystery|Romance|Action|Drama|Foreign|History|Horror|Mystery|Thriller|Crime|Fantasy|Science Fiction|Thriller|Action|Comedy|Drama|Western|Adventure|Action|Thriller|Drama|Family|Music|Romance|Drama|Romance|War|Action|Adventure|Comedy|Animation|Family|Comedy|TV Movie|Crime|Drama|Thriller|Mystery|Horror|War|Drama|Adventure|Drama|Comedy|Music|Action|Adventure|Drama|Western|Thriller|Action|Crime|Drama|Comedy|Romance|Action|Drama|History|Thriller|War|Action|Thriller|War|Drama|Thriller|Comedy|Science Fiction|Drama|War|Action|Adventure|Drama|Western|Action|Drama|History|Drama|Romance|Drama|History|War|Drama|Horror|Thriller|Thriller|Horror|Thriller|Mystery|Drama|History|Comedy|Western|Drama|Action|Adventure|War|Western|War|Drama|Romance|Comedy|Drama|Family|Horror|Mystery|Thriller|Drama|Horror|Thriller|Science Fiction|Foreign|Adventure|Action|Thriller|History|Drama|Western|Crime|Action|Adventure|Crime|Drama|Drama|Adventure|Western|Comedy|Crime|Action|Drama|History|War|Action|Drama|Mystery|Thriller|Family|Animation|TV Movie|Drama|Drama|Action|Comedy|Western|Music|Comedy|Family|Music|Romance|Drama|Action|Western|Animation|Comedy|Family|Comedy|Family|Drama|Western|Adventure|Comedy|Romance|Drama|Romance|Thriller|Fantasy|Action|Science Fiction|Western|Comedy|Western|Action|History|War|Comedy|Action|Comedy|Drama|Romance|War|Action|Adventure|Comedy|Fantasy|Science Fiction|Horror|Drama|Science Fiction|Drama|Comedy|Animation|Comedy|Music|Horror|Thriller|Horror|Adventure|Fantasy|Action|Science Fiction|Horror|Thriller|Comedy|Action|Comedy|Thriller|Crime|Family|Drama|War|Action|Crime|Drama|Thriller|Comedy|Drama|Romance|Action|Adventure|Drama|Drama|Action|Thriller|Crime|Adventure|Comedy|Family|Science Fiction|TV Movie|Drama|History|Drama|Crime|Drama|Animation|Adventure|Drama|Action|Thriller|Science Fiction|Comedy|Mystery|Thriller|Thriller|Mystery|Drama|Mystery|Crime|Drama|Thriller|Drama|Action|Action|Adventure|War|Thriller|Action|Comedy|Drama|Horror|Thriller|Science Fiction|Mystery|Horror|Action|Thriller|War|Fantasy|Science Fiction|Horror|Action|Adventure|Comedy|Romance|Drama|Adventure|Fantasy|Science Fiction|Family|Adventure|Family|Fantasy|Music|Science Fiction|Drama|Horror|Thriller|Comedy|Family|Action|Drama|Horror|Thriller|Documentary|Horror|Adventure|Animation|Drama|Comedy|Western|Science Fiction|Adventure|Action|Drama|Horror|Science Fiction|Drama|Crime|Fantasy|Drama|Comedy|Romance|Horror|Science Fiction|Thriller|Drama|Drama|Horror|Science Fiction|Thriller|Drama|Romance|Drama|Horror|Mystery|Thriller|Drama|Horror|Drama|Thriller|Science Fiction|Documentary|Horror|Thriller|Science Fiction|Horror|Horror|Mystery|TV Movie|Thriller|Comedy|Horror|Science Fiction|Action|Drama|Foreign|Thriller|Adventure|History|Drama|Science Fiction|TV Movie|Comedy|Family|Science Fiction|Drama|Romance|War|Comedy|Documentary|Music|Horror|Thriller|Mystery|Action|Comedy|Animation|Family|Comedy|Drama|Science Fiction|Drama|Action|Adventure|Fantasy|Drama|Drama|Mystery|Thriller|Drama|History|Family|Adventure|Comedy|Science Fiction|Crime|Mystery|Thriller|Action|Western|Comedy|Drama|Foreign|Thriller|Romance|Comedy|Action|Adventure|Thriller|Comedy|Crime|Romance|Action|Western|Action|Adventure|Drama|War|Romance|Comedy|Romance|War|Action|Adventure|Drama|Action|Adventure|Western|Family|Animation|Thriller|Western|Animation|Family|Adventure|Drama|War|History|Action|Adventure|Comedy|Fantasy|Science Fiction|Comedy|Western|Horror|Science Fiction|Horror|Adventure|Science Fiction|Action|Comedy|Crime|Action|Drama|Thriller|Crime|Mystery|Adventure|Drama|Action|Family|Foreign|Western|Comedy|Drama|Romance|Thriller|Drama|Crime|Comedy|Family|Mystery|Romance|Comedy|Drama|Family|Action|Western|Comedy|War|Mystery|Science Fiction|Thriller|Drama|Comedy|Documentary|Action|Adventure|Drama|Mystery|Comedy|Action|Comedy|Horror'"
            ],
            "application/vnd.google.colaboratory.intrinsic+json": {
              "type": "string"
            }
          },
          "metadata": {},
          "execution_count": 10
        }
      ]
    },
    {
      "cell_type": "code",
      "source": [
        "genres =pd.Series(genres_conc.split(sep='|'))\n",
        "\n",
        "genres"
      ],
      "metadata": {
        "colab": {
          "base_uri": "https://localhost:8080/",
          "height": 0
        },
        "id": "ZJzhypzYf74V",
        "outputId": "e8a8a494-7bee-4066-8ffc-b3caef051c1c"
      },
      "execution_count": 11,
      "outputs": [
        {
          "output_type": "execute_result",
          "data": {
            "text/plain": [
              "0                 Action\n",
              "1              Adventure\n",
              "2        Science Fiction\n",
              "3               Thriller\n",
              "4                 Action\n",
              "              ...       \n",
              "26955            Mystery\n",
              "26956             Comedy\n",
              "26957             Action\n",
              "26958             Comedy\n",
              "26959             Horror\n",
              "Length: 26960, dtype: object"
            ]
          },
          "metadata": {},
          "execution_count": 11
        }
      ]
    },
    {
      "cell_type": "code",
      "source": [
        "#removing the pipe(|) symbol on the production companies\n",
        "def Production_Companies(x):\n",
        "          #concatenate production companies into one string\n",
        "    companies_conc =df['production_companies'].str.cat(sep='|')\n",
        "\n",
        "          #breakdown the production companies string into single rows\n",
        "    companies =pd.Series(companies_conc.split('|'))\n",
        "    #companies=companies.value_counts(ascending=False)\n",
        "    return(companies)"
      ],
      "metadata": {
        "id": "yVOfInKXn9Xc"
      },
      "execution_count": 12,
      "outputs": []
    },
    {
      "cell_type": "code",
      "source": [
        "x= Production_Companies(df)\n",
        "x"
      ],
      "metadata": {
        "colab": {
          "base_uri": "https://localhost:8080/",
          "height": 0
        },
        "id": "SbaDjzgFoyaY",
        "outputId": "7d6fefb2-4ed1-4984-dc9e-7fbc45998034"
      },
      "execution_count": 13,
      "outputs": [
        {
          "output_type": "execute_result",
          "data": {
            "text/plain": [
              "0                  Universal Studios\n",
              "1               Amblin Entertainment\n",
              "2                 Legendary Pictures\n",
              "3            Fuji Television Network\n",
              "4                             Dentsu\n",
              "                    ...             \n",
              "23222               Joel Productions\n",
              "23223    Douglas & Lewis Productions\n",
              "23224                        Mosfilm\n",
              "23225        Benedict Pictures Corp.\n",
              "23226                      Norm-Iris\n",
              "Length: 23227, dtype: object"
            ]
          },
          "metadata": {},
          "execution_count": 13
        }
      ]
    },
    {
      "cell_type": "code",
      "source": [
        "#removing the pipe(|) symbol from the directors column\n",
        "def Directors(x):\n",
        "          #concatenate movie directors into one string\n",
        "    directors =df['director'].str.cat(sep='|')\n",
        "\n",
        "          #breakdown the directors string into single rows\n",
        "    movie_directors =pd.Series(directors.split('|'))\n",
        "    #movie_directors =movie_directors.value_counts(ascending=False)\n",
        "    return(movie_directors)"
      ],
      "metadata": {
        "id": "nAM6MP0vs7Xt"
      },
      "execution_count": 14,
      "outputs": []
    },
    {
      "cell_type": "code",
      "source": [
        "Directors(df)"
      ],
      "metadata": {
        "colab": {
          "base_uri": "https://localhost:8080/",
          "height": 0
        },
        "id": "ThTYp75PtiWJ",
        "outputId": "ef86ae36-fd39-4962-e50e-ede8374804fb"
      },
      "execution_count": 15,
      "outputs": [
        {
          "output_type": "execute_result",
          "data": {
            "text/plain": [
              "0           Colin Trevorrow\n",
              "1             George Miller\n",
              "2          Robert Schwentke\n",
              "3               J.J. Abrams\n",
              "4                 James Wan\n",
              "                ...        \n",
              "11887           Bruce Brown\n",
              "11888    John Frankenheimer\n",
              "11889        Eldar Ryazanov\n",
              "11890           Woody Allen\n",
              "11891      Harold P. Warren\n",
              "Length: 11892, dtype: object"
            ]
          },
          "metadata": {},
          "execution_count": 15
        }
      ]
    },
    {
      "cell_type": "code",
      "source": [
        "#removing the pipe(|) symbol from the cast column\n",
        "\n",
        "def Movie_Cast(x):\n",
        "          #concatenate movie directors into one string\n",
        "    cast =df['cast'].str.cat(sep='|')\n",
        "\n",
        "          #breakdown the directors string into single rows\n",
        "    movie_cast =pd.Series(cast.split('|'))\n",
        "    #movie_cast=movie_cast.value_counts(ascending=False)\n",
        "    return(movie_cast)"
      ],
      "metadata": {
        "id": "5BglyxTZINFY"
      },
      "execution_count": 16,
      "outputs": []
    },
    {
      "cell_type": "code",
      "source": [
        "Movie_Cast(df)"
      ],
      "metadata": {
        "colab": {
          "base_uri": "https://localhost:8080/",
          "height": 0
        },
        "id": "B5gQrFQELoKw",
        "outputId": "5139b117-14f6-4165-f2fc-65aeecd96c6e"
      },
      "execution_count": 17,
      "outputs": [
        {
          "output_type": "execute_result",
          "data": {
            "text/plain": [
              "0                Chris Pratt\n",
              "1        Bryce Dallas Howard\n",
              "2                Irrfan Khan\n",
              "3          Vincent D'Onofrio\n",
              "4              Nick Robinson\n",
              "                ...         \n",
              "52568       Harold P. Warren\n",
              "52569             Tom Neyman\n",
              "52570          John Reynolds\n",
              "52571           Diane Mahree\n",
              "52572      Stephanie Nielson\n",
              "Length: 52573, dtype: object"
            ]
          },
          "metadata": {},
          "execution_count": 17
        }
      ]
    },
    {
      "cell_type": "markdown",
      "source": [
        "Exploratory Data Analysis\n"
      ],
      "metadata": {
        "id": "QFfqDDTmxPAX"
      }
    },
    {
      "cell_type": "markdown",
      "source": [
        "<a id='eda'></a>\n",
        "## Exploratory Data Analysis\n",
        "\n",
        "### Research Question 1 What is the average movie runtime?"
      ],
      "metadata": {
        "id": "WVwHmTxgx3qK"
      }
    },
    {
      "cell_type": "code",
      "source": [
        "#statistical information about the dataset\n",
        "df.describe()"
      ],
      "metadata": {
        "colab": {
          "base_uri": "https://localhost:8080/",
          "height": 300
        },
        "id": "1bmG32TVkflN",
        "outputId": "54978d89-af5a-45f8-eec7-321c07709d24"
      },
      "execution_count": 18,
      "outputs": [
        {
          "output_type": "execute_result",
          "data": {
            "text/plain": [
              "         popularity        budget       revenue       runtime    vote_count  \\\n",
              "count  10866.000000  1.086600e+04  1.086600e+04  10866.000000  10866.000000   \n",
              "mean       0.646441  1.462570e+07  3.982332e+07    102.070863    217.389748   \n",
              "std        1.000185  3.091321e+07  1.170035e+08     31.381405    575.619058   \n",
              "min        0.000065  0.000000e+00  0.000000e+00      0.000000     10.000000   \n",
              "25%        0.207583  0.000000e+00  0.000000e+00     90.000000     17.000000   \n",
              "50%        0.383856  0.000000e+00  0.000000e+00     99.000000     38.000000   \n",
              "75%        0.713817  1.500000e+07  2.400000e+07    111.000000    145.750000   \n",
              "max       32.985763  4.250000e+08  2.781506e+09    900.000000   9767.000000   \n",
              "\n",
              "       vote_average  release_year    budget_adj   revenue_adj  \n",
              "count  10866.000000  10866.000000  1.086600e+04  1.086600e+04  \n",
              "mean       5.974922   2001.322658  1.755104e+07  5.136436e+07  \n",
              "std        0.935142     12.812941  3.430616e+07  1.446325e+08  \n",
              "min        1.500000   1960.000000  0.000000e+00  0.000000e+00  \n",
              "25%        5.400000   1995.000000  0.000000e+00  0.000000e+00  \n",
              "50%        6.000000   2006.000000  0.000000e+00  0.000000e+00  \n",
              "75%        6.600000   2011.000000  2.085325e+07  3.369710e+07  \n",
              "max        9.200000   2015.000000  4.250000e+08  2.827124e+09  "
            ],
            "text/html": [
              "\n",
              "  <div id=\"df-735c3cba-dfb1-4c9d-99cd-b670037aaab1\">\n",
              "    <div class=\"colab-df-container\">\n",
              "      <div>\n",
              "<style scoped>\n",
              "    .dataframe tbody tr th:only-of-type {\n",
              "        vertical-align: middle;\n",
              "    }\n",
              "\n",
              "    .dataframe tbody tr th {\n",
              "        vertical-align: top;\n",
              "    }\n",
              "\n",
              "    .dataframe thead th {\n",
              "        text-align: right;\n",
              "    }\n",
              "</style>\n",
              "<table border=\"1\" class=\"dataframe\">\n",
              "  <thead>\n",
              "    <tr style=\"text-align: right;\">\n",
              "      <th></th>\n",
              "      <th>popularity</th>\n",
              "      <th>budget</th>\n",
              "      <th>revenue</th>\n",
              "      <th>runtime</th>\n",
              "      <th>vote_count</th>\n",
              "      <th>vote_average</th>\n",
              "      <th>release_year</th>\n",
              "      <th>budget_adj</th>\n",
              "      <th>revenue_adj</th>\n",
              "    </tr>\n",
              "  </thead>\n",
              "  <tbody>\n",
              "    <tr>\n",
              "      <th>count</th>\n",
              "      <td>10866.000000</td>\n",
              "      <td>1.086600e+04</td>\n",
              "      <td>1.086600e+04</td>\n",
              "      <td>10866.000000</td>\n",
              "      <td>10866.000000</td>\n",
              "      <td>10866.000000</td>\n",
              "      <td>10866.000000</td>\n",
              "      <td>1.086600e+04</td>\n",
              "      <td>1.086600e+04</td>\n",
              "    </tr>\n",
              "    <tr>\n",
              "      <th>mean</th>\n",
              "      <td>0.646441</td>\n",
              "      <td>1.462570e+07</td>\n",
              "      <td>3.982332e+07</td>\n",
              "      <td>102.070863</td>\n",
              "      <td>217.389748</td>\n",
              "      <td>5.974922</td>\n",
              "      <td>2001.322658</td>\n",
              "      <td>1.755104e+07</td>\n",
              "      <td>5.136436e+07</td>\n",
              "    </tr>\n",
              "    <tr>\n",
              "      <th>std</th>\n",
              "      <td>1.000185</td>\n",
              "      <td>3.091321e+07</td>\n",
              "      <td>1.170035e+08</td>\n",
              "      <td>31.381405</td>\n",
              "      <td>575.619058</td>\n",
              "      <td>0.935142</td>\n",
              "      <td>12.812941</td>\n",
              "      <td>3.430616e+07</td>\n",
              "      <td>1.446325e+08</td>\n",
              "    </tr>\n",
              "    <tr>\n",
              "      <th>min</th>\n",
              "      <td>0.000065</td>\n",
              "      <td>0.000000e+00</td>\n",
              "      <td>0.000000e+00</td>\n",
              "      <td>0.000000</td>\n",
              "      <td>10.000000</td>\n",
              "      <td>1.500000</td>\n",
              "      <td>1960.000000</td>\n",
              "      <td>0.000000e+00</td>\n",
              "      <td>0.000000e+00</td>\n",
              "    </tr>\n",
              "    <tr>\n",
              "      <th>25%</th>\n",
              "      <td>0.207583</td>\n",
              "      <td>0.000000e+00</td>\n",
              "      <td>0.000000e+00</td>\n",
              "      <td>90.000000</td>\n",
              "      <td>17.000000</td>\n",
              "      <td>5.400000</td>\n",
              "      <td>1995.000000</td>\n",
              "      <td>0.000000e+00</td>\n",
              "      <td>0.000000e+00</td>\n",
              "    </tr>\n",
              "    <tr>\n",
              "      <th>50%</th>\n",
              "      <td>0.383856</td>\n",
              "      <td>0.000000e+00</td>\n",
              "      <td>0.000000e+00</td>\n",
              "      <td>99.000000</td>\n",
              "      <td>38.000000</td>\n",
              "      <td>6.000000</td>\n",
              "      <td>2006.000000</td>\n",
              "      <td>0.000000e+00</td>\n",
              "      <td>0.000000e+00</td>\n",
              "    </tr>\n",
              "    <tr>\n",
              "      <th>75%</th>\n",
              "      <td>0.713817</td>\n",
              "      <td>1.500000e+07</td>\n",
              "      <td>2.400000e+07</td>\n",
              "      <td>111.000000</td>\n",
              "      <td>145.750000</td>\n",
              "      <td>6.600000</td>\n",
              "      <td>2011.000000</td>\n",
              "      <td>2.085325e+07</td>\n",
              "      <td>3.369710e+07</td>\n",
              "    </tr>\n",
              "    <tr>\n",
              "      <th>max</th>\n",
              "      <td>32.985763</td>\n",
              "      <td>4.250000e+08</td>\n",
              "      <td>2.781506e+09</td>\n",
              "      <td>900.000000</td>\n",
              "      <td>9767.000000</td>\n",
              "      <td>9.200000</td>\n",
              "      <td>2015.000000</td>\n",
              "      <td>4.250000e+08</td>\n",
              "      <td>2.827124e+09</td>\n",
              "    </tr>\n",
              "  </tbody>\n",
              "</table>\n",
              "</div>\n",
              "      <button class=\"colab-df-convert\" onclick=\"convertToInteractive('df-735c3cba-dfb1-4c9d-99cd-b670037aaab1')\"\n",
              "              title=\"Convert this dataframe to an interactive table.\"\n",
              "              style=\"display:none;\">\n",
              "        \n",
              "  <svg xmlns=\"http://www.w3.org/2000/svg\" height=\"24px\"viewBox=\"0 0 24 24\"\n",
              "       width=\"24px\">\n",
              "    <path d=\"M0 0h24v24H0V0z\" fill=\"none\"/>\n",
              "    <path d=\"M18.56 5.44l.94 2.06.94-2.06 2.06-.94-2.06-.94-.94-2.06-.94 2.06-2.06.94zm-11 1L8.5 8.5l.94-2.06 2.06-.94-2.06-.94L8.5 2.5l-.94 2.06-2.06.94zm10 10l.94 2.06.94-2.06 2.06-.94-2.06-.94-.94-2.06-.94 2.06-2.06.94z\"/><path d=\"M17.41 7.96l-1.37-1.37c-.4-.4-.92-.59-1.43-.59-.52 0-1.04.2-1.43.59L10.3 9.45l-7.72 7.72c-.78.78-.78 2.05 0 2.83L4 21.41c.39.39.9.59 1.41.59.51 0 1.02-.2 1.41-.59l7.78-7.78 2.81-2.81c.8-.78.8-2.07 0-2.86zM5.41 20L4 18.59l7.72-7.72 1.47 1.35L5.41 20z\"/>\n",
              "  </svg>\n",
              "      </button>\n",
              "      \n",
              "  <style>\n",
              "    .colab-df-container {\n",
              "      display:flex;\n",
              "      flex-wrap:wrap;\n",
              "      gap: 12px;\n",
              "    }\n",
              "\n",
              "    .colab-df-convert {\n",
              "      background-color: #E8F0FE;\n",
              "      border: none;\n",
              "      border-radius: 50%;\n",
              "      cursor: pointer;\n",
              "      display: none;\n",
              "      fill: #1967D2;\n",
              "      height: 32px;\n",
              "      padding: 0 0 0 0;\n",
              "      width: 32px;\n",
              "    }\n",
              "\n",
              "    .colab-df-convert:hover {\n",
              "      background-color: #E2EBFA;\n",
              "      box-shadow: 0px 1px 2px rgba(60, 64, 67, 0.3), 0px 1px 3px 1px rgba(60, 64, 67, 0.15);\n",
              "      fill: #174EA6;\n",
              "    }\n",
              "\n",
              "    [theme=dark] .colab-df-convert {\n",
              "      background-color: #3B4455;\n",
              "      fill: #D2E3FC;\n",
              "    }\n",
              "\n",
              "    [theme=dark] .colab-df-convert:hover {\n",
              "      background-color: #434B5C;\n",
              "      box-shadow: 0px 1px 3px 1px rgba(0, 0, 0, 0.15);\n",
              "      filter: drop-shadow(0px 1px 2px rgba(0, 0, 0, 0.3));\n",
              "      fill: #FFFFFF;\n",
              "    }\n",
              "  </style>\n",
              "\n",
              "      <script>\n",
              "        const buttonEl =\n",
              "          document.querySelector('#df-735c3cba-dfb1-4c9d-99cd-b670037aaab1 button.colab-df-convert');\n",
              "        buttonEl.style.display =\n",
              "          google.colab.kernel.accessAllowed ? 'block' : 'none';\n",
              "\n",
              "        async function convertToInteractive(key) {\n",
              "          const element = document.querySelector('#df-735c3cba-dfb1-4c9d-99cd-b670037aaab1');\n",
              "          const dataTable =\n",
              "            await google.colab.kernel.invokeFunction('convertToInteractive',\n",
              "                                                     [key], {});\n",
              "          if (!dataTable) return;\n",
              "\n",
              "          const docLinkHtml = 'Like what you see? Visit the ' +\n",
              "            '<a target=\"_blank\" href=https://colab.research.google.com/notebooks/data_table.ipynb>data table notebook</a>'\n",
              "            + ' to learn more about interactive tables.';\n",
              "          element.innerHTML = '';\n",
              "          dataTable['output_type'] = 'display_data';\n",
              "          await google.colab.output.renderOutput(dataTable, element);\n",
              "          const docLink = document.createElement('div');\n",
              "          docLink.innerHTML = docLinkHtml;\n",
              "          element.appendChild(docLink);\n",
              "        }\n",
              "      </script>\n",
              "    </div>\n",
              "  </div>\n",
              "  "
            ]
          },
          "metadata": {},
          "execution_count": 18
        }
      ]
    },
    {
      "cell_type": "markdown",
      "source": [
        "Answer: The average movie runtime is 102"
      ],
      "metadata": {
        "id": "3KHvMV4LAhA1"
      }
    },
    {
      "cell_type": "markdown",
      "source": [
        "**From the above stastical information the following  can be identified about the dataset:**\n",
        "<ol>\n",
        "<li> The movies with the highest budget was 425,000,000</li>\n",
        "<li> The movie with the highest revenue was 2,781,506,000 </li>\n",
        "<li>The latest movie release year is 2015 and the earliest  movie release was in 1960</li>\n",
        "<li>movie with the longest runtime was 900</li>\n",
        "<li>The movie with the highest rating  had a 9.2 rating, the lowest rating was a 1.5 and the average movie rating was a 5.5</li>\n",
        "<li>The movie with the highest vote count had 9767 votes while the lowest had at least 10 votes.</li>\n",
        "<li>The most popular movie had a 32 and the least popular movie had at least a 0 </li>\n",
        "\n",
        "</ol>\n",
        "\n",
        "\n",
        "\n",
        "\n",
        "\n",
        "\n",
        "\n",
        "\n"
      ],
      "metadata": {
        "id": "Up8WSfCmmNjH"
      }
    },
    {
      "cell_type": "markdown",
      "source": [
        "### Research Question 2: Which genre of movies are the most produced?"
      ],
      "metadata": {
        "id": "x-fyFIEQAJCV"
      }
    },
    {
      "cell_type": "code",
      "source": [
        "#Get the genres movie counts\n",
        "Genre_conc =df['genres'].str.cat(sep='|')\n",
        "Genres =pd.Series(Genre_conc.split('|'))\n",
        "Genres.value_counts(ascending=False)"
      ],
      "metadata": {
        "colab": {
          "base_uri": "https://localhost:8080/",
          "height": 0
        },
        "id": "1oF3kzel5Duv",
        "outputId": "e34768f7-331e-42a8-ebc3-4f4308caa068"
      },
      "execution_count": 44,
      "outputs": [
        {
          "output_type": "execute_result",
          "data": {
            "text/plain": [
              "Drama              4761\n",
              "Comedy             3793\n",
              "Thriller           2908\n",
              "Action             2385\n",
              "Romance            1712\n",
              "Horror             1637\n",
              "Adventure          1471\n",
              "Crime              1355\n",
              "Family             1231\n",
              "Science Fiction    1230\n",
              "Fantasy             916\n",
              "Mystery             810\n",
              "Animation           699\n",
              "Documentary         520\n",
              "Music               408\n",
              "History             334\n",
              "War                 270\n",
              "Foreign             188\n",
              "TV Movie            167\n",
              "Western             165\n",
              "dtype: int64"
            ]
          },
          "metadata": {},
          "execution_count": 44
        }
      ]
    },
    {
      "cell_type": "code",
      "source": [
        "#countplot for movie genres\n",
        "\n",
        "fig, ax = plt.subplots(figsize=(22, 6))\n",
        "sns.countplot(x=Genres,ax=ax).set(title='Movie Genres Produced between 1960-2015')\n",
        "plt.show()"
      ],
      "metadata": {
        "colab": {
          "base_uri": "https://localhost:8080/",
          "height": 377
        },
        "id": "i3akfWCujwjW",
        "outputId": "3c500fe7-454b-47bb-a0f1-1cd477c5f954"
      },
      "execution_count": 45,
      "outputs": [
        {
          "output_type": "display_data",
          "data": {
            "text/plain": [
              "<Figure size 1584x432 with 1 Axes>"
            ],
            "image/png": "[encoded data removed]"
          },
          "metadata": {}
        }
      ]
    },
    {
      "cell_type": "markdown",
      "source": [
        "Answer: Dramas were the most produced genres while TV movies,Foreign and Western genres had the lowest production\n",
        "\n",
        "---"
      ],
      "metadata": {
        "id": "fStDkEljKHXY"
      }
    },
    {
      "cell_type": "markdown",
      "source": [
        "### Research Question 3:Which production companies produced the most movies?"
      ],
      "metadata": {
        "id": "bqv9G1Tr7ZpY"
      }
    },
    {
      "cell_type": "code",
      "source": [
        "#get the indivudual production companies and movies produced\n",
        "def Production_Companies_count(x):\n",
        "          #concatenate production companies into one string\n",
        "    companies_conc =df['production_companies'].str.cat(sep='|')\n",
        "\n",
        "          #breakdown the production companies string into single rows\n",
        "    companies =pd.Series(companies_conc.split('|'))\n",
        "    companies=companies.value_counts(ascending=False)\n",
        "    return(companies)"
      ],
      "metadata": {
        "id": "DzdEfTI12BY8"
      },
      "execution_count": 22,
      "outputs": []
    },
    {
      "cell_type": "code",
      "source": [
        "#count of movies produced by individual production companies\n",
        "prod_companies = Production_Companies_count(df)\n",
        "prod_companies"
      ],
      "metadata": {
        "colab": {
          "base_uri": "https://localhost:8080/",
          "height": 0
        },
        "id": "qvlH1GVE2VCO",
        "outputId": "afd712d0-51d0-435e-adef-4dcb192000f7"
      },
      "execution_count": 23,
      "outputs": [
        {
          "output_type": "execute_result",
          "data": {
            "text/plain": [
              "Universal Pictures                        522\n",
              "Warner Bros.                              509\n",
              "Paramount Pictures                        431\n",
              "Twentieth Century Fox Film Corporation    282\n",
              "Columbia Pictures                         272\n",
              "                                         ... \n",
              "Monophonic Inc.                             1\n",
              "Populist Pictures                           1\n",
              "Qatsi Productions                           1\n",
              "CineEvelyn                                  1\n",
              "Norm-Iris                                   1\n",
              "Length: 7879, dtype: int64"
            ]
          },
          "metadata": {},
          "execution_count": 23
        }
      ]
    },
    {
      "cell_type": "code",
      "source": [
        "# x-axis plot\n",
        "x_values = [\"Universal Pictures\",\"Warner Bros.\",\"Paramount Pictures\",\"Twentieth Century Fox\",\"Columbia Pictures\"]\n",
        "x_axis = prod_companies[:5]\n",
        "\n",
        "#y-axis plot\n",
        "y=x_axis.values\n",
        "\n",
        "#bars color pallette\n",
        "colors=(\"#8ecae6\",\"#219ebc\",\"#ffb703\",\"#fb8500\",\"#000000\")\n",
        "\n",
        "#bar plot\n",
        "sns.set_style(\"darkgrid\")\n",
        "plt.figure(figsize=(15,6))\n",
        "sns.barplot(x=x_values, y=y,palette= colors).set(title='Top 5 Movie Production Companies')\n",
        "plt.show()"
      ],
      "metadata": {
        "colab": {
          "base_uri": "https://localhost:8080/",
          "height": 390
        },
        "id": "U50XXSNX1ML8",
        "outputId": "b234e550-70f7-4737-9bf7-cdac98da7280"
      },
      "execution_count": 24,
      "outputs": [
        {
          "output_type": "display_data",
          "data": {
            "text/plain": [
              "<Figure size 1080x432 with 1 Axes>"
            ],
            "image/png": "[encoded data removed]"
          },
          "metadata": {}
        }
      ]
    },
    {
      "cell_type": "markdown",
      "source": [
        "Answer: **Universal pictures** had the highest movie productions with a count of 522 movies followed by Warner Bros. with 509\n",
        "\n",
        "---"
      ],
      "metadata": {
        "id": "7anGZWXEsoiZ"
      }
    },
    {
      "cell_type": "markdown",
      "source": [
        "### Research Question 4: Which Director directed the most movies?"
      ],
      "metadata": {
        "id": "XRvCo55e99eA"
      }
    },
    {
      "cell_type": "code",
      "source": [
        "#get the individual movies directors have directed\n",
        "def directors_count(x):\n",
        "          #concatenate movie directors into one string\n",
        "    directors =df['director'].str.cat(sep='|')\n",
        "\n",
        "          #breakdown the directors string into single rows\n",
        "    movie_directors =pd.Series(directors.split('|'))\n",
        "    #get the count of movie directions by a director\n",
        "    movie_directors =movie_directors.value_counts(ascending=False)\n",
        "\n",
        "    return(movie_directors)"
      ],
      "metadata": {
        "id": "xknLTfgaBG2M"
      },
      "execution_count": 25,
      "outputs": []
    },
    {
      "cell_type": "code",
      "source": [
        "#count of movies directed by each director\n",
        "dir_count= directors_count(df)\n",
        "dir_count"
      ],
      "metadata": {
        "colab": {
          "base_uri": "https://localhost:8080/",
          "height": 0
        },
        "id": "OIJ7XwjEBSMB",
        "outputId": "8862d6e9-bd9b-4868-e6a5-37d41e805b8e"
      },
      "execution_count": 26,
      "outputs": [
        {
          "output_type": "execute_result",
          "data": {
            "text/plain": [
              "Woody Allen         46\n",
              "Clint Eastwood      34\n",
              "Martin Scorsese     31\n",
              "Steven Spielberg    30\n",
              "Ridley Scott        23\n",
              "                    ..\n",
              "Mike Maguire         1\n",
              "Tom Kuntz            1\n",
              "John Simpson         1\n",
              "Simon Hunter         1\n",
              "Harold P. Warren     1\n",
              "Length: 5362, dtype: int64"
            ]
          },
          "metadata": {},
          "execution_count": 26
        }
      ]
    },
    {
      "cell_type": "code",
      "source": [
        "# Graph Representation of the top 5 movie directors\n",
        "# x-axix plot\n",
        "x_values = [\"Woody Allen\",\"Clint Eastwood\",\"Martin Scorsese\",\"Steven Spielberg\",\"Ridley Scott\"]\n",
        "x_axis = dir_count[:5]\n",
        "\n",
        "#y-axis plot\n",
        "y=x_axis.values\n",
        "\n",
        "#bar color pallette\n",
        "colors=(\"#606c38\",\"#283618\",\"#fefae0\",\"#fb8500\",\"#000000\")\n",
        "\n",
        "#bar plot\n",
        "sns.set_style(\"darkgrid\")\n",
        "plt.figure(figsize=(10,6))\n",
        "sns.barplot(x=x_values, y=y,palette= colors).set(title='Top 5 Movie Directors with the Highest Movie Directions')\n",
        "plt.show()"
      ],
      "metadata": {
        "colab": {
          "base_uri": "https://localhost:8080/",
          "height": 390
        },
        "id": "1F9-Z2sTttQ4",
        "outputId": "393cc191-e3ac-4dc9-8f1d-010fef6c61dd"
      },
      "execution_count": 27,
      "outputs": [
        {
          "output_type": "display_data",
          "data": {
            "text/plain": [
              "<Figure size 720x432 with 1 Axes>"
            ],
            "image/png": "[encoded data removed]"
          },
          "metadata": {}
        }
      ]
    },
    {
      "cell_type": "markdown",
      "source": [
        "Answer: <b>Woody Allen Directed most movies with a count of 46 movies</b>\n",
        "\n",
        "---\n"
      ],
      "metadata": {
        "id": "YeAA2brOH3ru"
      }
    },
    {
      "cell_type": "markdown",
      "source": [
        "### Research Question 5: Who was the most Casted Actor?"
      ],
      "metadata": {
        "id": "cU6KFILoCG14"
      }
    },
    {
      "cell_type": "code",
      "source": [
        "#get the number of times an actor was casted\n",
        "def Cast_count(x):\n",
        "          \n",
        "    cast =df['cast'].str.cat(sep='|')\n",
        "    movie_cast =pd.Series(cast.split('|'))\n",
        "    movie_cast=movie_cast.value_counts(ascending=False)\n",
        "    return(movie_cast)\n",
        "  "
      ],
      "metadata": {
        "id": "_TcIfDpjCnxY"
      },
      "execution_count": 28,
      "outputs": []
    },
    {
      "cell_type": "code",
      "source": [
        "actors = Cast_count(df)\n",
        "actors"
      ],
      "metadata": {
        "colab": {
          "base_uri": "https://localhost:8080/",
          "height": 0
        },
        "id": "rq7mTAiLFDLl",
        "outputId": "9ffb97d2-5b25-4b76-fee8-cc1fc270ee47"
      },
      "execution_count": 29,
      "outputs": [
        {
          "output_type": "execute_result",
          "data": {
            "text/plain": [
              "Robert De Niro       72\n",
              "Samuel L. Jackson    71\n",
              "Bruce Willis         62\n",
              "Nicolas Cage         61\n",
              "Michael Caine        53\n",
              "                     ..\n",
              "Andy Milonakis        1\n",
              "Samantha Cope         1\n",
              "Cynthia Watros        1\n",
              "Satya Bhabha          1\n",
              "Stephanie Nielson     1\n",
              "Length: 19026, dtype: int64"
            ]
          },
          "metadata": {},
          "execution_count": 29
        }
      ]
    },
    {
      "cell_type": "code",
      "source": [
        "#x and y values for the graph\n",
        "x_values = [\"Robert De Niro\",\"Samuel L. Jackson\",\"Bruce Willis\",\"Nicolas Cage\",\"Michael Caine\"]\n",
        "x_axis = actors[:5]\n",
        "\n",
        "y=x_axis.values\n",
        "#colors  for the bars\n",
        "colors=(\"#2b2d42\",\"#8d99ae\",\"#edf2f4\",\"#ef233c\",\"#d90429\")\n",
        "\n",
        "#plot\n",
        "sns.set_style(\"darkgrid\")\n",
        "plt.figure(figsize=(10,5))\n",
        "sns.barplot(x=x_values, y=y,palette= colors).set(title='Top 5 Movie Cast with the Highest Number of Movies Acted')\n",
        "plt.show()"
      ],
      "metadata": {
        "colab": {
          "base_uri": "https://localhost:8080/",
          "height": 336
        },
        "id": "CU_jvD30MirB",
        "outputId": "52733c17-85eb-4a58-c2db-a0f26d284a35"
      },
      "execution_count": 30,
      "outputs": [
        {
          "output_type": "display_data",
          "data": {
            "text/plain": [
              "<Figure size 720x360 with 1 Axes>"
            ],
            "image/png": "[encoded data removed]"
          },
          "metadata": {}
        }
      ]
    },
    {
      "cell_type": "markdown",
      "source": [
        "Answer: **Robert De Niro** was the most casted actor follwed closely by Samuel L.Jackson both with over 70 movies\n",
        "\n",
        "---\n",
        "\n"
      ],
      "metadata": {
        "id": "UqyEG8d4Mkk0"
      }
    },
    {
      "cell_type": "markdown",
      "source": [
        "### Research Question 6: Which month had the highest movie releases?"
      ],
      "metadata": {
        "id": "nSQiUYTtKcTw"
      }
    },
    {
      "cell_type": "code",
      "source": [
        "#get month name from the date column and count movies released by month\n",
        "print(df['release_date'].dt.month_name().value_counts(ascending=False))"
      ],
      "metadata": {
        "colab": {
          "base_uri": "https://localhost:8080/",
          "height": 0
        },
        "id": "r3-mYdBCV-tP",
        "outputId": "4188de54-ea2a-46f8-f574-b198c1110927"
      },
      "execution_count": 31,
      "outputs": [
        {
          "output_type": "stream",
          "name": "stdout",
          "text": [
            "September    1331\n",
            "October      1153\n",
            "December      985\n",
            "January       919\n",
            "August        918\n",
            "June          827\n",
            "March         823\n",
            "November      814\n",
            "May           809\n",
            "July          799\n",
            "April         797\n",
            "February      691\n",
            "Name: release_date, dtype: int64\n"
          ]
        }
      ]
    },
    {
      "cell_type": "code",
      "source": [
        "monthly_percentage = (df['release_date'].dt.month_name().value_counts(ascending=False))*100/len(df)\n",
        "#explode = (0.1,0.0)\n",
        "\n",
        "_, ax = plt.subplots(figsize=(10,6))\n",
        "ax = monthly_percentage \\\n",
        ".plot(kind='pie', autopct='%.1f%%')\n",
        "ax.set_title(\"Movie Releases by Month\")\n",
        "ax.set_ylabel('')\n",
        "plt.show()"
      ],
      "metadata": {
        "colab": {
          "base_uri": "https://localhost:8080/",
          "height": 373
        },
        "id": "cQBaj99lY7RG",
        "outputId": "c6167ad6-978e-4c2f-eb05-bbab15e67e4b"
      },
      "execution_count": 48,
      "outputs": [
        {
          "output_type": "display_data",
          "data": {
            "text/plain": [
              "<Figure size 720x432 with 1 Axes>"
            ],
            "image/png": "[encoded data removed]"
          },
          "metadata": {}
        }
      ]
    },
    {
      "cell_type": "markdown",
      "source": [
        "Answer: Most movies were released in the month of September\n",
        "\n",
        "---"
      ],
      "metadata": {
        "id": "REQuU0UaLGik"
      }
    },
    {
      "cell_type": "code",
      "source": [
        "#drop categorical values to reduce the dataset\n",
        "df1=df.drop(['cast','director','release_date','genres','production_companies'], axis=1)\n",
        "df1.head()"
      ],
      "metadata": {
        "colab": {
          "base_uri": "https://localhost:8080/",
          "height": 206
        },
        "id": "mcI-kjbZ1i9h",
        "outputId": "da8899bc-2a95-474a-dd3f-f8eab8a6145e"
      },
      "execution_count": 33,
      "outputs": [
        {
          "output_type": "execute_result",
          "data": {
            "text/plain": [
              "   popularity     budget     revenue  runtime  vote_count  vote_average  \\\n",
              "0   32.985763  150000000  1513528810      124        5562           6.5   \n",
              "1   28.419936  150000000   378436354      120        6185           7.1   \n",
              "2   13.112507  110000000   295238201      119        2480           6.3   \n",
              "3   11.173104  200000000  2068178225      136        5292           7.5   \n",
              "4    9.335014  190000000  1506249360      137        2947           7.3   \n",
              "\n",
              "   release_year   budget_adj   revenue_adj  \n",
              "0          2015  137999939.3  1.392446e+09  \n",
              "1          2015  137999939.3  3.481613e+08  \n",
              "2          2015  101199955.5  2.716190e+08  \n",
              "3          2015  183999919.0  1.902723e+09  \n",
              "4          2015  174799923.1  1.385749e+09  "
            ],
            "text/html": [
              "\n",
              "  <div id=\"df-551a2fee-f0e8-434e-be0f-89e5fe4bf4d1\">\n",
              "    <div class=\"colab-df-container\">\n",
              "      <div>\n",
              "<style scoped>\n",
              "    .dataframe tbody tr th:only-of-type {\n",
              "        vertical-align: middle;\n",
              "    }\n",
              "\n",
              "    .dataframe tbody tr th {\n",
              "        vertical-align: top;\n",
              "    }\n",
              "\n",
              "    .dataframe thead th {\n",
              "        text-align: right;\n",
              "    }\n",
              "</style>\n",
              "<table border=\"1\" class=\"dataframe\">\n",
              "  <thead>\n",
              "    <tr style=\"text-align: right;\">\n",
              "      <th></th>\n",
              "      <th>popularity</th>\n",
              "      <th>budget</th>\n",
              "      <th>revenue</th>\n",
              "      <th>runtime</th>\n",
              "      <th>vote_count</th>\n",
              "      <th>vote_average</th>\n",
              "      <th>release_year</th>\n",
              "      <th>budget_adj</th>\n",
              "      <th>revenue_adj</th>\n",
              "    </tr>\n",
              "  </thead>\n",
              "  <tbody>\n",
              "    <tr>\n",
              "      <th>0</th>\n",
              "      <td>32.985763</td>\n",
              "      <td>150000000</td>\n",
              "      <td>1513528810</td>\n",
              "      <td>124</td>\n",
              "      <td>5562</td>\n",
              "      <td>6.5</td>\n",
              "      <td>2015</td>\n",
              "      <td>137999939.3</td>\n",
              "      <td>1.392446e+09</td>\n",
              "    </tr>\n",
              "    <tr>\n",
              "      <th>1</th>\n",
              "      <td>28.419936</td>\n",
              "      <td>150000000</td>\n",
              "      <td>378436354</td>\n",
              "      <td>120</td>\n",
              "      <td>6185</td>\n",
              "      <td>7.1</td>\n",
              "      <td>2015</td>\n",
              "      <td>137999939.3</td>\n",
              "      <td>3.481613e+08</td>\n",
              "    </tr>\n",
              "    <tr>\n",
              "      <th>2</th>\n",
              "      <td>13.112507</td>\n",
              "      <td>110000000</td>\n",
              "      <td>295238201</td>\n",
              "      <td>119</td>\n",
              "      <td>2480</td>\n",
              "      <td>6.3</td>\n",
              "      <td>2015</td>\n",
              "      <td>101199955.5</td>\n",
              "      <td>2.716190e+08</td>\n",
              "    </tr>\n",
              "    <tr>\n",
              "      <th>3</th>\n",
              "      <td>11.173104</td>\n",
              "      <td>200000000</td>\n",
              "      <td>2068178225</td>\n",
              "      <td>136</td>\n",
              "      <td>5292</td>\n",
              "      <td>7.5</td>\n",
              "      <td>2015</td>\n",
              "      <td>183999919.0</td>\n",
              "      <td>1.902723e+09</td>\n",
              "    </tr>\n",
              "    <tr>\n",
              "      <th>4</th>\n",
              "      <td>9.335014</td>\n",
              "      <td>190000000</td>\n",
              "      <td>1506249360</td>\n",
              "      <td>137</td>\n",
              "      <td>2947</td>\n",
              "      <td>7.3</td>\n",
              "      <td>2015</td>\n",
              "      <td>174799923.1</td>\n",
              "      <td>1.385749e+09</td>\n",
              "    </tr>\n",
              "  </tbody>\n",
              "</table>\n",
              "</div>\n",
              "      <button class=\"colab-df-convert\" onclick=\"convertToInteractive('df-551a2fee-f0e8-434e-be0f-89e5fe4bf4d1')\"\n",
              "              title=\"Convert this dataframe to an interactive table.\"\n",
              "              style=\"display:none;\">\n",
              "        \n",
              "  <svg xmlns=\"http://www.w3.org/2000/svg\" height=\"24px\"viewBox=\"0 0 24 24\"\n",
              "       width=\"24px\">\n",
              "    <path d=\"M0 0h24v24H0V0z\" fill=\"none\"/>\n",
              "    <path d=\"M18.56 5.44l.94 2.06.94-2.06 2.06-.94-2.06-.94-.94-2.06-.94 2.06-2.06.94zm-11 1L8.5 8.5l.94-2.06 2.06-.94-2.06-.94L8.5 2.5l-.94 2.06-2.06.94zm10 10l.94 2.06.94-2.06 2.06-.94-2.06-.94-.94-2.06-.94 2.06-2.06.94z\"/><path d=\"M17.41 7.96l-1.37-1.37c-.4-.4-.92-.59-1.43-.59-.52 0-1.04.2-1.43.59L10.3 9.45l-7.72 7.72c-.78.78-.78 2.05 0 2.83L4 21.41c.39.39.9.59 1.41.59.51 0 1.02-.2 1.41-.59l7.78-7.78 2.81-2.81c.8-.78.8-2.07 0-2.86zM5.41 20L4 18.59l7.72-7.72 1.47 1.35L5.41 20z\"/>\n",
              "  </svg>\n",
              "      </button>\n",
              "      \n",
              "  <style>\n",
              "    .colab-df-container {\n",
              "      display:flex;\n",
              "      flex-wrap:wrap;\n",
              "      gap: 12px;\n",
              "    }\n",
              "\n",
              "    .colab-df-convert {\n",
              "      background-color: #E8F0FE;\n",
              "      border: none;\n",
              "      border-radius: 50%;\n",
              "      cursor: pointer;\n",
              "      display: none;\n",
              "      fill: #1967D2;\n",
              "      height: 32px;\n",
              "      padding: 0 0 0 0;\n",
              "      width: 32px;\n",
              "    }\n",
              "\n",
              "    .colab-df-convert:hover {\n",
              "      background-color: #E2EBFA;\n",
              "      box-shadow: 0px 1px 2px rgba(60, 64, 67, 0.3), 0px 1px 3px 1px rgba(60, 64, 67, 0.15);\n",
              "      fill: #174EA6;\n",
              "    }\n",
              "\n",
              "    [theme=dark] .colab-df-convert {\n",
              "      background-color: #3B4455;\n",
              "      fill: #D2E3FC;\n",
              "    }\n",
              "\n",
              "    [theme=dark] .colab-df-convert:hover {\n",
              "      background-color: #434B5C;\n",
              "      box-shadow: 0px 1px 3px 1px rgba(0, 0, 0, 0.15);\n",
              "      filter: drop-shadow(0px 1px 2px rgba(0, 0, 0, 0.3));\n",
              "      fill: #FFFFFF;\n",
              "    }\n",
              "  </style>\n",
              "\n",
              "      <script>\n",
              "        const buttonEl =\n",
              "          document.querySelector('#df-551a2fee-f0e8-434e-be0f-89e5fe4bf4d1 button.colab-df-convert');\n",
              "        buttonEl.style.display =\n",
              "          google.colab.kernel.accessAllowed ? 'block' : 'none';\n",
              "\n",
              "        async function convertToInteractive(key) {\n",
              "          const element = document.querySelector('#df-551a2fee-f0e8-434e-be0f-89e5fe4bf4d1');\n",
              "          const dataTable =\n",
              "            await google.colab.kernel.invokeFunction('convertToInteractive',\n",
              "                                                     [key], {});\n",
              "          if (!dataTable) return;\n",
              "\n",
              "          const docLinkHtml = 'Like what you see? Visit the ' +\n",
              "            '<a target=\"_blank\" href=https://colab.research.google.com/notebooks/data_table.ipynb>data table notebook</a>'\n",
              "            + ' to learn more about interactive tables.';\n",
              "          element.innerHTML = '';\n",
              "          dataTable['output_type'] = 'display_data';\n",
              "          await google.colab.output.renderOutput(dataTable, element);\n",
              "          const docLink = document.createElement('div');\n",
              "          docLink.innerHTML = docLinkHtml;\n",
              "          element.appendChild(docLink);\n",
              "        }\n",
              "      </script>\n",
              "    </div>\n",
              "  </div>\n",
              "  "
            ]
          },
          "metadata": {},
          "execution_count": 33
        }
      ]
    },
    {
      "cell_type": "code",
      "source": [
        "#check for null values\n",
        "df1.isnull().sum()"
      ],
      "metadata": {
        "colab": {
          "base_uri": "https://localhost:8080/",
          "height": 0
        },
        "id": "uVmAp10S-xw2",
        "outputId": "55458af2-892d-4770-b198-2dfef1c6243d"
      },
      "execution_count": 34,
      "outputs": [
        {
          "output_type": "execute_result",
          "data": {
            "text/plain": [
              "popularity      0\n",
              "budget          0\n",
              "revenue         0\n",
              "runtime         0\n",
              "vote_count      0\n",
              "vote_average    0\n",
              "release_year    0\n",
              "budget_adj      0\n",
              "revenue_adj     0\n",
              "dtype: int64"
            ]
          },
          "metadata": {},
          "execution_count": 34
        }
      ]
    },
    {
      "cell_type": "markdown",
      "source": [
        "### Research Question 7: Does a Movies' Popularity affects its revenue?"
      ],
      "metadata": {
        "id": "_5EVUB2zMGlq"
      }
    },
    {
      "cell_type": "code",
      "source": [
        "#correlation between features\n",
        "plt.figure(figsize = (12,10))\n",
        "sns.heatmap(df1.corr(), annot =True)"
      ],
      "metadata": {
        "colab": {
          "base_uri": "https://localhost:8080/",
          "height": 670
        },
        "id": "nh8YUsM-SAs6",
        "outputId": "fd0681f1-98dc-4843-eb59-50e20a86feb8"
      },
      "execution_count": 51,
      "outputs": [
        {
          "output_type": "execute_result",
          "data": {
            "text/plain": [
              "<matplotlib.axes._subplots.AxesSubplot at 0x7f7240725a10>"
            ]
          },
          "metadata": {},
          "execution_count": 51
        },
        {
          "output_type": "display_data",
          "data": {
            "text/plain": [
              "<Figure size 864x720 with 2 Axes>"
            ],
            "image/png": "[encoded data removed]"
          },
          "metadata": {}
        }
      ]
    },
    {
      "cell_type": "markdown",
      "source": [
        "Answer: Yes, since there is a high correlation between revenue and popularity and also the vote_count\n",
        "\n",
        "---"
      ],
      "metadata": {
        "id": "HuuLAM7dNeIf"
      }
    },
    {
      "cell_type": "markdown",
      "source": [
        "**Other Features correlation observation**\n",
        "*   Popularity has a high corrrelationwith vote_count, revenue\n",
        "*   budget: has a high corrrelation with budget_adj and revenue\n",
        "*   runtime has a low correlation with most of the features\n",
        "*   vote_count has a high correlation with revenue_adj,revenue and popularity\n",
        "*   vote_average has a low correlation with all other features\n",
        "*   release_year has a low correlation with all other features\n",
        "*   budget_adj has a high corelation with budget_adj,revenue_adj,budget,revenue\n",
        "*   revenue_adj has a high corelation with budget_adj,vote_count,budget,revenue\n",
        "\n",
        "\n",
        "\n",
        "\n",
        "\n",
        "\n",
        "\n",
        "\n",
        "\n",
        "\n"
      ],
      "metadata": {
        "id": "Ik3ErVfZSbDJ"
      }
    },
    {
      "cell_type": "markdown",
      "source": [
        "### Research Question 8: Which decade had the most movie releases?"
      ],
      "metadata": {
        "id": "6gsuqo-uPCgW"
      }
    },
    {
      "cell_type": "code",
      "source": [
        "#get the decades\n",
        "the_sixties = df1.release_year[(df1.release_year>= 1960) & (df1.release_year <= 1969)]\n",
        "the_seventies = df1.release_year[(df1.release_year>= 1970) & (df1.release_year <= 1979)]\n",
        "the_eighties = df1.release_year[(df1.release_year>= 1980) & (df1.release_year <= 1989)]\n",
        "the_nineties = df1.release_year[(df1.release_year>= 1990) & (df1.release_year <= 1999)]\n",
        "two_thousands = df1.release_year[(df1.release_year >=2000) & (df1.release_year <= 2009)]\n",
        "past_2010 = df.release_year[df.release_year >= 2010]\n",
        "\n",
        "#set the x and y values\n",
        "x_values= [\"1960-1969\",\"1970-1979\",\"1980-1989\",\"1990-1999\",\"2000-2009\", \"Past 2010\"]\n",
        "y = [the_sixties.count(),the_seventies.count(),len(the_eighties.values),len(the_nineties.values),len(two_thousands.values),len(past_2010.values)]\n",
        "colors=(\"#ffc300\",\"#011627\",\"#fdfffc\",\"#2ec4b6\",\"#e71d36\",\"#ff9f1c\")\n",
        "\n",
        "#plot the graph\n",
        "sns.set_style(\"darkgrid\")\n",
        "plt.figure(figsize=(15,6))\n",
        "sns.barplot(x=x_values, y=y,palette= colors).set(title='Decade Movie Releases Analysis')\n",
        "plt.show()"
      ],
      "metadata": {
        "colab": {
          "base_uri": "https://localhost:8080/",
          "height": 390
        },
        "id": "B5Mj7WllACQb",
        "outputId": "d6d663fe-2278-4602-fd71-85e1d446c13c"
      },
      "execution_count": 36,
      "outputs": [
        {
          "output_type": "display_data",
          "data": {
            "text/plain": [
              "<Figure size 1080x432 with 1 Axes>"
            ],
            "image/png": "[encoded data removed]"
          },
          "metadata": {}
        }
      ]
    },
    {
      "cell_type": "markdown",
      "source": [
        "Answer:The two thousand decade had the most movie releases<br/>\n",
        "observation:  Movie releases increased by decade and also increased rapidly by the 2000s decade\n",
        "\n",
        "---"
      ],
      "metadata": {
        "id": "8YCOilCLjCPF"
      }
    },
    {
      "cell_type": "markdown",
      "source": [
        "###Research Question 9: Did most movies have higher ratings and votes?"
      ],
      "metadata": {
        "id": "OagFxxQIQwBS"
      }
    },
    {
      "cell_type": "code",
      "source": [
        "#votes and popularity  comparison\n",
        "plt.figure(figsize= (10,6))\n",
        "sns.scatterplot(x=df1['vote_count'],y=df1['popularity']).set_title('Movie Votes Vs Popularity')\n",
        "plt.show()"
      ],
      "metadata": {
        "colab": {
          "base_uri": "https://localhost:8080/",
          "height": 404
        },
        "id": "2pInHckVlGvV",
        "outputId": "39f6eff5-e577-48de-81cf-9d9c4d01149e"
      },
      "execution_count": 50,
      "outputs": [
        {
          "output_type": "display_data",
          "data": {
            "text/plain": [
              "<Figure size 720x432 with 1 Axes>"
            ],
            "image/png": "[encoded data removed]"
          },
          "metadata": {}
        }
      ]
    },
    {
      "cell_type": "markdown",
      "source": [
        "<b>Answer : Most movies got lower votes and thus lower popularity/ratings</b><br/>\n",
        "Observation: Movies with lower vote count were less popular compared to movies with high vote count\n",
        "\n",
        "---"
      ],
      "metadata": {
        "id": "Okq8W3h7TPUD"
      }
    },
    {
      "cell_type": "markdown",
      "source": [
        "###Research Question 10:What was the highest profits made?"
      ],
      "metadata": {
        "id": "tk7yqbDzSabV"
      }
    },
    {
      "cell_type": "code",
      "source": [
        "# create the profits column that shows the movie profits\n",
        "df1=df1.assign(Profits=lambda x: x.revenue - x.budget)\n",
        "df1.head()"
      ],
      "metadata": {
        "colab": {
          "base_uri": "https://localhost:8080/",
          "height": 206
        },
        "id": "fiZN_bFunVLE",
        "outputId": "1c7a19bd-ec31-4aeb-b1e6-3e236a2e89a7"
      },
      "execution_count": 38,
      "outputs": [
        {
          "output_type": "execute_result",
          "data": {
            "text/plain": [
              "   popularity     budget     revenue  runtime  vote_count  vote_average  \\\n",
              "0   32.985763  150000000  1513528810      124        5562           6.5   \n",
              "1   28.419936  150000000   378436354      120        6185           7.1   \n",
              "2   13.112507  110000000   295238201      119        2480           6.3   \n",
              "3   11.173104  200000000  2068178225      136        5292           7.5   \n",
              "4    9.335014  190000000  1506249360      137        2947           7.3   \n",
              "\n",
              "   release_year   budget_adj   revenue_adj     Profits  \n",
              "0          2015  137999939.3  1.392446e+09  1363528810  \n",
              "1          2015  137999939.3  3.481613e+08   228436354  \n",
              "2          2015  101199955.5  2.716190e+08   185238201  \n",
              "3          2015  183999919.0  1.902723e+09  1868178225  \n",
              "4          2015  174799923.1  1.385749e+09  1316249360  "
            ],
            "text/html": [
              "\n",
              "  <div id=\"df-684ecc6d-5ad9-4d8f-b5d5-f4d10bb9da46\">\n",
              "    <div class=\"colab-df-container\">\n",
              "      <div>\n",
              "<style scoped>\n",
              "    .dataframe tbody tr th:only-of-type {\n",
              "        vertical-align: middle;\n",
              "    }\n",
              "\n",
              "    .dataframe tbody tr th {\n",
              "        vertical-align: top;\n",
              "    }\n",
              "\n",
              "    .dataframe thead th {\n",
              "        text-align: right;\n",
              "    }\n",
              "</style>\n",
              "<table border=\"1\" class=\"dataframe\">\n",
              "  <thead>\n",
              "    <tr style=\"text-align: right;\">\n",
              "      <th></th>\n",
              "      <th>popularity</th>\n",
              "      <th>budget</th>\n",
              "      <th>revenue</th>\n",
              "      <th>runtime</th>\n",
              "      <th>vote_count</th>\n",
              "      <th>vote_average</th>\n",
              "      <th>release_year</th>\n",
              "      <th>budget_adj</th>\n",
              "      <th>revenue_adj</th>\n",
              "      <th>Profits</th>\n",
              "    </tr>\n",
              "  </thead>\n",
              "  <tbody>\n",
              "    <tr>\n",
              "      <th>0</th>\n",
              "      <td>32.985763</td>\n",
              "      <td>150000000</td>\n",
              "      <td>1513528810</td>\n",
              "      <td>124</td>\n",
              "      <td>5562</td>\n",
              "      <td>6.5</td>\n",
              "      <td>2015</td>\n",
              "      <td>137999939.3</td>\n",
              "      <td>1.392446e+09</td>\n",
              "      <td>1363528810</td>\n",
              "    </tr>\n",
              "    <tr>\n",
              "      <th>1</th>\n",
              "      <td>28.419936</td>\n",
              "      <td>150000000</td>\n",
              "      <td>378436354</td>\n",
              "      <td>120</td>\n",
              "      <td>6185</td>\n",
              "      <td>7.1</td>\n",
              "      <td>2015</td>\n",
              "      <td>137999939.3</td>\n",
              "      <td>3.481613e+08</td>\n",
              "      <td>228436354</td>\n",
              "    </tr>\n",
              "    <tr>\n",
              "      <th>2</th>\n",
              "      <td>13.112507</td>\n",
              "      <td>110000000</td>\n",
              "      <td>295238201</td>\n",
              "      <td>119</td>\n",
              "      <td>2480</td>\n",
              "      <td>6.3</td>\n",
              "      <td>2015</td>\n",
              "      <td>101199955.5</td>\n",
              "      <td>2.716190e+08</td>\n",
              "      <td>185238201</td>\n",
              "    </tr>\n",
              "    <tr>\n",
              "      <th>3</th>\n",
              "      <td>11.173104</td>\n",
              "      <td>200000000</td>\n",
              "      <td>2068178225</td>\n",
              "      <td>136</td>\n",
              "      <td>5292</td>\n",
              "      <td>7.5</td>\n",
              "      <td>2015</td>\n",
              "      <td>183999919.0</td>\n",
              "      <td>1.902723e+09</td>\n",
              "      <td>1868178225</td>\n",
              "    </tr>\n",
              "    <tr>\n",
              "      <th>4</th>\n",
              "      <td>9.335014</td>\n",
              "      <td>190000000</td>\n",
              "      <td>1506249360</td>\n",
              "      <td>137</td>\n",
              "      <td>2947</td>\n",
              "      <td>7.3</td>\n",
              "      <td>2015</td>\n",
              "      <td>174799923.1</td>\n",
              "      <td>1.385749e+09</td>\n",
              "      <td>1316249360</td>\n",
              "    </tr>\n",
              "  </tbody>\n",
              "</table>\n",
              "</div>\n",
              "      <button class=\"colab-df-convert\" onclick=\"convertToInteractive('df-684ecc6d-5ad9-4d8f-b5d5-f4d10bb9da46')\"\n",
              "              title=\"Convert this dataframe to an interactive table.\"\n",
              "              style=\"display:none;\">\n",
              "        \n",
              "  <svg xmlns=\"http://www.w3.org/2000/svg\" height=\"24px\"viewBox=\"0 0 24 24\"\n",
              "       width=\"24px\">\n",
              "    <path d=\"M0 0h24v24H0V0z\" fill=\"none\"/>\n",
              "    <path d=\"M18.56 5.44l.94 2.06.94-2.06 2.06-.94-2.06-.94-.94-2.06-.94 2.06-2.06.94zm-11 1L8.5 8.5l.94-2.06 2.06-.94-2.06-.94L8.5 2.5l-.94 2.06-2.06.94zm10 10l.94 2.06.94-2.06 2.06-.94-2.06-.94-.94-2.06-.94 2.06-2.06.94z\"/><path d=\"M17.41 7.96l-1.37-1.37c-.4-.4-.92-.59-1.43-.59-.52 0-1.04.2-1.43.59L10.3 9.45l-7.72 7.72c-.78.78-.78 2.05 0 2.83L4 21.41c.39.39.9.59 1.41.59.51 0 1.02-.2 1.41-.59l7.78-7.78 2.81-2.81c.8-.78.8-2.07 0-2.86zM5.41 20L4 18.59l7.72-7.72 1.47 1.35L5.41 20z\"/>\n",
              "  </svg>\n",
              "      </button>\n",
              "      \n",
              "  <style>\n",
              "    .colab-df-container {\n",
              "      display:flex;\n",
              "      flex-wrap:wrap;\n",
              "      gap: 12px;\n",
              "    }\n",
              "\n",
              "    .colab-df-convert {\n",
              "      background-color: #E8F0FE;\n",
              "      border: none;\n",
              "      border-radius: 50%;\n",
              "      cursor: pointer;\n",
              "      display: none;\n",
              "      fill: #1967D2;\n",
              "      height: 32px;\n",
              "      padding: 0 0 0 0;\n",
              "      width: 32px;\n",
              "    }\n",
              "\n",
              "    .colab-df-convert:hover {\n",
              "      background-color: #E2EBFA;\n",
              "      box-shadow: 0px 1px 2px rgba(60, 64, 67, 0.3), 0px 1px 3px 1px rgba(60, 64, 67, 0.15);\n",
              "      fill: #174EA6;\n",
              "    }\n",
              "\n",
              "    [theme=dark] .colab-df-convert {\n",
              "      background-color: #3B4455;\n",
              "      fill: #D2E3FC;\n",
              "    }\n",
              "\n",
              "    [theme=dark] .colab-df-convert:hover {\n",
              "      background-color: #434B5C;\n",
              "      box-shadow: 0px 1px 3px 1px rgba(0, 0, 0, 0.15);\n",
              "      filter: drop-shadow(0px 1px 2px rgba(0, 0, 0, 0.3));\n",
              "      fill: #FFFFFF;\n",
              "    }\n",
              "  </style>\n",
              "\n",
              "      <script>\n",
              "        const buttonEl =\n",
              "          document.querySelector('#df-684ecc6d-5ad9-4d8f-b5d5-f4d10bb9da46 button.colab-df-convert');\n",
              "        buttonEl.style.display =\n",
              "          google.colab.kernel.accessAllowed ? 'block' : 'none';\n",
              "\n",
              "        async function convertToInteractive(key) {\n",
              "          const element = document.querySelector('#df-684ecc6d-5ad9-4d8f-b5d5-f4d10bb9da46');\n",
              "          const dataTable =\n",
              "            await google.colab.kernel.invokeFunction('convertToInteractive',\n",
              "                                                     [key], {});\n",
              "          if (!dataTable) return;\n",
              "\n",
              "          const docLinkHtml = 'Like what you see? Visit the ' +\n",
              "            '<a target=\"_blank\" href=https://colab.research.google.com/notebooks/data_table.ipynb>data table notebook</a>'\n",
              "            + ' to learn more about interactive tables.';\n",
              "          element.innerHTML = '';\n",
              "          dataTable['output_type'] = 'display_data';\n",
              "          await google.colab.output.renderOutput(dataTable, element);\n",
              "          const docLink = document.createElement('div');\n",
              "          docLink.innerHTML = docLinkHtml;\n",
              "          element.appendChild(docLink);\n",
              "        }\n",
              "      </script>\n",
              "    </div>\n",
              "  </div>\n",
              "  "
            ]
          },
          "metadata": {},
          "execution_count": 38
        }
      ]
    },
    {
      "cell_type": "code",
      "source": [
        "df1.describe()"
      ],
      "metadata": {
        "colab": {
          "base_uri": "https://localhost:8080/",
          "height": 300
        },
        "id": "cWgQ4uk-jSQr",
        "outputId": "c3473869-8805-413e-f573-c24568d40564"
      },
      "execution_count": 39,
      "outputs": [
        {
          "output_type": "execute_result",
          "data": {
            "text/plain": [
              "         popularity        budget       revenue       runtime    vote_count  \\\n",
              "count  10866.000000  1.086600e+04  1.086600e+04  10866.000000  10866.000000   \n",
              "mean       0.646441  1.462570e+07  3.982332e+07    102.070863    217.389748   \n",
              "std        1.000185  3.091321e+07  1.170035e+08     31.381405    575.619058   \n",
              "min        0.000065  0.000000e+00  0.000000e+00      0.000000     10.000000   \n",
              "25%        0.207583  0.000000e+00  0.000000e+00     90.000000     17.000000   \n",
              "50%        0.383856  0.000000e+00  0.000000e+00     99.000000     38.000000   \n",
              "75%        0.713817  1.500000e+07  2.400000e+07    111.000000    145.750000   \n",
              "max       32.985763  4.250000e+08  2.781506e+09    900.000000   9767.000000   \n",
              "\n",
              "       vote_average  release_year    budget_adj   revenue_adj       Profits  \n",
              "count  10866.000000  10866.000000  1.086600e+04  1.086600e+04  1.086600e+04  \n",
              "mean       5.974922   2001.322658  1.755104e+07  5.136436e+07  2.519762e+07  \n",
              "std        0.935142     12.812941  3.430616e+07  1.446325e+08  9.658799e+07  \n",
              "min        1.500000   1960.000000  0.000000e+00  0.000000e+00 -4.139124e+08  \n",
              "25%        5.400000   1995.000000  0.000000e+00  0.000000e+00  0.000000e+00  \n",
              "50%        6.000000   2006.000000  0.000000e+00  0.000000e+00  0.000000e+00  \n",
              "75%        6.600000   2011.000000  2.085325e+07  3.369710e+07  9.083358e+06  \n",
              "max        9.200000   2015.000000  4.250000e+08  2.827124e+09  2.544506e+09  "
            ],
            "text/html": [
              "\n",
              "  <div id=\"df-ef38f91d-4803-4c2c-8684-2fd1afca046b\">\n",
              "    <div class=\"colab-df-container\">\n",
              "      <div>\n",
              "<style scoped>\n",
              "    .dataframe tbody tr th:only-of-type {\n",
              "        vertical-align: middle;\n",
              "    }\n",
              "\n",
              "    .dataframe tbody tr th {\n",
              "        vertical-align: top;\n",
              "    }\n",
              "\n",
              "    .dataframe thead th {\n",
              "        text-align: right;\n",
              "    }\n",
              "</style>\n",
              "<table border=\"1\" class=\"dataframe\">\n",
              "  <thead>\n",
              "    <tr style=\"text-align: right;\">\n",
              "      <th></th>\n",
              "      <th>popularity</th>\n",
              "      <th>budget</th>\n",
              "      <th>revenue</th>\n",
              "      <th>runtime</th>\n",
              "      <th>vote_count</th>\n",
              "      <th>vote_average</th>\n",
              "      <th>release_year</th>\n",
              "      <th>budget_adj</th>\n",
              "      <th>revenue_adj</th>\n",
              "      <th>Profits</th>\n",
              "    </tr>\n",
              "  </thead>\n",
              "  <tbody>\n",
              "    <tr>\n",
              "      <th>count</th>\n",
              "      <td>10866.000000</td>\n",
              "      <td>1.086600e+04</td>\n",
              "      <td>1.086600e+04</td>\n",
              "      <td>10866.000000</td>\n",
              "      <td>10866.000000</td>\n",
              "      <td>10866.000000</td>\n",
              "      <td>10866.000000</td>\n",
              "      <td>1.086600e+04</td>\n",
              "      <td>1.086600e+04</td>\n",
              "      <td>1.086600e+04</td>\n",
              "    </tr>\n",
              "    <tr>\n",
              "      <th>mean</th>\n",
              "      <td>0.646441</td>\n",
              "      <td>1.462570e+07</td>\n",
              "      <td>3.982332e+07</td>\n",
              "      <td>102.070863</td>\n",
              "      <td>217.389748</td>\n",
              "      <td>5.974922</td>\n",
              "      <td>2001.322658</td>\n",
              "      <td>1.755104e+07</td>\n",
              "      <td>5.136436e+07</td>\n",
              "      <td>2.519762e+07</td>\n",
              "    </tr>\n",
              "    <tr>\n",
              "      <th>std</th>\n",
              "      <td>1.000185</td>\n",
              "      <td>3.091321e+07</td>\n",
              "      <td>1.170035e+08</td>\n",
              "      <td>31.381405</td>\n",
              "      <td>575.619058</td>\n",
              "      <td>0.935142</td>\n",
              "      <td>12.812941</td>\n",
              "      <td>3.430616e+07</td>\n",
              "      <td>1.446325e+08</td>\n",
              "      <td>9.658799e+07</td>\n",
              "    </tr>\n",
              "    <tr>\n",
              "      <th>min</th>\n",
              "      <td>0.000065</td>\n",
              "      <td>0.000000e+00</td>\n",
              "      <td>0.000000e+00</td>\n",
              "      <td>0.000000</td>\n",
              "      <td>10.000000</td>\n",
              "      <td>1.500000</td>\n",
              "      <td>1960.000000</td>\n",
              "      <td>0.000000e+00</td>\n",
              "      <td>0.000000e+00</td>\n",
              "      <td>-4.139124e+08</td>\n",
              "    </tr>\n",
              "    <tr>\n",
              "      <th>25%</th>\n",
              "      <td>0.207583</td>\n",
              "      <td>0.000000e+00</td>\n",
              "      <td>0.000000e+00</td>\n",
              "      <td>90.000000</td>\n",
              "      <td>17.000000</td>\n",
              "      <td>5.400000</td>\n",
              "      <td>1995.000000</td>\n",
              "      <td>0.000000e+00</td>\n",
              "      <td>0.000000e+00</td>\n",
              "      <td>0.000000e+00</td>\n",
              "    </tr>\n",
              "    <tr>\n",
              "      <th>50%</th>\n",
              "      <td>0.383856</td>\n",
              "      <td>0.000000e+00</td>\n",
              "      <td>0.000000e+00</td>\n",
              "      <td>99.000000</td>\n",
              "      <td>38.000000</td>\n",
              "      <td>6.000000</td>\n",
              "      <td>2006.000000</td>\n",
              "      <td>0.000000e+00</td>\n",
              "      <td>0.000000e+00</td>\n",
              "      <td>0.000000e+00</td>\n",
              "    </tr>\n",
              "    <tr>\n",
              "      <th>75%</th>\n",
              "      <td>0.713817</td>\n",
              "      <td>1.500000e+07</td>\n",
              "      <td>2.400000e+07</td>\n",
              "      <td>111.000000</td>\n",
              "      <td>145.750000</td>\n",
              "      <td>6.600000</td>\n",
              "      <td>2011.000000</td>\n",
              "      <td>2.085325e+07</td>\n",
              "      <td>3.369710e+07</td>\n",
              "      <td>9.083358e+06</td>\n",
              "    </tr>\n",
              "    <tr>\n",
              "      <th>max</th>\n",
              "      <td>32.985763</td>\n",
              "      <td>4.250000e+08</td>\n",
              "      <td>2.781506e+09</td>\n",
              "      <td>900.000000</td>\n",
              "      <td>9767.000000</td>\n",
              "      <td>9.200000</td>\n",
              "      <td>2015.000000</td>\n",
              "      <td>4.250000e+08</td>\n",
              "      <td>2.827124e+09</td>\n",
              "      <td>2.544506e+09</td>\n",
              "    </tr>\n",
              "  </tbody>\n",
              "</table>\n",
              "</div>\n",
              "      <button class=\"colab-df-convert\" onclick=\"convertToInteractive('df-ef38f91d-4803-4c2c-8684-2fd1afca046b')\"\n",
              "              title=\"Convert this dataframe to an interactive table.\"\n",
              "              style=\"display:none;\">\n",
              "        \n",
              "  <svg xmlns=\"http://www.w3.org/2000/svg\" height=\"24px\"viewBox=\"0 0 24 24\"\n",
              "       width=\"24px\">\n",
              "    <path d=\"M0 0h24v24H0V0z\" fill=\"none\"/>\n",
              "    <path d=\"M18.56 5.44l.94 2.06.94-2.06 2.06-.94-2.06-.94-.94-2.06-.94 2.06-2.06.94zm-11 1L8.5 8.5l.94-2.06 2.06-.94-2.06-.94L8.5 2.5l-.94 2.06-2.06.94zm10 10l.94 2.06.94-2.06 2.06-.94-2.06-.94-.94-2.06-.94 2.06-2.06.94z\"/><path d=\"M17.41 7.96l-1.37-1.37c-.4-.4-.92-.59-1.43-.59-.52 0-1.04.2-1.43.59L10.3 9.45l-7.72 7.72c-.78.78-.78 2.05 0 2.83L4 21.41c.39.39.9.59 1.41.59.51 0 1.02-.2 1.41-.59l7.78-7.78 2.81-2.81c.8-.78.8-2.07 0-2.86zM5.41 20L4 18.59l7.72-7.72 1.47 1.35L5.41 20z\"/>\n",
              "  </svg>\n",
              "      </button>\n",
              "      \n",
              "  <style>\n",
              "    .colab-df-container {\n",
              "      display:flex;\n",
              "      flex-wrap:wrap;\n",
              "      gap: 12px;\n",
              "    }\n",
              "\n",
              "    .colab-df-convert {\n",
              "      background-color: #E8F0FE;\n",
              "      border: none;\n",
              "      border-radius: 50%;\n",
              "      cursor: pointer;\n",
              "      display: none;\n",
              "      fill: #1967D2;\n",
              "      height: 32px;\n",
              "      padding: 0 0 0 0;\n",
              "      width: 32px;\n",
              "    }\n",
              "\n",
              "    .colab-df-convert:hover {\n",
              "      background-color: #E2EBFA;\n",
              "      box-shadow: 0px 1px 2px rgba(60, 64, 67, 0.3), 0px 1px 3px 1px rgba(60, 64, 67, 0.15);\n",
              "      fill: #174EA6;\n",
              "    }\n",
              "\n",
              "    [theme=dark] .colab-df-convert {\n",
              "      background-color: #3B4455;\n",
              "      fill: #D2E3FC;\n",
              "    }\n",
              "\n",
              "    [theme=dark] .colab-df-convert:hover {\n",
              "      background-color: #434B5C;\n",
              "      box-shadow: 0px 1px 3px 1px rgba(0, 0, 0, 0.15);\n",
              "      filter: drop-shadow(0px 1px 2px rgba(0, 0, 0, 0.3));\n",
              "      fill: #FFFFFF;\n",
              "    }\n",
              "  </style>\n",
              "\n",
              "      <script>\n",
              "        const buttonEl =\n",
              "          document.querySelector('#df-ef38f91d-4803-4c2c-8684-2fd1afca046b button.colab-df-convert');\n",
              "        buttonEl.style.display =\n",
              "          google.colab.kernel.accessAllowed ? 'block' : 'none';\n",
              "\n",
              "        async function convertToInteractive(key) {\n",
              "          const element = document.querySelector('#df-ef38f91d-4803-4c2c-8684-2fd1afca046b');\n",
              "          const dataTable =\n",
              "            await google.colab.kernel.invokeFunction('convertToInteractive',\n",
              "                                                     [key], {});\n",
              "          if (!dataTable) return;\n",
              "\n",
              "          const docLinkHtml = 'Like what you see? Visit the ' +\n",
              "            '<a target=\"_blank\" href=https://colab.research.google.com/notebooks/data_table.ipynb>data table notebook</a>'\n",
              "            + ' to learn more about interactive tables.';\n",
              "          element.innerHTML = '';\n",
              "          dataTable['output_type'] = 'display_data';\n",
              "          await google.colab.output.renderOutput(dataTable, element);\n",
              "          const docLink = document.createElement('div');\n",
              "          docLink.innerHTML = docLinkHtml;\n",
              "          element.appendChild(docLink);\n",
              "        }\n",
              "      </script>\n",
              "    </div>\n",
              "  </div>\n",
              "  "
            ]
          },
          "metadata": {},
          "execution_count": 39
        }
      ]
    },
    {
      "cell_type": "markdown",
      "source": [
        "Answer: Max profits made on movies production was $2,544,506,000\n",
        "\n",
        "\n",
        "---\n",
        "\n"
      ],
      "metadata": {
        "id": "0U0QRfIHjg3a"
      }
    },
    {
      "cell_type": "markdown",
      "source": [
        "<a id='conclusions'></a>\n",
        "## Conclusions\n",
        "In conclusion, from the analysis the following was determined:\n",
        "<ul>\n",
        "  <li> Most movies were produced in the Two thousands while there was lesser releases in the sixties and seventies</li>\n",
        "  <li> Universal Pictures  production company produced most movies</li>\n",
        "  <li> Movies with less vote count were less popular compared to movies with higher votes</li>\n",
        "  <li> A movie's runtime does not affect its popularity or revenue</li>\n",
        "  <li> The month of September had the most movie releases  and there was no month without a movie release</li>\n",
        "  <li> Dramas were the most popular genres</li>\n",
        "  \n",
        "  </ul>\n",
        "\n",
        "*challenges encountered with exploration**\n",
        "  <li>unable to determine if the movie genre, directors, production company or cast determined a movie's popularity or revenue generation because of how the data was represented</li>"
      ],
      "metadata": {
        "id": "cOxQ7JeiWKcn"
      }
    }
  ]
}